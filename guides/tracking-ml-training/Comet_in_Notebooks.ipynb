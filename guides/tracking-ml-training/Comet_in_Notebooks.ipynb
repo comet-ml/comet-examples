{
 "cells": [
  {
   "cell_type": "markdown",
   "metadata": {
    "id": "QFkpR5-IVEGr"
   },
   "source": [
    "# Installing Comet\n",
    "\n"
   ]
  },
  {
   "cell_type": "code",
   "execution_count": null,
   "metadata": {
    "id": "bjfA7OqbUvc4"
   },
   "outputs": [],
   "source": [
    "%pip install -U \"comet_ml>=3.44.0\""
   ]
  },
  {
   "cell_type": "markdown",
   "metadata": {
    "id": "jS7jwZNSVH9_"
   },
   "source": [
    "# Login to Comet"
   ]
  },
  {
   "cell_type": "code",
   "execution_count": null,
   "metadata": {
    "id": "-frLwX-YUzDn"
   },
   "outputs": [],
   "source": [
    "import comet_ml\n",
    "\n",
    "comet_ml.login()"
   ]
  },
  {
   "cell_type": "markdown",
   "metadata": {
    "id": "s4mKxi1QVPjN"
   },
   "source": [
    "# Log a Training Run"
   ]
  },
  {
   "cell_type": "code",
   "execution_count": null,
   "metadata": {
    "id": "Jw9kxe09Vf6C"
   },
   "outputs": [],
   "source": [
    "experiment = comet_ml.Experiment(project_name=\"comet-in-notebooks\")\n",
    "\n",
    "for idx, value in enumerate(range(0, 100, 10)):\n",
    "    experiment.log_metric(\"accuracy\", value / 100, step=idx)"
   ]
  },
  {
   "cell_type": "markdown",
   "metadata": {
    "id": "U8qHx2kUV3Ju"
   },
   "source": [
    "# Displaying an Experiment"
   ]
  },
  {
   "cell_type": "code",
   "execution_count": null,
   "metadata": {
    "id": "fcj_fe3dV5jN"
   },
   "outputs": [],
   "source": [
    "experiment.display(tab=\"charts\")"
   ]
  },
  {
   "cell_type": "markdown",
   "metadata": {
    "id": "oHcBKGxfVuPy"
   },
   "source": [
    "# Ending an Experiment"
   ]
  },
  {
   "cell_type": "code",
   "execution_count": null,
   "metadata": {
    "id": "kfSiNZEZVz4Y"
   },
   "outputs": [],
   "source": [
    "experiment.end()"
   ]
  },
  {
   "cell_type": "markdown",
   "metadata": {
    "id": "BjLqW2O1Wh_C"
   },
   "source": [
    "# Viewing Cell Execution Order"
   ]
  },
  {
   "cell_type": "code",
   "execution_count": null,
   "metadata": {
    "id": "tBbLw06mWfal"
   },
   "outputs": [],
   "source": [
    "experiment.display(tab=\"code\")"
   ]
  },
  {
   "cell_type": "code",
   "execution_count": null,
   "metadata": {
    "id": "drpje33JXHXN"
   },
   "outputs": [],
   "source": []
  }
 ],
 "metadata": {
  "colab": {
   "provenance": []
  },
  "kernelspec": {
   "display_name": "Python 3",
   "name": "python3"
  },
  "language_info": {
   "name": "python"
  }
 },
 "nbformat": 4,
 "nbformat_minor": 0
}
