{
 "cells": [
  {
   "cell_type": "markdown",
   "metadata": {
    "id": "UiUN5nwmx7WP"
   },
   "source": [
    "![comet-banner.png](data:image/png;base64,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)"
   ]
  },
  {
   "cell_type": "markdown",
   "metadata": {
    "id": "Y3oXp64YyKJN"
   },
   "source": [
    "Data science and machine learning teams use [Comet](https://www.comet.com?utm_source=alpaca-lora&utm_campaign=comet_notebook&utm_medium=referral)’s ML platform to track, compare, explain, and optimize their models across the complete ML lifecycle – from managing experiments to monitoring models in production. \n",
    "\n",
    "Comet works with Jupyter Notebooks and Scripts and most importantly it is 100% free to [get started](https://www.comet.com/signup?utm_source=alpaca-lora&utm_campaign=comet_notebook&utm_medium=referral)!"
   ]
  },
  {
   "cell_type": "markdown",
   "metadata": {
    "id": "x8pRb2qEqn1g"
   },
   "source": [
    "# Install Comet"
   ]
  },
  {
   "cell_type": "code",
   "execution_count": null,
   "metadata": {
    "id": "KtB5NXUXaP8-"
   },
   "outputs": [],
   "source": [
    "%pip install comet_ml"
   ]
  },
  {
   "cell_type": "markdown",
   "metadata": {
    "id": "YSrcBL_TqZij"
   },
   "source": [
    "# Initialize Comet"
   ]
  },
  {
   "cell_type": "code",
   "execution_count": null,
   "metadata": {
    "id": "wffxqLV5a7B1"
   },
   "outputs": [],
   "source": [
    "import comet_ml\n",
    "\n",
    "comet_ml.init(project_name=\"comet-example-alpaca-lora-finetuning\")"
   ]
  },
  {
   "cell_type": "markdown",
   "metadata": {
    "id": "9nFEyBZBqbxo"
   },
   "source": [
    "# Clone the Alpaca-LoRA Repository"
   ]
  },
  {
   "cell_type": "code",
   "execution_count": null,
   "metadata": {
    "id": "Ko3f0wijbXxo"
   },
   "outputs": [],
   "source": [
    "!git clone https://github.com/tloen/alpaca-lora.git"
   ]
  },
  {
   "cell_type": "code",
   "execution_count": null,
   "metadata": {},
   "outputs": [],
   "source": [
    "%pip install -r alpaca-lora/requirements.txt scipy"
   ]
  },
  {
   "cell_type": "code",
   "execution_count": null,
   "metadata": {
    "id": "ectiSCCVbmKR"
   },
   "outputs": [],
   "source": [
    "%cd alpaca-lora"
   ]
  },
  {
   "cell_type": "markdown",
   "metadata": {
    "id": "5_Zg68FzqkOq"
   },
   "source": [
    "# Run Finetuning Script"
   ]
  },
  {
   "cell_type": "markdown",
   "metadata": {
    "id": "Li4o8huqIIVF"
   },
   "source": [
    "This will run the finetuning script, and log the results every 10 steps to Comet. \n",
    "\n",
    "You can view and example Comet project with the finetuning metrics [here](). "
   ]
  },
  {
   "cell_type": "code",
   "execution_count": null,
   "metadata": {
    "id": "IGnMeCn5b8OW"
   },
   "outputs": [],
   "source": [
    "import sys\n",
    "\n",
    "!{sys.executable} finetune.py \\\n",
    "    --base_model 'decapoda-research/llama-7b-hf' \\\n",
    "    --data_path 'yahma/alpaca-cleaned' \\\n",
    "    --output_dir './lora-alpaca'"
   ]
  },
  {
   "cell_type": "markdown",
   "metadata": {
    "id": "knUzYcA00w_P"
   },
   "source": [
    "## Setting Comet credentials as environment variables\n",
    "\n",
    "You can also configure your Comet credentials via environment variables and run the finetuning script. "
   ]
  },
  {
   "cell_type": "code",
   "execution_count": null,
   "metadata": {
    "id": "8AL7Mez1l2HP"
   },
   "outputs": [],
   "source": [
    "import sys\n",
    "\n",
    "%env COMET_API_KEY=\"Your Comet API Key\"\n",
    "%env COMET_PROJECT_NAME=\"Your Comet Project Name\"\n",
    "\n",
    "!{sys.executable} finetune.py \\\n",
    "    --base_model 'decapoda-research/llama-7b-hf' \\\n",
    "    --data_path 'yahma/alpaca-cleaned' \\\n",
    "    --output_dir './lora-alpaca'"
   ]
  }
 ],
 "metadata": {
  "accelerator": "GPU",
  "colab": {
   "gpuType": "T4",
   "provenance": []
  },
  "kernelspec": {
   "display_name": "Python 3 (ipykernel)",
   "language": "python",
   "name": "python3"
  },
  "language_info": {
   "codemirror_mode": {
    "name": "ipython",
    "version": 3
   },
   "file_extension": ".py",
   "mimetype": "text/x-python",
   "name": "python",
   "nbconvert_exporter": "python",
   "pygments_lexer": "ipython3",
   "version": "3.11.3"
  }
 },
 "nbformat": 4,
 "nbformat_minor": 1
}
