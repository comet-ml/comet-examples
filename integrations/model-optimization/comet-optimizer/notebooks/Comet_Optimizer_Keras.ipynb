{
 "nbformat": 4,
 "nbformat_minor": 0,
 "metadata": {
  "colab": {
   "provenance": []
  },
  "kernelspec": {
   "name": "python3",
   "display_name": "Python 3"
  },
  "language_info": {
   "name": "python"
  },
  "accelerator": "GPU"
 },
 "cells": [
  {
   "cell_type": "code",
   "metadata": {
    "colab": {
     "base_uri": "https://localhost:8080/"
    },
    "id": "u6N22Dmnat1a",
    "outputId": "f366c559-3a79-475f-ae44-3494c35bbeb9"
   },
   "source": [
    "!pip install comet_ml --quiet"
   ],
   "execution_count": null,
   "outputs": [
    {
     "output_type": "stream",
     "name": "stdout",
     "text": [
      "\u001b[?25l\r\u001b[K     |█                               | 10 kB 16.2 MB/s eta 0:00:01\r\u001b[K     |██▏                             | 20 kB 17.8 MB/s eta 0:00:01\r\u001b[K     |███▎                            | 30 kB 19.8 MB/s eta 0:00:01\r\u001b[K     |████▍                           | 40 kB 19.7 MB/s eta 0:00:01\r\u001b[K     |█████▌                          | 51 kB 10.3 MB/s eta 0:00:01\r\u001b[K     |██████▋                         | 61 kB 11.7 MB/s eta 0:00:01\r\u001b[K     |███████▋                        | 71 kB 11.7 MB/s eta 0:00:01\r\u001b[K     |████████▊                       | 81 kB 12.8 MB/s eta 0:00:01\r\u001b[K     |█████████▉                      | 92 kB 13.1 MB/s eta 0:00:01\r\u001b[K     |███████████                     | 102 kB 10.9 MB/s eta 0:00:01\r\u001b[K     |████████████                    | 112 kB 10.9 MB/s eta 0:00:01\r\u001b[K     |█████████████▏                  | 122 kB 10.9 MB/s eta 0:00:01\r\u001b[K     |██████████████▏                 | 133 kB 10.9 MB/s eta 0:00:01\r\u001b[K     |███████████████▎                | 143 kB 10.9 MB/s eta 0:00:01\r\u001b[K     |████████████████▍               | 153 kB 10.9 MB/s eta 0:00:01\r\u001b[K     |█████████████████▌              | 163 kB 10.9 MB/s eta 0:00:01\r\u001b[K     |██████████████████▋             | 174 kB 10.9 MB/s eta 0:00:01\r\u001b[K     |███████████████████▊            | 184 kB 10.9 MB/s eta 0:00:01\r\u001b[K     |████████████████████▊           | 194 kB 10.9 MB/s eta 0:00:01\r\u001b[K     |█████████████████████▉          | 204 kB 10.9 MB/s eta 0:00:01\r\u001b[K     |███████████████████████         | 215 kB 10.9 MB/s eta 0:00:01\r\u001b[K     |████████████████████████        | 225 kB 10.9 MB/s eta 0:00:01\r\u001b[K     |█████████████████████████▏      | 235 kB 10.9 MB/s eta 0:00:01\r\u001b[K     |██████████████████████████▎     | 245 kB 10.9 MB/s eta 0:00:01\r\u001b[K     |███████████████████████████▎    | 256 kB 10.9 MB/s eta 0:00:01\r\u001b[K     |████████████████████████████▍   | 266 kB 10.9 MB/s eta 0:00:01\r\u001b[K     |█████████████████████████████▌  | 276 kB 10.9 MB/s eta 0:00:01\r\u001b[K     |██████████████████████████████▋ | 286 kB 10.9 MB/s eta 0:00:01\r\u001b[K     |███████████████████████████████▊| 296 kB 10.9 MB/s eta 0:00:01\r\u001b[K     |████████████████████████████████| 299 kB 10.9 MB/s \n",
      "\u001b[K     |████████████████████████████████| 54 kB 1.8 MB/s \n",
      "\u001b[K     |████████████████████████████████| 530 kB 36.2 MB/s \n",
      "\u001b[K     |████████████████████████████████| 52 kB 974 kB/s \n",
      "\u001b[?25h  Building wheel for configobj (setup.py) ... \u001b[?25l\u001b[?25hdone\n"
     ]
    }
   ]
  },
  {
   "cell_type": "markdown",
   "metadata": {
    "id": "pLA3jvMJatXm"
   },
   "source": []
  },
  {
   "cell_type": "code",
   "metadata": {
    "colab": {
     "base_uri": "https://localhost:8080/"
    },
    "id": "eKXK0Irvaw2h",
    "outputId": "76cd6f37-a4dd-4c54-c82f-5808526318e9"
   },
   "source": [
    "import comet_ml\n",
    "\n",
    "comet_ml.init(project_name=\"comet-optimizer\")"
   ],
   "execution_count": null,
   "outputs": [
    {
     "name": "stdout",
     "output_type": "stream",
     "text": [
      "Please enter your Comet API key from https://www.comet.ml/api/my/settings/\n",
      "(api key may not show as you type)\n",
      "Comet API key: ··········\n"
     ]
    },
    {
     "output_type": "stream",
     "name": "stderr",
     "text": [
      "COMET INFO: Comet API key is valid\n",
      "COMET INFO: Comet API key saved in /root/.comet.config\n"
     ]
    }
   ]
  },
  {
   "cell_type": "code",
   "metadata": {
    "colab": {
     "base_uri": "https://localhost:8080/"
    },
    "id": "X5sQWU3BapLH",
    "outputId": "1d9e52b6-111b-40c7-9502-03b2ad2108ec"
   },
   "source": [
    "from tensorflow.keras.datasets import mnist\n",
    "from tensorflow.keras.layers import Dense\n",
    "from tensorflow.keras.models import Sequential\n",
    "from tensorflow.keras.optimizers import RMSprop\n",
    "from tensorflow.keras.utils import to_categorical\n",
    "\n",
    "\n",
    "def build_model_graph(experiment):\n",
    "    model = Sequential()\n",
    "    model.add(\n",
    "        Dense(\n",
    "            experiment.get_parameter(\"first_layer_units\"),\n",
    "            activation=\"sigmoid\",\n",
    "            input_shape=(784,),\n",
    "        )\n",
    "    )\n",
    "    model.add(Dense(128, activation=\"sigmoid\"))\n",
    "    model.add(Dense(128, activation=\"sigmoid\"))\n",
    "    model.add(Dense(10, activation=\"softmax\"))\n",
    "    model.compile(\n",
    "        loss=\"categorical_crossentropy\",\n",
    "        optimizer=RMSprop(),\n",
    "        metrics=[\"accuracy\"],\n",
    "    )\n",
    "    return model\n",
    "\n",
    "\n",
    "def train(experiment, model, x_train, y_train, x_test, y_test):\n",
    "    model.fit(\n",
    "        x_train,\n",
    "        y_train,\n",
    "        batch_size=experiment.get_parameter(\"batch_size\"),\n",
    "        epochs=experiment.get_parameter(\"epochs\"),\n",
    "        validation_data=(x_test, y_test),\n",
    "    )\n",
    "\n",
    "\n",
    "def evaluate(experiment, model, x_test, y_test):\n",
    "    score = model.evaluate(x_test, y_test, verbose=0)\n",
    "    print(\"Score %s\", score)\n",
    "\n",
    "\n",
    "def get_dataset():\n",
    "    num_classes = 10\n",
    "\n",
    "    # the data, shuffled and split between train and test sets\n",
    "    (x_train, y_train), (x_test, y_test) = mnist.load_data()\n",
    "\n",
    "    x_train = x_train.reshape(60000, 784)\n",
    "    x_test = x_test.reshape(10000, 784)\n",
    "    x_train = x_train.astype(\"float32\")\n",
    "    x_test = x_test.astype(\"float32\")\n",
    "    x_train /= 255\n",
    "    x_test /= 255\n",
    "    print(x_train.shape[0], \"train samples\")\n",
    "    print(x_test.shape[0], \"test samples\")\n",
    "\n",
    "    # convert class vectors to binary class matrices\n",
    "    y_train = to_categorical(y_train, num_classes)\n",
    "    y_test = to_categorical(y_test, num_classes)\n",
    "\n",
    "    return x_train, y_train, x_test, y_test\n",
    "\n",
    "\n",
    "# Get the dataset:\n",
    "x_train, y_train, x_test, y_test = get_dataset()"
   ],
   "execution_count": null,
   "outputs": [
    {
     "output_type": "stream",
     "name": "stdout",
     "text": [
      "60000 train samples\n",
      "10000 test samples\n"
     ]
    }
   ]
  },
  {
   "cell_type": "code",
   "metadata": {
    "colab": {
     "base_uri": "https://localhost:8080/"
    },
    "id": "TOtpiuGZcBD8",
    "outputId": "b1099ad7-c479-41f5-c8d4-4eca75e57fa1"
   },
   "source": [
    "# The optimization config:\n",
    "config = {\n",
    "    \"algorithm\": \"bayes\",\n",
    "    \"name\": \"Optimize MNIST Network\",\n",
    "    \"spec\": {\"maxCombo\": 5, \"objective\": \"minimize\", \"metric\": \"loss\"},\n",
    "    \"parameters\": {\n",
    "        \"first_layer_units\": {\n",
    "            \"type\": \"integer\",\n",
    "            \"mu\": 500,\n",
    "            \"sigma\": 50,\n",
    "            \"scalingType\": \"normal\",\n",
    "        },\n",
    "        \"batch_size\": {\"type\": \"discrete\", \"values\": [64, 128, 256]},\n",
    "    },\n",
    "    \"trials\": 1,\n",
    "}\n",
    "\n",
    "opt = comet_ml.Optimizer(config)"
   ],
   "execution_count": null,
   "outputs": [
    {
     "output_type": "stream",
     "name": "stderr",
     "text": [
      "COMET INFO: COMET_OPTIMIZER_ID=5d81d806b4c947d2ae8741bb8c21c1c0\n",
      "COMET INFO: Using optimizer config: {'algorithm': 'bayes', 'configSpaceSize': 'infinite', 'endTime': None, 'id': '5d81d806b4c947d2ae8741bb8c21c1c0', 'lastUpdateTime': None, 'maxCombo': 10, 'name': 'Optimize MNIST Network', 'parameters': {'batch_size': {'type': 'discrete', 'values': [64, 128, 256]}, 'first_layer_units': {'mu': 500, 'scalingType': 'normal', 'sigma': 50, 'type': 'integer'}}, 'predictor': None, 'spec': {'gridSize': 10, 'maxCombo': 10, 'metric': 'loss', 'minSampleSize': 100, 'objective': 'minimize', 'retryAssignLimit': 0, 'retryLimit': 1000}, 'startTime': 24021673633, 'state': {'mode': None, 'seed': None, 'sequence': [], 'sequence_i': 0, 'sequence_pid': None, 'sequence_retry': 0, 'sequence_retry_count': 0}, 'status': 'running', 'suggestion_count': 0, 'trials': 1, 'version': '2.0.1'}\n"
     ]
    }
   ]
  },
  {
   "cell_type": "code",
   "metadata": {
    "id": "nvIbiv1ZcDQo"
   },
   "source": [
    "for experiment in opt.get_experiments():\n",
    "    # Log parameters, or others:\n",
    "    experiment.log_parameter(\"epochs\", 10)\n",
    "\n",
    "    # Build the model:\n",
    "    model = build_model_graph(experiment)\n",
    "\n",
    "    # Train it:\n",
    "    train(experiment, model, x_train, y_train, x_test, y_test)\n",
    "\n",
    "    # How well did it do?\n",
    "    evaluate(experiment, model, x_test, y_test)\n",
    "\n",
    "    # Optionally, end the experiment:\n",
    "    experiment.end()"
   ],
   "execution_count": null,
   "outputs": []
  },
  {
   "cell_type": "code",
   "metadata": {
    "id": "Q0Pz-LtqLqLo"
   },
   "source": [],
   "execution_count": null,
   "outputs": []
  }
 ]
}