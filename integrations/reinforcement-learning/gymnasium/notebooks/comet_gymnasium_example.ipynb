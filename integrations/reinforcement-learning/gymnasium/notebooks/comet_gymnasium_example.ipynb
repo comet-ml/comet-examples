{
 "cells": [
  {
   "cell_type": "markdown",
   "metadata": {
    "id": "P8EZh1CJd4sS"
   },
   "source": [
    "<img src=\"https://cdn.comet.ml/img/notebook_logo.png\">  <img height=90px align=\"right\" src=\"https://raw.githubusercontent.com/Farama-Foundation/Gymnasium/main/gymnasium-text.png\">\n",
    "\n",
    "[Comet](https://www.comet.com/?utm_source=gymnasium&utm_medium=partner&utm_campaign=partner_gymnasium_2023&utm_content=comet_colab) helps accelerate machine learning through experiment tracking and production monitoring. Never lose track of your work and easily share results and collaborate across teams of all sizes. \n",
    "\n",
    "**This notebook shows you how to log your Gymnasium metrics with Comet.** For more information about Comet's integration with Gymnasium, visit our [Docs](https://www.comet.com/docs/v2/integrations/ml-frameworks/gymnasium/?utm_source=gymnasium&utm_medium=partner&utm_campaign=partner_gymnasium_2023&utm_content=comet_colab) page.\n",
    "\n",
    "If you prefer to preview what's to come, check out completed experiments created from this notebook [here](https://www.comet.com/examples/comet-examples-gymnasium-notebook/?utm_source=gymnasium&utm_medium=partner&utm_campaign=partner_gymnasium_2023&utm_content=comet_colab).\n",
    "\n"
   ]
  },
  {
   "cell_type": "markdown",
   "metadata": {
    "id": "aAHdYTSjYofy"
   },
   "source": [
    "# Install Required Packages "
   ]
  },
  {
   "cell_type": "code",
   "execution_count": null,
   "metadata": {
    "id": "Z-z0jRNUY0gp"
   },
   "outputs": [],
   "source": [
    "%pip install 'gymnasium[classic-control]' comet_ml stable-baselines3"
   ]
  },
  {
   "cell_type": "markdown",
   "metadata": {
    "id": "cDi2frwiY6UA"
   },
   "source": [
    "# Initialize Comet\n",
    "\n",
    "Create your free account at [Comet.com](https://www.comet.com/signup?utm_source=gymnasium&utm_medium=partner&utm_campaign=partner_gymnasium_2023&utm_content=comet_colab) and grab your API key which can be found under account settings."
   ]
  },
  {
   "cell_type": "code",
   "execution_count": null,
   "metadata": {
    "id": "j9P00TNqmEXG"
   },
   "outputs": [],
   "source": [
    "import comet_ml\n",
    "\n",
    "comet_ml.init(project_name=\"comet-examples-gymnasium-notebook\")"
   ]
  },
  {
   "cell_type": "markdown",
   "metadata": {
    "id": "031ezY2Dr2n4"
   },
   "source": [
    "# Train an Agent using StableBaselines3 A2C Algorithm"
   ]
  },
  {
   "cell_type": "code",
   "execution_count": null,
   "metadata": {
    "id": "P3uQi6W_sNF8"
   },
   "outputs": [],
   "source": [
    "from comet_ml.integration.gymnasium import CometLogger\n",
    "from stable_baselines3 import A2C\n",
    "import gymnasium as gym\n",
    "\n",
    "env = gym.make(\"Acrobot-v1\", render_mode=\"rgb_array\")\n",
    "\n",
    "# Uncomment if you want to Upload Videos of your environment to Comet\n",
    "# env = gym.wrappers.RecordVideo(env, 'test')\n",
    "\n",
    "experiment = comet_ml.Experiment()\n",
    "\n",
    "env = CometLogger(env, experiment)\n",
    "\n",
    "model = A2C(\"MlpPolicy\", env, verbose=0)\n",
    "model.learn(total_timesteps=10000)\n",
    "\n",
    "env.close()\n",
    "experiment.end()"
   ]
  },
  {
   "cell_type": "markdown",
   "metadata": {},
   "source": [
    "# Train an Agent using StableBaselines3 PPO Algorithm"
   ]
  },
  {
   "cell_type": "code",
   "execution_count": null,
   "metadata": {},
   "outputs": [],
   "source": [
    "from stable_baselines3 import PPO\n",
    "\n",
    "\n",
    "env = gym.make(\"Acrobot-v1\", render_mode=\"rgb_array\")\n",
    "\n",
    "# Uncomment if you want to Upload Videos of your environment to Comet\n",
    "# env = gym.wrappers.RecordVideo(env, 'test')\n",
    "\n",
    "experiment = comet_ml.Experiment()\n",
    "\n",
    "env = CometLogger(env, experiment)\n",
    "\n",
    "model = PPO(\"MlpPolicy\", env, verbose=0)\n",
    "model.learn(total_timesteps=10000)\n",
    "\n",
    "env.close()\n",
    "experiment.end()"
   ]
  },
  {
   "cell_type": "markdown",
   "metadata": {},
   "source": [
    "# Use Comet's UI to Benchmark Different RL Algorithims "
   ]
  },
  {
   "cell_type": "code",
   "execution_count": null,
   "metadata": {},
   "outputs": [],
   "source": [
    "experiment.display()"
   ]
  }
 ],
 "metadata": {
  "colab": {
   "provenance": []
  },
  "kernelspec": {
   "display_name": "Python 3 (ipykernel)",
   "language": "python",
   "name": "python3"
  },
  "language_info": {
   "codemirror_mode": {
    "name": "ipython",
    "version": 3
   },
   "file_extension": ".py",
   "mimetype": "text/x-python",
   "name": "python",
   "nbconvert_exporter": "python",
   "pygments_lexer": "ipython3",
   "version": "3.10.12"
  },
  "vscode": {
   "interpreter": {
    "hash": "8c9587381b2341d562742e36a89690be32a732b11830813473890249dd40a07d"
   }
  }
 },
 "nbformat": 4,
 "nbformat_minor": 4
}
