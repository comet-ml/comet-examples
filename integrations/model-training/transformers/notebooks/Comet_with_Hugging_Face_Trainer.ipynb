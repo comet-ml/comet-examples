{
 "cells": [
  {
   "cell_type": "markdown",
   "metadata": {
    "id": "UG0Hxf-nFKG2"
   },
   "source": [
    "<img src=\"https://cdn.comet.ml/img/notebook_logo.png\">"
   ]
  },
  {
   "cell_type": "markdown",
   "metadata": {
    "id": "5L-2VqFDWgGx"
   },
   "source": [
    "[Hugging Face](https://huggingface.co/docs) is a community and data science platform that provides tools that enable users to build, train and deploy ML models based on open source (OS) code and technologies. Primarily known for their `transformers` library, Hugging Face has helped democratized access to these models by providing a unified API to train and evaluate a number of popular models for NLP.\n",
    "\n",
    "Comet integrates with Hugging Face's `Trainer` object, allowing you to log your model parameters, metrics, and assets such as model checkpoints. Learn more about our integration [here](https://www.comet.com/docs/v2/integrations/ml-frameworks/huggingface/)\n",
    "\n",
    "Curious about how Comet can help you build better models, faster? Find out more about [Comet](https://www.comet.com/site/products/ml-experiment-tracking/?utm_campaign=transformers&utm_medium=colab) and our [other integrations](https://www.comet.ml/docs/v2/integrations/overview/)\n",
    "\n",
    "\n",
    "Get a preview for what's to come. Check out a completed experiment created from this notebook [here](https://www.comet.com/examples/comet-examples-transformers-trainer/3992ddee441f446bbb65c3cc4c8bd33b)"
   ]
  },
  {
   "cell_type": "markdown",
   "metadata": {
    "id": "KUdcwLCWIz2n"
   },
   "source": [
    "# Install Comet and Dependencies"
   ]
  },
  {
   "cell_type": "code",
   "execution_count": 1,
   "metadata": {
    "id": "nGDxYlCEKHMt"
   },
   "outputs": [
    {
     "name": "stdout",
     "output_type": "stream",
     "text": [
      "Requirement already satisfied: comet_ml in /home/lothiraldan/project/cometml/comet-python-client/comet-client-lib (3.42.1)\n",
      "Requirement already satisfied: torch in /home/lothiraldan/.virtualenvs/comet3.9/lib/python3.9/site-packages (2.3.0)\n",
      "Requirement already satisfied: datasets in /home/lothiraldan/.virtualenvs/comet3.9/lib/python3.9/site-packages (2.19.0)\n",
      "Requirement already satisfied: transformers in /home/lothiraldan/.virtualenvs/comet3.9/lib/python3.9/site-packages (4.41.0.dev0)\n",
      "Requirement already satisfied: scikit-learn in /home/lothiraldan/.virtualenvs/comet3.9/lib/python3.9/site-packages (1.4.2)\n",
      "Requirement already satisfied: accelerate in /home/lothiraldan/.virtualenvs/comet3.9/lib/python3.9/site-packages (0.29.3)\n",
      "Requirement already satisfied: requests>=2.18.4 in /home/lothiraldan/.virtualenvs/comet3.9/lib/python3.9/site-packages (from comet_ml) (2.28.2)\n",
      "Requirement already satisfied: requests-toolbelt>=0.8.0 in /home/lothiraldan/.virtualenvs/comet3.9/lib/python3.9/site-packages (from comet_ml) (0.10.1)\n",
      "Requirement already satisfied: wurlitzer>=1.0.2 in /home/lothiraldan/.virtualenvs/comet3.9/lib/python3.9/site-packages (from comet_ml) (3.0.2)\n",
      "Requirement already satisfied: everett[ini]<3.2.0,>=1.0.1 in /home/lothiraldan/.virtualenvs/comet3.9/lib/python3.9/site-packages (from comet_ml) (2.0.1)\n",
      "Requirement already satisfied: jsonschema!=3.1.0,>=2.6.0 in /home/lothiraldan/.virtualenvs/comet3.9/lib/python3.9/site-packages (from comet_ml) (4.19.0)\n",
      "Requirement already satisfied: wrapt>=1.11.2 in /home/lothiraldan/.virtualenvs/comet3.9/lib/python3.9/site-packages (from comet_ml) (1.13.3)\n",
      "Requirement already satisfied: semantic-version>=2.8.0 in /home/lothiraldan/.virtualenvs/comet3.9/lib/python3.9/site-packages (from comet_ml) (2.8.5)\n",
      "Requirement already satisfied: sentry-sdk>=1.1.0 in /home/lothiraldan/.virtualenvs/comet3.9/lib/python3.9/site-packages (from comet_ml) (1.45.0)\n",
      "Requirement already satisfied: simplejson in /home/lothiraldan/.virtualenvs/comet3.9/lib/python3.9/site-packages (from comet_ml) (3.18.0)\n",
      "Requirement already satisfied: python-box<7.0.0 in /home/lothiraldan/.virtualenvs/comet3.9/lib/python3.9/site-packages (from comet_ml) (6.1.0)\n",
      "Requirement already satisfied: urllib3>=1.21.1 in /home/lothiraldan/.virtualenvs/comet3.9/lib/python3.9/site-packages (from comet_ml) (1.26.16)\n",
      "Requirement already satisfied: psutil>=5.6.3 in /home/lothiraldan/.virtualenvs/comet3.9/lib/python3.9/site-packages (from comet_ml) (5.9.4)\n",
      "Requirement already satisfied: dulwich!=0.20.33,>=0.20.6 in /home/lothiraldan/.virtualenvs/comet3.9/lib/python3.9/site-packages (from comet_ml) (0.21.7)\n",
      "Requirement already satisfied: rich>=13.3.2 in /home/lothiraldan/.virtualenvs/comet3.9/lib/python3.9/site-packages (from comet_ml) (13.3.5)\n",
      "Requirement already satisfied: networkx in /home/lothiraldan/.virtualenvs/comet3.9/lib/python3.9/site-packages (from torch) (3.1)\n",
      "Requirement already satisfied: jinja2 in /home/lothiraldan/.virtualenvs/comet3.9/lib/python3.9/site-packages (from torch) (3.1.2)\n",
      "Requirement already satisfied: nvidia-cuda-nvrtc-cu12==12.1.105 in /home/lothiraldan/.virtualenvs/comet3.9/lib/python3.9/site-packages (from torch) (12.1.105)\n",
      "Requirement already satisfied: nvidia-curand-cu12==10.3.2.106 in /home/lothiraldan/.virtualenvs/comet3.9/lib/python3.9/site-packages (from torch) (10.3.2.106)\n",
      "Requirement already satisfied: nvidia-cusolver-cu12==11.4.5.107 in /home/lothiraldan/.virtualenvs/comet3.9/lib/python3.9/site-packages (from torch) (11.4.5.107)\n",
      "Requirement already satisfied: nvidia-cublas-cu12==12.1.3.1 in /home/lothiraldan/.virtualenvs/comet3.9/lib/python3.9/site-packages (from torch) (12.1.3.1)\n",
      "Requirement already satisfied: nvidia-cusparse-cu12==12.1.0.106 in /home/lothiraldan/.virtualenvs/comet3.9/lib/python3.9/site-packages (from torch) (12.1.0.106)\n",
      "Requirement already satisfied: nvidia-nccl-cu12==2.20.5 in /home/lothiraldan/.virtualenvs/comet3.9/lib/python3.9/site-packages (from torch) (2.20.5)\n",
      "Requirement already satisfied: triton==2.3.0 in /home/lothiraldan/.virtualenvs/comet3.9/lib/python3.9/site-packages (from torch) (2.3.0)\n",
      "Requirement already satisfied: fsspec in /home/lothiraldan/.virtualenvs/comet3.9/lib/python3.9/site-packages (from torch) (2024.2.0)\n",
      "Requirement already satisfied: nvidia-cuda-runtime-cu12==12.1.105 in /home/lothiraldan/.virtualenvs/comet3.9/lib/python3.9/site-packages (from torch) (12.1.105)\n",
      "Requirement already satisfied: nvidia-cufft-cu12==11.0.2.54 in /home/lothiraldan/.virtualenvs/comet3.9/lib/python3.9/site-packages (from torch) (11.0.2.54)\n",
      "Requirement already satisfied: nvidia-nvtx-cu12==12.1.105 in /home/lothiraldan/.virtualenvs/comet3.9/lib/python3.9/site-packages (from torch) (12.1.105)\n",
      "Requirement already satisfied: nvidia-cudnn-cu12==8.9.2.26 in /home/lothiraldan/.virtualenvs/comet3.9/lib/python3.9/site-packages (from torch) (8.9.2.26)\n",
      "Requirement already satisfied: sympy in /home/lothiraldan/.virtualenvs/comet3.9/lib/python3.9/site-packages (from torch) (1.11.1)\n",
      "Requirement already satisfied: typing-extensions>=4.8.0 in /home/lothiraldan/.virtualenvs/comet3.9/lib/python3.9/site-packages (from torch) (4.8.0)\n",
      "Requirement already satisfied: filelock in /home/lothiraldan/.virtualenvs/comet3.9/lib/python3.9/site-packages (from torch) (3.13.1)\n",
      "Requirement already satisfied: nvidia-cuda-cupti-cu12==12.1.105 in /home/lothiraldan/.virtualenvs/comet3.9/lib/python3.9/site-packages (from torch) (12.1.105)\n",
      "Requirement already satisfied: nvidia-nvjitlink-cu12 in /home/lothiraldan/.virtualenvs/comet3.9/lib/python3.9/site-packages (from nvidia-cusolver-cu12==11.4.5.107->torch) (12.3.101)\n",
      "Requirement already satisfied: pyarrow>=12.0.0 in /home/lothiraldan/.virtualenvs/comet3.9/lib/python3.9/site-packages (from datasets) (12.0.1)\n",
      "Requirement already satisfied: multiprocess in /home/lothiraldan/.virtualenvs/comet3.9/lib/python3.9/site-packages (from datasets) (0.70.12.2)\n",
      "Requirement already satisfied: aiohttp in /home/lothiraldan/.virtualenvs/comet3.9/lib/python3.9/site-packages (from datasets) (3.8.4)\n",
      "Requirement already satisfied: tqdm>=4.62.1 in /home/lothiraldan/.virtualenvs/comet3.9/lib/python3.9/site-packages (from datasets) (4.62.3)\n",
      "Requirement already satisfied: packaging in /home/lothiraldan/.virtualenvs/comet3.9/lib/python3.9/site-packages (from datasets) (23.2)\n",
      "Requirement already satisfied: dill<0.3.9,>=0.3.0 in /home/lothiraldan/.virtualenvs/comet3.9/lib/python3.9/site-packages (from datasets) (0.3.4)\n",
      "Requirement already satisfied: numpy>=1.17 in /home/lothiraldan/.virtualenvs/comet3.9/lib/python3.9/site-packages (from datasets) (1.23.5)\n",
      "Requirement already satisfied: pyyaml>=5.1 in /home/lothiraldan/.virtualenvs/comet3.9/lib/python3.9/site-packages (from datasets) (5.4.1)\n",
      "Requirement already satisfied: pandas in /home/lothiraldan/.virtualenvs/comet3.9/lib/python3.9/site-packages (from datasets) (2.0.3)\n",
      "Requirement already satisfied: huggingface-hub>=0.21.2 in /home/lothiraldan/.virtualenvs/comet3.9/lib/python3.9/site-packages (from datasets) (0.23.0)\n",
      "Requirement already satisfied: pyarrow-hotfix in /home/lothiraldan/.virtualenvs/comet3.9/lib/python3.9/site-packages (from datasets) (0.6)\n",
      "Requirement already satisfied: xxhash in /home/lothiraldan/.virtualenvs/comet3.9/lib/python3.9/site-packages (from datasets) (3.1.0)\n",
      "Requirement already satisfied: regex!=2019.12.17 in /home/lothiraldan/.virtualenvs/comet3.9/lib/python3.9/site-packages (from transformers) (2022.9.13)\n",
      "Requirement already satisfied: tokenizers<0.20,>=0.19 in /home/lothiraldan/.virtualenvs/comet3.9/lib/python3.9/site-packages (from transformers) (0.19.1)\n",
      "Requirement already satisfied: safetensors>=0.4.1 in /home/lothiraldan/.virtualenvs/comet3.9/lib/python3.9/site-packages (from transformers) (0.4.2)\n",
      "Requirement already satisfied: threadpoolctl>=2.0.0 in /home/lothiraldan/.virtualenvs/comet3.9/lib/python3.9/site-packages (from scikit-learn) (3.0.0)\n",
      "Requirement already satisfied: scipy>=1.6.0 in /home/lothiraldan/.virtualenvs/comet3.9/lib/python3.9/site-packages (from scikit-learn) (1.9.3)\n",
      "Requirement already satisfied: joblib>=1.2.0 in /home/lothiraldan/.virtualenvs/comet3.9/lib/python3.9/site-packages (from scikit-learn) (1.2.0)\n",
      "Requirement already satisfied: configobj in /home/lothiraldan/.virtualenvs/comet3.9/lib/python3.9/site-packages (from everett[ini]<3.2.0,>=1.0.1->comet_ml) (5.0.6)\n",
      "Requirement already satisfied: async-timeout<5.0,>=4.0.0a3 in /home/lothiraldan/.virtualenvs/comet3.9/lib/python3.9/site-packages (from aiohttp->datasets) (4.0.2)\n",
      "Requirement already satisfied: yarl<2.0,>=1.0 in /home/lothiraldan/.virtualenvs/comet3.9/lib/python3.9/site-packages (from aiohttp->datasets) (1.7.2)\n",
      "Requirement already satisfied: attrs>=17.3.0 in /home/lothiraldan/.virtualenvs/comet3.9/lib/python3.9/site-packages (from aiohttp->datasets) (23.1.0)\n",
      "Requirement already satisfied: multidict<7.0,>=4.5 in /home/lothiraldan/.virtualenvs/comet3.9/lib/python3.9/site-packages (from aiohttp->datasets) (6.0.2)\n",
      "Requirement already satisfied: frozenlist>=1.1.1 in /home/lothiraldan/.virtualenvs/comet3.9/lib/python3.9/site-packages (from aiohttp->datasets) (1.3.0)\n",
      "Requirement already satisfied: aiosignal>=1.1.2 in /home/lothiraldan/.virtualenvs/comet3.9/lib/python3.9/site-packages (from aiohttp->datasets) (1.2.0)\n",
      "Requirement already satisfied: charset-normalizer<4.0,>=2.0 in /home/lothiraldan/.virtualenvs/comet3.9/lib/python3.9/site-packages (from aiohttp->datasets) (2.0.9)\n",
      "Requirement already satisfied: referencing>=0.28.4 in /home/lothiraldan/.virtualenvs/comet3.9/lib/python3.9/site-packages (from jsonschema!=3.1.0,>=2.6.0->comet_ml) (0.30.2)\n",
      "Requirement already satisfied: rpds-py>=0.7.1 in /home/lothiraldan/.virtualenvs/comet3.9/lib/python3.9/site-packages (from jsonschema!=3.1.0,>=2.6.0->comet_ml) (0.10.3)\n",
      "Requirement already satisfied: jsonschema-specifications>=2023.03.6 in /home/lothiraldan/.virtualenvs/comet3.9/lib/python3.9/site-packages (from jsonschema!=3.1.0,>=2.6.0->comet_ml) (2023.7.1)\n",
      "Requirement already satisfied: idna<4,>=2.5 in /home/lothiraldan/.virtualenvs/comet3.9/lib/python3.9/site-packages (from requests>=2.18.4->comet_ml) (3.3)\n",
      "Requirement already satisfied: certifi>=2017.4.17 in /home/lothiraldan/.virtualenvs/comet3.9/lib/python3.9/site-packages (from requests>=2.18.4->comet_ml) (2022.12.7)\n",
      "Requirement already satisfied: pygments<3.0.0,>=2.13.0 in /home/lothiraldan/.virtualenvs/comet3.9/lib/python3.9/site-packages (from rich>=13.3.2->comet_ml) (2.17.2)\n",
      "Requirement already satisfied: markdown-it-py<3.0.0,>=2.2.0 in /home/lothiraldan/.virtualenvs/comet3.9/lib/python3.9/site-packages (from rich>=13.3.2->comet_ml) (2.2.0)\n",
      "Requirement already satisfied: MarkupSafe>=2.0 in /home/lothiraldan/.virtualenvs/comet3.9/lib/python3.9/site-packages (from jinja2->torch) (2.1.3)\n",
      "Requirement already satisfied: python-dateutil>=2.8.2 in /home/lothiraldan/.virtualenvs/comet3.9/lib/python3.9/site-packages (from pandas->datasets) (2.8.2)\n",
      "Requirement already satisfied: pytz>=2020.1 in /home/lothiraldan/.virtualenvs/comet3.9/lib/python3.9/site-packages (from pandas->datasets) (2021.3)\n",
      "Requirement already satisfied: tzdata>=2022.1 in /home/lothiraldan/.virtualenvs/comet3.9/lib/python3.9/site-packages (from pandas->datasets) (2023.3)\n",
      "Requirement already satisfied: mpmath>=0.19 in /home/lothiraldan/.virtualenvs/comet3.9/lib/python3.9/site-packages (from sympy->torch) (1.3.0)\n",
      "Requirement already satisfied: mdurl~=0.1 in /home/lothiraldan/.virtualenvs/comet3.9/lib/python3.9/site-packages (from markdown-it-py<3.0.0,>=2.2.0->rich>=13.3.2->comet_ml) (0.1.2)\n",
      "Requirement already satisfied: six>=1.5 in /home/lothiraldan/.virtualenvs/comet3.9/lib/python3.9/site-packages (from python-dateutil>=2.8.2->pandas->datasets) (1.16.0)\n",
      "\n",
      "\u001b[1m[\u001b[0m\u001b[34;49mnotice\u001b[0m\u001b[1;39;49m]\u001b[0m\u001b[39;49m A new release of pip available: \u001b[0m\u001b[31;49m22.3.1\u001b[0m\u001b[39;49m -> \u001b[0m\u001b[32;49m24.0\u001b[0m\n",
      "\u001b[1m[\u001b[0m\u001b[34;49mnotice\u001b[0m\u001b[1;39;49m]\u001b[0m\u001b[39;49m To update, run: \u001b[0m\u001b[32;49m/home/lothiraldan/.virtualenvs/comet3.9/bin/python -m pip install --upgrade pip\u001b[0m\n",
      "Note: you may need to restart the kernel to use updated packages.\n"
     ]
    }
   ],
   "source": [
    "%pip install comet_ml torch datasets transformers scikit-learn accelerate"
   ]
  },
  {
   "cell_type": "markdown",
   "metadata": {
    "id": "3VaHie31I3r_"
   },
   "source": [
    "# Initialize Comet"
   ]
  },
  {
   "cell_type": "code",
   "execution_count": 2,
   "metadata": {
    "id": "8twVwYTIKK_x"
   },
   "outputs": [],
   "source": [
    "import comet_ml\n",
    "\n",
    "comet_ml.init(project_name=\"comet-examples-transfomers-trainer\")"
   ]
  },
  {
   "cell_type": "markdown",
   "metadata": {
    "id": "y-isTv4sTU1n"
   },
   "source": [
    "# Set Model Type"
   ]
  },
  {
   "cell_type": "code",
   "execution_count": 3,
   "metadata": {
    "id": "2R9ckDVbTWaN"
   },
   "outputs": [],
   "source": [
    "PRE_TRAINED_MODEL_NAME = \"distilbert/distilroberta-base\"\n",
    "SEED = 42"
   ]
  },
  {
   "cell_type": "markdown",
   "metadata": {
    "id": "dJRfuqCXI948"
   },
   "source": [
    "# Load Data"
   ]
  },
  {
   "cell_type": "code",
   "execution_count": 4,
   "metadata": {
    "id": "AD_Ejs6sKTRl"
   },
   "outputs": [
    {
     "name": "stderr",
     "output_type": "stream",
     "text": [
      "2024-05-29 11:36:21.081337: E external/local_xla/xla/stream_executor/cuda/cuda_dnn.cc:9261] Unable to register cuDNN factory: Attempting to register factory for plugin cuDNN when one has already been registered\n",
      "2024-05-29 11:36:21.081382: E external/local_xla/xla/stream_executor/cuda/cuda_fft.cc:607] Unable to register cuFFT factory: Attempting to register factory for plugin cuFFT when one has already been registered\n",
      "2024-05-29 11:36:21.083078: E external/local_xla/xla/stream_executor/cuda/cuda_blas.cc:1515] Unable to register cuBLAS factory: Attempting to register factory for plugin cuBLAS when one has already been registered\n",
      "2024-05-29 11:36:21.090918: I tensorflow/core/platform/cpu_feature_guard.cc:182] This TensorFlow binary is optimized to use available CPU instructions in performance-critical operations.\n",
      "To enable the following instructions: AVX2 FMA, in other operations, rebuild TensorFlow with the appropriate compiler flags.\n",
      "2024-05-29 11:36:22.317986: W tensorflow/compiler/tf2tensorrt/utils/py_utils.cc:38] TF-TRT Warning: Could not find TensorRT\n"
     ]
    }
   ],
   "source": [
    "from transformers import AutoTokenizer, Trainer, TrainingArguments\n",
    "from datasets import load_dataset\n",
    "\n",
    "raw_datasets = load_dataset(\"imdb\")"
   ]
  },
  {
   "cell_type": "markdown",
   "metadata": {
    "id": "IDXLkGRnI_jn"
   },
   "source": [
    "# Setup Tokenizer"
   ]
  },
  {
   "cell_type": "code",
   "execution_count": 5,
   "metadata": {
    "id": "DI24QdbPKoO9"
   },
   "outputs": [],
   "source": [
    "tokenizer = AutoTokenizer.from_pretrained(PRE_TRAINED_MODEL_NAME)"
   ]
  },
  {
   "cell_type": "code",
   "execution_count": 6,
   "metadata": {
    "id": "flBnDDk4M8Yo"
   },
   "outputs": [
    {
     "data": {
      "application/json": {
       "ascii": false,
       "bar_format": null,
       "colour": null,
       "elapsed": 0.007119655609130859,
       "initial": 0,
       "n": 0,
       "ncols": null,
       "nrows": 57,
       "postfix": null,
       "prefix": "Map",
       "rate": null,
       "total": 25000,
       "unit": " examples",
       "unit_divisor": 1000,
       "unit_scale": false
      },
      "application/vnd.jupyter.widget-view+json": {
       "model_id": "4f507e248d7e4d4aa105759fea38236a",
       "version_major": 2,
       "version_minor": 0
      },
      "text/plain": [
       "Map:   0%|          | 0/25000 [00:00<?, ? examples/s]"
      ]
     },
     "metadata": {},
     "output_type": "display_data"
    },
    {
     "data": {
      "application/json": {
       "ascii": false,
       "bar_format": null,
       "colour": null,
       "elapsed": 0.008000373840332031,
       "initial": 0,
       "n": 0,
       "ncols": null,
       "nrows": 57,
       "postfix": null,
       "prefix": "Map",
       "rate": null,
       "total": 25000,
       "unit": " examples",
       "unit_divisor": 1000,
       "unit_scale": false
      },
      "application/vnd.jupyter.widget-view+json": {
       "model_id": "665b9c1b0eec45da81151df48ec28f91",
       "version_major": 2,
       "version_minor": 0
      },
      "text/plain": [
       "Map:   0%|          | 0/25000 [00:00<?, ? examples/s]"
      ]
     },
     "metadata": {},
     "output_type": "display_data"
    },
    {
     "data": {
      "application/json": {
       "ascii": false,
       "bar_format": null,
       "colour": null,
       "elapsed": 0.007805347442626953,
       "initial": 0,
       "n": 0,
       "ncols": null,
       "nrows": 57,
       "postfix": null,
       "prefix": "Map",
       "rate": null,
       "total": 50000,
       "unit": " examples",
       "unit_divisor": 1000,
       "unit_scale": false
      },
      "application/vnd.jupyter.widget-view+json": {
       "model_id": "c5e75b425d4646ca968a19dffe0af03d",
       "version_major": 2,
       "version_minor": 0
      },
      "text/plain": [
       "Map:   0%|          | 0/50000 [00:00<?, ? examples/s]"
      ]
     },
     "metadata": {},
     "output_type": "display_data"
    }
   ],
   "source": [
    "def tokenize_function(examples):\n",
    "    return tokenizer(\n",
    "        examples[\"text\"],\n",
    "        padding=\"max_length\",\n",
    "        truncation=True,\n",
    "    )\n",
    "\n",
    "\n",
    "tokenized_datasets = raw_datasets.map(tokenize_function, batched=True)"
   ]
  },
  {
   "cell_type": "code",
   "execution_count": 7,
   "metadata": {
    "id": "vhN2owT-tOcv"
   },
   "outputs": [],
   "source": [
    "from transformers import DataCollatorWithPadding\n",
    "\n",
    "data_collator = DataCollatorWithPadding(tokenizer=tokenizer)"
   ]
  },
  {
   "cell_type": "markdown",
   "metadata": {
    "id": "jMX-ysNYOCN4"
   },
   "source": [
    "# Create Sample Datasets"
   ]
  },
  {
   "cell_type": "markdown",
   "metadata": {
    "id": "yBYSBPoZOEFq"
   },
   "source": [
    "For this guide, we are only going to sample 200 examples from our dataset.  "
   ]
  },
  {
   "cell_type": "code",
   "execution_count": 8,
   "metadata": {
    "id": "urC6KnPbNET3"
   },
   "outputs": [],
   "source": [
    "train_dataset = tokenized_datasets[\"train\"].shuffle(seed=SEED).select(range(200))\n",
    "eval_dataset = tokenized_datasets[\"test\"].shuffle(seed=SEED).select(range(200))"
   ]
  },
  {
   "cell_type": "markdown",
   "metadata": {
    "id": "HU4ggdjCJJT1"
   },
   "source": [
    "# Setup Transformer Model"
   ]
  },
  {
   "cell_type": "code",
   "execution_count": 9,
   "metadata": {
    "id": "sythIXibNmFD"
   },
   "outputs": [
    {
     "name": "stderr",
     "output_type": "stream",
     "text": [
      "Some weights of RobertaForSequenceClassification were not initialized from the model checkpoint at distilbert/distilroberta-base and are newly initialized: ['classifier.dense.bias', 'classifier.dense.weight', 'classifier.out_proj.bias', 'classifier.out_proj.weight']\n",
      "You should probably TRAIN this model on a down-stream task to be able to use it for predictions and inference.\n"
     ]
    }
   ],
   "source": [
    "from transformers import AutoModelForSequenceClassification\n",
    "\n",
    "model = AutoModelForSequenceClassification.from_pretrained(\n",
    "    PRE_TRAINED_MODEL_NAME, num_labels=2\n",
    ")"
   ]
  },
  {
   "cell_type": "markdown",
   "metadata": {
    "id": "EXUjopsZpo-D"
   },
   "source": [
    "# Setup Evaluation Function"
   ]
  },
  {
   "cell_type": "code",
   "execution_count": 10,
   "metadata": {
    "id": "Gl6m6IJUporu"
   },
   "outputs": [],
   "source": [
    "from sklearn.metrics import accuracy_score, precision_recall_fscore_support\n",
    "\n",
    "\n",
    "def get_example(index):\n",
    "    return eval_dataset[index][\"text\"]\n",
    "\n",
    "\n",
    "def compute_metrics(pred):\n",
    "    experiment = comet_ml.get_running_experiment()\n",
    "\n",
    "    labels = pred.label_ids\n",
    "    preds = pred.predictions.argmax(-1)\n",
    "    precision, recall, f1, _ = precision_recall_fscore_support(\n",
    "        labels, preds, average=\"macro\"\n",
    "    )\n",
    "    acc = accuracy_score(labels, preds)\n",
    "\n",
    "    if experiment:\n",
    "        epoch = int(experiment.curr_epoch) if experiment.curr_epoch is not None else 0\n",
    "        experiment.set_epoch(epoch)\n",
    "        experiment.log_confusion_matrix(\n",
    "            y_true=labels,\n",
    "            y_predicted=preds,\n",
    "            file_name=f\"confusion-matrix-epoch-{epoch}.json\",\n",
    "            labels=[\"negative\", \"postive\"],\n",
    "            index_to_example_function=get_example,\n",
    "        )\n",
    "\n",
    "    return {\"accuracy\": acc, \"f1\": f1, \"precision\": precision, \"recall\": recall}"
   ]
  },
  {
   "cell_type": "markdown",
   "metadata": {
    "id": "JomdNlu0JORT"
   },
   "source": [
    "# Run Training"
   ]
  },
  {
   "cell_type": "markdown",
   "metadata": {
    "id": "7YIJF9DWKhe9"
   },
   "source": [
    "In order to enable logging from the Hugging Face Trainer, you will need to set the `COMET_MODE` environment variable to `ONLINE`.  If you would like to log assets produced in the training run as Comet Assets, set `COMET_LOG_ASSETS=TRUE`   "
   ]
  },
  {
   "cell_type": "code",
   "execution_count": 11,
   "metadata": {
    "id": "kPmjwEH4NrQF"
   },
   "outputs": [
    {
     "name": "stdout",
     "output_type": "stream",
     "text": [
      "env: COMET_MODE=ONLINE\n",
      "env: COMET_LOG_ASSETS=TRUE\n"
     ]
    },
    {
     "name": "stderr",
     "output_type": "stream",
     "text": [
      "/home/lothiraldan/project/cometml/transformers/src/transformers/training_args.py:1474: FutureWarning: `evaluation_strategy` is deprecated and will be removed in version 4.46 of 🤗 Transformers. Use `eval_strategy` instead\n",
      "  warnings.warn(\n",
      "\u001b[1;38;5;214mCOMET WARNING:\u001b[0m As you are running in a Jupyter environment, you will need to call `experiment.end()` when finished to ensure all metrics and code are logged before exiting.\n",
      "\u001b[1;38;5;39mCOMET INFO:\u001b[0m Experiment is live on comet.com https://www.comet.com/lothiraldan/comet-examples-transfomers-trainer/5308c4cebfff4a9db8b425b6515bbb55\n",
      "\n"
     ]
    },
    {
     "data": {
      "text/html": [
       "\n",
       "    <div>\n",
       "      \n",
       "      <progress value='25' max='25' style='width:300px; height:20px; vertical-align: middle;'></progress>\n",
       "      [25/25 07:04, Epoch 1/1]\n",
       "    </div>\n",
       "    <table border=\"1\" class=\"dataframe\">\n",
       "  <thead>\n",
       " <tr style=\"text-align: left;\">\n",
       "      <th>Step</th>\n",
       "      <th>Training Loss</th>\n",
       "      <th>Validation Loss</th>\n",
       "      <th>Accuracy</th>\n",
       "      <th>F1</th>\n",
       "      <th>Precision</th>\n",
       "      <th>Recall</th>\n",
       "    </tr>\n",
       "  </thead>\n",
       "  <tbody>\n",
       "    <tr>\n",
       "      <td>25</td>\n",
       "      <td>No log</td>\n",
       "      <td>0.628739</td>\n",
       "      <td>0.595000</td>\n",
       "      <td>0.494997</td>\n",
       "      <td>0.781081</td>\n",
       "      <td>0.578125</td>\n",
       "    </tr>\n",
       "  </tbody>\n",
       "</table><p>"
      ],
      "text/plain": [
       "<IPython.core.display.HTML object>"
      ]
     },
     "metadata": {},
     "output_type": "display_data"
    },
    {
     "data": {
      "text/plain": [
       "TrainOutput(global_step=25, training_loss=0.6734719085693359, metrics={'train_runtime': 425.5504, 'train_samples_per_second': 0.47, 'train_steps_per_second': 0.059, 'total_flos': 26493479731200.0, 'train_loss': 0.6734719085693359, 'epoch': 1.0})"
      ]
     },
     "execution_count": 11,
     "metadata": {},
     "output_type": "execute_result"
    }
   ],
   "source": [
    "%env COMET_MODE=ONLINE\n",
    "%env COMET_LOG_ASSETS=TRUE\n",
    "\n",
    "training_args = TrainingArguments(\n",
    "    seed=SEED,\n",
    "    output_dir=\"./results\",\n",
    "    overwrite_output_dir=True,\n",
    "    num_train_epochs=1,\n",
    "    do_train=True,\n",
    "    do_eval=True,\n",
    "    evaluation_strategy=\"steps\",\n",
    "    eval_steps=25,\n",
    "    save_strategy=\"steps\",\n",
    "    save_total_limit=10,\n",
    "    save_steps=25,\n",
    "    per_device_train_batch_size=8,\n",
    "    report_to=[\"comet_ml\"],\n",
    ")\n",
    "\n",
    "trainer = Trainer(\n",
    "    model=model,\n",
    "    args=training_args,\n",
    "    train_dataset=train_dataset,\n",
    "    eval_dataset=eval_dataset,\n",
    "    compute_metrics=compute_metrics,\n",
    "    data_collator=data_collator,\n",
    ")\n",
    "trainer.train()"
   ]
  },
  {
   "cell_type": "code",
   "execution_count": 12,
   "metadata": {},
   "outputs": [
    {
     "name": "stderr",
     "output_type": "stream",
     "text": [
      "\u001b[1;38;5;39mCOMET INFO:\u001b[0m ---------------------------------------------------------------------------------------\n",
      "\u001b[1;38;5;39mCOMET INFO:\u001b[0m Comet.ml Experiment Summary\n",
      "\u001b[1;38;5;39mCOMET INFO:\u001b[0m ---------------------------------------------------------------------------------------\n",
      "\u001b[1;38;5;39mCOMET INFO:\u001b[0m   Data:\n",
      "\u001b[1;38;5;39mCOMET INFO:\u001b[0m     display_summary_level : 1\n",
      "\u001b[1;38;5;39mCOMET INFO:\u001b[0m     name                  : registered_ampere_8049\n",
      "\u001b[1;38;5;39mCOMET INFO:\u001b[0m     url                   : https://www.comet.com/lothiraldan/comet-examples-transfomers-trainer/5308c4cebfff4a9db8b425b6515bbb55\n",
      "\u001b[1;38;5;39mCOMET INFO:\u001b[0m   Metrics [count] (min, max):\n",
      "\u001b[1;38;5;39mCOMET INFO:\u001b[0m     epoch                    : 1.0\n",
      "\u001b[1;38;5;39mCOMET INFO:\u001b[0m     eval_accuracy            : 0.595\n",
      "\u001b[1;38;5;39mCOMET INFO:\u001b[0m     eval_f1                  : 0.4949967268306369\n",
      "\u001b[1;38;5;39mCOMET INFO:\u001b[0m     eval_loss                : 0.6287391781806946\n",
      "\u001b[1;38;5;39mCOMET INFO:\u001b[0m     eval_precision           : 0.7810810810810811\n",
      "\u001b[1;38;5;39mCOMET INFO:\u001b[0m     eval_recall              : 0.578125\n",
      "\u001b[1;38;5;39mCOMET INFO:\u001b[0m     eval_runtime             : 98.7791\n",
      "\u001b[1;38;5;39mCOMET INFO:\u001b[0m     eval_samples_per_second  : 2.025\n",
      "\u001b[1;38;5;39mCOMET INFO:\u001b[0m     eval_steps_per_second    : 0.253\n",
      "\u001b[1;38;5;39mCOMET INFO:\u001b[0m     loss [3]                 : (0.5943612456321716, 0.756797194480896)\n",
      "\u001b[1;38;5;39mCOMET INFO:\u001b[0m     total_flos               : 26493479731200.0\n",
      "\u001b[1;38;5;39mCOMET INFO:\u001b[0m     train_loss               : 0.6734719085693359\n",
      "\u001b[1;38;5;39mCOMET INFO:\u001b[0m     train_runtime            : 425.5504\n",
      "\u001b[1;38;5;39mCOMET INFO:\u001b[0m     train_samples_per_second : 0.47\n",
      "\u001b[1;38;5;39mCOMET INFO:\u001b[0m     train_steps_per_second   : 0.059\n",
      "\u001b[1;38;5;39mCOMET INFO:\u001b[0m   Others:\n",
      "\u001b[1;38;5;39mCOMET INFO:\u001b[0m     hasNestedParams : True\n",
      "\u001b[1;38;5;39mCOMET INFO:\u001b[0m   Parameters:\n",
      "\u001b[1;38;5;39mCOMET INFO:\u001b[0m     args|accelerator_config|dispatch_batches             : None\n",
      "\u001b[1;38;5;39mCOMET INFO:\u001b[0m     args|accelerator_config|even_batches                 : True\n",
      "\u001b[1;38;5;39mCOMET INFO:\u001b[0m     args|accelerator_config|gradient_accumulation_kwargs : None\n",
      "\u001b[1;38;5;39mCOMET INFO:\u001b[0m     args|accelerator_config|non_blocking                 : False\n",
      "\u001b[1;38;5;39mCOMET INFO:\u001b[0m     args|accelerator_config|split_batches                : False\n",
      "\u001b[1;38;5;39mCOMET INFO:\u001b[0m     args|accelerator_config|use_seedable_sampler         : True\n",
      "\u001b[1;38;5;39mCOMET INFO:\u001b[0m     args|adafactor                                       : False\n",
      "\u001b[1;38;5;39mCOMET INFO:\u001b[0m     args|adam_beta1                                      : 0.9\n",
      "\u001b[1;38;5;39mCOMET INFO:\u001b[0m     args|adam_beta2                                      : 0.999\n",
      "\u001b[1;38;5;39mCOMET INFO:\u001b[0m     args|adam_epsilon                                    : 1e-08\n",
      "\u001b[1;38;5;39mCOMET INFO:\u001b[0m     args|auto_find_batch_size                            : False\n",
      "\u001b[1;38;5;39mCOMET INFO:\u001b[0m     args|batch_eval_metrics                              : False\n",
      "\u001b[1;38;5;39mCOMET INFO:\u001b[0m     args|bf16                                            : False\n",
      "\u001b[1;38;5;39mCOMET INFO:\u001b[0m     args|bf16_full_eval                                  : False\n",
      "\u001b[1;38;5;39mCOMET INFO:\u001b[0m     args|data_seed                                       : None\n",
      "\u001b[1;38;5;39mCOMET INFO:\u001b[0m     args|dataloader_drop_last                            : False\n",
      "\u001b[1;38;5;39mCOMET INFO:\u001b[0m     args|dataloader_num_workers                          : 0\n",
      "\u001b[1;38;5;39mCOMET INFO:\u001b[0m     args|dataloader_persistent_workers                   : False\n",
      "\u001b[1;38;5;39mCOMET INFO:\u001b[0m     args|dataloader_pin_memory                           : True\n",
      "\u001b[1;38;5;39mCOMET INFO:\u001b[0m     args|dataloader_prefetch_factor                      : None\n",
      "\u001b[1;38;5;39mCOMET INFO:\u001b[0m     args|ddp_backend                                     : None\n",
      "\u001b[1;38;5;39mCOMET INFO:\u001b[0m     args|ddp_broadcast_buffers                           : None\n",
      "\u001b[1;38;5;39mCOMET INFO:\u001b[0m     args|ddp_bucket_cap_mb                               : None\n",
      "\u001b[1;38;5;39mCOMET INFO:\u001b[0m     args|ddp_find_unused_parameters                      : None\n",
      "\u001b[1;38;5;39mCOMET INFO:\u001b[0m     args|ddp_timeout                                     : 1800\n",
      "\u001b[1;38;5;39mCOMET INFO:\u001b[0m     args|debug                                           : []\n",
      "\u001b[1;38;5;39mCOMET INFO:\u001b[0m     args|deepspeed                                       : None\n",
      "\u001b[1;38;5;39mCOMET INFO:\u001b[0m     args|disable_tqdm                                    : False\n",
      "\u001b[1;38;5;39mCOMET INFO:\u001b[0m     args|dispatch_batches                                : None\n",
      "\u001b[1;38;5;39mCOMET INFO:\u001b[0m     args|do_eval                                         : True\n",
      "\u001b[1;38;5;39mCOMET INFO:\u001b[0m     args|do_predict                                      : False\n",
      "\u001b[1;38;5;39mCOMET INFO:\u001b[0m     args|do_train                                        : True\n",
      "\u001b[1;38;5;39mCOMET INFO:\u001b[0m     args|eval_accumulation_steps                         : None\n",
      "\u001b[1;38;5;39mCOMET INFO:\u001b[0m     args|eval_delay                                      : 0\n",
      "\u001b[1;38;5;39mCOMET INFO:\u001b[0m     args|eval_do_concat_batches                          : True\n",
      "\u001b[1;38;5;39mCOMET INFO:\u001b[0m     args|eval_steps                                      : 25\n",
      "\u001b[1;38;5;39mCOMET INFO:\u001b[0m     args|eval_strategy                                   : steps\n",
      "\u001b[1;38;5;39mCOMET INFO:\u001b[0m     args|evaluation_strategy                             : steps\n",
      "\u001b[1;38;5;39mCOMET INFO:\u001b[0m     args|fp16                                            : False\n",
      "\u001b[1;38;5;39mCOMET INFO:\u001b[0m     args|fp16_backend                                    : auto\n",
      "\u001b[1;38;5;39mCOMET INFO:\u001b[0m     args|fp16_full_eval                                  : False\n",
      "\u001b[1;38;5;39mCOMET INFO:\u001b[0m     args|fp16_opt_level                                  : O1\n",
      "\u001b[1;38;5;39mCOMET INFO:\u001b[0m     args|fsdp                                            : []\n",
      "\u001b[1;38;5;39mCOMET INFO:\u001b[0m     args|fsdp_config|min_num_params                      : 0\n",
      "\u001b[1;38;5;39mCOMET INFO:\u001b[0m     args|fsdp_config|xla                                 : False\n",
      "\u001b[1;38;5;39mCOMET INFO:\u001b[0m     args|fsdp_config|xla_fsdp_grad_ckpt                  : False\n",
      "\u001b[1;38;5;39mCOMET INFO:\u001b[0m     args|fsdp_config|xla_fsdp_v2                         : False\n",
      "\u001b[1;38;5;39mCOMET INFO:\u001b[0m     args|fsdp_min_num_params                             : 0\n",
      "\u001b[1;38;5;39mCOMET INFO:\u001b[0m     args|fsdp_transformer_layer_cls_to_wrap              : None\n",
      "\u001b[1;38;5;39mCOMET INFO:\u001b[0m     args|full_determinism                                : False\n",
      "\u001b[1;38;5;39mCOMET INFO:\u001b[0m     args|gradient_accumulation_steps                     : 1\n",
      "\u001b[1;38;5;39mCOMET INFO:\u001b[0m     args|gradient_checkpointing                          : False\n",
      "\u001b[1;38;5;39mCOMET INFO:\u001b[0m     args|gradient_checkpointing_kwargs                   : None\n",
      "\u001b[1;38;5;39mCOMET INFO:\u001b[0m     args|greater_is_better                               : None\n",
      "\u001b[1;38;5;39mCOMET INFO:\u001b[0m     args|group_by_length                                 : False\n",
      "\u001b[1;38;5;39mCOMET INFO:\u001b[0m     args|half_precision_backend                          : auto\n",
      "\u001b[1;38;5;39mCOMET INFO:\u001b[0m     args|hub_always_push                                 : False\n",
      "\u001b[1;38;5;39mCOMET INFO:\u001b[0m     args|hub_model_id                                    : None\n",
      "\u001b[1;38;5;39mCOMET INFO:\u001b[0m     args|hub_private_repo                                : False\n",
      "\u001b[1;38;5;39mCOMET INFO:\u001b[0m     args|hub_strategy                                    : every_save\n",
      "\u001b[1;38;5;39mCOMET INFO:\u001b[0m     args|hub_token                                       : <HUB_TOKEN>\n",
      "\u001b[1;38;5;39mCOMET INFO:\u001b[0m     args|ignore_data_skip                                : False\n",
      "\u001b[1;38;5;39mCOMET INFO:\u001b[0m     args|include_inputs_for_metrics                      : False\n",
      "\u001b[1;38;5;39mCOMET INFO:\u001b[0m     args|include_num_input_tokens_seen                   : False\n",
      "\u001b[1;38;5;39mCOMET INFO:\u001b[0m     args|include_tokens_per_second                       : False\n",
      "\u001b[1;38;5;39mCOMET INFO:\u001b[0m     args|jit_mode_eval                                   : False\n",
      "\u001b[1;38;5;39mCOMET INFO:\u001b[0m     args|label_names                                     : None\n",
      "\u001b[1;38;5;39mCOMET INFO:\u001b[0m     args|label_smoothing_factor                          : 0.0\n",
      "\u001b[1;38;5;39mCOMET INFO:\u001b[0m     args|learning_rate                                   : 5e-05\n",
      "\u001b[1;38;5;39mCOMET INFO:\u001b[0m     args|length_column_name                              : length\n",
      "\u001b[1;38;5;39mCOMET INFO:\u001b[0m     args|load_best_model_at_end                          : False\n",
      "\u001b[1;38;5;39mCOMET INFO:\u001b[0m     args|local_rank                                      : 0\n",
      "\u001b[1;38;5;39mCOMET INFO:\u001b[0m     args|log_level                                       : passive\n",
      "\u001b[1;38;5;39mCOMET INFO:\u001b[0m     args|log_level_replica                               : warning\n",
      "\u001b[1;38;5;39mCOMET INFO:\u001b[0m     args|log_on_each_node                                : True\n",
      "\u001b[1;38;5;39mCOMET INFO:\u001b[0m     args|logging_dir                                     : ./results/runs/May29_11-37-14_fedora\n",
      "\u001b[1;38;5;39mCOMET INFO:\u001b[0m     args|logging_first_step                              : False\n",
      "\u001b[1;38;5;39mCOMET INFO:\u001b[0m     args|logging_nan_inf_filter                          : True\n",
      "\u001b[1;38;5;39mCOMET INFO:\u001b[0m     args|logging_steps                                   : 500\n",
      "\u001b[1;38;5;39mCOMET INFO:\u001b[0m     args|logging_strategy                                : steps\n",
      "\u001b[1;38;5;39mCOMET INFO:\u001b[0m     args|lr_scheduler_kwargs                             : {}\n",
      "\u001b[1;38;5;39mCOMET INFO:\u001b[0m     args|lr_scheduler_type                               : linear\n",
      "\u001b[1;38;5;39mCOMET INFO:\u001b[0m     args|max_grad_norm                                   : 1.0\n",
      "\u001b[1;38;5;39mCOMET INFO:\u001b[0m     args|max_steps                                       : -1\n",
      "\u001b[1;38;5;39mCOMET INFO:\u001b[0m     args|metric_for_best_model                           : None\n",
      "\u001b[1;38;5;39mCOMET INFO:\u001b[0m     args|mp_parameters                                   : \n",
      "\u001b[1;38;5;39mCOMET INFO:\u001b[0m     args|neftune_noise_alpha                             : None\n",
      "\u001b[1;38;5;39mCOMET INFO:\u001b[0m     args|no_cuda                                         : False\n",
      "\u001b[1;38;5;39mCOMET INFO:\u001b[0m     args|num_train_epochs                                : 1\n",
      "\u001b[1;38;5;39mCOMET INFO:\u001b[0m     args|optim                                           : adamw_torch\n",
      "\u001b[1;38;5;39mCOMET INFO:\u001b[0m     args|optim_args                                      : None\n",
      "\u001b[1;38;5;39mCOMET INFO:\u001b[0m     args|optim_target_modules                            : None\n",
      "\u001b[1;38;5;39mCOMET INFO:\u001b[0m     args|output_dir                                      : ./results\n",
      "\u001b[1;38;5;39mCOMET INFO:\u001b[0m     args|overwrite_output_dir                            : True\n",
      "\u001b[1;38;5;39mCOMET INFO:\u001b[0m     args|past_index                                      : -1\n",
      "\u001b[1;38;5;39mCOMET INFO:\u001b[0m     args|per_device_eval_batch_size                      : 8\n",
      "\u001b[1;38;5;39mCOMET INFO:\u001b[0m     args|per_device_train_batch_size                     : 8\n",
      "\u001b[1;38;5;39mCOMET INFO:\u001b[0m     args|per_gpu_eval_batch_size                         : None\n",
      "\u001b[1;38;5;39mCOMET INFO:\u001b[0m     args|per_gpu_train_batch_size                        : None\n",
      "\u001b[1;38;5;39mCOMET INFO:\u001b[0m     args|prediction_loss_only                            : False\n",
      "\u001b[1;38;5;39mCOMET INFO:\u001b[0m     args|push_to_hub                                     : False\n",
      "\u001b[1;38;5;39mCOMET INFO:\u001b[0m     args|push_to_hub_model_id                            : None\n",
      "\u001b[1;38;5;39mCOMET INFO:\u001b[0m     args|push_to_hub_organization                        : None\n",
      "\u001b[1;38;5;39mCOMET INFO:\u001b[0m     args|push_to_hub_token                               : <PUSH_TO_HUB_TOKEN>\n",
      "\u001b[1;38;5;39mCOMET INFO:\u001b[0m     args|ray_scope                                       : last\n",
      "\u001b[1;38;5;39mCOMET INFO:\u001b[0m     args|remove_unused_columns                           : True\n",
      "\u001b[1;38;5;39mCOMET INFO:\u001b[0m     args|report_to                                       : ['comet_ml']\n",
      "\u001b[1;38;5;39mCOMET INFO:\u001b[0m     args|restore_callback_states_from_checkpoint         : False\n",
      "\u001b[1;38;5;39mCOMET INFO:\u001b[0m     args|resume_from_checkpoint                          : None\n",
      "\u001b[1;38;5;39mCOMET INFO:\u001b[0m     args|run_name                                        : ./results\n",
      "\u001b[1;38;5;39mCOMET INFO:\u001b[0m     args|save_on_each_node                               : False\n",
      "\u001b[1;38;5;39mCOMET INFO:\u001b[0m     args|save_only_model                                 : False\n",
      "\u001b[1;38;5;39mCOMET INFO:\u001b[0m     args|save_safetensors                                : True\n",
      "\u001b[1;38;5;39mCOMET INFO:\u001b[0m     args|save_steps                                      : 25\n",
      "\u001b[1;38;5;39mCOMET INFO:\u001b[0m     args|save_strategy                                   : steps\n",
      "\u001b[1;38;5;39mCOMET INFO:\u001b[0m     args|save_total_limit                                : 10\n",
      "\u001b[1;38;5;39mCOMET INFO:\u001b[0m     args|seed                                            : 42\n",
      "\u001b[1;38;5;39mCOMET INFO:\u001b[0m     args|skip_memory_metrics                             : True\n",
      "\u001b[1;38;5;39mCOMET INFO:\u001b[0m     args|split_batches                                   : None\n",
      "\u001b[1;38;5;39mCOMET INFO:\u001b[0m     args|tf32                                            : None\n",
      "\u001b[1;38;5;39mCOMET INFO:\u001b[0m     args|torch_compile                                   : False\n",
      "\u001b[1;38;5;39mCOMET INFO:\u001b[0m     args|torch_compile_backend                           : None\n",
      "\u001b[1;38;5;39mCOMET INFO:\u001b[0m     args|torch_compile_mode                              : None\n",
      "\u001b[1;38;5;39mCOMET INFO:\u001b[0m     args|torchdynamo                                     : None\n",
      "\u001b[1;38;5;39mCOMET INFO:\u001b[0m     args|tpu_metrics_debug                               : False\n",
      "\u001b[1;38;5;39mCOMET INFO:\u001b[0m     args|tpu_num_cores                                   : None\n",
      "\u001b[1;38;5;39mCOMET INFO:\u001b[0m     args|use_cpu                                         : False\n",
      "\u001b[1;38;5;39mCOMET INFO:\u001b[0m     args|use_ipex                                        : False\n",
      "\u001b[1;38;5;39mCOMET INFO:\u001b[0m     args|use_legacy_prediction_loop                      : False\n",
      "\u001b[1;38;5;39mCOMET INFO:\u001b[0m     args|use_mps_device                                  : False\n",
      "\u001b[1;38;5;39mCOMET INFO:\u001b[0m     args|warmup_ratio                                    : 0.0\n",
      "\u001b[1;38;5;39mCOMET INFO:\u001b[0m     args|warmup_steps                                    : 0\n",
      "\u001b[1;38;5;39mCOMET INFO:\u001b[0m     args|weight_decay                                    : 0.0\n",
      "\u001b[1;38;5;39mCOMET INFO:\u001b[0m     config|_name_or_path                                 : distilbert/distilroberta-base\n",
      "\u001b[1;38;5;39mCOMET INFO:\u001b[0m     config|add_cross_attention                           : False\n",
      "\u001b[1;38;5;39mCOMET INFO:\u001b[0m     config|architectures                                 : ['RobertaForMaskedLM']\n",
      "\u001b[1;38;5;39mCOMET INFO:\u001b[0m     config|attention_probs_dropout_prob                  : 0.1\n",
      "\u001b[1;38;5;39mCOMET INFO:\u001b[0m     config|bad_words_ids                                 : None\n",
      "\u001b[1;38;5;39mCOMET INFO:\u001b[0m     config|begin_suppress_tokens                         : None\n",
      "\u001b[1;38;5;39mCOMET INFO:\u001b[0m     config|bos_token_id                                  : 0\n",
      "\u001b[1;38;5;39mCOMET INFO:\u001b[0m     config|chunk_size_feed_forward                       : 0\n",
      "\u001b[1;38;5;39mCOMET INFO:\u001b[0m     config|classifier_dropout                            : None\n",
      "\u001b[1;38;5;39mCOMET INFO:\u001b[0m     config|cross_attention_hidden_size                   : None\n",
      "\u001b[1;38;5;39mCOMET INFO:\u001b[0m     config|decoder_start_token_id                        : None\n",
      "\u001b[1;38;5;39mCOMET INFO:\u001b[0m     config|diversity_penalty                             : 0.0\n",
      "\u001b[1;38;5;39mCOMET INFO:\u001b[0m     config|do_sample                                     : False\n",
      "\u001b[1;38;5;39mCOMET INFO:\u001b[0m     config|early_stopping                                : False\n",
      "\u001b[1;38;5;39mCOMET INFO:\u001b[0m     config|encoder_no_repeat_ngram_size                  : 0\n",
      "\u001b[1;38;5;39mCOMET INFO:\u001b[0m     config|eos_token_id                                  : 2\n",
      "\u001b[1;38;5;39mCOMET INFO:\u001b[0m     config|exponential_decay_length_penalty              : None\n",
      "\u001b[1;38;5;39mCOMET INFO:\u001b[0m     config|finetuning_task                               : None\n",
      "\u001b[1;38;5;39mCOMET INFO:\u001b[0m     config|forced_bos_token_id                           : None\n",
      "\u001b[1;38;5;39mCOMET INFO:\u001b[0m     config|forced_eos_token_id                           : None\n",
      "\u001b[1;38;5;39mCOMET INFO:\u001b[0m     config|hidden_act                                    : gelu\n",
      "\u001b[1;38;5;39mCOMET INFO:\u001b[0m     config|hidden_dropout_prob                           : 0.1\n",
      "\u001b[1;38;5;39mCOMET INFO:\u001b[0m     config|hidden_size                                   : 768\n",
      "\u001b[1;38;5;39mCOMET INFO:\u001b[0m     config|id2label|0                                    : LABEL_0\n",
      "\u001b[1;38;5;39mCOMET INFO:\u001b[0m     config|id2label|1                                    : LABEL_1\n",
      "\u001b[1;38;5;39mCOMET INFO:\u001b[0m     config|initializer_range                             : 0.02\n",
      "\u001b[1;38;5;39mCOMET INFO:\u001b[0m     config|intermediate_size                             : 3072\n",
      "\u001b[1;38;5;39mCOMET INFO:\u001b[0m     config|is_decoder                                    : False\n",
      "\u001b[1;38;5;39mCOMET INFO:\u001b[0m     config|is_encoder_decoder                            : False\n",
      "\u001b[1;38;5;39mCOMET INFO:\u001b[0m     config|label2id|LABEL_0                              : 0\n",
      "\u001b[1;38;5;39mCOMET INFO:\u001b[0m     config|label2id|LABEL_1                              : 1\n",
      "\u001b[1;38;5;39mCOMET INFO:\u001b[0m     config|layer_norm_eps                                : 1e-05\n",
      "\u001b[1;38;5;39mCOMET INFO:\u001b[0m     config|length_penalty                                : 1.0\n",
      "\u001b[1;38;5;39mCOMET INFO:\u001b[0m     config|max_length                                    : 20\n",
      "\u001b[1;38;5;39mCOMET INFO:\u001b[0m     config|max_position_embeddings                       : 514\n",
      "\u001b[1;38;5;39mCOMET INFO:\u001b[0m     config|min_length                                    : 0\n",
      "\u001b[1;38;5;39mCOMET INFO:\u001b[0m     config|model_type                                    : roberta\n",
      "\u001b[1;38;5;39mCOMET INFO:\u001b[0m     config|no_repeat_ngram_size                          : 0\n",
      "\u001b[1;38;5;39mCOMET INFO:\u001b[0m     config|num_attention_heads                           : 12\n",
      "\u001b[1;38;5;39mCOMET INFO:\u001b[0m     config|num_beam_groups                               : 1\n",
      "\u001b[1;38;5;39mCOMET INFO:\u001b[0m     config|num_beams                                     : 1\n",
      "\u001b[1;38;5;39mCOMET INFO:\u001b[0m     config|num_hidden_layers                             : 6\n",
      "\u001b[1;38;5;39mCOMET INFO:\u001b[0m     config|num_return_sequences                          : 1\n",
      "\u001b[1;38;5;39mCOMET INFO:\u001b[0m     config|output_attentions                             : False\n",
      "\u001b[1;38;5;39mCOMET INFO:\u001b[0m     config|output_hidden_states                          : False\n",
      "\u001b[1;38;5;39mCOMET INFO:\u001b[0m     config|output_scores                                 : False\n",
      "\u001b[1;38;5;39mCOMET INFO:\u001b[0m     config|pad_token_id                                  : 1\n",
      "\u001b[1;38;5;39mCOMET INFO:\u001b[0m     config|position_embedding_type                       : absolute\n",
      "\u001b[1;38;5;39mCOMET INFO:\u001b[0m     config|prefix                                        : None\n",
      "\u001b[1;38;5;39mCOMET INFO:\u001b[0m     config|problem_type                                  : None\n",
      "\u001b[1;38;5;39mCOMET INFO:\u001b[0m     config|pruned_heads                                  : {}\n",
      "\u001b[1;38;5;39mCOMET INFO:\u001b[0m     config|remove_invalid_values                         : False\n",
      "\u001b[1;38;5;39mCOMET INFO:\u001b[0m     config|repetition_penalty                            : 1.0\n",
      "\u001b[1;38;5;39mCOMET INFO:\u001b[0m     config|return_dict                                   : True\n",
      "\u001b[1;38;5;39mCOMET INFO:\u001b[0m     config|return_dict_in_generate                       : False\n",
      "\u001b[1;38;5;39mCOMET INFO:\u001b[0m     config|sep_token_id                                  : None\n",
      "\u001b[1;38;5;39mCOMET INFO:\u001b[0m     config|suppress_tokens                               : None\n",
      "\u001b[1;38;5;39mCOMET INFO:\u001b[0m     config|task_specific_params                          : None\n",
      "\u001b[1;38;5;39mCOMET INFO:\u001b[0m     config|temperature                                   : 1.0\n",
      "\u001b[1;38;5;39mCOMET INFO:\u001b[0m     config|tf_legacy_loss                                : False\n",
      "\u001b[1;38;5;39mCOMET INFO:\u001b[0m     config|tie_encoder_decoder                           : False\n",
      "\u001b[1;38;5;39mCOMET INFO:\u001b[0m     config|tie_word_embeddings                           : True\n",
      "\u001b[1;38;5;39mCOMET INFO:\u001b[0m     config|tokenizer_class                               : None\n",
      "\u001b[1;38;5;39mCOMET INFO:\u001b[0m     config|top_k                                         : 50\n",
      "\u001b[1;38;5;39mCOMET INFO:\u001b[0m     config|top_p                                         : 1.0\n",
      "\u001b[1;38;5;39mCOMET INFO:\u001b[0m     config|torch_dtype                                   : None\n",
      "\u001b[1;38;5;39mCOMET INFO:\u001b[0m     config|torchscript                                   : False\n",
      "\u001b[1;38;5;39mCOMET INFO:\u001b[0m     config|transformers_version                          : 4.41.0.dev0\n",
      "\u001b[1;38;5;39mCOMET INFO:\u001b[0m     config|type_vocab_size                               : 1\n",
      "\u001b[1;38;5;39mCOMET INFO:\u001b[0m     config|typical_p                                     : 1.0\n",
      "\u001b[1;38;5;39mCOMET INFO:\u001b[0m     config|use_bfloat16                                  : False\n",
      "\u001b[1;38;5;39mCOMET INFO:\u001b[0m     config|use_cache                                     : True\n",
      "\u001b[1;38;5;39mCOMET INFO:\u001b[0m     config|vocab_size                                    : 50265\n",
      "\u001b[1;38;5;39mCOMET INFO:\u001b[0m   Uploads:\n",
      "\u001b[1;38;5;39mCOMET INFO:\u001b[0m     asset                    : 49 (5.41 GB)\n",
      "\u001b[1;38;5;39mCOMET INFO:\u001b[0m     confusion-matrix         : 1\n",
      "\u001b[1;38;5;39mCOMET INFO:\u001b[0m     environment details      : 1\n",
      "\u001b[1;38;5;39mCOMET INFO:\u001b[0m     filename                 : 1\n",
      "\u001b[1;38;5;39mCOMET INFO:\u001b[0m     git metadata             : 1\n",
      "\u001b[1;38;5;39mCOMET INFO:\u001b[0m     git-patch (uncompressed) : 1 (404.82 KB)\n",
      "\u001b[1;38;5;39mCOMET INFO:\u001b[0m     installed packages       : 1\n",
      "\u001b[1;38;5;39mCOMET INFO:\u001b[0m     model graph              : 1\n",
      "\u001b[1;38;5;39mCOMET INFO:\u001b[0m     notebook                 : 1\n",
      "\u001b[1;38;5;39mCOMET INFO:\u001b[0m     source_code              : 1\n",
      "\u001b[1;38;5;39mCOMET INFO:\u001b[0m \n",
      "\u001b[1;38;5;39mCOMET INFO:\u001b[0m Please wait for assets to finish uploading (timeout is 10800 seconds)\n",
      "\u001b[1;38;5;39mCOMET INFO:\u001b[0m Still uploading 12 file(s), remaining 3.26 GB/4.91 GB\n",
      "\u001b[1;38;5;39mCOMET INFO:\u001b[0m Still uploading 9 asset(s), remaining 2.20 GB/4.16 GB, Throughput 72.32 MB/s, ETA ~32s\n",
      "\u001b[1;38;5;39mCOMET INFO:\u001b[0m Still uploading 8 asset(s), remaining 1.25 GB/3.91 GB, Throughput 65.02 MB/s, ETA ~20s\n",
      "\u001b[1;38;5;39mCOMET INFO:\u001b[0m Still uploading 4 asset(s), remaining 544.33 MB/2.11 GB, Throughput 48.95 MB/s, ETA ~12s\n",
      "\u001b[1;38;5;39mCOMET INFO:\u001b[0m Still uploading 2 asset(s), remaining 162.51 MB/1.11 GB, Throughput 25.42 MB/s, ETA ~7s\n",
      "\u001b[1;38;5;39mCOMET INFO:\u001b[0m Still uploading 1 asset(s), remaining 20.91 MB/510.91 MB, Throughput 9.43 MB/s, ETA ~3s\n"
     ]
    }
   ],
   "source": [
    "comet_ml.get_running_experiment().end()"
   ]
  },
  {
   "cell_type": "code",
   "execution_count": null,
   "metadata": {},
   "outputs": [],
   "source": []
  }
 ],
 "metadata": {
  "accelerator": "GPU",
  "colab": {
   "name": "Comet with Hugging Face",
   "provenance": []
  },
  "kernelspec": {
   "display_name": "Python 3 (ipykernel)",
   "language": "python",
   "name": "python3"
  },
  "language_info": {
   "codemirror_mode": {
    "name": "ipython",
    "version": 3
   },
   "file_extension": ".py",
   "mimetype": "text/x-python",
   "name": "python",
   "nbconvert_exporter": "python",
   "pygments_lexer": "ipython3",
   "version": "3.9.1"
  }
 },
 "nbformat": 4,
 "nbformat_minor": 4
}
