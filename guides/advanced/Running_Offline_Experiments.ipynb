{
 "nbformat": 4,
 "nbformat_minor": 0,
 "metadata": {
  "colab": {
   "provenance": []
  },
  "kernelspec": {
   "name": "python3",
   "display_name": "Python 3"
  },
  "language_info": {
   "name": "python"
  }
 },
 "cells": [
  {
   "cell_type": "markdown",
   "metadata": {
    "id": "nD0FUYrfkSUT"
   },
   "source": [
    "# Install Comet"
   ]
  },
  {
   "cell_type": "code",
   "metadata": {
    "id": "wMWufCyZbZOx"
   },
   "source": [
    "!pip install comet_ml --quiet"
   ],
   "execution_count": null,
   "outputs": []
  },
  {
   "cell_type": "markdown",
   "metadata": {
    "id": "gIyCqVw6kT7L"
   },
   "source": [
    "# Initalize Comet Project"
   ]
  },
  {
   "cell_type": "code",
   "metadata": {
    "id": "B2s8nND-birg"
   },
   "source": [
    "import comet_ml\n",
    "\n",
    "comet_ml.init(project_name=\"running-offline\")"
   ],
   "execution_count": null,
   "outputs": []
  },
  {
   "cell_type": "markdown",
   "metadata": {
    "id": "X9YELwknkPtq"
   },
   "source": [
    "# Create an Offline Experiment"
   ]
  },
  {
   "cell_type": "code",
   "metadata": {
    "id": "o7UtgSB-bk6K"
   },
   "source": [
    "experiment = comet_ml.OfflineExperiment()\n",
    "experiment.log_metrics({\"accuracy\": 0.5, \"loss\": 0.001})\n",
    "experiment.end()"
   ],
   "execution_count": null,
   "outputs": []
  },
  {
   "cell_type": "markdown",
   "metadata": {
    "id": "TND_ukbJkMoS"
   },
   "source": [
    "# Upload a Completed Experiment"
   ]
  },
  {
   "cell_type": "markdown",
   "metadata": {
    "id": "zDOkoYnaka1F"
   },
   "source": [
    "Once the Experiment has finished running, you can upload it to the Comet UI with the follow command"
   ]
  },
  {
   "cell_type": "code",
   "metadata": {
    "id": "uo53wkSabrnW"
   },
   "source": [
    "!comet upload /content/.cometml-runs/*.zip"
   ],
   "execution_count": null,
   "outputs": []
  },
  {
   "cell_type": "code",
   "metadata": {
    "id": "lxMv2erXgLtD"
   },
   "source": [],
   "execution_count": null,
   "outputs": []
  }
 ]
}