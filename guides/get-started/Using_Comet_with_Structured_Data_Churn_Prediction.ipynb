{
 "nbformat": 4,
 "nbformat_minor": 0,
 "metadata": {
  "colab": {
   "provenance": [],
   "collapsed_sections": [
    "-cTh8OcaYvbU"
   ],
   "toc_visible": true
  },
  "kernelspec": {
   "name": "python3",
   "display_name": "Python 3"
  },
  "language_info": {
   "name": "python"
  },
  "widgets": {
   "application/vnd.jupyter.widget-state+json": {
    "6ef35152dfa94fd28f335622a8d70060": {
     "model_module": "@jupyter-widgets/controls",
     "model_name": "HBoxModel",
     "model_module_version": "1.5.0",
     "state": {
      "_view_name": "HBoxView",
      "_dom_classes": [],
      "_model_name": "HBoxModel",
      "_view_module": "@jupyter-widgets/controls",
      "_model_module_version": "1.5.0",
      "_view_count": null,
      "_view_module_version": "1.5.0",
      "box_style": "",
      "layout": "IPY_MODEL_75da1f6c7fdb4247bed5492f19ef02b1",
      "_model_module": "@jupyter-widgets/controls",
      "children": [
       "IPY_MODEL_a492186217b74b99ab9a28d548949b51",
       "IPY_MODEL_b79ed0fd8678443b8044defcf4070035",
       "IPY_MODEL_7ba958da9a1f4bd3b286c8457b9a1e15"
      ]
     }
    },
    "75da1f6c7fdb4247bed5492f19ef02b1": {
     "model_module": "@jupyter-widgets/base",
     "model_name": "LayoutModel",
     "model_module_version": "1.2.0",
     "state": {
      "_view_name": "LayoutView",
      "grid_template_rows": null,
      "right": null,
      "justify_content": null,
      "_view_module": "@jupyter-widgets/base",
      "overflow": null,
      "_model_module_version": "1.2.0",
      "_view_count": null,
      "flex_flow": "row wrap",
      "width": "100%",
      "min_width": null,
      "border": null,
      "align_items": null,
      "bottom": null,
      "_model_module": "@jupyter-widgets/base",
      "top": null,
      "grid_column": null,
      "overflow_y": null,
      "overflow_x": null,
      "grid_auto_flow": null,
      "grid_area": null,
      "grid_template_columns": null,
      "flex": null,
      "_model_name": "LayoutModel",
      "justify_items": null,
      "grid_row": null,
      "max_height": null,
      "align_content": null,
      "visibility": null,
      "align_self": null,
      "height": null,
      "min_height": null,
      "padding": null,
      "grid_auto_rows": null,
      "grid_gap": null,
      "max_width": null,
      "order": null,
      "_view_module_version": "1.2.0",
      "grid_template_areas": null,
      "object_position": null,
      "object_fit": null,
      "grid_auto_columns": null,
      "margin": null,
      "display": "inline-flex",
      "left": null
     }
    },
    "a492186217b74b99ab9a28d548949b51": {
     "model_module": "@jupyter-widgets/controls",
     "model_name": "HTMLModel",
     "model_module_version": "1.5.0",
     "state": {
      "_view_name": "HTMLView",
      "style": "IPY_MODEL_1604a7da5a32433e8d94cf151e7bc762",
      "_dom_classes": [],
      "description": "",
      "_model_name": "HTMLModel",
      "placeholder": "​",
      "_view_module": "@jupyter-widgets/controls",
      "_model_module_version": "1.5.0",
      "value": "Done! Use &#x27;show&#x27; commands to display/save.   ",
      "_view_count": null,
      "_view_module_version": "1.5.0",
      "description_tooltip": null,
      "_model_module": "@jupyter-widgets/controls",
      "layout": "IPY_MODEL_5e514536afb44c18a8941b78dca05fb2"
     }
    },
    "b79ed0fd8678443b8044defcf4070035": {
     "model_module": "@jupyter-widgets/controls",
     "model_name": "FloatProgressModel",
     "model_module_version": "1.5.0",
     "state": {
      "_view_name": "ProgressView",
      "style": "IPY_MODEL_1d70e8affa5b40b7a623cb72e0f4e1f2",
      "_dom_classes": [],
      "description": "",
      "_model_name": "FloatProgressModel",
      "bar_style": "success",
      "max": 1,
      "_view_module": "@jupyter-widgets/controls",
      "_model_module_version": "1.5.0",
      "value": 1,
      "_view_count": null,
      "_view_module_version": "1.5.0",
      "orientation": "horizontal",
      "min": 0,
      "description_tooltip": null,
      "_model_module": "@jupyter-widgets/controls",
      "layout": "IPY_MODEL_12cf675cc2a5410bb2771751c76eee65"
     }
    },
    "7ba958da9a1f4bd3b286c8457b9a1e15": {
     "model_module": "@jupyter-widgets/controls",
     "model_name": "HTMLModel",
     "model_module_version": "1.5.0",
     "state": {
      "_view_name": "HTMLView",
      "style": "IPY_MODEL_54e4bd5cfafe447aab4a6486bd96e6e6",
      "_dom_classes": [],
      "description": "",
      "_model_name": "HTMLModel",
      "placeholder": "​",
      "_view_module": "@jupyter-widgets/controls",
      "_model_module_version": "1.5.0",
      "value": " [100%]   00:01 -&gt; (00:00 left)",
      "_view_count": null,
      "_view_module_version": "1.5.0",
      "description_tooltip": null,
      "_model_module": "@jupyter-widgets/controls",
      "layout": "IPY_MODEL_3c6f27c83d4d4bc38db343ae05217ec8"
     }
    },
    "1604a7da5a32433e8d94cf151e7bc762": {
     "model_module": "@jupyter-widgets/controls",
     "model_name": "DescriptionStyleModel",
     "model_module_version": "1.5.0",
     "state": {
      "_view_name": "StyleView",
      "_model_name": "DescriptionStyleModel",
      "description_width": "",
      "_view_module": "@jupyter-widgets/base",
      "_model_module_version": "1.5.0",
      "_view_count": null,
      "_view_module_version": "1.2.0",
      "_model_module": "@jupyter-widgets/controls"
     }
    },
    "5e514536afb44c18a8941b78dca05fb2": {
     "model_module": "@jupyter-widgets/base",
     "model_name": "LayoutModel",
     "model_module_version": "1.2.0",
     "state": {
      "_view_name": "LayoutView",
      "grid_template_rows": null,
      "right": null,
      "justify_content": null,
      "_view_module": "@jupyter-widgets/base",
      "overflow": null,
      "_model_module_version": "1.2.0",
      "_view_count": null,
      "flex_flow": null,
      "width": null,
      "min_width": null,
      "border": null,
      "align_items": null,
      "bottom": null,
      "_model_module": "@jupyter-widgets/base",
      "top": null,
      "grid_column": null,
      "overflow_y": null,
      "overflow_x": null,
      "grid_auto_flow": null,
      "grid_area": null,
      "grid_template_columns": null,
      "flex": null,
      "_model_name": "LayoutModel",
      "justify_items": null,
      "grid_row": null,
      "max_height": null,
      "align_content": null,
      "visibility": null,
      "align_self": null,
      "height": null,
      "min_height": null,
      "padding": null,
      "grid_auto_rows": null,
      "grid_gap": null,
      "max_width": null,
      "order": null,
      "_view_module_version": "1.2.0",
      "grid_template_areas": null,
      "object_position": null,
      "object_fit": null,
      "grid_auto_columns": null,
      "margin": null,
      "display": null,
      "left": null
     }
    },
    "1d70e8affa5b40b7a623cb72e0f4e1f2": {
     "model_module": "@jupyter-widgets/controls",
     "model_name": "ProgressStyleModel",
     "model_module_version": "1.5.0",
     "state": {
      "_view_name": "StyleView",
      "_model_name": "ProgressStyleModel",
      "description_width": "",
      "_view_module": "@jupyter-widgets/base",
      "_model_module_version": "1.5.0",
      "_view_count": null,
      "_view_module_version": "1.2.0",
      "bar_color": null,
      "_model_module": "@jupyter-widgets/controls"
     }
    },
    "12cf675cc2a5410bb2771751c76eee65": {
     "model_module": "@jupyter-widgets/base",
     "model_name": "LayoutModel",
     "model_module_version": "1.2.0",
     "state": {
      "_view_name": "LayoutView",
      "grid_template_rows": null,
      "right": null,
      "justify_content": null,
      "_view_module": "@jupyter-widgets/base",
      "overflow": null,
      "_model_module_version": "1.2.0",
      "_view_count": null,
      "flex_flow": null,
      "width": null,
      "min_width": null,
      "border": null,
      "align_items": null,
      "bottom": null,
      "_model_module": "@jupyter-widgets/base",
      "top": null,
      "grid_column": null,
      "overflow_y": null,
      "overflow_x": null,
      "grid_auto_flow": null,
      "grid_area": null,
      "grid_template_columns": null,
      "flex": "2",
      "_model_name": "LayoutModel",
      "justify_items": null,
      "grid_row": null,
      "max_height": null,
      "align_content": null,
      "visibility": null,
      "align_self": null,
      "height": null,
      "min_height": null,
      "padding": null,
      "grid_auto_rows": null,
      "grid_gap": null,
      "max_width": null,
      "order": null,
      "_view_module_version": "1.2.0",
      "grid_template_areas": null,
      "object_position": null,
      "object_fit": null,
      "grid_auto_columns": null,
      "margin": null,
      "display": null,
      "left": null
     }
    },
    "54e4bd5cfafe447aab4a6486bd96e6e6": {
     "model_module": "@jupyter-widgets/controls",
     "model_name": "DescriptionStyleModel",
     "model_module_version": "1.5.0",
     "state": {
      "_view_name": "StyleView",
      "_model_name": "DescriptionStyleModel",
      "description_width": "",
      "_view_module": "@jupyter-widgets/base",
      "_model_module_version": "1.5.0",
      "_view_count": null,
      "_view_module_version": "1.2.0",
      "_model_module": "@jupyter-widgets/controls"
     }
    },
    "3c6f27c83d4d4bc38db343ae05217ec8": {
     "model_module": "@jupyter-widgets/base",
     "model_name": "LayoutModel",
     "model_module_version": "1.2.0",
     "state": {
      "_view_name": "LayoutView",
      "grid_template_rows": null,
      "right": null,
      "justify_content": null,
      "_view_module": "@jupyter-widgets/base",
      "overflow": null,
      "_model_module_version": "1.2.0",
      "_view_count": null,
      "flex_flow": null,
      "width": null,
      "min_width": null,
      "border": null,
      "align_items": null,
      "bottom": null,
      "_model_module": "@jupyter-widgets/base",
      "top": null,
      "grid_column": null,
      "overflow_y": null,
      "overflow_x": null,
      "grid_auto_flow": null,
      "grid_area": null,
      "grid_template_columns": null,
      "flex": null,
      "_model_name": "LayoutModel",
      "justify_items": null,
      "grid_row": null,
      "max_height": null,
      "align_content": null,
      "visibility": null,
      "align_self": null,
      "height": null,
      "min_height": null,
      "padding": null,
      "grid_auto_rows": null,
      "grid_gap": null,
      "max_width": null,
      "order": null,
      "_view_module_version": "1.2.0",
      "grid_template_areas": null,
      "object_position": null,
      "object_fit": null,
      "grid_auto_columns": null,
      "margin": null,
      "display": null,
      "left": null
     }
    }
   }
  }
 },
 "cells": [
  {
   "cell_type": "markdown",
   "metadata": {
    "id": "-cTh8OcaYvbU"
   },
   "source": [
    "# Install Comet"
   ]
  },
  {
   "cell_type": "code",
   "metadata": {
    "id": "M4EOdXIXYm9J"
   },
   "source": [
    "!pip install comet_ml --quiet"
   ],
   "execution_count": null,
   "outputs": []
  },
  {
   "cell_type": "markdown",
   "metadata": {
    "id": "IWjxrVhSYxOG"
   },
   "source": [
    "# Initialize Comet\n",
    "Set your API Key to enable logging to Comet from this notebook"
   ]
  },
  {
   "cell_type": "code",
   "metadata": {
    "colab": {
     "base_uri": "https://localhost:8080/"
    },
    "id": "e0p8Dy37YzB6",
    "outputId": "394f1bc0-a9d3-47f5-938c-fd90b5631188"
   },
   "source": [
    "import comet_ml\n",
    "\n",
    "comet_ml.init(project_name=\"comet-churn-prediction\")"
   ],
   "execution_count": null,
   "outputs": [
    {
     "output_type": "stream",
     "name": "stderr",
     "text": [
      "COMET INFO: Comet API key is valid\n"
     ]
    }
   ]
  },
  {
   "cell_type": "markdown",
   "metadata": {
    "id": "K5vd4RpuY1JD"
   },
   "source": [
    "# Download The Data using Artifacts"
   ]
  },
  {
   "cell_type": "markdown",
   "metadata": {
    "id": "cA2-gecsoH7P"
   },
   "source": [
    "[Comet Artifacts](https://www.comet.ml/site/artifacts/) help you conveniently track your datasets throughout the experimentation process. Here we're going to fetch the dataset Churn prediction using just two lines of code!\n",
    "\n",
    "You can take a look at the dataset [here](https://www.comet.ml/team-comet-ml/artifacts/telco-churn-dataset/1.0.0)"
   ]
  },
  {
   "cell_type": "code",
   "metadata": {
    "colab": {
     "base_uri": "https://localhost:8080/"
    },
    "id": "T79GP9cWY2r8",
    "outputId": "da6f7b38-96bc-4a78-a5aa-c22bc4faf042"
   },
   "source": [
    "experiment = comet_ml.Experiment()\n",
    "artifact = experiment.get_artifact(\"team-comet-ml/telco-churn-dataset:latest\")"
   ],
   "execution_count": null,
   "outputs": [
    {
     "output_type": "stream",
     "name": "stderr",
     "text": [
      "COMET WARNING: As you are running in a Jupyter environment, you will need to call `experiment.end()` when finished to ensure all metrics and code are logged before exiting.\n",
      "COMET INFO: Couldn't find a Git repository in '/content' and lookings in parents. You can override where Comet is looking for a Git Patch by setting the configuration `COMET_GIT_DIRECTORY`\n",
      "COMET INFO: Experiment is live on comet.ml https://www.comet.ml/team-comet-ml/comet-churn-prediction/23731d13e7ee4a858490ad124a38ef82\n",
      "\n"
     ]
    }
   ]
  },
  {
   "cell_type": "code",
   "metadata": {
    "colab": {
     "base_uri": "https://localhost:8080/"
    },
    "id": "xxGTMsSxtkbI",
    "outputId": "c3f57eba-e21e-4845-fb87-10835fcdf188"
   },
   "source": [
    "artifact.download(\"./\")"
   ],
   "execution_count": null,
   "outputs": [
    {
     "output_type": "stream",
     "name": "stderr",
     "text": [
      "COMET INFO: Artifact 'team-comet-ml/telco-churn-dataset:1.0.0' download has been started asynchronously\n",
      "COMET INFO: Still downloading 1 file(s), remaining 1.69 MB/1.69 MB\n",
      "COMET INFO: Artifact 'team-comet-ml/telco-churn-dataset:1.0.0' has been successfully downloaded\n"
     ]
    },
    {
     "output_type": "execute_result",
     "data": {
      "text/plain": [
       "Artifact(name='telco-churn-dataset', artifact_type='dataset', version=None, aliases=set(), version_tags=set())"
      ]
     },
     "metadata": {},
     "execution_count": 25
    }
   ]
  },
  {
   "cell_type": "markdown",
   "metadata": {
    "id": "3VEeKx2laVn6"
   },
   "source": [
    "# Basic EDA and Dataset Profiling with Sweetviz"
   ]
  },
  {
   "cell_type": "code",
   "metadata": {
    "id": "pAzrJEL5aYMu"
   },
   "source": [
    "!pip install sweetviz --quiet"
   ],
   "execution_count": null,
   "outputs": []
  },
  {
   "cell_type": "code",
   "metadata": {
    "id": "Uc03ALoRaaAR"
   },
   "source": [
    "import pandas as pd\n",
    "import sweetviz\n",
    "\n",
    "df = pd.read_csv(\"./telco-churn-dataset.csv\", index_col=0)"
   ],
   "execution_count": null,
   "outputs": []
  },
  {
   "cell_type": "code",
   "metadata": {
    "colab": {
     "base_uri": "https://localhost:8080/",
     "height": 49,
     "referenced_widgets": [
      "6ef35152dfa94fd28f335622a8d70060",
      "75da1f6c7fdb4247bed5492f19ef02b1",
      "a492186217b74b99ab9a28d548949b51",
      "b79ed0fd8678443b8044defcf4070035",
      "7ba958da9a1f4bd3b286c8457b9a1e15",
      "1604a7da5a32433e8d94cf151e7bc762",
      "5e514536afb44c18a8941b78dca05fb2",
      "1d70e8affa5b40b7a623cb72e0f4e1f2",
      "12cf675cc2a5410bb2771751c76eee65",
      "54e4bd5cfafe447aab4a6486bd96e6e6",
      "3c6f27c83d4d4bc38db343ae05217ec8"
     ]
    },
    "id": "Tl7SFsNypu69",
    "outputId": "11cfe3af-1b14-4653-bc06-09310011a585"
   },
   "source": [
    "report = sweetviz.analyze(df, target_feat=\"Churn Label\")\n",
    "report.log_comet(experiment)"
   ],
   "execution_count": null,
   "outputs": [
    {
     "output_type": "display_data",
     "data": {
      "application/vnd.jupyter.widget-view+json": {
       "model_id": "6ef35152dfa94fd28f335622a8d70060",
       "version_minor": 0,
       "version_major": 2
      },
      "text/plain": [
       "                                             |          | [  0%]   00:00 -> (? left)"
      ]
     },
     "metadata": {}
    }
   ]
  },
  {
   "cell_type": "markdown",
   "metadata": {
    "id": "kgELYjaWbDTW"
   },
   "source": [
    "# Training a Model"
   ]
  },
  {
   "cell_type": "markdown",
   "metadata": {
    "id": "yXLZubQydFEn"
   },
   "source": [
    "We're going to build a very basic baseline model for this problem. Let's start by taking a look at our data. We'll start with just the columns"
   ]
  },
  {
   "cell_type": "code",
   "metadata": {
    "colab": {
     "base_uri": "https://localhost:8080/"
    },
    "id": "TtL4OdtonqW5",
    "outputId": "e7c3fe16-e3c5-4a5f-fad5-a231e1fdef8a"
   },
   "source": [
    "df.columns"
   ],
   "execution_count": null,
   "outputs": [
    {
     "output_type": "execute_result",
     "data": {
      "text/plain": [
       "Index(['CustomerID', 'Count', 'Country', 'State', 'City', 'Zip Code',\n",
       "       'Lat Long', 'Latitude', 'Longitude', 'Gender', 'Senior Citizen',\n",
       "       'Partner', 'Dependents', 'Tenure Months', 'Phone Service',\n",
       "       'Multiple Lines', 'Internet Service', 'Online Security',\n",
       "       'Online Backup', 'Device Protection', 'Tech Support', 'Streaming TV',\n",
       "       'Streaming Movies', 'Contract', 'Paperless Billing', 'Payment Method',\n",
       "       'Monthly Charges', 'Total Charges', 'Churn Label', 'Churn Value',\n",
       "       'Churn Score', 'CLTV', 'Churn Reason'],\n",
       "      dtype='object')"
      ]
     },
     "metadata": {},
     "execution_count": 29
    }
   ]
  },
  {
   "cell_type": "markdown",
   "metadata": {
    "id": "3Iy7xWDhdc8N"
   },
   "source": [
    "Next, lets look at the data types of each column to confirm that they make sense."
   ]
  },
  {
   "cell_type": "code",
   "metadata": {
    "colab": {
     "base_uri": "https://localhost:8080/"
    },
    "id": "1k0O4YvhvceP",
    "outputId": "39727ea7-e4d6-4c22-9ab3-2e3dc3c32671"
   },
   "source": [
    "df.dtypes"
   ],
   "execution_count": null,
   "outputs": [
    {
     "output_type": "execute_result",
     "data": {
      "text/plain": [
       "CustomerID            object\n",
       "Count                  int64\n",
       "Country               object\n",
       "State                 object\n",
       "City                  object\n",
       "Zip Code               int64\n",
       "Lat Long              object\n",
       "Latitude             float64\n",
       "Longitude            float64\n",
       "Gender                object\n",
       "Senior Citizen        object\n",
       "Partner               object\n",
       "Dependents            object\n",
       "Tenure Months          int64\n",
       "Phone Service         object\n",
       "Multiple Lines        object\n",
       "Internet Service      object\n",
       "Online Security       object\n",
       "Online Backup         object\n",
       "Device Protection     object\n",
       "Tech Support          object\n",
       "Streaming TV          object\n",
       "Streaming Movies      object\n",
       "Contract              object\n",
       "Paperless Billing     object\n",
       "Payment Method        object\n",
       "Monthly Charges      float64\n",
       "Total Charges         object\n",
       "Churn Label           object\n",
       "Churn Value            int64\n",
       "Churn Score            int64\n",
       "CLTV                   int64\n",
       "Churn Reason          object\n",
       "dtype: object"
      ]
     },
     "metadata": {},
     "execution_count": 30
    }
   ]
  },
  {
   "cell_type": "markdown",
   "metadata": {
    "id": "5fWfdL8MnDI4"
   },
   "source": [
    "From this quick exploration step, we can determine two preprocessing steps that we're going to have to execute to make this data usable to the model.\n",
    "\n",
    "First, we're going to convert the \"Total Charges\" column to a `float` data type. This column has been labelled as an `object` type, which implies the values have been recorded as strings. There are some entries in this column that are empty string, we're going to drop those rows once we've converted the column to a numeric type.   \n",
    "\n",
    "Next, we're going to drop the columns that might leak information about the target to our model (these are all the columns that start with \"Churn\"). Next, we'll drop high cardinality features such as the CustomerID and Zip Code, features that add no additional information such as the State and Country column, and redundant columns like \"Lat Long\".\n",
    "\n",
    "  "
   ]
  },
  {
   "cell_type": "code",
   "metadata": {
    "id": "3sYA_LPyvfu-"
   },
   "source": [
    "def convert_to_float(x):\n",
    "    try:\n",
    "        return float(x)\n",
    "\n",
    "    except Exception:\n",
    "        return None\n",
    "\n",
    "\n",
    "df[\"Total Charges\"] = df[\"Total Charges\"].apply(lambda x: convert_to_float(x))\n",
    "df.dropna(subset=[\"Total Charges\"], inplace=True)"
   ],
   "execution_count": null,
   "outputs": []
  },
  {
   "cell_type": "code",
   "metadata": {
    "id": "zU9ePgJq7qjA"
   },
   "source": [
    "y = df.pop(\"Churn Value\")\n",
    "X = df.drop(\n",
    "    [\n",
    "        \"CustomerID\",\n",
    "        \"Churn Label\",\n",
    "        \"Churn Reason\",\n",
    "        \"Churn Score\",\n",
    "        \"Lat Long\",\n",
    "        \"State\",\n",
    "        \"Country\",\n",
    "        \"Zip Code\",\n",
    "    ],\n",
    "    axis=1,\n",
    ")"
   ],
   "execution_count": null,
   "outputs": []
  },
  {
   "cell_type": "markdown",
   "metadata": {
    "id": "u9guBz2i_wu3"
   },
   "source": [
    "## Feature Engineering"
   ]
  },
  {
   "cell_type": "markdown",
   "metadata": {
    "id": "W4IcogjbqbEN"
   },
   "source": [
    "Our dataset contains a bunch of categorical variables, so let's one-hot encode them."
   ]
  },
  {
   "cell_type": "code",
   "metadata": {
    "id": "4KAMJBlk_zOw"
   },
   "source": [
    "X_features = pd.get_dummies(X)"
   ],
   "execution_count": null,
   "outputs": []
  },
  {
   "cell_type": "code",
   "metadata": {
    "colab": {
     "base_uri": "https://localhost:8080/",
     "height": 304
    },
    "id": "5hLAXaANp20v",
    "outputId": "79992742-c211-4826-ec2a-db4eb57b07de"
   },
   "source": [
    "X_features.head()"
   ],
   "execution_count": null,
   "outputs": [
    {
     "output_type": "execute_result",
     "data": {
      "text/html": [
       "<div>\n",
       "<style scoped>\n",
       "    .dataframe tbody tr th:only-of-type {\n",
       "        vertical-align: middle;\n",
       "    }\n",
       "\n",
       "    .dataframe tbody tr th {\n",
       "        vertical-align: top;\n",
       "    }\n",
       "\n",
       "    .dataframe thead th {\n",
       "        text-align: right;\n",
       "    }\n",
       "</style>\n",
       "<table border=\"1\" class=\"dataframe\">\n",
       "  <thead>\n",
       "    <tr style=\"text-align: right;\">\n",
       "      <th></th>\n",
       "      <th>Count</th>\n",
       "      <th>Latitude</th>\n",
       "      <th>Longitude</th>\n",
       "      <th>Tenure Months</th>\n",
       "      <th>Monthly Charges</th>\n",
       "      <th>Total Charges</th>\n",
       "      <th>CLTV</th>\n",
       "      <th>City_Acampo</th>\n",
       "      <th>City_Acton</th>\n",
       "      <th>City_Adelanto</th>\n",
       "      <th>City_Adin</th>\n",
       "      <th>City_Agoura Hills</th>\n",
       "      <th>City_Aguanga</th>\n",
       "      <th>City_Ahwahnee</th>\n",
       "      <th>City_Alameda</th>\n",
       "      <th>City_Alamo</th>\n",
       "      <th>City_Albany</th>\n",
       "      <th>City_Albion</th>\n",
       "      <th>City_Alderpoint</th>\n",
       "      <th>City_Alhambra</th>\n",
       "      <th>City_Aliso Viejo</th>\n",
       "      <th>City_Alleghany</th>\n",
       "      <th>City_Alpaugh</th>\n",
       "      <th>City_Alpine</th>\n",
       "      <th>City_Alta</th>\n",
       "      <th>City_Altadena</th>\n",
       "      <th>City_Alturas</th>\n",
       "      <th>City_Alviso</th>\n",
       "      <th>City_Amador City</th>\n",
       "      <th>City_Amboy</th>\n",
       "      <th>City_Anaheim</th>\n",
       "      <th>City_Anderson</th>\n",
       "      <th>City_Angels Camp</th>\n",
       "      <th>City_Angelus Oaks</th>\n",
       "      <th>City_Angwin</th>\n",
       "      <th>City_Annapolis</th>\n",
       "      <th>City_Antelope</th>\n",
       "      <th>City_Antioch</th>\n",
       "      <th>City_Anza</th>\n",
       "      <th>City_Apple Valley</th>\n",
       "      <th>...</th>\n",
       "      <th>Senior Citizen_Yes</th>\n",
       "      <th>Partner_No</th>\n",
       "      <th>Partner_Yes</th>\n",
       "      <th>Dependents_No</th>\n",
       "      <th>Dependents_Yes</th>\n",
       "      <th>Phone Service_No</th>\n",
       "      <th>Phone Service_Yes</th>\n",
       "      <th>Multiple Lines_No</th>\n",
       "      <th>Multiple Lines_No phone service</th>\n",
       "      <th>Multiple Lines_Yes</th>\n",
       "      <th>Internet Service_DSL</th>\n",
       "      <th>Internet Service_Fiber optic</th>\n",
       "      <th>Internet Service_No</th>\n",
       "      <th>Online Security_No</th>\n",
       "      <th>Online Security_No internet service</th>\n",
       "      <th>Online Security_Yes</th>\n",
       "      <th>Online Backup_No</th>\n",
       "      <th>Online Backup_No internet service</th>\n",
       "      <th>Online Backup_Yes</th>\n",
       "      <th>Device Protection_No</th>\n",
       "      <th>Device Protection_No internet service</th>\n",
       "      <th>Device Protection_Yes</th>\n",
       "      <th>Tech Support_No</th>\n",
       "      <th>Tech Support_No internet service</th>\n",
       "      <th>Tech Support_Yes</th>\n",
       "      <th>Streaming TV_No</th>\n",
       "      <th>Streaming TV_No internet service</th>\n",
       "      <th>Streaming TV_Yes</th>\n",
       "      <th>Streaming Movies_No</th>\n",
       "      <th>Streaming Movies_No internet service</th>\n",
       "      <th>Streaming Movies_Yes</th>\n",
       "      <th>Contract_Month-to-month</th>\n",
       "      <th>Contract_One year</th>\n",
       "      <th>Contract_Two year</th>\n",
       "      <th>Paperless Billing_No</th>\n",
       "      <th>Paperless Billing_Yes</th>\n",
       "      <th>Payment Method_Bank transfer (automatic)</th>\n",
       "      <th>Payment Method_Credit card (automatic)</th>\n",
       "      <th>Payment Method_Electronic check</th>\n",
       "      <th>Payment Method_Mailed check</th>\n",
       "    </tr>\n",
       "  </thead>\n",
       "  <tbody>\n",
       "    <tr>\n",
       "      <th>0</th>\n",
       "      <td>1</td>\n",
       "      <td>33.964131</td>\n",
       "      <td>-118.272783</td>\n",
       "      <td>2</td>\n",
       "      <td>53.85</td>\n",
       "      <td>108.15</td>\n",
       "      <td>3239</td>\n",
       "      <td>0</td>\n",
       "      <td>0</td>\n",
       "      <td>0</td>\n",
       "      <td>0</td>\n",
       "      <td>0</td>\n",
       "      <td>0</td>\n",
       "      <td>0</td>\n",
       "      <td>0</td>\n",
       "      <td>0</td>\n",
       "      <td>0</td>\n",
       "      <td>0</td>\n",
       "      <td>0</td>\n",
       "      <td>0</td>\n",
       "      <td>0</td>\n",
       "      <td>0</td>\n",
       "      <td>0</td>\n",
       "      <td>0</td>\n",
       "      <td>0</td>\n",
       "      <td>0</td>\n",
       "      <td>0</td>\n",
       "      <td>0</td>\n",
       "      <td>0</td>\n",
       "      <td>0</td>\n",
       "      <td>0</td>\n",
       "      <td>0</td>\n",
       "      <td>0</td>\n",
       "      <td>0</td>\n",
       "      <td>0</td>\n",
       "      <td>0</td>\n",
       "      <td>0</td>\n",
       "      <td>0</td>\n",
       "      <td>0</td>\n",
       "      <td>0</td>\n",
       "      <td>...</td>\n",
       "      <td>0</td>\n",
       "      <td>1</td>\n",
       "      <td>0</td>\n",
       "      <td>1</td>\n",
       "      <td>0</td>\n",
       "      <td>0</td>\n",
       "      <td>1</td>\n",
       "      <td>1</td>\n",
       "      <td>0</td>\n",
       "      <td>0</td>\n",
       "      <td>1</td>\n",
       "      <td>0</td>\n",
       "      <td>0</td>\n",
       "      <td>0</td>\n",
       "      <td>0</td>\n",
       "      <td>1</td>\n",
       "      <td>0</td>\n",
       "      <td>0</td>\n",
       "      <td>1</td>\n",
       "      <td>1</td>\n",
       "      <td>0</td>\n",
       "      <td>0</td>\n",
       "      <td>1</td>\n",
       "      <td>0</td>\n",
       "      <td>0</td>\n",
       "      <td>1</td>\n",
       "      <td>0</td>\n",
       "      <td>0</td>\n",
       "      <td>1</td>\n",
       "      <td>0</td>\n",
       "      <td>0</td>\n",
       "      <td>1</td>\n",
       "      <td>0</td>\n",
       "      <td>0</td>\n",
       "      <td>0</td>\n",
       "      <td>1</td>\n",
       "      <td>0</td>\n",
       "      <td>0</td>\n",
       "      <td>0</td>\n",
       "      <td>1</td>\n",
       "    </tr>\n",
       "    <tr>\n",
       "      <th>1</th>\n",
       "      <td>1</td>\n",
       "      <td>34.059281</td>\n",
       "      <td>-118.307420</td>\n",
       "      <td>2</td>\n",
       "      <td>70.70</td>\n",
       "      <td>151.65</td>\n",
       "      <td>2701</td>\n",
       "      <td>0</td>\n",
       "      <td>0</td>\n",
       "      <td>0</td>\n",
       "      <td>0</td>\n",
       "      <td>0</td>\n",
       "      <td>0</td>\n",
       "      <td>0</td>\n",
       "      <td>0</td>\n",
       "      <td>0</td>\n",
       "      <td>0</td>\n",
       "      <td>0</td>\n",
       "      <td>0</td>\n",
       "      <td>0</td>\n",
       "      <td>0</td>\n",
       "      <td>0</td>\n",
       "      <td>0</td>\n",
       "      <td>0</td>\n",
       "      <td>0</td>\n",
       "      <td>0</td>\n",
       "      <td>0</td>\n",
       "      <td>0</td>\n",
       "      <td>0</td>\n",
       "      <td>0</td>\n",
       "      <td>0</td>\n",
       "      <td>0</td>\n",
       "      <td>0</td>\n",
       "      <td>0</td>\n",
       "      <td>0</td>\n",
       "      <td>0</td>\n",
       "      <td>0</td>\n",
       "      <td>0</td>\n",
       "      <td>0</td>\n",
       "      <td>0</td>\n",
       "      <td>...</td>\n",
       "      <td>0</td>\n",
       "      <td>1</td>\n",
       "      <td>0</td>\n",
       "      <td>0</td>\n",
       "      <td>1</td>\n",
       "      <td>0</td>\n",
       "      <td>1</td>\n",
       "      <td>1</td>\n",
       "      <td>0</td>\n",
       "      <td>0</td>\n",
       "      <td>0</td>\n",
       "      <td>1</td>\n",
       "      <td>0</td>\n",
       "      <td>1</td>\n",
       "      <td>0</td>\n",
       "      <td>0</td>\n",
       "      <td>1</td>\n",
       "      <td>0</td>\n",
       "      <td>0</td>\n",
       "      <td>1</td>\n",
       "      <td>0</td>\n",
       "      <td>0</td>\n",
       "      <td>1</td>\n",
       "      <td>0</td>\n",
       "      <td>0</td>\n",
       "      <td>1</td>\n",
       "      <td>0</td>\n",
       "      <td>0</td>\n",
       "      <td>1</td>\n",
       "      <td>0</td>\n",
       "      <td>0</td>\n",
       "      <td>1</td>\n",
       "      <td>0</td>\n",
       "      <td>0</td>\n",
       "      <td>0</td>\n",
       "      <td>1</td>\n",
       "      <td>0</td>\n",
       "      <td>0</td>\n",
       "      <td>1</td>\n",
       "      <td>0</td>\n",
       "    </tr>\n",
       "    <tr>\n",
       "      <th>2</th>\n",
       "      <td>1</td>\n",
       "      <td>34.048013</td>\n",
       "      <td>-118.293953</td>\n",
       "      <td>8</td>\n",
       "      <td>99.65</td>\n",
       "      <td>820.50</td>\n",
       "      <td>5372</td>\n",
       "      <td>0</td>\n",
       "      <td>0</td>\n",
       "      <td>0</td>\n",
       "      <td>0</td>\n",
       "      <td>0</td>\n",
       "      <td>0</td>\n",
       "      <td>0</td>\n",
       "      <td>0</td>\n",
       "      <td>0</td>\n",
       "      <td>0</td>\n",
       "      <td>0</td>\n",
       "      <td>0</td>\n",
       "      <td>0</td>\n",
       "      <td>0</td>\n",
       "      <td>0</td>\n",
       "      <td>0</td>\n",
       "      <td>0</td>\n",
       "      <td>0</td>\n",
       "      <td>0</td>\n",
       "      <td>0</td>\n",
       "      <td>0</td>\n",
       "      <td>0</td>\n",
       "      <td>0</td>\n",
       "      <td>0</td>\n",
       "      <td>0</td>\n",
       "      <td>0</td>\n",
       "      <td>0</td>\n",
       "      <td>0</td>\n",
       "      <td>0</td>\n",
       "      <td>0</td>\n",
       "      <td>0</td>\n",
       "      <td>0</td>\n",
       "      <td>0</td>\n",
       "      <td>...</td>\n",
       "      <td>0</td>\n",
       "      <td>1</td>\n",
       "      <td>0</td>\n",
       "      <td>0</td>\n",
       "      <td>1</td>\n",
       "      <td>0</td>\n",
       "      <td>1</td>\n",
       "      <td>0</td>\n",
       "      <td>0</td>\n",
       "      <td>1</td>\n",
       "      <td>0</td>\n",
       "      <td>1</td>\n",
       "      <td>0</td>\n",
       "      <td>1</td>\n",
       "      <td>0</td>\n",
       "      <td>0</td>\n",
       "      <td>1</td>\n",
       "      <td>0</td>\n",
       "      <td>0</td>\n",
       "      <td>0</td>\n",
       "      <td>0</td>\n",
       "      <td>1</td>\n",
       "      <td>1</td>\n",
       "      <td>0</td>\n",
       "      <td>0</td>\n",
       "      <td>0</td>\n",
       "      <td>0</td>\n",
       "      <td>1</td>\n",
       "      <td>0</td>\n",
       "      <td>0</td>\n",
       "      <td>1</td>\n",
       "      <td>1</td>\n",
       "      <td>0</td>\n",
       "      <td>0</td>\n",
       "      <td>0</td>\n",
       "      <td>1</td>\n",
       "      <td>0</td>\n",
       "      <td>0</td>\n",
       "      <td>1</td>\n",
       "      <td>0</td>\n",
       "    </tr>\n",
       "    <tr>\n",
       "      <th>3</th>\n",
       "      <td>1</td>\n",
       "      <td>34.062125</td>\n",
       "      <td>-118.315709</td>\n",
       "      <td>28</td>\n",
       "      <td>104.80</td>\n",
       "      <td>3046.05</td>\n",
       "      <td>5003</td>\n",
       "      <td>0</td>\n",
       "      <td>0</td>\n",
       "      <td>0</td>\n",
       "      <td>0</td>\n",
       "      <td>0</td>\n",
       "      <td>0</td>\n",
       "      <td>0</td>\n",
       "      <td>0</td>\n",
       "      <td>0</td>\n",
       "      <td>0</td>\n",
       "      <td>0</td>\n",
       "      <td>0</td>\n",
       "      <td>0</td>\n",
       "      <td>0</td>\n",
       "      <td>0</td>\n",
       "      <td>0</td>\n",
       "      <td>0</td>\n",
       "      <td>0</td>\n",
       "      <td>0</td>\n",
       "      <td>0</td>\n",
       "      <td>0</td>\n",
       "      <td>0</td>\n",
       "      <td>0</td>\n",
       "      <td>0</td>\n",
       "      <td>0</td>\n",
       "      <td>0</td>\n",
       "      <td>0</td>\n",
       "      <td>0</td>\n",
       "      <td>0</td>\n",
       "      <td>0</td>\n",
       "      <td>0</td>\n",
       "      <td>0</td>\n",
       "      <td>0</td>\n",
       "      <td>...</td>\n",
       "      <td>0</td>\n",
       "      <td>0</td>\n",
       "      <td>1</td>\n",
       "      <td>0</td>\n",
       "      <td>1</td>\n",
       "      <td>0</td>\n",
       "      <td>1</td>\n",
       "      <td>0</td>\n",
       "      <td>0</td>\n",
       "      <td>1</td>\n",
       "      <td>0</td>\n",
       "      <td>1</td>\n",
       "      <td>0</td>\n",
       "      <td>1</td>\n",
       "      <td>0</td>\n",
       "      <td>0</td>\n",
       "      <td>1</td>\n",
       "      <td>0</td>\n",
       "      <td>0</td>\n",
       "      <td>0</td>\n",
       "      <td>0</td>\n",
       "      <td>1</td>\n",
       "      <td>0</td>\n",
       "      <td>0</td>\n",
       "      <td>1</td>\n",
       "      <td>0</td>\n",
       "      <td>0</td>\n",
       "      <td>1</td>\n",
       "      <td>0</td>\n",
       "      <td>0</td>\n",
       "      <td>1</td>\n",
       "      <td>1</td>\n",
       "      <td>0</td>\n",
       "      <td>0</td>\n",
       "      <td>0</td>\n",
       "      <td>1</td>\n",
       "      <td>0</td>\n",
       "      <td>0</td>\n",
       "      <td>1</td>\n",
       "      <td>0</td>\n",
       "    </tr>\n",
       "    <tr>\n",
       "      <th>4</th>\n",
       "      <td>1</td>\n",
       "      <td>34.039224</td>\n",
       "      <td>-118.266293</td>\n",
       "      <td>49</td>\n",
       "      <td>103.70</td>\n",
       "      <td>5036.30</td>\n",
       "      <td>5340</td>\n",
       "      <td>0</td>\n",
       "      <td>0</td>\n",
       "      <td>0</td>\n",
       "      <td>0</td>\n",
       "      <td>0</td>\n",
       "      <td>0</td>\n",
       "      <td>0</td>\n",
       "      <td>0</td>\n",
       "      <td>0</td>\n",
       "      <td>0</td>\n",
       "      <td>0</td>\n",
       "      <td>0</td>\n",
       "      <td>0</td>\n",
       "      <td>0</td>\n",
       "      <td>0</td>\n",
       "      <td>0</td>\n",
       "      <td>0</td>\n",
       "      <td>0</td>\n",
       "      <td>0</td>\n",
       "      <td>0</td>\n",
       "      <td>0</td>\n",
       "      <td>0</td>\n",
       "      <td>0</td>\n",
       "      <td>0</td>\n",
       "      <td>0</td>\n",
       "      <td>0</td>\n",
       "      <td>0</td>\n",
       "      <td>0</td>\n",
       "      <td>0</td>\n",
       "      <td>0</td>\n",
       "      <td>0</td>\n",
       "      <td>0</td>\n",
       "      <td>0</td>\n",
       "      <td>...</td>\n",
       "      <td>0</td>\n",
       "      <td>1</td>\n",
       "      <td>0</td>\n",
       "      <td>0</td>\n",
       "      <td>1</td>\n",
       "      <td>0</td>\n",
       "      <td>1</td>\n",
       "      <td>0</td>\n",
       "      <td>0</td>\n",
       "      <td>1</td>\n",
       "      <td>0</td>\n",
       "      <td>1</td>\n",
       "      <td>0</td>\n",
       "      <td>1</td>\n",
       "      <td>0</td>\n",
       "      <td>0</td>\n",
       "      <td>0</td>\n",
       "      <td>0</td>\n",
       "      <td>1</td>\n",
       "      <td>0</td>\n",
       "      <td>0</td>\n",
       "      <td>1</td>\n",
       "      <td>1</td>\n",
       "      <td>0</td>\n",
       "      <td>0</td>\n",
       "      <td>0</td>\n",
       "      <td>0</td>\n",
       "      <td>1</td>\n",
       "      <td>0</td>\n",
       "      <td>0</td>\n",
       "      <td>1</td>\n",
       "      <td>1</td>\n",
       "      <td>0</td>\n",
       "      <td>0</td>\n",
       "      <td>0</td>\n",
       "      <td>1</td>\n",
       "      <td>1</td>\n",
       "      <td>0</td>\n",
       "      <td>0</td>\n",
       "      <td>0</td>\n",
       "    </tr>\n",
       "  </tbody>\n",
       "</table>\n",
       "<p>5 rows × 1179 columns</p>\n",
       "</div>"
      ],
      "text/plain": [
       "   Count  ...  Payment Method_Mailed check\n",
       "0      1  ...                            1\n",
       "1      1  ...                            0\n",
       "2      1  ...                            0\n",
       "3      1  ...                            0\n",
       "4      1  ...                            0\n",
       "\n",
       "[5 rows x 1179 columns]"
      ]
     },
     "metadata": {},
     "execution_count": 34
    }
   ]
  },
  {
   "cell_type": "markdown",
   "metadata": {
    "id": "O7NZf9av0Jym"
   },
   "source": [
    "## Splitting the Data"
   ]
  },
  {
   "cell_type": "code",
   "metadata": {
    "id": "nIeGPpZQ0JZL"
   },
   "source": [
    "from sklearn.model_selection import train_test_split\n",
    "\n",
    "X_train, X_test, y_train, y_test = train_test_split(\n",
    "    X_features, y, test_size=0.2, random_state=42\n",
    ")"
   ],
   "execution_count": null,
   "outputs": []
  },
  {
   "cell_type": "markdown",
   "metadata": {
    "id": "Ta8oF9Wl0idD"
   },
   "source": [
    "## Fit a Classifier"
   ]
  },
  {
   "cell_type": "code",
   "metadata": {
    "colab": {
     "base_uri": "https://localhost:8080/"
    },
    "id": "WitZoZ1ndOoa",
    "outputId": "fec68dd8-0f77-45b9-ae12-835d2dd844f4"
   },
   "source": [
    "from sklearn.ensemble import RandomForestClassifier\n",
    "\n",
    "clf = RandomForestClassifier()\n",
    "clf.fit(X_train, y_train)"
   ],
   "execution_count": null,
   "outputs": [
    {
     "output_type": "execute_result",
     "data": {
      "text/plain": [
       "RandomForestClassifier(bootstrap=True, ccp_alpha=0.0, class_weight=None,\n",
       "                       criterion='gini', max_depth=None, max_features='auto',\n",
       "                       max_leaf_nodes=None, max_samples=None,\n",
       "                       min_impurity_decrease=0.0, min_impurity_split=None,\n",
       "                       min_samples_leaf=1, min_samples_split=2,\n",
       "                       min_weight_fraction_leaf=0.0, n_estimators=100,\n",
       "                       n_jobs=None, oob_score=False, random_state=None,\n",
       "                       verbose=0, warm_start=False)"
      ]
     },
     "metadata": {},
     "execution_count": 35
    }
   ]
  },
  {
   "cell_type": "markdown",
   "metadata": {
    "id": "9AZZ25TOfDZ7"
   },
   "source": [
    "# Evaluating the Model"
   ]
  },
  {
   "cell_type": "markdown",
   "metadata": {
    "id": "ZhLd1cta79j7"
   },
   "source": [
    "## Logging The Classification Report"
   ]
  },
  {
   "cell_type": "markdown",
   "metadata": {
    "id": "gghO1GQ2a7jW"
   },
   "source": [
    "In this block, we're going to make use of Experiment Context to automatically add the apppropriate prefixes to our metrics."
   ]
  },
  {
   "cell_type": "code",
   "metadata": {
    "colab": {
     "base_uri": "https://localhost:8080/"
    },
    "id": "vM4tZzxy79TG",
    "outputId": "ccc4e564-feee-449f-cd98-d6179126974e"
   },
   "source": [
    "from sklearn.metrics import classification_report\n",
    "\n",
    "\n",
    "def log_classification_report(y_true, y_pred):\n",
    "    report = classification_report(y_true, y_pred, output_dict=True)\n",
    "    for key, value in report.items():\n",
    "        if key == \"accuracy\":\n",
    "            experiment.log_metric(key, value)\n",
    "        else:\n",
    "            experiment.log_metrics(value, prefix=f\"{key}\")\n",
    "\n",
    "\n",
    "with experiment.train():\n",
    "    log_classification_report(y_train, clf.predict(X_train))\n",
    "\n",
    "with experiment.test():\n",
    "    log_classification_report(y_test, clf.predict(X_test))"
   ],
   "execution_count": null,
   "outputs": [
    {
     "output_type": "stream",
     "name": "stdout",
     "text": [
      "{'0': {'precision': 0.9997591522157996, 'recall': 1.0, 'f1-score': 0.9998795616042394, 'support': 4151}, '1': {'precision': 1.0, 'recall': 0.9993215739484396, 'f1-score': 0.999660671869698, 'support': 1474}, 'accuracy': 0.9998222222222222, 'macro avg': {'precision': 0.9998795761078998, 'recall': 0.9996607869742198, 'f1-score': 0.9997701167369687, 'support': 5625}, 'weighted avg': {'precision': 0.999822265039606, 'recall': 0.9998222222222222, 'f1-score': 0.9998222027653569, 'support': 5625}}\n",
      "{'0': {'precision': 0.8246869409660107, 'recall': 0.9110671936758893, 'f1-score': 0.8657276995305164, 'support': 1012}, '1': {'precision': 0.6885813148788927, 'recall': 0.5037974683544304, 'f1-score': 0.5818713450292397, 'support': 395}, 'accuracy': 0.7967306325515281, 'macro avg': {'precision': 0.7566341279224518, 'recall': 0.7074323310151598, 'f1-score': 0.7237995222798781, 'support': 1407}, 'weighted avg': {'precision': 0.786476761645178, 'recall': 0.7967306325515281, 'f1-score': 0.7860381046278835, 'support': 1407}}\n"
     ]
    }
   ]
  },
  {
   "cell_type": "code",
   "metadata": {
    "id": "8VfmrSrYcj6h"
   },
   "source": [],
   "execution_count": null,
   "outputs": []
  },
  {
   "cell_type": "markdown",
   "metadata": {
    "id": "semJFMbTfG0J"
   },
   "source": [
    "## Logging Precision-Recall Curves"
   ]
  },
  {
   "cell_type": "code",
   "metadata": {
    "id": "ZUsq52bG04cA"
   },
   "source": [
    "import numpy as np\n",
    "from sklearn.metrics import precision_recall_curve\n",
    "\n",
    "precision, recall, thresholds = precision_recall_curve(\n",
    "    y_test, clf.predict_proba(X_test)[:, 1]\n",
    ")\n",
    "pr_df = pd.DataFrame([precision, recall, thresholds]).T\n",
    "pr_df.columns = [\"precision\", \"recall\", \"thresholds\"]"
   ],
   "execution_count": null,
   "outputs": []
  },
  {
   "cell_type": "code",
   "metadata": {
    "colab": {
     "base_uri": "https://localhost:8080/"
    },
    "id": "0bOPUuwD3wvc",
    "outputId": "8943e7ff-65d0-4adf-9b1f-dfd40f2d119d"
   },
   "source": [
    "experiment.log_table(\n",
    "    filename=\"precision-recall-data.csv\", tabular_data=pr_df, headers=True\n",
    ")"
   ],
   "execution_count": null,
   "outputs": [
    {
     "output_type": "execute_result",
     "data": {
      "text/plain": [
       "{'api': 'https://www.comet.ml/api/rest/v2/experiment/asset/get-asset?assetId=55b49bb4a07a447499f8e73a0f9b4f68&experimentKey=f598691808cd450788e66c8e19d353a7',\n",
       " 'assetId': '55b49bb4a07a447499f8e73a0f9b4f68',\n",
       " 'web': 'https://www.comet.ml/api/asset/download?assetId=55b49bb4a07a447499f8e73a0f9b4f68&experimentKey=f598691808cd450788e66c8e19d353a7'}"
      ]
     },
     "metadata": {},
     "execution_count": 19
    }
   ]
  },
  {
   "cell_type": "markdown",
   "metadata": {
    "id": "Iz02qLfOfJsI"
   },
   "source": [
    "## Logging Confusion Matrix"
   ]
  },
  {
   "cell_type": "code",
   "metadata": {
    "colab": {
     "base_uri": "https://localhost:8080/"
    },
    "id": "AhlY74C2fLOd",
    "outputId": "0bdf2c1d-aa3e-47a7-8b6a-476cb3425e70"
   },
   "source": [
    "def index_to_example(index):\n",
    "    return X_test.iloc[index, :][[\"CLTV\", \"Monthly Charges\", \"Total Charges\"]].to_json()\n",
    "\n",
    "\n",
    "experiment.log_confusion_matrix(\n",
    "    y_test.tolist(),\n",
    "    clf.predict(X_test).tolist(),\n",
    "    index_to_example_function=index_to_example,\n",
    ")"
   ],
   "execution_count": null,
   "outputs": [
    {
     "output_type": "execute_result",
     "data": {
      "text/plain": [
       "{'api': 'https://www.comet.ml/api/rest/v2/experiment/asset/get-asset?assetId=1aa491a9f9414927915e5f47147fadb2&experimentKey=f598691808cd450788e66c8e19d353a7',\n",
       " 'assetId': '1aa491a9f9414927915e5f47147fadb2',\n",
       " 'web': 'https://www.comet.ml/api/asset/download?assetId=1aa491a9f9414927915e5f47147fadb2&experimentKey=f598691808cd450788e66c8e19d353a7'}"
      ]
     },
     "metadata": {},
     "execution_count": 20
    }
   ]
  },
  {
   "cell_type": "markdown",
   "metadata": {
    "id": "5hDaRRBrGFs0"
   },
   "source": [
    "# Ending an Experiment"
   ]
  },
  {
   "cell_type": "code",
   "metadata": {
    "colab": {
     "base_uri": "https://localhost:8080/"
    },
    "id": "fDkoO27LGFJP",
    "outputId": "e8788d6e-9d13-49f1-eed1-6d71ac03ad67"
   },
   "source": [
    "experiment.end()"
   ],
   "execution_count": null,
   "outputs": [
    {
     "output_type": "stream",
     "name": "stderr",
     "text": [
      "COMET INFO: ---------------------------\n",
      "COMET INFO: Comet.ml Experiment Summary\n",
      "COMET INFO: ---------------------------\n",
      "COMET INFO:   Data:\n",
      "COMET INFO:     display_summary_level : 1\n",
      "COMET INFO:     url                   : https://www.comet.ml/team-comet-ml/comet-churn-prediction/f598691808cd450788e66c8e19d353a7\n",
      "COMET INFO:   Downloads:\n",
      "COMET INFO:     artifact assets : 1 (1.69 MB)\n",
      "COMET INFO:     artifacts       : 1\n",
      "COMET INFO:   Metrics:\n",
      "COMET INFO:     test_0_f1-score              : 0.8686679174484053\n",
      "COMET INFO:     test_0_precision             : 0.8267857142857142\n",
      "COMET INFO:     test_0_recall                : 0.9150197628458498\n",
      "COMET INFO:     test_0_support               : 1012\n",
      "COMET INFO:     test_1_f1-score              : 0.5894428152492669\n",
      "COMET INFO:     test_1_precision             : 0.7003484320557491\n",
      "COMET INFO:     test_1_recall                : 0.5088607594936709\n",
      "COMET INFO:     test_1_support               : 395\n",
      "COMET INFO:     test_accuracy                : 0.8009950248756219\n",
      "COMET INFO:     test_macro avg_f1-score      : 0.7290553663488362\n",
      "COMET INFO:     test_macro avg_precision     : 0.7635670731707317\n",
      "COMET INFO:     test_macro avg_recall        : 0.7119402611697604\n",
      "COMET INFO:     test_macro avg_support       : 1407\n",
      "COMET INFO:     test_weighted avg_f1-score   : 0.7902784964330111\n",
      "COMET INFO:     test_weighted avg_precision  : 0.7912898177108484\n",
      "COMET INFO:     test_weighted avg_recall     : 0.8009950248756219\n",
      "COMET INFO:     test_weighted avg_support    : 1407\n",
      "COMET INFO:     train_0_f1-score             : 1.0\n",
      "COMET INFO:     train_0_precision            : 1.0\n",
      "COMET INFO:     train_0_recall               : 1.0\n",
      "COMET INFO:     train_0_support              : 4151\n",
      "COMET INFO:     train_1_f1-score             : 1.0\n",
      "COMET INFO:     train_1_precision            : 1.0\n",
      "COMET INFO:     train_1_recall               : 1.0\n",
      "COMET INFO:     train_1_support              : 1474\n",
      "COMET INFO:     train_accuracy               : 1.0\n",
      "COMET INFO:     train_macro avg_f1-score     : 1.0\n",
      "COMET INFO:     train_macro avg_precision    : 1.0\n",
      "COMET INFO:     train_macro avg_recall       : 1.0\n",
      "COMET INFO:     train_macro avg_support      : 5625\n",
      "COMET INFO:     train_weighted avg_f1-score  : 1.0\n",
      "COMET INFO:     train_weighted avg_precision : 1.0\n",
      "COMET INFO:     train_weighted avg_recall    : 1.0\n",
      "COMET INFO:     train_weighted avg_support   : 5625\n",
      "COMET INFO:   Parameters:\n",
      "COMET INFO:     bootstrap                : True\n",
      "COMET INFO:     ccp_alpha                : 0.0\n",
      "COMET INFO:     class_weight             : 1\n",
      "COMET INFO:     criterion                : gini\n",
      "COMET INFO:     max_depth                : 1\n",
      "COMET INFO:     max_features             : auto\n",
      "COMET INFO:     max_leaf_nodes           : 1\n",
      "COMET INFO:     max_samples              : 1\n",
      "COMET INFO:     min_impurity_decrease    : 0.0\n",
      "COMET INFO:     min_impurity_split       : 1\n",
      "COMET INFO:     min_samples_leaf         : 1\n",
      "COMET INFO:     min_samples_split        : 2\n",
      "COMET INFO:     min_weight_fraction_leaf : 0.0\n",
      "COMET INFO:     n_estimators             : 100\n",
      "COMET INFO:     n_jobs                   : 1\n",
      "COMET INFO:     oob_score                : False\n",
      "COMET INFO:     random_state             : 1\n",
      "COMET INFO:     verbose                  : 0\n",
      "COMET INFO:     warm_start               : False\n",
      "COMET INFO:   Uploads:\n",
      "COMET INFO:     confusion-matrix    : 1\n",
      "COMET INFO:     dataframe           : 1 (4.18 KB)\n",
      "COMET INFO:     environment details : 1\n",
      "COMET INFO:     filename            : 1\n",
      "COMET INFO:     html                : 1\n",
      "COMET INFO:     installed packages  : 1\n",
      "COMET INFO:     notebook            : 1\n",
      "COMET INFO:     os packages         : 1\n",
      "COMET INFO:     source_code         : 1\n",
      "COMET INFO: ---------------------------\n",
      "COMET INFO: Uploading metrics, params, and assets to Comet before program termination (may take several seconds)\n",
      "COMET INFO: The Python SDK has 3600 seconds to finish before aborting...\n"
     ]
    }
   ]
  },
  {
   "cell_type": "code",
   "metadata": {
    "id": "QKuRKijJ7ivO"
   },
   "source": [],
   "execution_count": null,
   "outputs": []
  }
 ]
}