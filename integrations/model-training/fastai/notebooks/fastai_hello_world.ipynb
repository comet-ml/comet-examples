{
 "cells": [
  {
   "cell_type": "markdown",
   "metadata": {
    "id": "8LE43szDmKdp"
   },
   "source": [
    "<img src=\"https://cdn.comet.ml/img/notebook_logo.png\">"
   ]
  },
  {
   "cell_type": "markdown",
   "metadata": {},
   "source": [
    "[Comet](https://www.comet.com/site/products/ml-experiment-tracking/?utm_source=comet-examples&utm_medium=referral&utm_campaign=github_repo_2023&utm_content=fastai) is an MLOps Platform that is designed to help Data Scientists and Teams build better models faster! Comet provides tooling to track, Explain, Manage, and Monitor your models in a single place! It works with Jupyter Notebooks and Scripts and most importantly it's 100% free to get started!\n",
    "\n",
    "[fastai](https://github.com/fastai/fastai) is a deep learning library which provides practitioners with high-level components that can quickly and easily provide state-of-the-art results in standard deep learning domains, and provides researchers with low-level components that can be mixed and matched to build new approaches.\n",
    "\n",
    "[Find more information about our integration with FastAI](https://www.comet.ml/docs/v2/integrations/ml-frameworks/fastai/?utm_source=comet-examples&utm_medium=referral&utm_campaign=github_repo_2023&utm_content=fastai)\n",
    "\n",
    "Curious about how Comet can help you build better models, faster? Find out more about [Comet](https://www.comet.com/site/products/ml-experiment-tracking/?utm_source=comet-examples&utm_medium=referral&utm_campaign=github_repo_2023&utm_content=fastai) and our [other integrations](https://www.comet.com/docs/v2/integrations/overview/?utm_source=comet-examples&utm_medium=referral&utm_campaign=github_repo_2023&utm_content=fastai)\n",
    "\n",
    "Get a preview for what's to come. Check out a completed experiment created from this notebook [here](https://www.comet.com/examples/comet-examples-fastai-hello-world-notebook/95862aa394984c748750ac491e02b83a?utm_source=comet-examples&utm_medium=referral&utm_campaign=github_repo_2023&utm_content=fastai)."
   ]
  },
  {
   "cell_type": "markdown",
   "metadata": {},
   "source": [
    "# 0. Installation"
   ]
  },
  {
   "cell_type": "code",
   "execution_count": null,
   "metadata": {
    "colab": {
     "base_uri": "https://localhost:8080/"
    },
    "id": "xiNzBttOmKdr",
    "outputId": "7929b2f0-5961-4f11-92cd-35fc6f8a5acd"
   },
   "outputs": [],
   "source": [
    "%pip install -U fastai comet_ml"
   ]
  },
  {
   "cell_type": "markdown",
   "metadata": {
    "id": "CMD8itjWmKdt"
   },
   "source": [
    "## 1. Imports\n",
    "\n",
    "First, we import the comet_ml library, followed by the fastai library, and others if needed. The only requirement here is that **comet_ml be imported first**. If you forget, just restart the kernel, and import them in the proper order."
   ]
  },
  {
   "cell_type": "code",
   "execution_count": null,
   "metadata": {
    "id": "62Tk_v45mKdu"
   },
   "outputs": [],
   "source": [
    "## Import this first:\n",
    "import comet_ml\n",
    "\n",
    "from fastai.vision.all import *"
   ]
  },
  {
   "cell_type": "code",
   "execution_count": null,
   "metadata": {
    "id": "vnNnawcJmKdv"
   },
   "outputs": [],
   "source": [
    "EPOCHS = 5"
   ]
  },
  {
   "cell_type": "markdown",
   "metadata": {
    "id": "rBpIQV3hmKdv"
   },
   "source": [
    "# 2. Comet Experiment"
   ]
  },
  {
   "cell_type": "code",
   "execution_count": null,
   "metadata": {
    "colab": {
     "base_uri": "https://localhost:8080/"
    },
    "id": "ucE282OimKdw",
    "outputId": "be595e74-99b0-4068-e043-259e5aef96a8"
   },
   "outputs": [],
   "source": [
    "# Create Comet Experiment\n",
    "comet_ml.init(project_name=\"comet-examples-fastai-hello-world-notebook\")\n",
    "experiment = comet_ml.Experiment()"
   ]
  },
  {
   "cell_type": "markdown",
   "metadata": {
    "id": "9dDHu5wkmKdw"
   },
   "source": [
    "# 3. Dataset"
   ]
  },
  {
   "cell_type": "markdown",
   "metadata": {
    "id": "ZII9-P-NmKdx"
   },
   "source": [
    "As a simple demo, we'll start with the the MNIST_TINY dataset, In fastai, we use the `datasets.untar_data` function to download and uncompress the data:"
   ]
  },
  {
   "cell_type": "code",
   "execution_count": null,
   "metadata": {
    "colab": {
     "base_uri": "https://localhost:8080/",
     "height": 38
    },
    "id": "sUpCpfH7mKdx",
    "outputId": "cabd445c-4102-4872-c16e-c9af435a83db"
   },
   "outputs": [],
   "source": [
    "path = untar_data(URLs.MNIST_TINY)"
   ]
  },
  {
   "cell_type": "markdown",
   "metadata": {
    "id": "Giiv4pnymKdy"
   },
   "source": [
    "The path returned by the untar_data function shows where the data was saved."
   ]
  },
  {
   "cell_type": "code",
   "execution_count": null,
   "metadata": {
    "colab": {
     "base_uri": "https://localhost:8080/"
    },
    "id": "h9Qa5t3fmKdz",
    "outputId": "a9d364d4-ad84-4f25-82c3-ec585d884ea6"
   },
   "outputs": [],
   "source": [
    "items = get_image_files(path)\n",
    "tds = Datasets(\n",
    "    items,\n",
    "    [PILImageBW.create, [parent_label, Categorize()]],\n",
    "    splits=GrandparentSplitter()(items),\n",
    ")\n",
    "dls = tds.dataloaders(after_item=[ToTensor(), IntToFloatTensor()])"
   ]
  },
  {
   "cell_type": "markdown",
   "metadata": {
    "id": "8eEbaCh6mKd0"
   },
   "source": [
    "# 4. Model\n",
    "\n",
    "In this example, we will use the pre-designed Resnet18 from fastai."
   ]
  },
  {
   "cell_type": "code",
   "execution_count": null,
   "metadata": {
    "colab": {
     "base_uri": "https://localhost:8080/"
    },
    "id": "R8JJhlrumKd0",
    "outputId": "f7b63acc-c55c-4367-8dd7-3d934739215c"
   },
   "outputs": [],
   "source": [
    "learn = vision_learner(dls, resnet18, pretrained=True, metrics=error_rate)"
   ]
  },
  {
   "cell_type": "markdown",
   "metadata": {
    "id": "q-LxaKnwmKd2"
   },
   "source": [
    "## 5. Training\n",
    "\n",
    "In fastai, we can train differently depending on if we are running CPU or a GPU. To test, we can use the `data.device.type` property. This will create a fastai `Learner`:"
   ]
  },
  {
   "cell_type": "markdown",
   "metadata": {
    "id": "GyIBFMOZmKd3"
   },
   "source": [
    "Now we are ready to train the model. To tell Comet about the details, we put the call to `fit` or `fit_one_cylce`:"
   ]
  },
  {
   "cell_type": "code",
   "execution_count": null,
   "metadata": {
    "colab": {
     "base_uri": "https://localhost:8080/",
     "height": 206
    },
    "id": "uNzBOFIUmKd3",
    "outputId": "174f0f33-1dcc-42e4-e610-d449545d8080"
   },
   "outputs": [],
   "source": [
    "learn.fit_one_cycle(EPOCHS)"
   ]
  },
  {
   "cell_type": "markdown",
   "metadata": {
    "id": "hKIrsCOGmKd3"
   },
   "source": [
    "# 6. Finish"
   ]
  },
  {
   "cell_type": "markdown",
   "metadata": {
    "id": "do2WvU2AmKd3"
   },
   "source": [
    "Finall, we are ready to tell Comet that our experiment is complete. You don't need to do this is a script that ends. But in Jupyter, we need to indicate that the experiment is finished. We do that with the `experiment.end()` method:"
   ]
  },
  {
   "cell_type": "code",
   "execution_count": null,
   "metadata": {
    "colab": {
     "base_uri": "https://localhost:8080/"
    },
    "id": "HDteaKMtmKd3",
    "outputId": "3b9c0829-97d0-4521-ca34-b99fedd90866"
   },
   "outputs": [],
   "source": [
    "experiment.end()"
   ]
  },
  {
   "cell_type": "markdown",
   "metadata": {
    "id": "hx2bmd3dmKd4"
   },
   "source": [
    "That's it! If you have any questions, please visit us on https://cometml.slack.com"
   ]
  }
 ],
 "metadata": {
  "colab": {
   "provenance": []
  },
  "kernelspec": {
   "display_name": "Python 3 (ipykernel)",
   "language": "python",
   "name": "python3"
  },
  "language_info": {
   "codemirror_mode": {
    "name": "ipython",
    "version": 3
   },
   "file_extension": ".py",
   "mimetype": "text/x-python",
   "name": "python",
   "nbconvert_exporter": "python",
   "pygments_lexer": "ipython3",
   "version": "3.10.12"
  }
 },
 "nbformat": 4,
 "nbformat_minor": 4
}
