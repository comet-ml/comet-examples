{
 "cells": [
  {
   "cell_type": "markdown",
   "metadata": {},
   "source": [
    "<img src=\"https://cdn.comet.ml/img/notebook_logo.png\">"
   ]
  },
  {
   "cell_type": "markdown",
   "metadata": {
    "id": "9qQGrSuyJhX-"
   },
   "source": [
    "# Install Comet"
   ]
  },
  {
   "cell_type": "code",
   "execution_count": null,
   "metadata": {
    "colab": {
     "base_uri": "https://localhost:8080/"
    },
    "id": "QpUBVulxIAhq",
    "outputId": "6460a197-1b93-48f9-e05d-9b5bd7a99364"
   },
   "outputs": [],
   "source": [
    "%pip install --upgrade \"comet_ml>=3.44.0\""
   ]
  },
  {
   "cell_type": "code",
   "execution_count": 1,
   "metadata": {
    "colab": {
     "base_uri": "https://localhost:8080/"
    },
    "id": "tp8YgcjIIGlY",
    "outputId": "6e985b5a-6086-4581-f2e5-f9802beec245"
   },
   "outputs": [
    {
     "name": "stderr",
     "output_type": "stream",
     "text": [
      "COMET INFO: Comet API key is valid\n"
     ]
    }
   ],
   "source": [
    "import comet_ml\n",
    "\n",
    "comet_ml.login(project_name=\"remote-artifacts\")"
   ]
  },
  {
   "cell_type": "markdown",
   "metadata": {
    "id": "rfUgc7WmIO3r"
   },
   "source": [
    "# Fetch the Metadata File for the Dataset"
   ]
  },
  {
   "cell_type": "markdown",
   "metadata": {
    "id": "SNsMhUaNIVR0"
   },
   "source": [
    "For this guide, we're going to use the [DOTA](https://captain-whu.github.io/DOTA/dataset.html) dataset. DOTA is a collection of aerial images that have been collected from different sensors and platforms. \n",
    "\n",
    "The dataset has been uploaded to an S3 bucket. First let's download the metadata for this dataset from our S3 bucket."
   ]
  },
  {
   "cell_type": "code",
   "execution_count": 2,
   "metadata": {
    "colab": {
     "base_uri": "https://localhost:8080/"
    },
    "id": "gYI87e7sIK1m",
    "outputId": "d6d2d729-fdb7-4090-b2f8-41ebb6d458af"
   },
   "outputs": [
    {
     "name": "stdout",
     "output_type": "stream",
     "text": [
      "--2023-01-10 23:10:20--  https://cdn.comet.ml/dota_split/DOTA_1.0.json\n",
      "Resolving cdn.comet.ml (cdn.comet.ml)... 65.9.112.9, 65.9.112.7, 65.9.112.41, ...\n",
      "Connecting to cdn.comet.ml (cdn.comet.ml)|65.9.112.9|:443... connected.\n",
      "HTTP request sent, awaiting response... 200 OK\n",
      "Length: 13289256 (13M) [application/json]\n",
      "Saving to: ‘DOTA_1.0.json’\n",
      "\n",
      "DOTA_1.0.json       100%[===================>]  12,67M  2,28MB/s    in 5,8s    \n",
      "\n",
      "2023-01-10 23:10:27 (2,20 MB/s) - ‘DOTA_1.0.json’ saved [13289256/13289256]\n",
      "\n"
     ]
    }
   ],
   "source": [
    "!wget https://cdn.comet.ml/dota_split/DOTA_1.0.json"
   ]
  },
  {
   "cell_type": "markdown",
   "metadata": {
    "id": "j8RHYthbImoT"
   },
   "source": [
    "# Create an Artifact to Track the Data"
   ]
  },
  {
   "cell_type": "markdown",
   "metadata": {
    "id": "1swYuM9SK3Xq"
   },
   "source": [
    "First, lets define the class names present in this dataset"
   ]
  },
  {
   "cell_type": "code",
   "execution_count": 3,
   "metadata": {
    "id": "aSL9gkf8J2Av"
   },
   "outputs": [],
   "source": [
    "LABEL_CLASS_NAMES = [\n",
    "    \"plane\",\n",
    "    \"baseball-diamond\",\n",
    "    \"bridge\",\n",
    "    \"ground-track-field\",\n",
    "    \"small-vehicle\",\n",
    "    \"large-vehicle\",\n",
    "    \"ship\",\n",
    "    \"tennis-court\",\n",
    "    \"basketball-court\",\n",
    "    \"storage-tank\",\n",
    "    \"soccer-ball-field\",\n",
    "    \"roundabout\",\n",
    "    \"harbor\",\n",
    "    \"swimming-pool\",\n",
    "    \"helicopter\",\n",
    "]"
   ]
  },
  {
   "cell_type": "markdown",
   "metadata": {
    "id": "89qptO7MLQ2m"
   },
   "source": [
    "Next, we're going to load in the metadata file that we've downloaded from our S3 bucket and format it in a way that allows us to track the URLs for the individual image assets in a Remote Artifact. We will also track the annotations as asset metadata.  "
   ]
  },
  {
   "cell_type": "code",
   "execution_count": 4,
   "metadata": {
    "id": "fN2n0HM9It3e"
   },
   "outputs": [],
   "source": [
    "import json\n",
    "\n",
    "base_url = \"https://cdn.comet.ml/dota_split\"\n",
    "metadata_file = \"./DOTA_1.0.json\"\n",
    "\n",
    "with open(metadata_file, \"r\") as f:\n",
    "    dota_metadata = json.load(f)"
   ]
  },
  {
   "cell_type": "code",
   "execution_count": 5,
   "metadata": {
    "id": "LFbsbxtzJKi8"
   },
   "outputs": [],
   "source": [
    "annotation_map = {}\n",
    "for annotation in dota_metadata[\"annotations\"]:\n",
    "    img_id = annotation[\"image_id\"]\n",
    "\n",
    "    annotation_map.setdefault(img_id, [])\n",
    "    annotation_map[img_id].append(annotation)"
   ]
  },
  {
   "cell_type": "code",
   "execution_count": 6,
   "metadata": {
    "id": "qyg5iON7JOPn"
   },
   "outputs": [],
   "source": [
    "artifact = comet_ml.Artifact(\n",
    "    name=\"DOTA\", artifact_type=\"dataset\", metadata={\"class_names\": LABEL_CLASS_NAMES}\n",
    ")\n",
    "\n",
    "for image in dota_metadata[\"images\"]:\n",
    "    try:\n",
    "        annotations = annotation_map[image[\"id\"]]\n",
    "        artifact.add_remote(\n",
    "            f\"{base_url}/images/{image['file_name']}\",\n",
    "            metadata={\"annotations\": annotations},\n",
    "        )\n",
    "    except Exception as e:\n",
    "        continue"
   ]
  },
  {
   "cell_type": "markdown",
   "metadata": {
    "id": "rUelwMk9No35"
   },
   "source": [
    "# Log the Artifact "
   ]
  },
  {
   "cell_type": "code",
   "execution_count": 7,
   "metadata": {
    "colab": {
     "base_uri": "https://localhost:8080/"
    },
    "id": "EJjHxZ4hNnYx",
    "outputId": "21cc75fb-452b-4ec5-d8a2-f86d33a4fc0b"
   },
   "outputs": [
    {
     "name": "stderr",
     "output_type": "stream",
     "text": [
      "COMET WARNING: As you are running in a Jupyter environment, you will need to call `experiment.end()` when finished to ensure all metrics and code are logged before exiting.\n",
      "COMET INFO: Experiment is live on comet.com https://www.comet.com/lothiraldan/remote-artifacts/6293676561fc4b07a83a496aa0c3a31e\n",
      "\n",
      "COMET INFO: Artifact 'DOTA' version 1.0.0 created\n",
      "COMET INFO: Scheduling the upload of 3628 assets for a size of 224.13 KB, this can take some time\n",
      "COMET INFO: Still scheduling the upload of 1475 assets, remaining size 91.06 KB\n",
      "COMET INFO: Artifact 'lothiraldan/DOTA:1.0.0' has started uploading asynchronously\n",
      "COMET INFO: ---------------------------\n",
      "COMET INFO: Comet.ml Experiment Summary\n",
      "COMET INFO: ---------------------------\n",
      "COMET INFO:   Data:\n",
      "COMET INFO:     display_summary_level : 1\n",
      "COMET INFO:     url                   : https://www.comet.com/lothiraldan/remote-artifacts/6293676561fc4b07a83a496aa0c3a31e\n",
      "COMET INFO:   Uploads:\n",
      "COMET INFO:     artifact assets     : 3628 (224.13 KB)\n",
      "COMET INFO:     artifacts           : 1\n",
      "COMET INFO:     environment details : 1\n",
      "COMET INFO:     filename            : 1\n",
      "COMET INFO:     git metadata        : 1\n",
      "COMET INFO:     installed packages  : 1\n",
      "COMET INFO:     notebook            : 1\n",
      "COMET INFO:     source_code         : 1\n",
      "COMET INFO: ---------------------------\n",
      "COMET INFO: Uploading metrics, params, and assets to Comet before program termination (may take several seconds)\n",
      "COMET INFO: The Python SDK has 3600 seconds to finish before aborting...\n",
      "COMET INFO: Waiting for completion of the file uploads (may take several seconds)\n",
      "COMET INFO: The Python SDK has 10800 seconds to finish before aborting...\n",
      "COMET INFO: Still uploading 3060 file(s), remaining 198.66 KB/1.90 MB\n",
      "COMET INFO: Still uploading 1371 file(s), remaining 102.85 KB/7.59 MB, Throughput 6.12 KB/s, ETA ~17s\n",
      "COMET INFO: Artifact 'lothiraldan/DOTA:1.0.0' has been fully uploaded successfully\n"
     ]
    }
   ],
   "source": [
    "experiment = comet_ml.Experiment()\n",
    "experiment.log_artifact(artifact)\n",
    "experiment.end()"
   ]
  },
  {
   "cell_type": "code",
   "execution_count": null,
   "metadata": {
    "id": "N8knJIs4U3F1"
   },
   "outputs": [],
   "source": []
  }
 ],
 "metadata": {
  "colab": {
   "collapsed_sections": [],
   "name": "A Guide to Remote Artifacts.ipynb",
   "provenance": []
  },
  "kernelspec": {
   "display_name": "Python 3 (ipykernel)",
   "language": "python",
   "name": "python3"
  },
  "language_info": {
   "codemirror_mode": {
    "name": "ipython",
    "version": 3
   },
   "file_extension": ".py",
   "mimetype": "text/x-python",
   "name": "python",
   "nbconvert_exporter": "python",
   "pygments_lexer": "ipython3",
   "version": "3.9.1"
  }
 },
 "nbformat": 4,
 "nbformat_minor": 1
}
