{
 "cells": [
  {
   "cell_type": "markdown",
   "metadata": {
    "id": "Kmp4jCv5pz7l"
   },
   "source": [
    "// TODO Replace me with another picture?"
   ]
  },
  {
   "cell_type": "markdown",
   "metadata": {
    "id": "4Iu6rXYppE--"
   },
   "source": [
    "[Metaflow](https://metaflow.org/) is a human-friendly Python/R library that helps scientists and engineers build and manage real-life data science projects. Metaflow was originally developed at Netflix to boost productivity of data scientists who work on a wide variety of projects from classical statistics to state-of-the-art deep learning.\n",
    "\n",
    "[Comet](https://www.comet.ml/site/data-scientists/?utm_campaign=XXX&utm_medium=colab) is an MLOps Platform that is designed to help Data Scientists and Teams build better models faster! Comet provides tooling to track, Explain, Manage, and Monitor your models in a single place! It works with Jupyter Notebooks and Scripts and most importantly it's 100% free!\n",
    "\n",
    "To learn more about this integration, please visit \n",
    "the [Comet Documentation](https://www.comet.ml/docs/v2/integrations/ml-frameworks/metaflow/)\n",
    "\n",
    "[Find more information about our other integrations](https://www.comet.ml/docs/v2/integrations/overview/)"
   ]
  },
  {
   "cell_type": "markdown",
   "metadata": {
    "id": "LWzSnLflYyX0"
   },
   "source": [
    "# Install Dependencies"
   ]
  },
  {
   "cell_type": "code",
   "execution_count": 1,
   "metadata": {
    "id": "PeUPcsJ2Y0It"
   },
   "outputs": [
    {
     "name": "stdout",
     "output_type": "stream",
     "text": [
      "Collecting comet_ml\n",
      "  Using cached comet_ml-3.31.5-py2.py3-none-any.whl (361 kB)\n",
      "Collecting metaflow\n",
      "  Using cached metaflow-2.7.1-py2.py3-none-any.whl (797 kB)\n",
      "Collecting requests-toolbelt>=0.8.0\n",
      "  Using cached requests_toolbelt-0.9.1-py2.py3-none-any.whl (54 kB)\n",
      "Collecting requests>=2.18.4\n",
      "  Using cached requests-2.28.0-py3-none-any.whl (62 kB)\n",
      "Collecting wurlitzer>=1.0.2\n",
      "  Using cached wurlitzer-3.0.2-py3-none-any.whl (7.3 kB)\n",
      "Collecting wrapt>=1.11.2\n",
      "  Using cached wrapt-1.14.1-cp37-cp37m-manylinux_2_5_x86_64.manylinux1_x86_64.manylinux_2_17_x86_64.manylinux2014_x86_64.whl (75 kB)\n",
      "Requirement already satisfied: jsonschema!=3.1.0,>=2.6.0 in /home/lothiraldan/.virtualenvs/tempenv-32e8101193986/lib/python3.7/site-packages (from comet_ml) (4.6.0)\n",
      "Collecting nvidia-ml-py3>=7.352.0\n",
      "  Using cached nvidia_ml_py3-7.352.0-py3-none-any.whl\n",
      "Collecting dulwich!=0.20.33,>=0.20.6\n",
      "  Using cached dulwich-0.20.43-cp37-cp37m-manylinux_2_5_x86_64.manylinux1_x86_64.manylinux_2_12_x86_64.manylinux2010_x86_64.whl (552 kB)\n",
      "Collecting everett[ini]>=1.0.1\n",
      "  Using cached everett-3.0.0-py2.py3-none-any.whl (35 kB)\n",
      "Collecting semantic-version>=2.8.0\n",
      "  Using cached semantic_version-2.10.0-py2.py3-none-any.whl (15 kB)\n",
      "Requirement already satisfied: six in /home/lothiraldan/.virtualenvs/tempenv-32e8101193986/lib/python3.7/site-packages (from comet_ml) (1.16.0)\n",
      "Collecting websocket-client>=0.55.0\n",
      "  Using cached websocket_client-1.3.3-py3-none-any.whl (54 kB)\n",
      "Collecting sentry-sdk>=1.1.0\n",
      "  Using cached sentry_sdk-1.6.0-py2.py3-none-any.whl (145 kB)\n",
      "Collecting boto3\n",
      "  Using cached boto3-1.24.18-py3-none-any.whl (132 kB)\n",
      "Collecting pylint\n",
      "  Using cached pylint-2.14.3-py3-none-any.whl (488 kB)\n",
      "Collecting urllib3>=1.24.1\n",
      "  Using cached urllib3-1.26.9-py2.py3-none-any.whl (138 kB)\n",
      "Collecting certifi\n",
      "  Using cached certifi-2022.6.15-py3-none-any.whl (160 kB)\n",
      "Collecting configobj\n",
      "  Using cached configobj-5.0.6-py3-none-any.whl\n",
      "Requirement already satisfied: importlib-metadata in /home/lothiraldan/.virtualenvs/tempenv-32e8101193986/lib/python3.7/site-packages (from jsonschema!=3.1.0,>=2.6.0->comet_ml) (4.12.0)\n",
      "Requirement already satisfied: importlib-resources>=1.4.0 in /home/lothiraldan/.virtualenvs/tempenv-32e8101193986/lib/python3.7/site-packages (from jsonschema!=3.1.0,>=2.6.0->comet_ml) (5.8.0)\n",
      "Requirement already satisfied: pyrsistent!=0.17.0,!=0.17.1,!=0.17.2,>=0.14.0 in /home/lothiraldan/.virtualenvs/tempenv-32e8101193986/lib/python3.7/site-packages (from jsonschema!=3.1.0,>=2.6.0->comet_ml) (0.18.1)\n",
      "Requirement already satisfied: typing-extensions in /home/lothiraldan/.virtualenvs/tempenv-32e8101193986/lib/python3.7/site-packages (from jsonschema!=3.1.0,>=2.6.0->comet_ml) (4.2.0)\n",
      "Requirement already satisfied: attrs>=17.4.0 in /home/lothiraldan/.virtualenvs/tempenv-32e8101193986/lib/python3.7/site-packages (from jsonschema!=3.1.0,>=2.6.0->comet_ml) (21.4.0)\n",
      "Collecting charset-normalizer~=2.0.0\n",
      "  Using cached charset_normalizer-2.0.12-py3-none-any.whl (39 kB)\n",
      "Collecting idna<4,>=2.5\n",
      "  Using cached idna-3.3-py3-none-any.whl (61 kB)\n",
      "Collecting s3transfer<0.7.0,>=0.6.0\n",
      "  Using cached s3transfer-0.6.0-py3-none-any.whl (79 kB)\n",
      "Collecting jmespath<2.0.0,>=0.7.1\n",
      "  Using cached jmespath-1.0.1-py3-none-any.whl (20 kB)\n",
      "Collecting botocore<1.28.0,>=1.27.18\n",
      "  Using cached botocore-1.27.18-py3-none-any.whl (8.9 MB)\n",
      "Collecting mccabe<0.8,>=0.6\n",
      "  Using cached mccabe-0.7.0-py2.py3-none-any.whl (7.3 kB)\n",
      "Collecting tomlkit>=0.10.1\n",
      "  Using cached tomlkit-0.11.0-py3-none-any.whl (34 kB)\n",
      "Collecting dill>=0.2\n",
      "  Using cached dill-0.3.5.1-py2.py3-none-any.whl (95 kB)\n",
      "Collecting astroid<=2.12.0-dev0,>=2.11.6\n",
      "  Using cached astroid-2.11.6-py3-none-any.whl (251 kB)\n",
      "Collecting tomli>=1.1.0\n",
      "  Using cached tomli-2.0.1-py3-none-any.whl (12 kB)\n",
      "Collecting isort<6,>=4.2.5\n",
      "  Using cached isort-5.10.1-py3-none-any.whl (103 kB)\n",
      "Collecting platformdirs>=2.2.0\n",
      "  Using cached platformdirs-2.5.2-py3-none-any.whl (14 kB)\n",
      "Collecting lazy-object-proxy>=1.4.0\n",
      "  Using cached lazy_object_proxy-1.7.1-cp37-cp37m-manylinux_2_5_x86_64.manylinux1_x86_64.manylinux_2_17_x86_64.manylinux2014_x86_64.whl (57 kB)\n",
      "Requirement already satisfied: setuptools>=20.0 in /home/lothiraldan/.virtualenvs/tempenv-32e8101193986/lib/python3.7/site-packages (from astroid<=2.12.0-dev0,>=2.11.6->pylint->metaflow) (62.2.0)\n",
      "Collecting typed-ast<2.0,>=1.4.0\n",
      "  Using cached typed_ast-1.5.4-cp37-cp37m-manylinux_2_5_x86_64.manylinux1_x86_64.manylinux_2_12_x86_64.manylinux2010_x86_64.whl (843 kB)\n",
      "Requirement already satisfied: python-dateutil<3.0.0,>=2.1 in /home/lothiraldan/.virtualenvs/tempenv-32e8101193986/lib/python3.7/site-packages (from botocore<1.28.0,>=1.27.18->boto3->metaflow) (2.8.2)\n",
      "Requirement already satisfied: zipp>=3.1.0 in /home/lothiraldan/.virtualenvs/tempenv-32e8101193986/lib/python3.7/site-packages (from importlib-resources>=1.4.0->jsonschema!=3.1.0,>=2.6.0->comet_ml) (3.8.0)\n",
      "Installing collected packages: nvidia-ml-py3, everett, wurlitzer, wrapt, websocket-client, urllib3, typed-ast, tomlkit, tomli, semantic-version, platformdirs, mccabe, lazy-object-proxy, jmespath, isort, idna, dill, configobj, charset-normalizer, certifi, sentry-sdk, requests, dulwich, botocore, astroid, s3transfer, requests-toolbelt, pylint, comet_ml, boto3, metaflow\n",
      "Successfully installed astroid-2.11.6 boto3-1.24.18 botocore-1.27.18 certifi-2022.6.15 charset-normalizer-2.0.12 comet_ml-3.31.5 configobj-5.0.6 dill-0.3.5.1 dulwich-0.20.43 everett-3.0.0 idna-3.3 isort-5.10.1 jmespath-1.0.1 lazy-object-proxy-1.7.1 mccabe-0.7.0 metaflow-2.7.1 nvidia-ml-py3-7.352.0 platformdirs-2.5.2 pylint-2.14.3 requests-2.28.0 requests-toolbelt-0.9.1 s3transfer-0.6.0 semantic-version-2.10.0 sentry-sdk-1.6.0 tomli-2.0.1 tomlkit-0.11.0 typed-ast-1.5.4 urllib3-1.26.9 websocket-client-1.3.3 wrapt-1.14.1 wurlitzer-3.0.2\n",
      "Note: you may need to restart the kernel to use updated packages.\n"
     ]
    }
   ],
   "source": [
    "%pip install \"comet_ml>=3.31.5\" metaflow"
   ]
  },
  {
   "cell_type": "markdown",
   "metadata": {
    "id": "HUYwD0WkcK4e"
   },
   "source": [
    "# Login to Comet"
   ]
  },
  {
   "cell_type": "code",
   "execution_count": 2,
   "metadata": {
    "id": "UQRwfNKtcNSN"
   },
   "outputs": [
    {
     "name": "stderr",
     "output_type": "stream",
     "text": [
      "numpy not installed; some functionality will be unavailable\n",
      "numpy not installed; some functionality will be unavailable\n",
      "COMET INFO: Comet API key is valid\n"
     ]
    }
   ],
   "source": [
    "import comet_ml\n",
    "\n",
    "comet_ml.init(project_name=\"comet-example-metaflow-hello-world-notebook\")"
   ]
  },
  {
   "cell_type": "markdown",
   "metadata": {
    "id": "3JORp7iSY3Yi"
   },
   "source": [
    "# Define a minimal Metaflow flow"
   ]
  },
  {
   "cell_type": "markdown",
   "metadata": {
    "id": "P_Jyc6SUvrzq"
   },
   "source": [
    "This example is adapted from the Metaflow helloworld example which is a simple linear workflow that print out 'Metaflow says: Hi!' to the terminal."
   ]
  },
  {
   "cell_type": "code",
   "execution_count": 3,
   "metadata": {
    "id": "soXsFxxLY3Jq"
   },
   "outputs": [
    {
     "name": "stdout",
     "output_type": "stream",
     "text": [
      "Writing metaflow_hello_world.py\n"
     ]
    }
   ],
   "source": [
    "%%writefile metaflow_hello_world.py\n",
    "from comet_ml.integration.metaflow import comet_flow\n",
    "\n",
    "from metaflow import FlowSpec, step\n",
    "\n",
    "@comet_flow(project_name=\"comet-example-metaflow-hello-world\")\n",
    "class HelloFlow(FlowSpec):\n",
    "    \"\"\"\n",
    "    A flow where Metaflow prints 'Hi'.\n",
    "\n",
    "    Run this flow to validate that Metaflow is installed correctly.\n",
    "\n",
    "    \"\"\"\n",
    "\n",
    "    @step\n",
    "    def start(self):\n",
    "        \"\"\"\n",
    "        This is the 'start' step. All flows must have a step named 'start' that\n",
    "        is the first step in the flow.\n",
    "\n",
    "        \"\"\"\n",
    "        print(\"HelloFlow is starting.\")\n",
    "        self.next(self.hello)\n",
    "\n",
    "    @step\n",
    "    def hello(self):\n",
    "        \"\"\"\n",
    "        A step for metaflow to introduce itself.\n",
    "\n",
    "        \"\"\"\n",
    "        print(\"Metaflow says: Hi!\")\n",
    "        self.next(self.end)\n",
    "\n",
    "    @step\n",
    "    def end(self):\n",
    "        \"\"\"\n",
    "        This is the 'end' step. All flows must have an 'end' step, which is the\n",
    "        last step in the flow.\n",
    "\n",
    "        \"\"\"\n",
    "        print(\"HelloFlow is all done.\")\n",
    "\n",
    "if __name__ == \"__main__\":\n",
    "    HelloFlow()"
   ]
  },
  {
   "cell_type": "markdown",
   "metadata": {
    "id": "t9gAnGFoZHjk"
   },
   "source": [
    "# Show Metaflow simple flow description"
   ]
  },
  {
   "cell_type": "markdown",
   "metadata": {},
   "source": [
    "First let's make sure we are using the right Python executable"
   ]
  },
  {
   "cell_type": "code",
   "execution_count": 4,
   "metadata": {},
   "outputs": [],
   "source": [
    "import sys\n",
    "\n",
    "python_exe = sys.executable"
   ]
  },
  {
   "cell_type": "code",
   "execution_count": 5,
   "metadata": {
    "id": "PdRYUIK1ZGue"
   },
   "outputs": [
    {
     "name": "stdout",
     "output_type": "stream",
     "text": [
      "numpy not installed; some functionality will be unavailable\n",
      "numpy not installed; some functionality will be unavailable\n",
      "\u001b[35m\u001b[1mMetaflow 2.7.1\u001b[0m\u001b[35m\u001b[22m executing \u001b[0m\u001b[31m\u001b[1mHelloFlow\u001b[0m\u001b[35m\u001b[22m\u001b[0m\u001b[35m\u001b[22m for \u001b[0m\u001b[31m\u001b[1muser:lothiraldan\u001b[0m\u001b[35m\u001b[22m\u001b[K\u001b[0m\u001b[35m\u001b[22m\u001b[0m\n",
      "\u001b[22m\n",
      "A flow where Metaflow prints 'Hi'.\n",
      "\n",
      "Run this flow to validate that Metaflow is installed correctly.\u001b[K\u001b[0m\u001b[22m\u001b[0m\n",
      "\u001b[22m\n",
      "Step \u001b[0m\u001b[31m\u001b[1mstart\u001b[0m\u001b[22m\u001b[K\u001b[0m\u001b[22m\u001b[0m\n",
      "\u001b[22m    This is the 'start' step. All flows must have a step named 'start' that\n",
      "    is the first step in the flow.\u001b[K\u001b[0m\u001b[22m\u001b[0m\n",
      "\u001b[22m    \u001b[0m\u001b[35m\u001b[22m=>\u001b[0m\u001b[22m \u001b[0m\u001b[35m\u001b[22mhello\u001b[0m\u001b[22m\u001b[K\u001b[0m\u001b[22m\u001b[0m\n",
      "\u001b[22m\n",
      "Step \u001b[0m\u001b[31m\u001b[1mhello\u001b[0m\u001b[22m\u001b[K\u001b[0m\u001b[22m\u001b[0m\n",
      "\u001b[22m    A step for metaflow to introduce itself.\u001b[K\u001b[0m\u001b[22m\u001b[0m\n",
      "\u001b[22m    \u001b[0m\u001b[35m\u001b[22m=>\u001b[0m\u001b[22m \u001b[0m\u001b[35m\u001b[22mend\u001b[0m\u001b[22m\u001b[K\u001b[0m\u001b[22m\u001b[0m\n",
      "\u001b[22m\n",
      "Step \u001b[0m\u001b[31m\u001b[1mend\u001b[0m\u001b[22m\u001b[K\u001b[0m\u001b[22m\u001b[0m\n",
      "\u001b[22m    This is the 'end' step. All flows must have an 'end' step, which is the\n",
      "    last step in the flow.\u001b[K\u001b[0m\u001b[22m\u001b[0m\n",
      "\u001b[22m\u001b[K\u001b[0m\u001b[22m\u001b[0m\n"
     ]
    }
   ],
   "source": [
    "!{python_exe} metaflow_hello_world.py show"
   ]
  },
  {
   "cell_type": "markdown",
   "metadata": {
    "id": "t9gAnGFoZHjk"
   },
   "source": [
    "# Run Metaflow simple flow description"
   ]
  },
  {
   "cell_type": "code",
   "execution_count": 6,
   "metadata": {
    "id": "PdRYUIK1ZGue"
   },
   "outputs": [
    {
     "name": "stdout",
     "output_type": "stream",
     "text": [
      "numpy not installed; some functionality will be unavailable\n",
      "numpy not installed; some functionality will be unavailable\n",
      "\u001b[35m\u001b[1mMetaflow 2.7.1\u001b[0m\u001b[35m\u001b[22m executing \u001b[0m\u001b[31m\u001b[1mHelloFlow\u001b[0m\u001b[35m\u001b[22m\u001b[0m\u001b[35m\u001b[22m for \u001b[0m\u001b[31m\u001b[1muser:lothiraldan\u001b[0m\u001b[35m\u001b[22m\u001b[K\u001b[0m\u001b[35m\u001b[22m\u001b[0m\n",
      "\u001b[35m\u001b[22mValidating your flow...\u001b[K\u001b[0m\u001b[35m\u001b[22m\u001b[0m\n",
      "\u001b[32m\u001b[1m    The graph looks good!\u001b[K\u001b[0m\u001b[32m\u001b[1m\u001b[0m\n",
      "\u001b[35m\u001b[22mRunning pylint...\u001b[K\u001b[0m\u001b[35m\u001b[22m\u001b[0m\n",
      "\u001b[32m\u001b[1m    Pylint is happy!\u001b[K\u001b[0m\u001b[32m\u001b[1m\u001b[0m\n",
      "\u001b[35m2022-06-28 17:27:15.560 \u001b[0m\u001b[1mWorkflow starting (run-id 1656430035537603):\u001b[0m\n",
      "\u001b[35m2022-06-28 17:27:15.570 \u001b[0m\u001b[32m[1656430035537603/start/1 (pid 304023)] \u001b[0m\u001b[1mTask is starting.\u001b[0m\n",
      "\u001b[35m2022-06-28 17:27:15.819 \u001b[0m\u001b[32m[1656430035537603/start/1 (pid 304023)] \u001b[0m\u001b[22mnumpy not installed; some functionality will be unavailable\u001b[0m\n",
      "\u001b[35m2022-06-28 17:27:15.820 \u001b[0m\u001b[32m[1656430035537603/start/1 (pid 304023)] \u001b[0m\u001b[22mnumpy not installed; some functionality will be unavailable\u001b[0m\n",
      "\u001b[35m2022-06-28 17:27:21.667 \u001b[0m\u001b[32m[1656430035537603/start/1 (pid 304023)] \u001b[0m\u001b[22mCOMET INFO: Experiment is live on comet.ml https://www.comet.ml/examples/comet-example-metaflow-hello-world/f6cf72a4d63147222087835dde85f6bd0177c341\u001b[0m\n",
      "\u001b[35m2022-06-28 17:27:21.813 \u001b[0m\u001b[32m[1656430035537603/start/1 (pid 304023)] \u001b[0m\u001b[22m\u001b[0m\n",
      "\u001b[35m2022-06-28 17:27:21.813 \u001b[0m\u001b[32m[1656430035537603/start/1 (pid 304023)] \u001b[0m\u001b[22mCOMET WARNING: Empty mapping given to log_params({}); ignoring\u001b[0m\n",
      "\u001b[35m2022-06-28 17:27:22.449 \u001b[0m\u001b[32m[1656430035537603/start/1 (pid 304023)] \u001b[0m\u001b[22mCOMET INFO: Uploading metrics, params, and assets to Comet before program termination (may take several seconds)\u001b[0m\n",
      "\u001b[35m2022-06-28 17:27:22.449 \u001b[0m\u001b[32m[1656430035537603/start/1 (pid 304023)] \u001b[0m\u001b[22mCOMET INFO: The Python SDK has 3600 seconds to finish before aborting...\u001b[0m\n",
      "\u001b[35m2022-06-28 17:27:27.714 \u001b[0m\u001b[32m[1656430035537603/start/1 (pid 304023)] \u001b[0m\u001b[22mCOMET INFO: Experiment is live on comet.ml https://www.comet.ml/examples/comet-example-metaflow-hello-world/428e328b9c794b84aee0156ba20472b7\u001b[0m\n",
      "\u001b[35m2022-06-28 17:27:27.857 \u001b[0m\u001b[32m[1656430035537603/start/1 (pid 304023)] \u001b[0m\u001b[22mHelloFlow is starting.\u001b[0m\n",
      "\u001b[35m2022-06-28 17:27:27.858 \u001b[0m\u001b[32m[1656430035537603/start/1 (pid 304023)] \u001b[0m\u001b[22m\u001b[0m\n",
      "\u001b[35m2022-06-28 17:27:27.858 \u001b[0m\u001b[32m[1656430035537603/start/1 (pid 304023)] \u001b[0m\u001b[22mCOMET INFO: ---------------------------\u001b[0m\n",
      "\u001b[35m2022-06-28 17:27:27.858 \u001b[0m\u001b[32m[1656430035537603/start/1 (pid 304023)] \u001b[0m\u001b[22mCOMET INFO: Comet.ml Experiment Summary\u001b[0m\n",
      "\u001b[35m2022-06-28 17:27:27.859 \u001b[0m\u001b[32m[1656430035537603/start/1 (pid 304023)] \u001b[0m\u001b[22mCOMET INFO: ---------------------------\u001b[0m\n",
      "\u001b[35m2022-06-28 17:27:27.860 \u001b[0m\u001b[32m[1656430035537603/start/1 (pid 304023)] \u001b[0m\u001b[22mCOMET INFO:   Data:\u001b[0m\n",
      "\u001b[35m2022-06-28 17:27:27.860 \u001b[0m\u001b[32m[1656430035537603/start/1 (pid 304023)] \u001b[0m\u001b[22mCOMET INFO:     display_summary_level : 1\u001b[0m\n",
      "\u001b[35m2022-06-28 17:27:27.861 \u001b[0m\u001b[32m[1656430035537603/start/1 (pid 304023)] \u001b[0m\u001b[22mCOMET INFO:     url                   : https://www.comet.ml/examples/comet-example-metaflow-hello-world/428e328b9c794b84aee0156ba20472b7\u001b[0m\n",
      "\u001b[35m2022-06-28 17:27:27.861 \u001b[0m\u001b[32m[1656430035537603/start/1 (pid 304023)] \u001b[0m\u001b[22mCOMET INFO:   Others:\u001b[0m\n",
      "\u001b[35m2022-06-28 17:27:27.862 \u001b[0m\u001b[32m[1656430035537603/start/1 (pid 304023)] \u001b[0m\u001b[22mCOMET INFO:     Created from            : metaflow\u001b[0m\n",
      "\u001b[35m2022-06-28 17:27:27.862 \u001b[0m\u001b[32m[1656430035537603/start/1 (pid 304023)] \u001b[0m\u001b[22mCOMET INFO:     Name                    : 1/start - HelloFlow - 1656430035537603\u001b[0m\n",
      "\u001b[35m2022-06-28 17:27:27.863 \u001b[0m\u001b[32m[1656430035537603/start/1 (pid 304023)] \u001b[0m\u001b[22mCOMET INFO:     comet_run_id            : 1656430035537603\u001b[0m\n",
      "\u001b[35m2022-06-28 17:27:27.864 \u001b[0m\u001b[32m[1656430035537603/start/1 (pid 304023)] \u001b[0m\u001b[22mCOMET INFO:     comet_step_id           : 1656430035537603/start\u001b[0m\n",
      "\u001b[35m2022-06-28 17:27:27.864 \u001b[0m\u001b[32m[1656430035537603/start/1 (pid 304023)] \u001b[0m\u001b[22mCOMET INFO:     comet_task_id           : 1656430035537603/start/1\u001b[0m\n",
      "\u001b[35m2022-06-28 17:27:27.865 \u001b[0m\u001b[32m[1656430035537603/start/1 (pid 304023)] \u001b[0m\u001b[22mCOMET INFO:     metaflow_flow_name      : HelloFlow\u001b[0m\n",
      "\u001b[35m2022-06-28 17:27:27.865 \u001b[0m\u001b[32m[1656430035537603/start/1 (pid 304023)] \u001b[0m\u001b[22mCOMET INFO:     metaflow_run_experiment : f6cf72a4d63147222087835dde85f6bd0177c341\u001b[0m\n",
      "\u001b[35m2022-06-28 17:27:27.866 \u001b[0m\u001b[32m[1656430035537603/start/1 (pid 304023)] \u001b[0m\u001b[22mCOMET INFO:     metaflow_run_id         : 1656430035537603\u001b[0m\n",
      "\u001b[35m2022-06-28 17:27:27.866 \u001b[0m\u001b[32m[1656430035537603/start/1 (pid 304023)] \u001b[0m\u001b[22mCOMET INFO:     metaflow_status         : Completed\u001b[0m\n",
      "\u001b[35m2022-06-28 17:27:27.868 \u001b[0m\u001b[32m[1656430035537603/start/1 (pid 304023)] \u001b[0m\u001b[22mCOMET INFO:     metaflow_step_name      : start\u001b[0m\n",
      "\u001b[35m2022-06-28 17:27:27.869 \u001b[0m\u001b[32m[1656430035537603/start/1 (pid 304023)] \u001b[0m\u001b[22mCOMET INFO:     pipeline_type           : metaflow\u001b[0m\n",
      "\u001b[35m2022-06-28 17:27:27.870 \u001b[0m\u001b[32m[1656430035537603/start/1 (pid 304023)] \u001b[0m\u001b[22mCOMET INFO:   Uploads:\u001b[0m\n",
      "\u001b[35m2022-06-28 17:27:27.870 \u001b[0m\u001b[32m[1656430035537603/start/1 (pid 304023)] \u001b[0m\u001b[22mCOMET INFO:     environment details : 1\u001b[0m\n",
      "\u001b[35m2022-06-28 17:27:27.871 \u001b[0m\u001b[32m[1656430035537603/start/1 (pid 304023)] \u001b[0m\u001b[22mCOMET INFO:     filename            : 1\u001b[0m\n",
      "\u001b[35m2022-06-28 17:27:27.872 \u001b[0m\u001b[32m[1656430035537603/start/1 (pid 304023)] \u001b[0m\u001b[22mCOMET INFO:     git metadata        : 1\u001b[0m\n",
      "\u001b[35m2022-06-28 17:27:27.872 \u001b[0m\u001b[32m[1656430035537603/start/1 (pid 304023)] \u001b[0m\u001b[22mCOMET INFO:     installed packages  : 1\u001b[0m\n",
      "\u001b[35m2022-06-28 17:27:27.873 \u001b[0m\u001b[32m[1656430035537603/start/1 (pid 304023)] \u001b[0m\u001b[22mCOMET INFO:     source_code         : 2 (25.49 KB)\u001b[0m\n",
      "\u001b[35m2022-06-28 17:27:27.874 \u001b[0m\u001b[32m[1656430035537603/start/1 (pid 304023)] \u001b[0m\u001b[22mCOMET INFO: ---------------------------\u001b[0m\n",
      "\u001b[35m2022-06-28 17:27:28.499 \u001b[0m\u001b[32m[1656430035537603/start/1 (pid 304023)] \u001b[0m\u001b[22mCOMET INFO: Uploading 1 metrics, params and output messages\u001b[0m\n",
      "\u001b[35m2022-06-28 17:27:29.118 \u001b[0m\u001b[32m[1656430035537603/start/1 (pid 304023)] \u001b[0m\u001b[1mTask finished successfully.\u001b[0m\n",
      "\u001b[35m2022-06-28 17:27:29.129 \u001b[0m\u001b[32m[1656430035537603/hello/2 (pid 304153)] \u001b[0m\u001b[1mTask is starting.\u001b[0m\n",
      "\u001b[35m2022-06-28 17:27:29.395 \u001b[0m\u001b[32m[1656430035537603/hello/2 (pid 304153)] \u001b[0m\u001b[22mnumpy not installed; some functionality will be unavailable\u001b[0m\n",
      "\u001b[35m2022-06-28 17:27:29.397 \u001b[0m\u001b[32m[1656430035537603/hello/2 (pid 304153)] \u001b[0m\u001b[22mnumpy not installed; some functionality will be unavailable\u001b[0m\n",
      "\u001b[35m2022-06-28 17:27:34.720 \u001b[0m\u001b[32m[1656430035537603/hello/2 (pid 304153)] \u001b[0m\u001b[22mCOMET INFO: Experiment is live on comet.ml https://www.comet.ml/examples/comet-example-metaflow-hello-world/2d57122fc3e94caa942a8b6372bad6a5\u001b[0m\n",
      "\u001b[35m2022-06-28 17:27:34.721 \u001b[0m\u001b[32m[1656430035537603/hello/2 (pid 304153)] \u001b[0m\u001b[22m\u001b[0m\n",
      "\u001b[35m2022-06-28 17:27:34.721 \u001b[0m\u001b[32m[1656430035537603/hello/2 (pid 304153)] \u001b[0m\u001b[22mCOMET WARNING: Empty mapping given to log_params({}); ignoring\u001b[0m\n",
      "\u001b[35m2022-06-28 17:27:34.869 \u001b[0m\u001b[32m[1656430035537603/hello/2 (pid 304153)] \u001b[0m\u001b[22mMetaflow says: Hi!\u001b[0m\n",
      "\u001b[35m2022-06-28 17:27:34.870 \u001b[0m\u001b[32m[1656430035537603/hello/2 (pid 304153)] \u001b[0m\u001b[22mCOMET INFO: ---------------------------\u001b[0m\n",
      "\u001b[35m2022-06-28 17:27:34.870 \u001b[0m\u001b[32m[1656430035537603/hello/2 (pid 304153)] \u001b[0m\u001b[22mCOMET INFO: Comet.ml Experiment Summary\u001b[0m\n",
      "\u001b[35m2022-06-28 17:27:34.873 \u001b[0m\u001b[32m[1656430035537603/hello/2 (pid 304153)] \u001b[0m\u001b[22mCOMET INFO: ---------------------------\u001b[0m\n",
      "\u001b[35m2022-06-28 17:27:34.874 \u001b[0m\u001b[32m[1656430035537603/hello/2 (pid 304153)] \u001b[0m\u001b[22mCOMET INFO:   Data:\u001b[0m\n",
      "\u001b[35m2022-06-28 17:27:34.875 \u001b[0m\u001b[32m[1656430035537603/hello/2 (pid 304153)] \u001b[0m\u001b[22mCOMET INFO:     display_summary_level : 1\u001b[0m\n",
      "\u001b[35m2022-06-28 17:27:34.877 \u001b[0m\u001b[32m[1656430035537603/hello/2 (pid 304153)] \u001b[0m\u001b[22mCOMET INFO:     url                   : https://www.comet.ml/examples/comet-example-metaflow-hello-world/2d57122fc3e94caa942a8b6372bad6a5\u001b[0m\n",
      "\u001b[35m2022-06-28 17:27:34.878 \u001b[0m\u001b[32m[1656430035537603/hello/2 (pid 304153)] \u001b[0m\u001b[22mCOMET INFO:   Others:\u001b[0m\n",
      "\u001b[35m2022-06-28 17:27:34.879 \u001b[0m\u001b[32m[1656430035537603/hello/2 (pid 304153)] \u001b[0m\u001b[22mCOMET INFO:     Created from            : metaflow\u001b[0m\n",
      "\u001b[35m2022-06-28 17:27:34.880 \u001b[0m\u001b[32m[1656430035537603/hello/2 (pid 304153)] \u001b[0m\u001b[22mCOMET INFO:     Name                    : 2/hello - HelloFlow - 1656430035537603\u001b[0m\n",
      "\u001b[35m2022-06-28 17:27:34.880 \u001b[0m\u001b[32m[1656430035537603/hello/2 (pid 304153)] \u001b[0m\u001b[22mCOMET INFO:     comet_run_id            : 1656430035537603\u001b[0m\n",
      "\u001b[35m2022-06-28 17:27:34.880 \u001b[0m\u001b[32m[1656430035537603/hello/2 (pid 304153)] \u001b[0m\u001b[22mCOMET INFO:     comet_step_id           : 1656430035537603/hello\u001b[0m\n",
      "\u001b[35m2022-06-28 17:27:34.881 \u001b[0m\u001b[32m[1656430035537603/hello/2 (pid 304153)] \u001b[0m\u001b[22mCOMET INFO:     comet_task_id           : 1656430035537603/hello/2\u001b[0m\n",
      "\u001b[35m2022-06-28 17:27:34.881 \u001b[0m\u001b[32m[1656430035537603/hello/2 (pid 304153)] \u001b[0m\u001b[22mCOMET INFO:     metaflow_flow_name      : HelloFlow\u001b[0m\n",
      "\u001b[35m2022-06-28 17:27:34.882 \u001b[0m\u001b[32m[1656430035537603/hello/2 (pid 304153)] \u001b[0m\u001b[22mCOMET INFO:     metaflow_run_experiment : f6cf72a4d63147222087835dde85f6bd0177c341\u001b[0m\n",
      "\u001b[35m2022-06-28 17:27:34.883 \u001b[0m\u001b[32m[1656430035537603/hello/2 (pid 304153)] \u001b[0m\u001b[22mCOMET INFO:     metaflow_run_id         : 1656430035537603\u001b[0m\n",
      "\u001b[35m2022-06-28 17:27:34.883 \u001b[0m\u001b[32m[1656430035537603/hello/2 (pid 304153)] \u001b[0m\u001b[22mCOMET INFO:     metaflow_status         : Completed\u001b[0m\n",
      "\u001b[35m2022-06-28 17:27:34.883 \u001b[0m\u001b[32m[1656430035537603/hello/2 (pid 304153)] \u001b[0m\u001b[22mCOMET INFO:     metaflow_step_name      : hello\u001b[0m\n",
      "\u001b[35m2022-06-28 17:27:34.884 \u001b[0m\u001b[32m[1656430035537603/hello/2 (pid 304153)] \u001b[0m\u001b[22mCOMET INFO:     pipeline_type           : metaflow\u001b[0m\n",
      "\u001b[35m2022-06-28 17:27:34.884 \u001b[0m\u001b[32m[1656430035537603/hello/2 (pid 304153)] \u001b[0m\u001b[22mCOMET INFO:   Uploads:\u001b[0m\n",
      "\u001b[35m2022-06-28 17:27:34.884 \u001b[0m\u001b[32m[1656430035537603/hello/2 (pid 304153)] \u001b[0m\u001b[22mCOMET INFO:     environment details : 1\u001b[0m\n",
      "\u001b[35m2022-06-28 17:27:34.885 \u001b[0m\u001b[32m[1656430035537603/hello/2 (pid 304153)] \u001b[0m\u001b[22mCOMET INFO:     filename            : 1\u001b[0m\n",
      "\u001b[35m2022-06-28 17:27:34.885 \u001b[0m\u001b[32m[1656430035537603/hello/2 (pid 304153)] \u001b[0m\u001b[22mCOMET INFO:     git metadata        : 1\u001b[0m\n",
      "\u001b[35m2022-06-28 17:27:34.885 \u001b[0m\u001b[32m[1656430035537603/hello/2 (pid 304153)] \u001b[0m\u001b[22mCOMET INFO:     installed packages  : 1\u001b[0m\n"
     ]
    },
    {
     "name": "stdout",
     "output_type": "stream",
     "text": [
      "\u001b[35m2022-06-28 17:27:35.510 \u001b[0m\u001b[32m[1656430035537603/hello/2 (pid 304153)] \u001b[0m\u001b[22mCOMET INFO:     source_code         : 2 (25.49 KB)\u001b[0m\n",
      "\u001b[35m2022-06-28 17:27:35.510 \u001b[0m\u001b[32m[1656430035537603/hello/2 (pid 304153)] \u001b[0m\u001b[22mCOMET INFO: ---------------------------\u001b[0m\n",
      "\u001b[35m2022-06-28 17:27:35.510 \u001b[0m\u001b[32m[1656430035537603/hello/2 (pid 304153)] \u001b[0m\u001b[22mCOMET INFO: Uploading metrics, params, and assets to Comet before program termination (may take several seconds)\u001b[0m\n",
      "\u001b[35m2022-06-28 17:27:36.865 \u001b[0m\u001b[32m[1656430035537603/hello/2 (pid 304153)] \u001b[0m\u001b[22mCOMET INFO: The Python SDK has 3600 seconds to finish before aborting...\u001b[0m\n",
      "\u001b[35m2022-06-28 17:27:36.865 \u001b[0m\u001b[32m[1656430035537603/hello/2 (pid 304153)] \u001b[0m\u001b[22mCOMET INFO: Uploading 1 metrics, params and output messages\u001b[0m\n",
      "\u001b[35m2022-06-28 17:27:36.866 \u001b[0m\u001b[32m[1656430035537603/hello/2 (pid 304153)] \u001b[0m\u001b[1mTask finished successfully.\u001b[0m\n",
      "\u001b[35m2022-06-28 17:27:36.878 \u001b[0m\u001b[32m[1656430035537603/end/3 (pid 304217)] \u001b[0m\u001b[1mTask is starting.\u001b[0m\n",
      "\u001b[35m2022-06-28 17:27:37.081 \u001b[0m\u001b[32m[1656430035537603/end/3 (pid 304217)] \u001b[0m\u001b[22mnumpy not installed; some functionality will be unavailable\u001b[0m\n",
      "\u001b[35m2022-06-28 17:27:37.082 \u001b[0m\u001b[32m[1656430035537603/end/3 (pid 304217)] \u001b[0m\u001b[22mnumpy not installed; some functionality will be unavailable\u001b[0m\n",
      "\u001b[35m2022-06-28 17:27:42.344 \u001b[0m\u001b[32m[1656430035537603/end/3 (pid 304217)] \u001b[0m\u001b[22mCOMET INFO: Experiment is live on comet.ml https://www.comet.ml/examples/comet-example-metaflow-hello-world/1f78cea93d5447b8b001967de39fb3de\u001b[0m\n",
      "\u001b[35m2022-06-28 17:27:42.346 \u001b[0m\u001b[32m[1656430035537603/end/3 (pid 304217)] \u001b[0m\u001b[22m\u001b[0m\n",
      "\u001b[35m2022-06-28 17:27:42.346 \u001b[0m\u001b[32m[1656430035537603/end/3 (pid 304217)] \u001b[0m\u001b[22mCOMET WARNING: Empty mapping given to log_params({}); ignoring\u001b[0m\n",
      "\u001b[35m2022-06-28 17:27:42.490 \u001b[0m\u001b[32m[1656430035537603/end/3 (pid 304217)] \u001b[0m\u001b[22mHelloFlow is all done.\u001b[0m\n",
      "\u001b[35m2022-06-28 17:27:42.491 \u001b[0m\u001b[32m[1656430035537603/end/3 (pid 304217)] \u001b[0m\u001b[22mCOMET INFO: ---------------------------\u001b[0m\n",
      "\u001b[35m2022-06-28 17:27:42.491 \u001b[0m\u001b[32m[1656430035537603/end/3 (pid 304217)] \u001b[0m\u001b[22mCOMET INFO: Comet.ml Experiment Summary\u001b[0m\n",
      "\u001b[35m2022-06-28 17:27:42.492 \u001b[0m\u001b[32m[1656430035537603/end/3 (pid 304217)] \u001b[0m\u001b[22mCOMET INFO: ---------------------------\u001b[0m\n",
      "\u001b[35m2022-06-28 17:27:42.492 \u001b[0m\u001b[32m[1656430035537603/end/3 (pid 304217)] \u001b[0m\u001b[22mCOMET INFO:   Data:\u001b[0m\n",
      "\u001b[35m2022-06-28 17:27:42.493 \u001b[0m\u001b[32m[1656430035537603/end/3 (pid 304217)] \u001b[0m\u001b[22mCOMET INFO:     display_summary_level : 1\u001b[0m\n",
      "\u001b[35m2022-06-28 17:27:42.493 \u001b[0m\u001b[32m[1656430035537603/end/3 (pid 304217)] \u001b[0m\u001b[22mCOMET INFO:     url                   : https://www.comet.ml/examples/comet-example-metaflow-hello-world/1f78cea93d5447b8b001967de39fb3de\u001b[0m\n",
      "\u001b[35m2022-06-28 17:27:42.494 \u001b[0m\u001b[32m[1656430035537603/end/3 (pid 304217)] \u001b[0m\u001b[22mCOMET INFO:   Others:\u001b[0m\n",
      "\u001b[35m2022-06-28 17:27:42.494 \u001b[0m\u001b[32m[1656430035537603/end/3 (pid 304217)] \u001b[0m\u001b[22mCOMET INFO:     Created from            : metaflow\u001b[0m\n",
      "\u001b[35m2022-06-28 17:27:42.495 \u001b[0m\u001b[32m[1656430035537603/end/3 (pid 304217)] \u001b[0m\u001b[22mCOMET INFO:     Name                    : 3/end - HelloFlow - 1656430035537603\u001b[0m\n",
      "\u001b[35m2022-06-28 17:27:42.496 \u001b[0m\u001b[32m[1656430035537603/end/3 (pid 304217)] \u001b[0m\u001b[22mCOMET INFO:     comet_run_id            : 1656430035537603\u001b[0m\n",
      "\u001b[35m2022-06-28 17:27:42.497 \u001b[0m\u001b[32m[1656430035537603/end/3 (pid 304217)] \u001b[0m\u001b[22mCOMET INFO:     comet_step_id           : 1656430035537603/end\u001b[0m\n",
      "\u001b[35m2022-06-28 17:27:42.498 \u001b[0m\u001b[32m[1656430035537603/end/3 (pid 304217)] \u001b[0m\u001b[22mCOMET INFO:     comet_task_id           : 1656430035537603/end/3\u001b[0m\n",
      "\u001b[35m2022-06-28 17:27:42.499 \u001b[0m\u001b[32m[1656430035537603/end/3 (pid 304217)] \u001b[0m\u001b[22mCOMET INFO:     metaflow_flow_name      : HelloFlow\u001b[0m\n",
      "\u001b[35m2022-06-28 17:27:42.500 \u001b[0m\u001b[32m[1656430035537603/end/3 (pid 304217)] \u001b[0m\u001b[22mCOMET INFO:     metaflow_run_experiment : f6cf72a4d63147222087835dde85f6bd0177c341\u001b[0m\n",
      "\u001b[35m2022-06-28 17:27:42.501 \u001b[0m\u001b[32m[1656430035537603/end/3 (pid 304217)] \u001b[0m\u001b[22mCOMET INFO:     metaflow_run_id         : 1656430035537603\u001b[0m\n",
      "\u001b[35m2022-06-28 17:27:42.502 \u001b[0m\u001b[32m[1656430035537603/end/3 (pid 304217)] \u001b[0m\u001b[22mCOMET INFO:     metaflow_status         : Completed\u001b[0m\n",
      "\u001b[35m2022-06-28 17:27:42.503 \u001b[0m\u001b[32m[1656430035537603/end/3 (pid 304217)] \u001b[0m\u001b[22mCOMET INFO:     metaflow_step_name      : end\u001b[0m\n",
      "\u001b[35m2022-06-28 17:27:42.504 \u001b[0m\u001b[32m[1656430035537603/end/3 (pid 304217)] \u001b[0m\u001b[22mCOMET INFO:     pipeline_type           : metaflow\u001b[0m\n",
      "\u001b[35m2022-06-28 17:27:42.505 \u001b[0m\u001b[32m[1656430035537603/end/3 (pid 304217)] \u001b[0m\u001b[22mCOMET INFO:   Uploads:\u001b[0m\n",
      "\u001b[35m2022-06-28 17:27:42.505 \u001b[0m\u001b[32m[1656430035537603/end/3 (pid 304217)] \u001b[0m\u001b[22mCOMET INFO:     environment details : 1\u001b[0m\n",
      "\u001b[35m2022-06-28 17:27:42.506 \u001b[0m\u001b[32m[1656430035537603/end/3 (pid 304217)] \u001b[0m\u001b[22mCOMET INFO:     filename            : 1\u001b[0m\n",
      "\u001b[35m2022-06-28 17:27:42.508 \u001b[0m\u001b[32m[1656430035537603/end/3 (pid 304217)] \u001b[0m\u001b[22mCOMET INFO:     git metadata        : 1\u001b[0m\n",
      "\u001b[35m2022-06-28 17:27:42.508 \u001b[0m\u001b[32m[1656430035537603/end/3 (pid 304217)] \u001b[0m\u001b[22mCOMET INFO:     installed packages  : 1\u001b[0m\n",
      "\u001b[35m2022-06-28 17:27:42.509 \u001b[0m\u001b[32m[1656430035537603/end/3 (pid 304217)] \u001b[0m\u001b[22mCOMET INFO:     source_code         : 2 (25.49 KB)\u001b[0m\n",
      "\u001b[35m2022-06-28 17:27:42.510 \u001b[0m\u001b[32m[1656430035537603/end/3 (pid 304217)] \u001b[0m\u001b[22mCOMET INFO: ---------------------------\u001b[0m\n",
      "\u001b[35m2022-06-28 17:27:43.136 \u001b[0m\u001b[32m[1656430035537603/end/3 (pid 304217)] \u001b[0m\u001b[22mCOMET INFO: Uploading metrics, params, and assets to Comet before program termination (may take several seconds)\u001b[0m\n",
      "\u001b[35m2022-06-28 17:27:43.137 \u001b[0m\u001b[32m[1656430035537603/end/3 (pid 304217)] \u001b[0m\u001b[22mCOMET INFO: The Python SDK has 3600 seconds to finish before aborting...\u001b[0m\n",
      "\u001b[35m2022-06-28 17:27:45.901 \u001b[0m\u001b[32m[1656430035537603/end/3 (pid 304217)] \u001b[0m\u001b[22mCOMET INFO: Experiment is live on comet.ml https://www.comet.ml/examples/comet-example-metaflow-hello-world/f6cf72a4d63147222087835dde85f6bd0177c341\u001b[0m\n",
      "\u001b[35m2022-06-28 17:27:46.106 \u001b[0m\u001b[32m[1656430035537603/end/3 (pid 304217)] \u001b[0m\u001b[22m\u001b[0m\n",
      "\u001b[35m2022-06-28 17:27:46.106 \u001b[0m\u001b[32m[1656430035537603/end/3 (pid 304217)] \u001b[0m\u001b[22mCOMET INFO: Uploading 1 metrics, params and output messages\u001b[0m\n",
      "\u001b[35m2022-06-28 17:27:47.514 \u001b[0m\u001b[32m[1656430035537603/end/3 (pid 304217)] \u001b[0m\u001b[1mTask finished successfully.\u001b[0m\n",
      "\u001b[35m2022-06-28 17:27:47.515 \u001b[0m\u001b[1mDone!\u001b[0m\n"
     ]
    }
   ],
   "source": [
    "!{python_exe} metaflow_hello_world.py run"
   ]
  },
  {
   "cell_type": "code",
   "execution_count": null,
   "metadata": {},
   "outputs": [],
   "source": []
  }
 ],
 "metadata": {
  "colab": {
   "collapsed_sections": [],
   "name": "metaflow_hello_world.ipynb",
   "provenance": [],
   "toc_visible": true
  },
  "kernelspec": {
   "display_name": "Python 3 (ipykernel)",
   "language": "python",
   "name": "python3"
  },
  "language_info": {
   "codemirror_mode": {
    "name": "ipython",
    "version": 3
   },
   "file_extension": ".py",
   "mimetype": "text/x-python",
   "name": "python",
   "nbconvert_exporter": "python",
   "pygments_lexer": "ipython3",
   "version": "3.9.1"
  }
 },
 "nbformat": 4,
 "nbformat_minor": 1
}
