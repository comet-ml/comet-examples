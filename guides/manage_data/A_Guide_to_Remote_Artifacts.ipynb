{
 "cells": [
  {
   "cell_type": "markdown",
   "metadata": {},
   "source": [
    "<img src=\"https://cdn.comet.ml/img/notebook_logo.png\">"
   ]
  },
  {
   "cell_type": "markdown",
   "metadata": {
    "id": "9qQGrSuyJhX-"
   },
   "source": [
    "# Install Comet"
   ]
  },
  {
   "cell_type": "code",
   "execution_count": null,
   "metadata": {
    "colab": {
     "base_uri": "https://localhost:8080/"
    },
    "id": "QpUBVulxIAhq",
    "outputId": "6460a197-1b93-48f9-e05d-9b5bd7a99364"
   },
   "outputs": [],
   "source": [
    "%pip install --upgrade comet_ml"
   ]
  },
  {
   "cell_type": "code",
   "execution_count": null,
   "metadata": {
    "colab": {
     "base_uri": "https://localhost:8080/"
    },
    "id": "tp8YgcjIIGlY",
    "outputId": "6e985b5a-6086-4581-f2e5-f9802beec245"
   },
   "outputs": [],
   "source": [
    "import comet_ml\n",
    "\n",
    "comet_ml.init(project_name=\"remote-artifacts\")"
   ]
  },
  {
   "cell_type": "markdown",
   "metadata": {
    "id": "rfUgc7WmIO3r"
   },
   "source": [
    "# Fetch the Metadata File for the Dataset"
   ]
  },
  {
   "cell_type": "markdown",
   "metadata": {
    "id": "SNsMhUaNIVR0"
   },
   "source": [
    "For this guide, we're going to use the [DOTA](https://captain-whu.github.io/DOTA/dataset.html) dataset. DOTA is a collection of aerial images that have been collected from different sensors and platforms. \n",
    "\n",
    "The dataset has been uploaded to an S3 bucket. First let's download the metadata for this dataset from our S3 bucket."
   ]
  },
  {
   "cell_type": "code",
   "execution_count": null,
   "metadata": {
    "colab": {
     "base_uri": "https://localhost:8080/"
    },
    "id": "gYI87e7sIK1m",
    "outputId": "d6d2d729-fdb7-4090-b2f8-41ebb6d458af"
   },
   "outputs": [],
   "source": [
    "!wget https://cdn.comet.ml/dota_split/DOTA_1.0.json"
   ]
  },
  {
   "cell_type": "markdown",
   "metadata": {
    "id": "j8RHYthbImoT"
   },
   "source": [
    "# Create an Artifact to Track the Data"
   ]
  },
  {
   "cell_type": "markdown",
   "metadata": {
    "id": "1swYuM9SK3Xq"
   },
   "source": [
    "First, lets define the class names present in this dataset"
   ]
  },
  {
   "cell_type": "code",
   "execution_count": null,
   "metadata": {
    "id": "aSL9gkf8J2Av"
   },
   "outputs": [],
   "source": [
    "LABEL_CLASS_NAMES = [\n",
    "    \"plane\",\n",
    "    \"baseball-diamond\",\n",
    "    \"bridge\",\n",
    "    \"ground-track-field\",\n",
    "    \"small-vehicle\",\n",
    "    \"large-vehicle\",\n",
    "    \"ship\",\n",
    "    \"tennis-court\",\n",
    "    \"basketball-court\",\n",
    "    \"storage-tank\",\n",
    "    \"soccer-ball-field\",\n",
    "    \"roundabout\",\n",
    "    \"harbor\",\n",
    "    \"swimming-pool\",\n",
    "    \"helicopter\",\n",
    "]"
   ]
  },
  {
   "cell_type": "markdown",
   "metadata": {
    "id": "89qptO7MLQ2m"
   },
   "source": [
    "Next, we're going to load in the metadata file that we've downloaded from our S3 bucket and format it in a way that allows us to track the URLs for the individual image assets in a Remote Artifact. We will also track the annotations as asset metadata.  "
   ]
  },
  {
   "cell_type": "code",
   "execution_count": null,
   "metadata": {
    "id": "fN2n0HM9It3e"
   },
   "outputs": [],
   "source": [
    "import json\n",
    "\n",
    "base_url = \"https://cdn.comet.ml/dota_split\"\n",
    "metadata_file = \"./DOTA_1.0.json\"\n",
    "\n",
    "with open(metadata_file, \"r\") as f:\n",
    "    dota_metadata = json.load(f)"
   ]
  },
  {
   "cell_type": "code",
   "execution_count": null,
   "metadata": {
    "id": "LFbsbxtzJKi8"
   },
   "outputs": [],
   "source": [
    "annotation_map = {}\n",
    "for annotation in dota_metadata[\"annotations\"]:\n",
    "    img_id = annotation[\"image_id\"]\n",
    "\n",
    "    annotation_map.setdefault(img_id, [])\n",
    "    annotation_map[img_id].append(annotation)"
   ]
  },
  {
   "cell_type": "code",
   "execution_count": null,
   "metadata": {
    "id": "qyg5iON7JOPn"
   },
   "outputs": [],
   "source": [
    "artifact = comet_ml.Artifact(\n",
    "    name=\"DOTA\", artifact_type=\"dataset\", metadata={\"class_names\": LABEL_CLASS_NAMES}\n",
    ")\n",
    "\n",
    "for image in dota_metadata[\"images\"]:\n",
    "    try:\n",
    "        annotations = annotation_map[image[\"id\"]]\n",
    "        artifact.add_remote(\n",
    "            f\"{base_url}/images/{image['file_name']}\",\n",
    "            metadata={\"annotations\": annotations},\n",
    "        )\n",
    "    except Exception as e:\n",
    "        continue"
   ]
  },
  {
   "cell_type": "markdown",
   "metadata": {
    "id": "rUelwMk9No35"
   },
   "source": [
    "# Log the Artifact "
   ]
  },
  {
   "cell_type": "code",
   "execution_count": null,
   "metadata": {
    "colab": {
     "base_uri": "https://localhost:8080/"
    },
    "id": "EJjHxZ4hNnYx",
    "outputId": "21cc75fb-452b-4ec5-d8a2-f86d33a4fc0b"
   },
   "outputs": [],
   "source": [
    "experiment = comet_ml.Experiment()\n",
    "experiment.log_artifact(artifact)\n",
    "experiment.end()"
   ]
  },
  {
   "cell_type": "code",
   "execution_count": null,
   "metadata": {
    "id": "N8knJIs4U3F1"
   },
   "outputs": [],
   "source": []
  }
 ],
 "metadata": {
  "colab": {
   "collapsed_sections": [],
   "name": "A Guide to Remote Artifacts.ipynb",
   "provenance": []
  },
  "kernelspec": {
   "display_name": "Python 3 (ipykernel)",
   "language": "python",
   "name": "python3"
  },
  "language_info": {
   "codemirror_mode": {
    "name": "ipython",
    "version": 3
   },
   "file_extension": ".py",
   "mimetype": "text/x-python",
   "name": "python",
   "nbconvert_exporter": "python",
   "pygments_lexer": "ipython3",
   "version": "3.9.1"
  }
 },
 "nbformat": 4,
 "nbformat_minor": 1
}
