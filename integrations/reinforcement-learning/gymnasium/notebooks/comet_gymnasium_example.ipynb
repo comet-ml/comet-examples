{
 "cells": [
  {
   "cell_type": "markdown",
   "metadata": {
    "id": "P8EZh1CJd4sS"
   },
   "source": [
    "<img src=\"https://cdn.comet.ml/img/notebook_logo.png\">  <img height=90px align=\"right\" src=\"https://raw.githubusercontent.com/Farama-Foundation/Gymnasium/main/gymnasium-text.png\">\n",
    "\n",
    "[Comet](https://www.comet.com/?utm_source=gymnasium&utm_medium=partner&utm_campaign=partner_gymnasium_2023&utm_content=comet_colab) helps accelerate machine learning through experiment tracking and production monitoring. Never lose track of your work and easily share results and collaborate across teams of all sizes. \n",
    "\n",
    "**This notebook shows you how to log your Gymnasium metrics with Comet.** For more information about Comet's integration with Gymnasium, visit our [Docs](https://www.comet.com/docs/v2/integrations/ml-frameworks/gymnasium/?utm_source=gymnasium&utm_medium=partner&utm_campaign=partner_gymnasium_2023&utm_content=comet_colab) page.\n",
    "\n",
    "If you prefer to preview what's to come, check out a completed experiment created from this notebook [here](https://www.comet.com/examples/comet-examples-gymnasium-notebook/58a1e400d18342fdabb4ddbbb07c9802?utm_source=gymnasium&utm_medium=partner&utm_campaign=partner_gymnasium_2023&utm_content=comet_colab)."
   ]
  },
  {
   "cell_type": "markdown",
   "metadata": {
    "id": "aAHdYTSjYofy"
   },
   "source": [
    "# Install Required Packages "
   ]
  },
  {
   "cell_type": "code",
   "execution_count": null,
   "metadata": {
    "id": "Z-z0jRNUY0gp"
   },
   "outputs": [],
   "source": [
    "%pip install gymnasium[classic_control] comet_ml"
   ]
  },
  {
   "cell_type": "markdown",
   "metadata": {
    "id": "cDi2frwiY6UA"
   },
   "source": [
    "# Initialize Comet\n",
    "\n",
    "Create your free account at [Comet.com](https://www.comet.com/signup?utm_source=gymnasium&utm_medium=partner&utm_campaign=partner_gymnasium_2023&utm_content=comet_colab) and grab your API key which can be found under account settings."
   ]
  },
  {
   "cell_type": "code",
   "execution_count": null,
   "metadata": {
    "id": "j9P00TNqmEXG"
   },
   "outputs": [],
   "source": [
    "import comet_ml\n",
    "\n",
    "comet_ml.init(project_name=\"comet-examples-gymnasium-notebook\")"
   ]
  },
  {
   "cell_type": "markdown",
   "metadata": {
    "id": "031ezY2Dr2n4"
   },
   "source": [
    "# Import Gymnasium and Initialize Your Enviornment"
   ]
  },
  {
   "cell_type": "code",
   "execution_count": null,
   "metadata": {
    "id": "P3uQi6W_sNF8"
   },
   "outputs": [],
   "source": [
    "import gymnasium as gym\n",
    "\n",
    "env = gym.make(\"Acrobot-v1\", render_mode=\"rgb_array\")\n",
    "\n",
    "# Uncomment if you want to Upload Videos of your enviornment with Comet\n",
    "# env = gym.wrappers.RecordVideo(env, 'test')"
   ]
  },
  {
   "cell_type": "markdown",
   "metadata": {
    "id": "g4c6nL7ysczO"
   },
   "source": [
    "# Initialize your Comet Experiment and Wrap your Environment with the Comet Logger"
   ]
  },
  {
   "cell_type": "code",
   "execution_count": null,
   "metadata": {
    "id": "bxUWMLHJtCxw"
   },
   "outputs": [],
   "source": [
    "from comet_ml.integration.gymnasium import CometLogger\n",
    "\n",
    "experiment = comet_ml.Experiment()\n",
    "\n",
    "env = CometLogger(env, experiment)"
   ]
  },
  {
   "cell_type": "markdown",
   "metadata": {
    "id": "RkHkaVn5t8O5"
   },
   "source": [
    "# Step Through The Environment Randomly For 20 Episodes \n"
   ]
  },
  {
   "cell_type": "code",
   "execution_count": null,
   "metadata": {
    "id": "Go-xDU-7uLl0"
   },
   "outputs": [],
   "source": [
    "for x in range(20):\n",
    "\n",
    "    observation, info = env.reset()\n",
    "    truncated = False\n",
    "    terminated = False\n",
    "    while not (truncated or terminated):\n",
    "        observation, reward, terminated, truncated, info = env.step(\n",
    "            env.action_space.sample()\n",
    "        )\n",
    "        env.render()\n",
    "\n",
    "env.close()  # Will Upload videos to Comet if RecordVideo was used"
   ]
  },
  {
   "cell_type": "markdown",
   "metadata": {
    "id": "EzpGq4xJuWcg"
   },
   "source": [
    "# View Metrics like Cumulative Episode Reward and Episode Length in Comet\n",
    "\n",
    "After running an experiment, run this cell to view the Comet UI in this notebook. "
   ]
  },
  {
   "cell_type": "code",
   "execution_count": null,
   "metadata": {
    "id": "wEowdeOxuqnH"
   },
   "outputs": [],
   "source": [
    "experiment.display(tab=\"charts\")"
   ]
  },
  {
   "cell_type": "code",
   "execution_count": null,
   "metadata": {
    "id": "yy6oDoYiKuSQ"
   },
   "outputs": [],
   "source": [
    "experiment.end()"
   ]
  }
 ],
 "metadata": {
  "colab": {
   "provenance": []
  },
  "kernelspec": {
   "display_name": "Python 3 (ipykernel)",
   "language": "python",
   "name": "python3"
  },
  "language_info": {
   "codemirror_mode": {
    "name": "ipython",
    "version": 3
   },
   "file_extension": ".py",
   "mimetype": "text/x-python",
   "name": "python",
   "nbconvert_exporter": "python",
   "pygments_lexer": "ipython3",
   "version": "3.9.1"
  }
 },
 "nbformat": 4,
 "nbformat_minor": 1
}
