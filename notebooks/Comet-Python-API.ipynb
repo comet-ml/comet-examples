{
 "cells": [
  {
   "cell_type": "markdown",
   "metadata": {},
   "source": [
    "<img src=\"https://www.comet.ml/images/logo_comet_light.png\" width=\"200px\"/>\n",
    "\n",
    "# Comet.ml Python API\n",
    "\n",
    "Comet.ml has an extensive interface to all of your data using a [REST API](https://en.wikipedia.org/wiki/Representational_state_transfer) through [Comet.ml endpoints](https://www.comet.ml/docs/rest-api/getting-started/). Now, you can access this information easily through the Comet.ml Python SDK. Requires version comet_ml version 3.0.0 or greater."
   ]
  },
  {
   "cell_type": "markdown",
   "metadata": {},
   "source": [
    "## Setup"
   ]
  },
  {
   "cell_type": "markdown",
   "metadata": {},
   "source": [
    "To install comet_ml:"
   ]
  },
  {
   "cell_type": "code",
   "execution_count": null,
   "metadata": {},
   "outputs": [],
   "source": [
    "%pip install -U \"comet_ml>=3.44.0\""
   ]
  },
  {
   "cell_type": "markdown",
   "metadata": {},
   "source": [
    "To run the following experiments, you'll need to set your COMET_API_KEY. The easiest way to to this is to use the `comet_ml.login()` function:"
   ]
  },
  {
   "cell_type": "code",
   "execution_count": null,
   "metadata": {},
   "outputs": [],
   "source": [
    "import comet_ml\n",
    "\n",
    "comet_ml.login()"
   ]
  },
  {
   "cell_type": "markdown",
   "metadata": {},
   "source": [
    "## Quick Overview\n",
    "\n",
    "To access the Python API through the Comet.ml SDK, you will need to make an API() instance. \n",
    "\n",
    "**Note: this is a new interface.**\n",
    "\n",
    "### What's new?\n",
    "\n",
    "The new API:\n",
    "\n",
    "* is faster, having more items cached\n",
    "* allows setting and logging more items\n",
    "* `APIExperiment` now works similarly to `Experiment`, `ExistingExperiment`, and `OfflineExperiment`\n",
    "* has a consistent interface\n",
    "\n",
    "Let's try it out! \n",
    "\n",
    "First, we import the API class and other libraries we will need. Note that this is a new interface and comes from `comet_ml.api`:"
   ]
  },
  {
   "cell_type": "code",
   "execution_count": 1,
   "metadata": {},
   "outputs": [],
   "source": [
    "from comet_ml import API\n",
    "import comet_ml\n",
    "\n",
    "import matplotlib.pyplot as plt\n",
    "\n",
    "%matplotlib inline"
   ]
  },
  {
   "cell_type": "markdown",
   "metadata": {},
   "source": [
    "and create the API instance:"
   ]
  },
  {
   "cell_type": "code",
   "execution_count": 2,
   "metadata": {},
   "outputs": [],
   "source": [
    "comet_api = API()"
   ]
  },
  {
   "cell_type": "markdown",
   "metadata": {},
   "source": [
    "Using the `comet_api` instance, you can get the name of your workspaces:"
   ]
  },
  {
   "cell_type": "code",
   "execution_count": 3,
   "metadata": {},
   "outputs": [
    {
     "data": {
      "text/plain": [
       "['sampleworkspace', 'cometpublic']"
      ]
     },
     "execution_count": 3,
     "metadata": {},
     "output_type": "execute_result"
    }
   ],
   "source": [
    "comet_api.get()"
   ]
  },
  {
   "cell_type": "markdown",
   "metadata": {},
   "source": [
    "If you reference your workspace by name using `comet_api.get(WORKSPACE_NAME)`, you'll see your projects:"
   ]
  },
  {
   "cell_type": "code",
   "execution_count": 4,
   "metadata": {},
   "outputs": [
    {
     "name": "stdout",
     "output_type": "stream",
     "text": [
      "['caffe2', 'ludwig', 'comet-sagemaker', 'fasttext', 'comet-notebooks', 'shap', 'parameter-space-exploration', 'comet-examples', 'fastai', '3d-histograms', 'pyspark-example', 'general', 'keras-example', 'home-credit']\n"
     ]
    }
   ],
   "source": [
    "print(comet_api.get(\"cometpublic\"))"
   ]
  },
  {
   "cell_type": "markdown",
   "metadata": {},
   "source": [
    "Or, get the projects from another user or shared workspace:"
   ]
  },
  {
   "cell_type": "code",
   "execution_count": 5,
   "metadata": {},
   "outputs": [
    {
     "data": {
      "text/plain": [
       "['mnist']"
      ]
     },
     "execution_count": 5,
     "metadata": {},
     "output_type": "execute_result"
    }
   ],
   "source": [
    "comet_api.get(\"testuser\")"
   ]
  },
  {
   "cell_type": "markdown",
   "metadata": {},
   "source": [
    "Using the same method, you can refer to a project by name and get all of the experiments in a project:"
   ]
  },
  {
   "cell_type": "code",
   "execution_count": 6,
   "metadata": {},
   "outputs": [
    {
     "data": {
      "text/plain": [
       "[<APIExperiment 'cometpublic/fasttext/18e88395f6c44ffc9930c5323935f5d9'>,\n",
       " <APIExperiment 'cometpublic/fasttext/23db3466c7134a34b591de011c7595ba'>,\n",
       " <APIExperiment 'cometpublic/fasttext/52a4939f477c41e9936a3e16b87be324'>,\n",
       " <APIExperiment 'cometpublic/fasttext/990f58b9447b453ab18da1ea75cde85a'>,\n",
       " <APIExperiment 'cometpublic/fasttext/44ea2d68794d4c5e9e18b86c30562bf8'>,\n",
       " <APIExperiment 'cometpublic/fasttext/034d73233bdd45b7861c2acca66f90a1'>,\n",
       " <APIExperiment 'cometpublic/fasttext/86de6a38bd41489895bfdb44f74ab928'>,\n",
       " <APIExperiment 'cometpublic/fasttext/f0f23c9825834fd6a8d6ebfd2baeea26'>,\n",
       " <APIExperiment 'cometpublic/fasttext/328cf1303126404b96a32e8146c0bc89'>,\n",
       " <APIExperiment 'cometpublic/fasttext/dab224910ff44bb8aa0718612578584f'>,\n",
       " <APIExperiment 'cometpublic/fasttext/7005afd6a42446aab657e3d8255d01a3'>,\n",
       " <APIExperiment 'cometpublic/fasttext/17db4a9d68124b0bb6f78c805f78ab49'>,\n",
       " <APIExperiment 'cometpublic/fasttext/62d92ee769ca4ae19165deaf6653095c'>,\n",
       " <APIExperiment 'cometpublic/fasttext/be99897ab2a049868666f482f5cf1900'>,\n",
       " <APIExperiment 'cometpublic/fasttext/e34b7e2868324ed18a72e29e237b4608'>,\n",
       " <APIExperiment 'cometpublic/fasttext/dfb91dce76aa4abeaac61793b53ec8ab'>,\n",
       " <APIExperiment 'cometpublic/fasttext/e774ec41b7a64af8a423ed394a660705'>,\n",
       " <APIExperiment 'cometpublic/fasttext/b5812f495aea43729b2922c7d6102392'>,\n",
       " <APIExperiment 'cometpublic/fasttext/5e9f8097519f4b2f86e4daa8b3265300'>,\n",
       " <APIExperiment 'cometpublic/fasttext/43cd0aa2fec14a9a818e1b0e73a70a34'>,\n",
       " <APIExperiment 'cometpublic/fasttext/e64c5915920f481bab8f4cb4dbd615be'>]"
      ]
     },
     "execution_count": 6,
     "metadata": {},
     "output_type": "execute_result"
    }
   ],
   "source": [
    "comet_api.get(\"cometpublic\", \"fasttext\")"
   ]
  },
  {
   "cell_type": "markdown",
   "metadata": {},
   "source": [
    "Or, using the slash delimiter:"
   ]
  },
  {
   "cell_type": "code",
   "execution_count": 7,
   "metadata": {},
   "outputs": [
    {
     "data": {
      "text/plain": [
       "[<APIExperiment 'cometpublic/fasttext/18e88395f6c44ffc9930c5323935f5d9'>,\n",
       " <APIExperiment 'cometpublic/fasttext/23db3466c7134a34b591de011c7595ba'>,\n",
       " <APIExperiment 'cometpublic/fasttext/52a4939f477c41e9936a3e16b87be324'>,\n",
       " <APIExperiment 'cometpublic/fasttext/990f58b9447b453ab18da1ea75cde85a'>,\n",
       " <APIExperiment 'cometpublic/fasttext/44ea2d68794d4c5e9e18b86c30562bf8'>,\n",
       " <APIExperiment 'cometpublic/fasttext/034d73233bdd45b7861c2acca66f90a1'>,\n",
       " <APIExperiment 'cometpublic/fasttext/86de6a38bd41489895bfdb44f74ab928'>,\n",
       " <APIExperiment 'cometpublic/fasttext/f0f23c9825834fd6a8d6ebfd2baeea26'>,\n",
       " <APIExperiment 'cometpublic/fasttext/328cf1303126404b96a32e8146c0bc89'>,\n",
       " <APIExperiment 'cometpublic/fasttext/dab224910ff44bb8aa0718612578584f'>,\n",
       " <APIExperiment 'cometpublic/fasttext/7005afd6a42446aab657e3d8255d01a3'>,\n",
       " <APIExperiment 'cometpublic/fasttext/17db4a9d68124b0bb6f78c805f78ab49'>,\n",
       " <APIExperiment 'cometpublic/fasttext/62d92ee769ca4ae19165deaf6653095c'>,\n",
       " <APIExperiment 'cometpublic/fasttext/be99897ab2a049868666f482f5cf1900'>,\n",
       " <APIExperiment 'cometpublic/fasttext/e34b7e2868324ed18a72e29e237b4608'>,\n",
       " <APIExperiment 'cometpublic/fasttext/dfb91dce76aa4abeaac61793b53ec8ab'>,\n",
       " <APIExperiment 'cometpublic/fasttext/e774ec41b7a64af8a423ed394a660705'>,\n",
       " <APIExperiment 'cometpublic/fasttext/b5812f495aea43729b2922c7d6102392'>,\n",
       " <APIExperiment 'cometpublic/fasttext/5e9f8097519f4b2f86e4daa8b3265300'>,\n",
       " <APIExperiment 'cometpublic/fasttext/43cd0aa2fec14a9a818e1b0e73a70a34'>,\n",
       " <APIExperiment 'cometpublic/fasttext/e64c5915920f481bab8f4cb4dbd615be'>]"
      ]
     },
     "execution_count": 7,
     "metadata": {},
     "output_type": "execute_result"
    }
   ],
   "source": [
    "comet_api.get(\"cometpublic/fasttext\")"
   ]
  },
  {
   "cell_type": "markdown",
   "metadata": {},
   "source": [
    "And one more level, get an `APIExperiment` object using the Experiment's ID:"
   ]
  },
  {
   "cell_type": "code",
   "execution_count": 8,
   "metadata": {},
   "outputs": [
    {
     "data": {
      "text/plain": [
       "<APIExperiment 'cometpublic/fasttext/e64c5915920f481bab8f4cb4dbd615be'>"
      ]
     },
     "execution_count": 8,
     "metadata": {},
     "output_type": "execute_result"
    }
   ],
   "source": [
    "comet_api.get(\"cometpublic\", \"fasttext\", \"e64c5915920f481bab8f4cb4dbd615be\")"
   ]
  },
  {
   "cell_type": "markdown",
   "metadata": {},
   "source": [
    "Or, again using the slash shorthand:"
   ]
  },
  {
   "cell_type": "code",
   "execution_count": 9,
   "metadata": {},
   "outputs": [
    {
     "data": {
      "text/plain": [
       "<APIExperiment 'cometpublic/fasttext/e64c5915920f481bab8f4cb4dbd615be'>"
      ]
     },
     "execution_count": 9,
     "metadata": {},
     "output_type": "execute_result"
    }
   ],
   "source": [
    "comet_api.get(\"cometpublic/fasttext/e64c5915920f481bab8f4cb4dbd615be\")"
   ]
  },
  {
   "cell_type": "markdown",
   "metadata": {},
   "source": [
    "Let's get an experiment and save it to a variable named `exp`:"
   ]
  },
  {
   "cell_type": "code",
   "execution_count": 10,
   "metadata": {},
   "outputs": [],
   "source": [
    "exp = comet_api.get(\"cometpublic/fasttext/e64c5915920f481bab8f4cb4dbd615be\")"
   ]
  },
  {
   "cell_type": "code",
   "execution_count": 11,
   "metadata": {},
   "outputs": [
    {
     "data": {
      "text/plain": [
       "<APIExperiment 'cometpublic/fasttext/e64c5915920f481bab8f4cb4dbd615be'>"
      ]
     },
     "execution_count": 11,
     "metadata": {},
     "output_type": "execute_result"
    }
   ],
   "source": [
    "exp"
   ]
  },
  {
   "cell_type": "markdown",
   "metadata": {},
   "source": [
    "There are a number of items you get and set from the APIExperiment instance. For a complete reference, see: https://www.comet.ml/docs/python-sdk/API/"
   ]
  },
  {
   "cell_type": "markdown",
   "metadata": {},
   "source": [
    "For example, we can explore the `other` property, which shows items saved with Experiment.log_other(NAME, VALUE):"
   ]
  },
  {
   "cell_type": "code",
   "execution_count": 12,
   "metadata": {},
   "outputs": [
    {
     "data": {
      "text/plain": [
       "[{'name': 'Name',\n",
       "  'valueMax': 'last',\n",
       "  'valueMin': 'last',\n",
       "  'valueCurrent': 'last'},\n",
       " {'name': 'storage_size_bytes',\n",
       "  'valueMax': '0',\n",
       "  'valueMin': '0',\n",
       "  'valueCurrent': '0',\n",
       "  'timestampMax': 1574708415277,\n",
       "  'timestampMin': 1574708415277,\n",
       "  'timestampCurrent': 1574708415277},\n",
       " {'name': 'trainable_params',\n",
       "  'valueMax': '376560',\n",
       "  'valueMin': '376560',\n",
       "  'valueCurrent': '376560',\n",
       "  'timestampMax': 1529089066169,\n",
       "  'timestampMin': 1529089066169,\n",
       "  'timestampCurrent': 1529089066169}]"
      ]
     },
     "execution_count": 12,
     "metadata": {},
     "output_type": "execute_result"
    }
   ],
   "source": [
    "exp.get_others_summary()"
   ]
  },
  {
   "cell_type": "markdown",
   "metadata": {},
   "source": [
    "In this example, we see that the experiment has the `Name` \"last\". We can use `Name` to also look up experiments:"
   ]
  },
  {
   "cell_type": "code",
   "execution_count": 13,
   "metadata": {},
   "outputs": [
    {
     "data": {
      "text/plain": [
       "('e64c5915920f481bab8f4cb4dbd615be', 'last')"
      ]
     },
     "execution_count": 13,
     "metadata": {},
     "output_type": "execute_result"
    }
   ],
   "source": [
    "exp = comet_api.get(\"cometpublic/fasttext/last\")\n",
    "exp.id, exp.name"
   ]
  },
  {
   "cell_type": "markdown",
   "metadata": {},
   "source": [
    "Perhaps one of the most useful abilities for the Python API is to access your experiment's data in order to create a variation of a plot. To access the raw metric data, use the `.get_metrics()` method of the APIExperiment:"
   ]
  },
  {
   "cell_type": "code",
   "execution_count": 14,
   "metadata": {},
   "outputs": [
    {
     "data": {
      "text/plain": [
       "2804"
      ]
     },
     "execution_count": 14,
     "metadata": {},
     "output_type": "execute_result"
    }
   ],
   "source": [
    "len(exp.get_metrics())"
   ]
  },
  {
   "cell_type": "markdown",
   "metadata": {},
   "source": [
    "We see here were over 2800 metrics logged during the training of this experiment. We can get the first using indexing with an integer:"
   ]
  },
  {
   "cell_type": "code",
   "execution_count": 15,
   "metadata": {},
   "outputs": [
    {
     "data": {
      "text/plain": [
       "{'metricName': 'val_acc',\n",
       " 'metricValue': '0.9832226913061168',\n",
       " 'timestamp': 1529089066713,\n",
       " 'step': 69,\n",
       " 'epoch': None,\n",
       " 'runContext': None,\n",
       " 'offset': 314}"
      ]
     },
     "execution_count": 15,
     "metadata": {},
     "output_type": "execute_result"
    }
   ],
   "source": [
    "exp.get_metrics()[0]"
   ]
  },
  {
   "cell_type": "markdown",
   "metadata": {},
   "source": [
    "That shows that the \"acc\" (accuracy) metric had a value of about 0.5 at step 1 of the experiment.\n",
    "\n",
    "We can also filter on a single metric name, like so:"
   ]
  },
  {
   "cell_type": "code",
   "execution_count": 16,
   "metadata": {},
   "outputs": [],
   "source": [
    "acc_metrics = exp.get_metrics(\"acc\")"
   ]
  },
  {
   "cell_type": "code",
   "execution_count": 17,
   "metadata": {},
   "outputs": [
    {
     "data": {
      "text/plain": [
       "700"
      ]
     },
     "execution_count": 17,
     "metadata": {},
     "output_type": "execute_result"
    }
   ],
   "source": [
    "len(acc_metrics)"
   ]
  },
  {
   "cell_type": "code",
   "execution_count": 18,
   "metadata": {},
   "outputs": [
    {
     "data": {
      "text/plain": [
       "{'metricName': 'acc',\n",
       " 'metricValue': '0.5003255009651184',\n",
       " 'timestamp': 1529089066219,\n",
       " 'step': 1,\n",
       " 'epoch': None,\n",
       " 'runContext': None,\n",
       " 'offset': 29}"
      ]
     },
     "execution_count": 18,
     "metadata": {},
     "output_type": "execute_result"
    }
   ],
   "source": [
    "acc_metrics[0]"
   ]
  },
  {
   "cell_type": "markdown",
   "metadata": {},
   "source": [
    "Therefore, `exp.get_metrics(\"acc\")` gives us the dictionary for all \"acc\" items. We can then easily use Python's built in zip and matplotlib to plot these values:"
   ]
  },
  {
   "cell_type": "code",
   "execution_count": 19,
   "metadata": {},
   "outputs": [],
   "source": [
    "steps_acc = [(m[\"step\"], float(m[\"metricValue\"])) for m in acc_metrics]"
   ]
  },
  {
   "cell_type": "markdown",
   "metadata": {},
   "source": [
    "This breaks up the data into (step, value) pairs:"
   ]
  },
  {
   "cell_type": "code",
   "execution_count": 20,
   "metadata": {},
   "outputs": [
    {
     "data": {
      "text/plain": [
       "(1, 0.5003255009651184)"
      ]
     },
     "execution_count": 20,
     "metadata": {},
     "output_type": "execute_result"
    }
   ],
   "source": [
    "steps_acc[0]"
   ]
  },
  {
   "cell_type": "markdown",
   "metadata": {},
   "source": [
    "A little Python trick to separate the steps from the accuracies so we can easily use matplotlib:"
   ]
  },
  {
   "cell_type": "code",
   "execution_count": 21,
   "metadata": {},
   "outputs": [],
   "source": [
    "steps, acc = zip(*steps_acc[:100])  # just the first 100 for now"
   ]
  },
  {
   "cell_type": "code",
   "execution_count": 22,
   "metadata": {},
   "outputs": [
    {
     "data": {
      "image/png": "[encoded data removed]",
      "text/plain": [
       "<Figure size 432x288 with 1 Axes>"
      ]
     },
     "metadata": {
      "needs_background": "light"
     },
     "output_type": "display_data"
    }
   ],
   "source": [
    "plt.plot(steps, acc);"
   ]
  },
  {
   "cell_type": "markdown",
   "metadata": {},
   "source": [
    "That's it for a quick overview. Now let's look in detail at each component."
   ]
  },
  {
   "cell_type": "markdown",
   "metadata": {},
   "source": [
    "## Workspaces\n",
    "\n",
    "`comet_api.get()` reports your workspace names:"
   ]
  },
  {
   "cell_type": "code",
   "execution_count": 23,
   "metadata": {},
   "outputs": [
    {
     "data": {
      "text/plain": [
       "['sampleworkspace', 'cometpublic']"
      ]
     },
     "execution_count": 23,
     "metadata": {},
     "output_type": "execute_result"
    }
   ],
   "source": [
    "comet_api.get()"
   ]
  },
  {
   "cell_type": "markdown",
   "metadata": {},
   "source": [
    "You can also interate over those names:"
   ]
  },
  {
   "cell_type": "code",
   "execution_count": 24,
   "metadata": {},
   "outputs": [
    {
     "name": "stdout",
     "output_type": "stream",
     "text": [
      "sampleworkspace\n",
      "cometpublic\n"
     ]
    }
   ],
   "source": [
    "for workspace in comet_api.get():\n",
    "    print(workspace)"
   ]
  },
  {
   "cell_type": "markdown",
   "metadata": {},
   "source": [
    "As we saw above, you can also access other public workspaces as well:"
   ]
  },
  {
   "cell_type": "code",
   "execution_count": 25,
   "metadata": {},
   "outputs": [
    {
     "data": {
      "text/plain": [
       "['mnist']"
      ]
     },
     "execution_count": 25,
     "metadata": {},
     "output_type": "execute_result"
    }
   ],
   "source": [
    "comet_api.get(\"testuser\")"
   ]
  },
  {
   "cell_type": "markdown",
   "metadata": {},
   "source": [
    "## Projects\n",
    "\n",
    "Under get(WORKSPACE_NAME), you'll find the projects:"
   ]
  },
  {
   "cell_type": "code",
   "execution_count": 26,
   "metadata": {},
   "outputs": [
    {
     "data": {
      "text/plain": [
       "['caffe2',\n",
       " 'ludwig',\n",
       " 'comet-sagemaker',\n",
       " 'fasttext',\n",
       " 'comet-notebooks',\n",
       " 'shap',\n",
       " 'parameter-space-exploration',\n",
       " 'comet-examples',\n",
       " 'fastai',\n",
       " '3d-histograms',\n",
       " 'pyspark-example',\n",
       " 'general',\n",
       " 'keras-example',\n",
       " 'home-credit']"
      ]
     },
     "execution_count": 26,
     "metadata": {},
     "output_type": "execute_result"
    }
   ],
   "source": [
    "comet_api.get(\"cometpublic\")"
   ]
  },
  {
   "cell_type": "code",
   "execution_count": 27,
   "metadata": {},
   "outputs": [],
   "source": [
    "project = comet_api.get(\"cometpublic\", \"comet-notebooks\")\n",
    "## OR:\n",
    "# project = comet_api.get(\"cometpublic/comet-notebooks\")"
   ]
  },
  {
   "cell_type": "markdown",
   "metadata": {},
   "source": [
    "If you just print out, or iterate over a project, you get access to the experiments:"
   ]
  },
  {
   "cell_type": "code",
   "execution_count": 28,
   "metadata": {},
   "outputs": [
    {
     "data": {
      "text/plain": [
       "[<APIExperiment 'cometpublic/comet-notebooks/7092a5e4c362453fb0b3f06785a1d30c'>,\n",
       " <APIExperiment 'cometpublic/comet-notebooks/d21f94a1c71841d2961da1e6ddb5ab20'>]"
      ]
     },
     "execution_count": 28,
     "metadata": {},
     "output_type": "execute_result"
    }
   ],
   "source": [
    "project"
   ]
  },
  {
   "cell_type": "code",
   "execution_count": 29,
   "metadata": {},
   "outputs": [
    {
     "data": {
      "text/plain": [
       "('7092a5e4c362453fb0b3f06785a1d30c', None)"
      ]
     },
     "execution_count": 29,
     "metadata": {},
     "output_type": "execute_result"
    }
   ],
   "source": [
    "project[0].id, project[0].name"
   ]
  },
  {
   "cell_type": "code",
   "execution_count": 30,
   "metadata": {},
   "outputs": [
    {
     "data": {
      "text/plain": [
       "('d21f94a1c71841d2961da1e6ddb5ab20', 'example 001')"
      ]
     },
     "execution_count": 30,
     "metadata": {},
     "output_type": "execute_result"
    }
   ],
   "source": [
    "project[1].id, project[1].name"
   ]
  },
  {
   "cell_type": "markdown",
   "metadata": {},
   "source": [
    "## Experiments\n",
    "\n",
    "Continuing with the dictionary-like access, you can see and iterate over the experiment ids:"
   ]
  },
  {
   "cell_type": "code",
   "execution_count": 31,
   "metadata": {},
   "outputs": [
    {
     "data": {
      "text/plain": [
       "[<APIExperiment 'cometpublic/comet-notebooks/7092a5e4c362453fb0b3f06785a1d30c'>,\n",
       " <APIExperiment 'cometpublic/comet-notebooks/d21f94a1c71841d2961da1e6ddb5ab20'>]"
      ]
     },
     "execution_count": 31,
     "metadata": {},
     "output_type": "execute_result"
    }
   ],
   "source": [
    "comet_api.get(\"cometpublic\", \"comet-notebooks\")"
   ]
  },
  {
   "cell_type": "code",
   "execution_count": 32,
   "metadata": {},
   "outputs": [
    {
     "data": {
      "text/plain": [
       "<APIExperiment 'cometpublic/comet-notebooks/d21f94a1c71841d2961da1e6ddb5ab20'>"
      ]
     },
     "execution_count": 32,
     "metadata": {},
     "output_type": "execute_result"
    }
   ],
   "source": [
    "exp = comet_api.get(\n",
    "    \"cometpublic\", \"comet-notebooks\", \"d21f94a1c71841d2961da1e6ddb5ab20\"\n",
    ")\n",
    "## OR\n",
    "# exp = comet_api.get(\"cometpublic/comet-notebooks/d21f94a1c71841d2961da1e6ddb5ab20\")\n",
    "exp"
   ]
  },
  {
   "cell_type": "code",
   "execution_count": 33,
   "metadata": {},
   "outputs": [
    {
     "data": {
      "text/plain": [
       "<APIExperiment 'cometpublic/comet-notebooks/d21f94a1c71841d2961da1e6ddb5ab20'>"
      ]
     },
     "execution_count": 33,
     "metadata": {},
     "output_type": "execute_result"
    }
   ],
   "source": [
    "exp = comet_api.get(\"cometpublic\", \"comet-notebooks\", \"example 001\")\n",
    "## OR\n",
    "## exp = comet_api.get(\"cometpublic/comet-notebooks/example 001\")\n",
    "exp"
   ]
  },
  {
   "cell_type": "markdown",
   "metadata": {},
   "source": [
    "### Regular Expression Experiment Name Matching\n",
    "\n",
    "You can also use regular expressions as the name for the experiment:"
   ]
  },
  {
   "cell_type": "code",
   "execution_count": 34,
   "metadata": {},
   "outputs": [
    {
     "data": {
      "text/plain": [
       "[<APIExperiment 'cometpublic/comet-notebooks/d21f94a1c71841d2961da1e6ddb5ab20'>]"
      ]
     },
     "execution_count": 34,
     "metadata": {},
     "output_type": "execute_result"
    }
   ],
   "source": [
    "comet_api.get_experiments(\"cometpublic\", \"comet-notebooks\", \"example.*\")"
   ]
  },
  {
   "cell_type": "markdown",
   "metadata": {},
   "source": [
    "### Query API\n",
    "\n",
    "The Python API provides programmatic access to the same query system in the web UI. There are 5 types of items that you can query:\n",
    "\n",
    "* Metric: items logged with `log_metric()`\n",
    "* Metadata: items logged by the system\n",
    "* Other: items logged with `log_other()`\n",
    "* Parameter: items logged with `log_parameter()`\n",
    "* Tag: items logged with `add_tags()`\n",
    "\n",
    "To use these, you first need to import them:"
   ]
  },
  {
   "cell_type": "code",
   "execution_count": 36,
   "metadata": {},
   "outputs": [],
   "source": [
    "from comet_ml.api import Metric, Metadata, Other, Parameter, Tag"
   ]
  },
  {
   "cell_type": "markdown",
   "metadata": {},
   "source": [
    "You can then use these to build a query expression, like so:"
   ]
  },
  {
   "cell_type": "code",
   "execution_count": 37,
   "metadata": {},
   "outputs": [
    {
     "data": {
      "text/plain": [
       "[<APIExperiment 'cometpublic/general/4d4fba0f6bac4420bb5948e41015c114'>,\n",
       " <APIExperiment 'cometpublic/general/be44937e416b4b62be79ee2e7c0c3c4e'>]"
      ]
     },
     "execution_count": 37,
     "metadata": {},
     "output_type": "execute_result"
    }
   ],
   "source": [
    "comet_api.query(\"cometpublic\", \"general\", Parameter(\"max_iter\") == 100)"
   ]
  },
  {
   "cell_type": "markdown",
   "metadata": {},
   "source": [
    "The API.query() method takes the following args:\n",
    "\n",
    "* workspace: String, the name of the workspace\n",
    "* project_name: String, the name of the project\n",
    "* query: a query expression (see below)\n",
    "* archived: (optional boolean), query the archived experiments if True\n",
    "\n",
    "A query is of the form:\n",
    "\n",
    "```python\n",
    "((QUERY-VARIABLE OPERATOR VALUE) & ...)\n",
    "\n",
    "# or:\n",
    "\n",
    "(QUERY-VARIABLE.METHOD(VALUE) & ...)\n",
    "```\n",
    "\n",
    "where:\n",
    "\n",
    "* `QUERY-VARIABLE` is `Metric(NAME)`, `Parameter(NAME)`, `Other(NAME)`, `Metadata(NAME)`, or `Tag(VALUE)`.\n",
    "* `OPERATOR` is any of the standard mathematical operators `==`, `<=`, `>=`, `!=`, `<`, `>`.\n",
    "* `METHOD` is `between()`, `contains()`, `startswith()`, or `endswith()`.\n",
    "\n",
    "You may also place the bitwise `~` not operator in front of an expression\n",
    "which means to invert the expression. Use `&` to combine additional\n",
    "criteria. Currently, `|` (bitwise or) is not supported.\n",
    "\n",
    "`VALUE` can be any query type, includeing `string`, `boolean`, `double`,\n",
    "`datetime`, or `timenumber` (number of seconds). `None` and `\"\"` are special\n",
    "values that mean `NULL` and `EMPTY`, respectively. Use\n",
    "`API.get_project_variables(WORKSPACE, PROJECT_NAME)` to see query variables\n",
    "and types for a project.\n",
    "\n",
    "When using `datetime`, be aware that the backend is using UTC datetimes. If you\n",
    "do not receive the correct experiments via a datetime query, please check with\n",
    "the web UI query builder to verify timezone of the server.\n",
    "\n",
    "`query()` returns a list of matching `APIExperiments()`.\n",
    "\n",
    "Examples:\n",
    "\n",
    "```python\n",
    "# Find all experiments that have an acc metric value > .98:\n",
    ">>> api.query(\"workspace\", \"project\", Metric(\"acc\") > .98)\n",
    "[APIExperiment(), ...]\n",
    "\n",
    "# Find all experiments that have a loss metric < .1 and\n",
    "# a learning_rate parameter value >= 0.3:\n",
    ">>> loss = Metric(\"loss\")\n",
    ">>> lr = Parameter(\"learning_rate\")\n",
    ">>> query = ((loss < .1) & (lr >= 0.3))\n",
    ">>> api.query(\"workspace\", \"project\", query)\n",
    "[APIExperiment(), ...]\n",
    "\n",
    "# Find all of the experiments tagged \"My simple tag\":\n",
    ">>> tagged = Metric(\"My simple tag\")\n",
    ">>> api.query(\"workspace\", \"project\", tagged)\n",
    "[APIExperiment(), ...]\n",
    "\n",
    "# Find all experiments started before Sept 24, 2019 at 5:00am:\n",
    ">>> q = Metadata(\"start_server_timestamp\") < datetime(2019, 9, 24, 5)\n",
    ">>> api.query(\"workspace\", \"project\", q)\n",
    "[APIExperiment(), ...]\n",
    "\n",
    "# Find all experiments lasting more that 2 minutes (in seconds):\n",
    ">>> q = Metadata(\"duration\") > (2 * 60)\n",
    ">>> api.query(\"workspace\", \"project\", q)\n",
    "[APIExperiment(), ...]\n",
    "```\n",
    "\n",
    "Notes:\n",
    "\n",
    "* Use `~` for `not` on any expression\n",
    "* Use `~QUERY-VARIABLE.between(2,3)` for values not between 2 and 3\n",
    "* Use `(QUERY-VARIABLE == True)` for truth\n",
    "* Use `(QUERY-VARIABLE == False)` for not true\n",
    "* Use `(QUERY-VARIABLE == None)` for testing null\n",
    "* Use `(QUERY-VARIABLE != None)` or `~(QUERY-VARIABLE == None)` for testing not null\n",
    "* Use `(QUERY-VARIABLE == \"\")` for testing empty\n",
    "* Use `(QUERY-VARIABLE != \"\")` or `~(QUERY-VARIABLE == \"\")` for testing not empty\n",
    "* Use Python's datetime(YEAR, MONTH, DAY, HOUR, MINUTE, SECONDS) for comparing datetimes, like\n",
    "    `Metadata(\"start_server_timestamp\")` or `Metadata(\"end_server_timestamp\")`\n",
    "* Use seconds for comparing timenumbers, like `Metadata(\"duration\")`\n",
    "* Use `API.get_project_variables(WORKSPACE, PROJECT_NAME)` to see query variables\n",
    "    and types.\n",
    "\n",
    "Do not use 'and', 'or', 'not', 'is', or 'in'. These are logical operators and you must use mathematical operators for queries. For example, always use '==' where you might usually use 'is'.\n",
    "\n",
    "How can you know what query variables are available for a project? Use API.get_query_variables(WORKSPACE, PROJECT_NAME):"
   ]
  },
  {
   "cell_type": "code",
   "execution_count": 38,
   "metadata": {},
   "outputs": [],
   "source": [
    "vars = comet_api.get_query_variables(\"cometpublic\", \"general\")"
   ]
  },
  {
   "cell_type": "code",
   "execution_count": 39,
   "metadata": {},
   "outputs": [
    {
     "data": {
      "text/plain": [
       "[Metadata('hasNotes'),\n",
       " Metadata('duration'),\n",
       " Metric('sys.cpu.percent.04'),\n",
       " Parameter('warm_start'),\n",
       " Metric('sys.cpu.percent.avg'),\n",
       " Parameter('learning_rate'),\n",
       " Metric('train_reg_mean_loss'),\n",
       " Metadata('file_name'),\n",
       " Metric('sys.ram.total'),\n",
       " Parameter('beta2'),\n",
       " Metadata('experimentKey'),\n",
       " Parameter('run_arg_2'),\n",
       " Metric('sys.ram.used'),\n",
       " Parameter('intercept_scaling'),\n",
       " Metadata('end_server_timestamp'),\n",
       " Metric('sys.cpu.percent.08'),\n",
       " Metadata('file_path'),\n",
       " Metadata('runActive'),\n",
       " Parameter('C'),\n",
       " Metric('class/train_batch_mean_hits_at_k_class'),\n",
       " Parameter('run_arg_4'),\n",
       " Parameter('max_iter'),\n",
       " Metadata('runId'),\n",
       " Metric('sys.cpu.percent.03'),\n",
       " Parameter('curr_step'),\n",
       " Parameter('class_weight'),\n",
       " Parameter('multi_class'),\n",
       " Metric('sys.cpu.percent.01'),\n",
       " Parameter('fit_intercept'),\n",
       " Metadata('optimizationId'),\n",
       " Parameter('run_arg_3'),\n",
       " Metric('sys.cpu.percent.02'),\n",
       " Parameter('penalty'),\n",
       " Parameter('beta1'),\n",
       " Metadata('codeSHA'),\n",
       " Parameter('epsilon'),\n",
       " Parameter('solver'),\n",
       " Metric('class/train_mean_loss_class'),\n",
       " Metadata('installed_packages'),\n",
       " Metadata('last_message_time'),\n",
       " Metadata('hasImages'),\n",
       " Metadata('user_name'),\n",
       " Metadata('start_server_timestamp'),\n",
       " Parameter('tol'),\n",
       " Parameter('Optimizer'),\n",
       " Other('throttled'),\n",
       " Parameter('verbose'),\n",
       " Metric('sys.cpu.percent.05'),\n",
       " Metric('class/train_batch_accuracy_class'),\n",
       " Parameter('run_arg_1'),\n",
       " Metadata('hasHtml'),\n",
       " Parameter('dual'),\n",
       " Tag('ludwig'),\n",
       " Metric('sys.cpu.percent.07'),\n",
       " Parameter('n_jobs'),\n",
       " Parameter('run_arg_0'),\n",
       " Other('storage_size_bytes'),\n",
       " Metric('sys.cpu.percent.06'),\n",
       " Parameter('random_state'),\n",
       " Metric('sys.load.avg')]"
      ]
     },
     "execution_count": 39,
     "metadata": {},
     "output_type": "execute_result"
    }
   ],
   "source": [
    "vars"
   ]
  },
  {
   "cell_type": "markdown",
   "metadata": {},
   "source": [
    "### Experiment Properties"
   ]
  },
  {
   "cell_type": "markdown",
   "metadata": {},
   "source": [
    "In this brief dictionary representation, you will see that `get_others_summary()`, `get_metrics_summary()` and `get_parameters_summary()` give summary data for each item:"
   ]
  },
  {
   "cell_type": "code",
   "execution_count": 40,
   "metadata": {},
   "outputs": [
    {
     "data": {
      "text/plain": [
       "[{'name': 'f',\n",
       "  'valueMax': '/run/user/1000/jupyter/kernel-b1c4403c-c673-4e7f-90dc-853616d231e2.json',\n",
       "  'valueMin': '/run/user/1000/jupyter/kernel-b1c4403c-c673-4e7f-90dc-853616d231e2.json',\n",
       "  'valueCurrent': '/run/user/1000/jupyter/kernel-b1c4403c-c673-4e7f-90dc-853616d231e2.json',\n",
       "  'timestampMax': 1542823692798,\n",
       "  'timestampMin': 1542823692798,\n",
       "  'timestampCurrent': 1542823692798}]"
      ]
     },
     "execution_count": 40,
     "metadata": {},
     "output_type": "execute_result"
    }
   ],
   "source": [
    "exp.get_parameters_summary()"
   ]
  },
  {
   "cell_type": "code",
   "execution_count": 41,
   "metadata": {},
   "outputs": [
    {
     "data": {
      "text/plain": [
       "('Name', 'example 001')"
      ]
     },
     "execution_count": 41,
     "metadata": {},
     "output_type": "execute_result"
    }
   ],
   "source": [
    "exp.get_others_summary()[0][\"name\"], exp.get_others_summary()[0][\"valueCurrent\"]"
   ]
  },
  {
   "cell_type": "code",
   "execution_count": 42,
   "metadata": {},
   "outputs": [
    {
     "data": {
      "text/plain": [
       "{'name': 'train_loss',\n",
       " 'valueMax': '2.3872790336608887',\n",
       " 'valueMin': '2.3872790336608887',\n",
       " 'valueCurrent': '2.3872790336608887',\n",
       " 'timestampMax': 1542823695820,\n",
       " 'timestampMin': 1542823695820,\n",
       " 'timestampCurrent': 1542823695820,\n",
       " 'runContextMax': 'train',\n",
       " 'runContextMin': 'train',\n",
       " 'runContextCurrent': 'train',\n",
       " 'stepMax': 0,\n",
       " 'stepMin': 0,\n",
       " 'stepCurrent': 0}"
      ]
     },
     "execution_count": 42,
     "metadata": {},
     "output_type": "execute_result"
    }
   ],
   "source": [
    "exp.get_metrics_summary(\"train_loss\")"
   ]
  },
  {
   "cell_type": "markdown",
   "metadata": {},
   "source": [
    "You can see more information on the methods and propeties on an APIExperiment instance here: https://www.comet.ml/docs/python-sdk/APIExperiment/"
   ]
  },
  {
   "cell_type": "markdown",
   "metadata": {},
   "source": [
    "Just like when creating and logging data, you can also use the `.display()` method to show the Comet.ml page for that experiment right in the notebook:"
   ]
  },
  {
   "cell_type": "code",
   "execution_count": 43,
   "metadata": {},
   "outputs": [
    {
     "data": {
      "text/html": [
       "\n",
       "        <iframe\n",
       "            width=\"100%\"\n",
       "            height=\"800px\"\n",
       "            src=\"https://www.comet.ml/cometpublic/comet-notebooks/d21f94a1c71841d2961da1e6ddb5ab20\"\n",
       "            frameborder=\"0\"\n",
       "            allowfullscreen\n",
       "        ></iframe>\n",
       "        "
      ],
      "text/plain": [
       "<IPython.lib.display.IFrame at 0x7f5313676710>"
      ]
     },
     "metadata": {},
     "output_type": "display_data"
    }
   ],
   "source": [
    "exp.display()"
   ]
  },
  {
   "cell_type": "markdown",
   "metadata": {},
   "source": [
    "### Logging data\n",
    "\n",
    "With this version of the API, you can now easily log, set, and add data to an experiment, either one that you just created, or one that existed previously.\n",
    "\n",
    "To create a new APIExperiment, you can (assuming that your API key, workspace, and project name have been set in a Comet configure file):\n",
    "\n",
    "```python\n",
    "from comet_ml.api import APIExperiment\n",
    "api_experiment = APIExperiment()\n",
    "```\n",
    "\n",
    "If you have not set your API key, workspace, and project name, you can pass any and all to the constructor:\n",
    "\n",
    "```python\n",
    "from comet_ml.api import APIExperiment\n",
    "api_experiment = APIExperiment(api_key=\"MY-KEY\", \n",
    "                               workspace=\"MY-WORKSPACE\",\n",
    "                               project_name=\"MY-PROJECT\")\n",
    "```\n",
    "\n",
    "To create an APIExperiment from a previously-made experiment, you can (assuming that your keys have been set):\n",
    "\n",
    "```python\n",
    "from comet_ml.api import APIExperiment\n",
    "api_experiment = APIExperiment(previous_experiment=\"7364746746743746\") # previous experiment key or name\n",
    "```\n",
    "\n",
    "Once you have an APIExperiment, you can log, set, and add items to the experiment. You can use any of the following methods:\n",
    "\n",
    "* api_experiment.log_output(lines, context=None, stderr=False)\n",
    "* api_experiment.log_other(key, value)\n",
    "* api_experiment.log_parameter(parameter, value, step=None)\n",
    "* api_experiment.log_metric(metric, value, step=None)\n",
    "* api_experiment.log_html(html, overwrite=False)\n",
    "* api_experiment.log_asset(filename, step=None, overwrite=None, context=None)\n",
    "* api_experiment.log_image(filename, image_name=None, step=None, overwrite=None, context=None)\n",
    "* api_experiment.add_tags(tags)\n",
    "* api_experiment.set_code(code)\n",
    "* api_experiment.set_model_graph(graph)\n",
    "* api_experiment.set_os_packages(os_packages)\n",
    "* api_experiment.set_start_time(start_server_timestamp)\n",
    "* api_experiment.set_end_time(end_server_timestamp)\n",
    "\n",
    "### Existing Experiments\n",
    "\n",
    "For many aspects of an experiment, you can log them with the Python API. However, to get the full power of the streaming `Experiment` interface, you can create an `ExistingExperiment`.\n",
    "\n",
    "First, we can look up an experiment using any of the methods outlined here:"
   ]
  },
  {
   "cell_type": "code",
   "execution_count": 44,
   "metadata": {},
   "outputs": [],
   "source": [
    "api_experiment = comet_api.get(\"cometpublic\", \"comet-notebooks\", \"example 001\")"
   ]
  },
  {
   "cell_type": "markdown",
   "metadata": {},
   "source": [
    "Then, we can use the APIExperiment.id property to make an `ExistingExperiment`:"
   ]
  },
  {
   "cell_type": "code",
   "execution_count": 45,
   "metadata": {},
   "outputs": [
    {
     "name": "stderr",
     "output_type": "stream",
     "text": [
      "COMET INFO: Experiment is live on comet.ml https://www.comet.ml/cometpublic/comet-notebooks/d21f94a1c71841d2961da1e6ddb5ab20\n",
      "\n"
     ]
    }
   ],
   "source": [
    "existing_experiment = comet_ml.ExistingExperiment(previous_experiment=api_experiment.id)"
   ]
  },
  {
   "cell_type": "markdown",
   "metadata": {},
   "source": [
    "You can make changes to the saved data using the existing experiment:\n",
    "\n",
    "https://www.comet.ml/docs/python-sdk/ExistingExperiment/"
   ]
  },
  {
   "cell_type": "code",
   "execution_count": 46,
   "metadata": {},
   "outputs": [
    {
     "name": "stderr",
     "output_type": "stream",
     "text": [
      "COMET INFO: ----------------------------\n",
      "COMET INFO: Comet.ml Experiment Summary:\n",
      "COMET INFO:   Data:\n",
      "COMET INFO:     url: https://www.comet.ml/cometpublic/comet-notebooks/d21f94a1c71841d2961da1e6ddb5ab20\n",
      "COMET INFO: ----------------------------\n",
      "COMET INFO: Uploading stats to Comet before program termination (may take several seconds)\n"
     ]
    }
   ],
   "source": [
    "existing_experiment.end()"
   ]
  },
  {
   "cell_type": "markdown",
   "metadata": {},
   "source": [
    "### Examples\n",
    "\n",
    "As seen above, you can use the Query API that allows highly efficient queries of your data. However, you can also write your own query of sorts if you need to go beyond what the Query API provides.\n",
    "\n",
    "Here is some code that prints out the names of experiments that have associated HTML (this can take a long time if you have many experiments):"
   ]
  },
  {
   "cell_type": "code",
   "execution_count": 47,
   "metadata": {},
   "outputs": [
    {
     "name": "stdout",
     "output_type": "stream",
     "text": [
      "    processing project release-2-0-12c ...\n",
      "        processing experiment d21f94a1c71841d2961da1e6ddb5ab20.\n",
      "Found html in https://www.comet.ml/dsblank/release-2-0-12c/0f22eef674174082b8bcb2b78b116343!\n",
      "\n",
      "CPU times: user 45.1 ms, sys: 1.01 ms, total: 46.1 ms\n",
      "Wall time: 1 s\n"
     ]
    }
   ],
   "source": [
    "%%time\n",
    "workspace = \"dsblank\"\n",
    "found = False\n",
    "for project in comet_api.get(workspace):\n",
    "    if found:\n",
    "        break\n",
    "    print(\"    processing project\", project, \"...\")\n",
    "    print(\"        processing experiment\", exp.id, end=\"\")\n",
    "    for exp in comet_api.get(workspace, project):\n",
    "        print(\".\", end=\"\")\n",
    "        if exp.get_html() != None:\n",
    "            print(\"\\nFound html in %s!\" % exp.url)\n",
    "            found = True\n",
    "            break\n",
    "    print()"
   ]
  },
  {
   "cell_type": "markdown",
   "metadata": {},
   "source": [
    "Here is a function that will find the first experiment that has associated images:"
   ]
  },
  {
   "cell_type": "code",
   "execution_count": 48,
   "metadata": {},
   "outputs": [],
   "source": [
    "def find_image():\n",
    "    for workspace in comet_api.get():\n",
    "        for project in comet_api.get(workspace):\n",
    "            for exp in comet_api.get(workspace, project):\n",
    "                if exp.get_asset_list(asset_type=\"image\") != []:\n",
    "                    return exp"
   ]
  },
  {
   "cell_type": "code",
   "execution_count": 49,
   "metadata": {},
   "outputs": [
    {
     "data": {
      "text/plain": [
       "<APIExperiment 'cometpublic/ludwig/02a0ed902ce2481fb6e2fc9009ee593c'>"
      ]
     },
     "execution_count": 49,
     "metadata": {},
     "output_type": "execute_result"
    }
   ],
   "source": [
    "find_image()"
   ]
  },
  {
   "cell_type": "markdown",
   "metadata": {},
   "source": [
    "Now, we get the experiment API and explore the `APIExperiment.get_asset_list()` method:"
   ]
  },
  {
   "cell_type": "code",
   "execution_count": 50,
   "metadata": {},
   "outputs": [
    {
     "data": {
      "text/plain": [
       "[{'fileName': 'Figure(640x480).svg',\n",
       "  'fileSize': 35241,\n",
       "  'runContext': None,\n",
       "  'step': None,\n",
       "  'link': 'https://s3.amazonaws.com/comet.ml/yLB5azBCky96p5Q5IJJJA4est.svg',\n",
       "  'compressedAssetLink': None,\n",
       "  'createdAt': 1555703549582,\n",
       "  'dir': 'media',\n",
       "  'canView': True,\n",
       "  'audio': False,\n",
       "  'video': False,\n",
       "  'histogram': False,\n",
       "  'image': True,\n",
       "  'type': 'image',\n",
       "  'metadata': None,\n",
       "  'assetId': '5b6a596de48041c08c3395d80cc436f6'},\n",
       " {'fileName': 'Figure(640x480) (1).svg',\n",
       "  'fileSize': 34144,\n",
       "  'runContext': None,\n",
       "  'step': None,\n",
       "  'link': 'https://s3.amazonaws.com/comet.ml/kkn1Ca1jRnYCFa8SRCy2RMGUT.svg',\n",
       "  'compressedAssetLink': None,\n",
       "  'createdAt': 1555703600815,\n",
       "  'dir': 'media',\n",
       "  'canView': True,\n",
       "  'audio': False,\n",
       "  'video': False,\n",
       "  'histogram': False,\n",
       "  'image': True,\n",
       "  'type': 'image',\n",
       "  'metadata': None,\n",
       "  'assetId': '2d45468babff4bb08befcbc03f3af2fb'},\n",
       " {'fileName': 'Figure(640x480) (2).svg',\n",
       "  'fileSize': 34700,\n",
       "  'runContext': None,\n",
       "  'step': None,\n",
       "  'link': 'https://s3.amazonaws.com/comet.ml/7eisOw4COHuLwtEYMNELdVURi.svg',\n",
       "  'compressedAssetLink': None,\n",
       "  'createdAt': 1555703605506,\n",
       "  'dir': 'media',\n",
       "  'canView': True,\n",
       "  'audio': False,\n",
       "  'video': False,\n",
       "  'histogram': False,\n",
       "  'image': True,\n",
       "  'type': 'image',\n",
       "  'metadata': None,\n",
       "  'assetId': '0bb15be9522644b88fe36528ae15fa6f'},\n",
       " {'fileName': 'Figure(640x480) (3).svg',\n",
       "  'fileSize': 35032,\n",
       "  'runContext': None,\n",
       "  'step': None,\n",
       "  'link': 'https://s3.amazonaws.com/comet.ml/zCWecfRiaIw3EydI9L0BfN3y8.svg',\n",
       "  'compressedAssetLink': None,\n",
       "  'createdAt': 1555703613885,\n",
       "  'dir': 'media',\n",
       "  'canView': True,\n",
       "  'audio': False,\n",
       "  'video': False,\n",
       "  'histogram': False,\n",
       "  'image': True,\n",
       "  'type': 'image',\n",
       "  'metadata': None,\n",
       "  'assetId': '7e7e685298f848aea0d16f9dca76435e'},\n",
       " {'fileName': 'Figure(640x480) (4).svg',\n",
       "  'fileSize': 35956,\n",
       "  'runContext': None,\n",
       "  'step': None,\n",
       "  'link': 'https://s3.amazonaws.com/comet.ml/TQ8EKEUBjYtY1XNhSmp0LBFa0.svg',\n",
       "  'compressedAssetLink': None,\n",
       "  'createdAt': 1555703619030,\n",
       "  'dir': 'media',\n",
       "  'canView': True,\n",
       "  'audio': False,\n",
       "  'video': False,\n",
       "  'histogram': False,\n",
       "  'image': True,\n",
       "  'type': 'image',\n",
       "  'metadata': None,\n",
       "  'assetId': '95ad3b25b2c145b8be69035a7819495f'}]"
      ]
     },
     "execution_count": 50,
     "metadata": {},
     "output_type": "execute_result"
    }
   ],
   "source": [
    "comet_api.get(\"cometpublic/ludwig/02a0ed902ce2481fb6e2fc9009ee593c\").get_asset_list(\n",
    "    asset_type=\"image\"\n",
    ")"
   ]
  },
  {
   "cell_type": "markdown",
   "metadata": {},
   "source": [
    "We can get a URL for the image, and display it in the notebook:"
   ]
  },
  {
   "cell_type": "code",
   "execution_count": 51,
   "metadata": {},
   "outputs": [
    {
     "data": {
      "text/plain": [
       "'https://s3.amazonaws.com/comet.ml/yLB5azBCky96p5Q5IJJJA4est.svg'"
      ]
     },
     "execution_count": 51,
     "metadata": {},
     "output_type": "execute_result"
    }
   ],
   "source": [
    "asset_list = comet_api.get(\n",
    "    \"cometpublic/ludwig/02a0ed902ce2481fb6e2fc9009ee593c\"\n",
    ").get_asset_list(asset_type=\"image\")\n",
    "url = asset_list[0][\"link\"]\n",
    "url"
   ]
  },
  {
   "cell_type": "code",
   "execution_count": 52,
   "metadata": {},
   "outputs": [],
   "source": [
    "from IPython.display import Image"
   ]
  },
  {
   "cell_type": "code",
   "execution_count": 53,
   "metadata": {},
   "outputs": [
    {
     "data": {
      "text/html": [
       "<img src=\"https://s3.amazonaws.com/comet.ml/yLB5azBCky96p5Q5IJJJA4est.svg\"/>"
      ],
      "text/plain": [
       "<IPython.core.display.Image object>"
      ]
     },
     "execution_count": 53,
     "metadata": {},
     "output_type": "execute_result"
    }
   ],
   "source": [
    "Image(url=url)"
   ]
  },
  {
   "cell_type": "markdown",
   "metadata": {},
   "source": [
    "Now, let's write a short program that will find the run with the best accuracy given a workspace/project string:"
   ]
  },
  {
   "cell_type": "markdown",
   "metadata": {},
   "source": [
    "Can we get all of the `hidden_size` parameter values for the experiments in dsblank/pytorch?"
   ]
  },
  {
   "cell_type": "code",
   "execution_count": 54,
   "metadata": {},
   "outputs": [
    {
     "data": {
      "text/plain": [
       "[['100', '128', '28', '0.01', '10', '2', '2', '28'],\n",
       " ['100', 'true', '128', '28', '0.01', '10', '2', '2', '28'],\n",
       " ['100', '128', '28', '0.01', '10', '2', '2', '28'],\n",
       " ['100', '128', '28', '0.01', '10', '2', '2', '28'],\n",
       " ['100', '128', '28', '0.01', '10', '2', '2', '28'],\n",
       " ['100', '128', '28', '0.01', '10', '2', '2', '28'],\n",
       " ['100', '128', '28', '0.01', '10', '2', '2', '28'],\n",
       " ['100', '128', '28', '0.01', '10', '2', '2', '28'],\n",
       " ['100', '128', '28', '0.01', '10', '2', '2', '28'],\n",
       " ['100', '128', '28', '0.01', '10', '2', '2', '28'],\n",
       " ['100', '128', '28', '0.01', '10', '2', '2', '28'],\n",
       " ['100', '128', '28', '0.01', '10', '2', '2', '28'],\n",
       " ['100', '128', '28', '0.01', '10', '2', '2', '28'],\n",
       " ['100', '128', '28', '0.01', '10', '2', '2', '28'],\n",
       " ['100', '128', '28', '0.01', '10', '2', '2', '28'],\n",
       " ['100', '128', '28', '0.01', '10', '2', '2', '28'],\n",
       " ['100', '128', '28', '0.01', '10', '2', '2', '28'],\n",
       " ['100', '128', '28', '0.01', '10', '2', '2', '28'],\n",
       " ['100', '128', '28', '0.01', '10', '2', '2', '28'],\n",
       " ['100', '128', '28', '0.01', '10', '2', '2', '28'],\n",
       " ['100', '128', '28', '0.01', '10', '2', '2', '28'],\n",
       " ['100', '128', '28', '0.01', '10', '2', '2', '28'],\n",
       " ['100', '128', '28', '0.01', '10', '2', '2', '28'],\n",
       " ['100', '128', '28', '0.01', '10', '2', '2', '28'],\n",
       " ['100', '128', '28', '0.01', '10', '2', '2', '28'],\n",
       " ['100', '128', '28', '0.01', '10', '2', '2', '28'],\n",
       " ['100', '128', '28', '0.01', '10', '2', '2', '28'],\n",
       " ['100', '128', '28', '0.01', '10', '2', '2', '28'],\n",
       " ['100', '128', '28', '0.01', '10', '2', '2', '28'],\n",
       " ['100', '128', '28', '0.01', '10', '2', '2', '28'],\n",
       " ['100', '128', '28', '0.01', '10', '3', '2', '28'],\n",
       " ['100', '128', '28', '0.01', '10', '3', '2', '28'],\n",
       " ['100', '128', '28', '0.01', '10', '3', '2', '28'],\n",
       " ['100', '128', '28', '0.01', '10', '3', '2', '28'],\n",
       " ['100', '128', '28', '0.01', '10', '2', '2', '28', '0'],\n",
       " ['100', '128', '28', '0.01', '10', '2', '2', '28', '599'],\n",
       " ['100', '128', '28', '0.01', '10', '2', '2', '28', '599'],\n",
       " ['1199'],\n",
       " ['100', '128', '28', '0.01', '10', '2', '2', '28', '599'],\n",
       " ['100',\n",
       "  '361fadf1c712',\n",
       "  '/run/user/1000/jupyter/kernel-db3ca856-5af7-46ea-85f6-6fe462cae76b.json',\n",
       "  '128',\n",
       "  '28',\n",
       "  '0.01',\n",
       "  '10',\n",
       "  '3',\n",
       "  '2',\n",
       "  '28'],\n",
       " ['100', '128', '28', '0.01', '10', '2', '2', '28', '599']]"
      ]
     },
     "execution_count": 54,
     "metadata": {},
     "output_type": "execute_result"
    }
   ],
   "source": [
    "[\n",
    "    [p[\"valueCurrent\"] for p in exp.get_parameters_summary()]\n",
    "    for exp in comet_api.get(\"dsblank/pytorch\")\n",
    "]"
   ]
  },
  {
   "cell_type": "code",
   "execution_count": 55,
   "metadata": {},
   "outputs": [],
   "source": [
    "experiments = [\n",
    "    [\n",
    "        (exp, \"hidden_size\", int(param[\"valueCurrent\"]))\n",
    "        for param in exp.get_parameters_summary()\n",
    "        if param[\"name\"] == \"hidden_size\"\n",
    "    ]\n",
    "    for exp in comet_api.get(\"dsblank/pytorch\")\n",
    "]\n",
    "experiments = [e[0] for e in experiments if len(e) > 0]"
   ]
  },
  {
   "cell_type": "code",
   "execution_count": 56,
   "metadata": {},
   "outputs": [
    {
     "data": {
      "text/plain": [
       "(<APIExperiment 'dsblank/pytorch/5f540fc7894146f4bbfd21ebe8549fcf'>,\n",
       " 'hidden_size',\n",
       " 128)"
      ]
     },
     "execution_count": 56,
     "metadata": {},
     "output_type": "execute_result"
    }
   ],
   "source": [
    "experiments[0]"
   ]
  },
  {
   "cell_type": "markdown",
   "metadata": {},
   "source": [
    "### Assets\n",
    "\n",
    "To get an asset, you need to get the asset_id. You can see all of the assets related to a project using the `APIExperiment.get_asset_list()`:"
   ]
  },
  {
   "cell_type": "code",
   "execution_count": 57,
   "metadata": {},
   "outputs": [],
   "source": [
    "def find_asset(workspaces):\n",
    "    for ws in workspaces or comet_api.get():\n",
    "        for pj in comet_api.get(ws):\n",
    "            for exp in comet_api.get(ws, pj):\n",
    "                if exp.get_asset_list() != []:\n",
    "                    return (exp, exp.get_asset_list())\n",
    "\n",
    "\n",
    "exp, elist = find_asset([\"cometpublic\"])"
   ]
  },
  {
   "cell_type": "code",
   "execution_count": 58,
   "metadata": {},
   "outputs": [
    {
     "data": {
      "text/plain": [
       "<APIExperiment 'cometpublic/ludwig/02a0ed902ce2481fb6e2fc9009ee593c'>"
      ]
     },
     "execution_count": 58,
     "metadata": {},
     "output_type": "execute_result"
    }
   ],
   "source": [
    "exp"
   ]
  },
  {
   "cell_type": "code",
   "execution_count": 59,
   "metadata": {},
   "outputs": [
    {
     "data": {
      "text/plain": [
       "15"
      ]
     },
     "execution_count": 59,
     "metadata": {},
     "output_type": "execute_result"
    }
   ],
   "source": [
    "len(elist)"
   ]
  },
  {
   "cell_type": "markdown",
   "metadata": {},
   "source": [
    "From there, you can use the `APIExperiment.get_asset(asset_id)` method to get the asset."
   ]
  },
  {
   "cell_type": "code",
   "execution_count": 60,
   "metadata": {},
   "outputs": [],
   "source": [
    "description = exp.get_asset(\"0b256dc8858f4fbeb09228bc96074341\", return_type=\"json\")"
   ]
  },
  {
   "cell_type": "code",
   "execution_count": 61,
   "metadata": {},
   "outputs": [
    {
     "name": "stdout",
     "output_type": "stream",
     "text": [
      "{'command': '/Users/ceceliashao/.local/bin/ludwig experiment --data_csv reuters-allcats.csv --model_definition_file model_definition.yaml', 'commit_hash': '5fbec5d311db', 'dataset_type': 'generic', 'input_data': 'reuters-allcats.csv', 'ludwig_version': '0.1.1', 'model_definition': {'combiner': {'type': 'concat'}, 'input_features': [{'encoder': 'parallel_cnn', 'level': 'word', 'name': 'text', 'tied_weights': None, 'type': 'text'}], 'output_features': [{'dependencies': [], 'loss': {'class_similarities_temperature': 0, 'class_weights': 1, 'confidence_penalty': 0, 'distortion': 1, 'labels_smoothing': 0, 'negative_samples': 0, 'robust_lambda': 0, 'sampler': None, 'type': 'softmax_cross_entropy', 'unique': False, 'weight': 1}, 'name': 'class', 'reduce_dependencies': 'sum', 'reduce_input': 'sum', 'top_k': 3, 'type': 'category'}], 'preprocessing': {'bag': {'fill_value': '', 'format': 'space', 'lowercase': False, 'missing_value_strategy': 'fill_with_const', 'most_common': 10000}, 'binary': {'fill_value': 0, 'missing_value_strategy': 'fill_with_const'}, 'category': {'fill_value': '<UNK>', 'lowercase': False, 'missing_value_strategy': 'fill_with_const', 'most_common': 10000}, 'force_split': False, 'image': {'in_memory': True, 'missing_value_strategy': 'backfill', 'resize_method': 'crop_or_pad'}, 'numerical': {'fill_value': 0, 'missing_value_strategy': 'fill_with_const'}, 'sequence': {'fill_value': '', 'format': 'space', 'lowercase': False, 'missing_value_strategy': 'fill_with_const', 'most_common': 20000, 'padding': 'right', 'padding_symbol': '<PAD>', 'sequence_length_limit': 256, 'unknown_symbol': '<UNK>'}, 'set': {'fill_value': '', 'format': 'space', 'lowercase': False, 'missing_value_strategy': 'fill_with_const', 'most_common': 10000}, 'split_probabilities': [0.7, 0.1, 0.2], 'stratify': None, 'text': {'char_format': 'characters', 'char_most_common': 70, 'char_sequence_length_limit': 1024, 'fill_value': '', 'lowercase': True, 'missing_value_strategy': 'fill_with_const', 'padding': 'right', 'padding_symbol': '<PAD>', 'unknown_symbol': '<UNK>', 'word_format': 'space_punct', 'word_most_common': 20000, 'word_sequence_length_limit': 256}, 'timeseries': {'fill_value': '', 'format': 'space', 'missing_value_strategy': 'fill_with_const', 'padding': 'right', 'padding_value': 0, 'timeseries_length_limit': 256}}, 'training': {'batch_size': 128, 'bucketing_field': None, 'decay': False, 'decay_rate': 0.96, 'decay_steps': 10000, 'dropout_rate': 0.0, 'early_stop': 5, 'epochs': 1, 'eval_batch_size': 0, 'gradient_clipping': None, 'increase_batch_size_on_plateau': 0, 'increase_batch_size_on_plateau_max': 512, 'increase_batch_size_on_plateau_patience': 5, 'increase_batch_size_on_plateau_rate': 2, 'learning_rate': 0.001, 'learning_rate_warmup_epochs': 5, 'optimizer': {'beta1': 0.9, 'beta2': 0.999, 'epsilon': 1e-08, 'type': 'adam'}, 'reduce_learning_rate_on_plateau': 0, 'reduce_learning_rate_on_plateau_patience': 5, 'reduce_learning_rate_on_plateau_rate': 0.5, 'regularization_lambda': 0, 'regularizer': 'l2', 'staircase': False, 'validation_field': 'combined', 'validation_measure': 'loss'}}, 'random_seed': 42}\n"
     ]
    }
   ],
   "source": [
    "print(description)"
   ]
  },
  {
   "cell_type": "markdown",
   "metadata": {},
   "source": [
    "We hope that this gives you some ideas of how you can use the Comet Python API!"
   ]
  }
 ],
 "metadata": {
  "kernelspec": {
   "display_name": "Python 3 (ipykernel)",
   "language": "python",
   "name": "python3"
  },
  "language_info": {
   "codemirror_mode": {
    "name": "ipython",
    "version": 3
   },
   "file_extension": ".py",
   "mimetype": "text/x-python",
   "name": "python",
   "nbconvert_exporter": "python",
   "pygments_lexer": "ipython3",
   "version": "3.10.12"
  }
 },
 "nbformat": 4,
 "nbformat_minor": 4
}
