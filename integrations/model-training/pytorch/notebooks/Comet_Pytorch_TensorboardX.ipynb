{
 "cells": [
  {
   "cell_type": "markdown",
   "metadata": {
    "id": "PWVljpddz_vN"
   },
   "source": [
    "<img src=\"https://cdn.comet.ml/img/notebook_logo.png\">"
   ]
  },
  {
   "cell_type": "markdown",
   "metadata": {
    "id": "sRD48T2MnneE"
   },
   "source": [
    "# Introduction\n",
    "[TensorboardX](https://github.com/lanpa/tensorboardX) is an amazing project that enables users to leverage a Tensorboard like API to track and visualize their model metrics and parameters. \n",
    "\n",
    "[Comet](https://www.comet.ml/site/data-scientists/?utm_campaign=tensorboardx-integration&utm_medium=colab) is an MLOps Platform that is designed to help Data Scientists and Teams build better models faster! Comet provides tooling to track, Explain, Manage, and Monitor your models in a single place! It works with Jupyter Notebooks and Scripts and most importantely it's 100% free!\n",
    "\n",
    "Comet now supports autologging straight from TensorboardX! In this guide, we will show you how easy it is to get started with visualizing assets logged through TensorboardX within Comet. "
   ]
  },
  {
   "cell_type": "markdown",
   "metadata": {
    "id": "kGTkZMeXaEPo"
   },
   "source": [
    "# Setup \n",
    "\n",
    "---\n",
    "\n",
    "\n",
    "\n",
    "\n"
   ]
  },
  {
   "cell_type": "markdown",
   "metadata": {
    "id": "7J-z0VyRFZOi"
   },
   "source": [
    "## Install Dependencies"
   ]
  },
  {
   "cell_type": "code",
   "execution_count": null,
   "metadata": {
    "id": "jXjJey3xbI1C"
   },
   "outputs": [],
   "source": [
    "%pip install comet_ml tensorboardX torch torchvision matplotlib"
   ]
  },
  {
   "cell_type": "markdown",
   "metadata": {
    "id": "GxLDUJMXmGKJ"
   },
   "source": [
    "# Logging to Comet "
   ]
  },
  {
   "cell_type": "markdown",
   "metadata": {
    "id": "JWe5LtPnltWj"
   },
   "source": [
    "Using Comet with TensorboardX requires a very minimal change to your existing code. \n",
    "\n",
    "In order for Comet to log from TensorboardX, it must be imported before any ML Frameworks. \n",
    "\n",
    "In the snippet below, we will import Comet first, and initialize our Project Name. "
   ]
  },
  {
   "cell_type": "markdown",
   "metadata": {
    "id": "VBvM7G3vFdCO"
   },
   "source": [
    "## Initialize Comet "
   ]
  },
  {
   "cell_type": "markdown",
   "metadata": {
    "id": "oIRlJdFXXcNu"
   },
   "source": [
    "Initialize a Comet Project for logging our data. In this case, we're creating a project named \"tensorboardX\". You can set the project name to be anything you want.  "
   ]
  },
  {
   "cell_type": "code",
   "execution_count": null,
   "metadata": {
    "id": "U7AI6jWEXA50"
   },
   "outputs": [],
   "source": [
    "import comet_ml\n",
    "\n",
    "comet_ml.init(project_name=\"comet-example-pytorch-tensorboardX\")"
   ]
  },
  {
   "cell_type": "code",
   "execution_count": null,
   "metadata": {
    "id": "zne6SsZWnsAO"
   },
   "outputs": [],
   "source": [
    "# Helper function to display logged assets in the Comet UI\n",
    "def display(tab=None):\n",
    "    experiment = comet_ml.get_global_experiment()\n",
    "    experiment.display(tab=tab)"
   ]
  },
  {
   "cell_type": "code",
   "execution_count": null,
   "metadata": {
    "id": "UNPoIgZuV4C9"
   },
   "outputs": [],
   "source": [
    "import torch\n",
    "import torchvision.utils as vutils\n",
    "import numpy as np\n",
    "import torchvision.models as models\n",
    "from torchvision import datasets\n",
    "from tensorboardX import SummaryWriter\n",
    "import datetime"
   ]
  },
  {
   "cell_type": "markdown",
   "metadata": {
    "id": "fLZskHORYrRU"
   },
   "source": [
    "## Initialize TensorboardX SummaryWriter with the Comet Flag"
   ]
  },
  {
   "cell_type": "markdown",
   "metadata": {
    "id": "Ocstx_ZafPZm"
   },
   "source": [
    "Assuming you have already imported Comet at the beginning of your script, all you have to do now is set the `comet_config` argument when initializing TensorboardX's SummaryWriter. \n",
    "\n",
    "`comet_config` is just a dictionary that allows you to set your workspace, project name and API key if you haven't already done so through `comet.init()`. \n",
    "\n",
    "The dictionary has the following fields\n",
    "```\n",
    "{\n",
    "   \"api_key\":\"Your Comet API Key\",\n",
    "   \"workspace\":\"Your Comet Workspace Name\",\n",
    "   \"project_name\":\"Your Comet Project Name\",\n",
    "   \"disabled\": False\n",
    "}\n",
    "```\n",
    "\n",
    "By default, the `disabled` field is set to `True`. Change it to `False` to enable logging to Comet. \n"
   ]
  },
  {
   "cell_type": "code",
   "execution_count": null,
   "metadata": {
    "id": "bGqYtsGEaWSX"
   },
   "outputs": [],
   "source": [
    "# Initialize the SummaryWriter\n",
    "writer = SummaryWriter(comet_config={\"disabled\": False})"
   ]
  },
  {
   "cell_type": "markdown",
   "metadata": {
    "id": "vb58fDCHiSAn"
   },
   "source": [
    "Comet will create an Experiment object under the hood for logging and automatically log all supported data types directly from the SummaryWriter. \n",
    "\n",
    "In the snippets below, we will go over the supported data types and how to log them. "
   ]
  },
  {
   "cell_type": "markdown",
   "metadata": {
    "id": "8wWQ60bWmZOm"
   },
   "source": [
    "## Logging Scalars"
   ]
  },
  {
   "cell_type": "markdown",
   "metadata": {
    "id": "dN_6zX4mmmpx"
   },
   "source": [
    "Log Scalars and Scalar groups as you normally would in TensorboardX. Comet will autolog these scalar values as Metrics in the Comet UI. You can view logged metrics in the Metrics Tab, and Visualize them in the Charts Tab."
   ]
  },
  {
   "cell_type": "code",
   "execution_count": null,
   "metadata": {
    "id": "kSn2U6sVf2Ne"
   },
   "outputs": [],
   "source": [
    "def loss_func(x, alpha=0.75726054, beta=1.83646455, kappa=1.46651155, delta=0.67240758):\n",
    "    return alpha - (alpha - beta) / (1.0 + (kappa * x) ** delta)\n",
    "\n",
    "\n",
    "for n_iter in range(100):\n",
    "    # data grouping by `slash`\n",
    "    writer.add_scalar(\"data/loss\", loss_func(n_iter), n_iter)\n",
    "\n",
    "    # Change the displayed named of the metric\n",
    "    writer.add_scalar(\n",
    "        \"data/scalar_custom\",\n",
    "        0.5 * loss_func(n_iter),\n",
    "        n_iter,\n",
    "        walltime=n_iter,\n",
    "        display_name=\"my_custom_loss\",\n",
    "    )\n",
    "\n",
    "    # Add scalar groups\n",
    "    writer.add_scalars(\n",
    "        \"data/losses\",\n",
    "        {\n",
    "            \"train_loss\": 1.5 * loss_func(n_iter),\n",
    "            \"val_loss\": 1.75 * loss_func(n_iter),\n",
    "            \"test_loss\": 2 * loss_func(n_iter),\n",
    "        },\n",
    "        n_iter,\n",
    "    )"
   ]
  },
  {
   "cell_type": "markdown",
   "metadata": {
    "id": "K9XlphOggasQ"
   },
   "source": [
    "View the logged metrics in the Metrics tab in the Comet UI "
   ]
  },
  {
   "cell_type": "code",
   "execution_count": null,
   "metadata": {
    "id": "KLDEr27OgfPQ"
   },
   "outputs": [],
   "source": [
    "display(\"metrics\")"
   ]
  },
  {
   "cell_type": "markdown",
   "metadata": {
    "id": "EBRgbdEunlH8"
   },
   "source": [
    "Visualize the logged metrics in the Charts tab in the Comet UI"
   ]
  },
  {
   "cell_type": "code",
   "execution_count": null,
   "metadata": {
    "id": "-pjDshHamvvj"
   },
   "outputs": [],
   "source": [
    "display(\"charts\")"
   ]
  },
  {
   "cell_type": "markdown",
   "metadata": {
    "id": "AYgtodDCXPi9"
   },
   "source": [
    "## Logging Hyperparameters"
   ]
  },
  {
   "cell_type": "code",
   "execution_count": null,
   "metadata": {
    "id": "qxLf_uM6XRiz"
   },
   "outputs": [],
   "source": [
    "hparams = {\n",
    "    \"lr\": 0.1,\n",
    "    \"batch_size\": 32,\n",
    "    \"n_hidden\": 200,\n",
    "    \"bn\": True,\n",
    "}\n",
    "\n",
    "writer.add_hparams(hparam_dict=hparams, metric_dict={})"
   ]
  },
  {
   "cell_type": "markdown",
   "metadata": {
    "id": "NU9t40pOgm3Y"
   },
   "source": [
    "You can view the logged parameters in the Parameters Tab in the Comet UI"
   ]
  },
  {
   "cell_type": "code",
   "execution_count": null,
   "metadata": {
    "id": "4fNN_a0MgkUx"
   },
   "outputs": [],
   "source": [
    "display(\"parameters\")"
   ]
  },
  {
   "cell_type": "markdown",
   "metadata": {
    "id": "05CsEhqNiN2o"
   },
   "source": [
    "## Logging Histograms"
   ]
  },
  {
   "cell_type": "markdown",
   "metadata": {
    "id": "sydccE58bxOg"
   },
   "source": [
    "Log your model weights, gradients as Histograms. Comet has a dedicated 'Histograms' Tab where you can view "
   ]
  },
  {
   "cell_type": "code",
   "execution_count": null,
   "metadata": {
    "id": "5VlPETc-iVFX"
   },
   "outputs": [],
   "source": [
    "resnet18 = models.resnet18(False)\n",
    "for iter in range(5):\n",
    "    for name, param in resnet18.named_parameters():\n",
    "        if \"bn\" not in name:\n",
    "            writer.add_histogram(name, param, iter)"
   ]
  },
  {
   "cell_type": "code",
   "execution_count": null,
   "metadata": {
    "id": "1goKleEVbtZd"
   },
   "outputs": [],
   "source": [
    "display(\"histograms\")"
   ]
  },
  {
   "cell_type": "markdown",
   "metadata": {
    "id": "a_Ib9eTAlOTO"
   },
   "source": [
    "## Logging the Model Graph"
   ]
  },
  {
   "cell_type": "markdown",
   "metadata": {
    "id": "WOLpWtIgbaij"
   },
   "source": [
    "Currently, Comet only supports logging ONNX graphs from TensorboardX.  "
   ]
  },
  {
   "cell_type": "code",
   "execution_count": null,
   "metadata": {
    "id": "XOrGwdeBoavc"
   },
   "outputs": [],
   "source": [
    "%pip install onnx"
   ]
  },
  {
   "cell_type": "code",
   "execution_count": null,
   "metadata": {
    "id": "O56pr-G-lRVp"
   },
   "outputs": [],
   "source": [
    "import torch.nn as nn\n",
    "\n",
    "dummy_input = (torch.zeros(1, 3),)\n",
    "\n",
    "\n",
    "class MultipleOutput(nn.Module):\n",
    "    def __init__(self):\n",
    "        super(MultipleOutput, self).__init__()\n",
    "        self.Linear_1 = nn.Linear(3, 5)\n",
    "        self.Linear_2 = nn.Linear(3, 7)\n",
    "\n",
    "    def forward(self, x):\n",
    "        return self.Linear_1(x), self.Linear_2(x)\n",
    "\n",
    "\n",
    "model = MultipleOutput()\n",
    "\n",
    "model_filename = \"my-model.onnx\"\n",
    "torch.onnx.export(\n",
    "    model,  # model being run\n",
    "    dummy_input,  # model input (or a tuple for multiple inputs)\n",
    "    model_filename,  # where to save the model (can be a file or file-like object)\n",
    "    export_params=True,  # store the trained parameter weights inside the model file\n",
    "    opset_version=10,  # the ONNX version to export the model to\n",
    "    do_constant_folding=True,  # whether to execute constant folding for optimization\n",
    "    input_names=[\"input\"],  # the model's input names\n",
    "    output_names=[\"output\"],  # the model's output names\n",
    "    dynamic_axes={\n",
    "        \"input\": {0: \"batch_size\"},  # variable length axes\n",
    "        \"output\": {0: \"batch_size\"},\n",
    "    },\n",
    ")\n",
    "\n",
    "writer.add_onnx_graph(model_filename)"
   ]
  },
  {
   "cell_type": "markdown",
   "metadata": {
    "id": "_4d4qxBFM0sT"
   },
   "source": [
    "The model graph will be logged as an asset. You can view it in the `others` directory in the Assets Tab of an Experiment. "
   ]
  },
  {
   "cell_type": "code",
   "execution_count": null,
   "metadata": {
    "id": "9TOeinlsMuQ1"
   },
   "outputs": [],
   "source": [
    "display(\"assets\")"
   ]
  },
  {
   "cell_type": "markdown",
   "metadata": {
    "id": "2JEKnHYZsAUE"
   },
   "source": [
    "## Logging Embeddings"
   ]
  },
  {
   "cell_type": "markdown",
   "metadata": {
    "id": "WgzobPdTdLJc"
   },
   "source": [
    "Embeddings will be logged as Experiment Assets. They can be visualized using the Comet [Embeddings Projector](https://www.comet.ml/docs/user-interface/embeddings/)"
   ]
  },
  {
   "cell_type": "code",
   "execution_count": null,
   "metadata": {
    "id": "iPr4L25PsDGF"
   },
   "outputs": [],
   "source": [
    "dataset = datasets.MNIST(\"mnist\", train=False, download=True)\n",
    "images = dataset.test_data[:100].float()\n",
    "label = dataset.test_labels[:100]\n",
    "features = images.view(100, 784)\n",
    "\n",
    "writer.add_embedding(\n",
    "    features, metadata=label, label_img=images.unsqueeze(1), tag=\"my_embedding\"\n",
    ")"
   ]
  },
  {
   "cell_type": "markdown",
   "metadata": {
    "id": "BcnkKe3rimRV"
   },
   "source": [
    "Embeddings will be logged under the Assets Tab in an `embeddings` subdirectory. Click on the  "
   ]
  },
  {
   "cell_type": "code",
   "execution_count": null,
   "metadata": {
    "id": "wMBFOx8Jc1FZ"
   },
   "outputs": [],
   "source": [
    "display(\"assetStorage\")"
   ]
  },
  {
   "cell_type": "markdown",
   "metadata": {
    "id": "mJdDHFwXLfrg"
   },
   "source": [
    "## Logging Figures"
   ]
  },
  {
   "cell_type": "markdown",
   "metadata": {
    "id": "YPvk62_fazpk"
   },
   "source": [
    "Comet will log Matplotlib Figure objects as Images "
   ]
  },
  {
   "cell_type": "code",
   "execution_count": null,
   "metadata": {
    "id": "AN26x2cnLhjC"
   },
   "outputs": [],
   "source": [
    "import matplotlib.pyplot as plt\n",
    "\n",
    "plt.switch_backend(\"agg\")\n",
    "\n",
    "fig = plt.figure()\n",
    "\n",
    "c1 = plt.Circle((0.2, 0.5), 0.2, color=\"r\")\n",
    "c2 = plt.Circle((0.8, 0.5), 0.2, color=\"r\")\n",
    "\n",
    "ax = plt.gca()\n",
    "ax.add_patch(c1)\n",
    "ax.add_patch(c2)\n",
    "plt.axis(\"scaled\")\n",
    "\n",
    "writer.add_figure(\"matplotlib\", fig)"
   ]
  },
  {
   "cell_type": "code",
   "execution_count": null,
   "metadata": {
    "id": "Jo4Sq7gpLn6m"
   },
   "outputs": [],
   "source": [
    "display(\"images\")"
   ]
  },
  {
   "cell_type": "markdown",
   "metadata": {
    "id": "24PWU5lSoXf7"
   },
   "source": [
    "## Logging Images\n"
   ]
  },
  {
   "cell_type": "code",
   "execution_count": null,
   "metadata": {
    "id": "Z0AVHRZdmzKW"
   },
   "outputs": [],
   "source": [
    "# Logging an Image\n",
    "\n",
    "x = torch.rand(32, 3, 64, 64)\n",
    "x = vutils.make_grid(x, normalize=True, scale_each=True)\n",
    "\n",
    "writer.add_image(\"Image\", x, n_iter)  # Tensor"
   ]
  },
  {
   "cell_type": "code",
   "execution_count": null,
   "metadata": {
    "id": "dhbzaMepyclP"
   },
   "outputs": [],
   "source": [
    "# Logging Images with Bounding Boxes\n",
    "\n",
    "writer.add_image_with_boxes(\n",
    "    \"imagebox_label\",\n",
    "    torch.ones(3, 240, 240) * 0.5,\n",
    "    torch.Tensor([[10, 10, 100, 100], [101, 101, 200, 200]]),\n",
    "    1,\n",
    "    labels=[\"abcde\", \"fgh\"],\n",
    ")"
   ]
  },
  {
   "cell_type": "code",
   "execution_count": null,
   "metadata": {
    "id": "GasqMIlgqIj7"
   },
   "outputs": [],
   "source": [
    "display(tab=\"images\")"
   ]
  },
  {
   "cell_type": "markdown",
   "metadata": {
    "id": "C1vsKlccq_C6"
   },
   "source": [
    "## Logging Audio\n",
    "\n",
    "Logging audio requires the installation of an additional Python library `soundfile` and an additional system library `libsnd`. See the official instructions [how to install it](https://pypi.org/project/soundfile/#installation) and uncomment the following lines to logs Audio files."
   ]
  },
  {
   "cell_type": "code",
   "execution_count": null,
   "metadata": {},
   "outputs": [],
   "source": [
    "# %pip install soundfile scipy"
   ]
  },
  {
   "cell_type": "code",
   "execution_count": null,
   "metadata": {
    "id": "xeyqwfx5q-Kw"
   },
   "outputs": [],
   "source": [
    "# sample_rate = 44100\n",
    "# freq = 440\n",
    "\n",
    "# x = torch.zeros(sample_rate * 2)\n",
    "# for i in range(x.size(0)):\n",
    "#     # sound amplitude should in [-1, 1]\n",
    "#     x[i] = np.cos(freq * np.pi * float(i) / float(sample_rate))\n",
    "# writer.add_audio(\"my-audio\", x, 1)"
   ]
  },
  {
   "cell_type": "code",
   "execution_count": null,
   "metadata": {
    "id": "s7-2Fbv7qKM9"
   },
   "outputs": [],
   "source": [
    "# display(\"audio\")"
   ]
  },
  {
   "cell_type": "markdown",
   "metadata": {
    "id": "Q7LrqHNfg6Xr"
   },
   "source": [
    "## Logging Text"
   ]
  },
  {
   "cell_type": "code",
   "execution_count": null,
   "metadata": {
    "id": "4jVRD1JOg8Mc"
   },
   "outputs": [],
   "source": [
    "writer.add_text(\"Text\", \"Lorem ipsum dolor sit amet\")"
   ]
  },
  {
   "cell_type": "markdown",
   "metadata": {
    "id": "_IZ7qXS4hb_9"
   },
   "source": [
    "Text will be logged under the Text Tab in the Comet UI"
   ]
  },
  {
   "cell_type": "code",
   "execution_count": null,
   "metadata": {
    "id": "U_EvqhUFhRLX"
   },
   "outputs": [],
   "source": [
    "display(\"text\")"
   ]
  },
  {
   "cell_type": "markdown",
   "metadata": {
    "id": "8h6hSkUlgF2_"
   },
   "source": [
    "## Logging Curves"
   ]
  },
  {
   "cell_type": "code",
   "execution_count": null,
   "metadata": {
    "id": "KJT60Gj2gJTb"
   },
   "outputs": [],
   "source": [
    "labels = np.random.randint(2, size=100)\n",
    "predictions = np.random.rand(100)\n",
    "\n",
    "writer.add_pr_curve(\"pr-curve\", labels, predictions, global_step=1)"
   ]
  },
  {
   "cell_type": "markdown",
   "metadata": {
    "id": "iBC_NIFxgNg6"
   },
   "source": [
    "Curves will be logged to the `Assets and Artifacts` tab under the `others` directory. "
   ]
  },
  {
   "cell_type": "code",
   "execution_count": null,
   "metadata": {
    "id": "zI2nxSRSgTaf"
   },
   "outputs": [],
   "source": [
    "display(\"assetStorage\")"
   ]
  },
  {
   "cell_type": "markdown",
   "metadata": {
    "id": "EhG2g5YZXFwR"
   },
   "source": [
    "## Close Logging to Comet"
   ]
  },
  {
   "cell_type": "code",
   "execution_count": null,
   "metadata": {
    "id": "1ySaZXPPiJbl"
   },
   "outputs": [],
   "source": [
    "writer.close()"
   ]
  }
 ],
 "metadata": {
  "colab": {
   "collapsed_sections": [],
   "provenance": [],
   "toc_visible": true
  },
  "kernelspec": {
   "display_name": "Python 3 (ipykernel)",
   "language": "python",
   "name": "python3"
  },
  "language_info": {
   "codemirror_mode": {
    "name": "ipython",
    "version": 3
   },
   "file_extension": ".py",
   "mimetype": "text/x-python",
   "name": "python",
   "nbconvert_exporter": "python",
   "pygments_lexer": "ipython3",
   "version": "3.9.1"
  }
 },
 "nbformat": 4,
 "nbformat_minor": 1
}
