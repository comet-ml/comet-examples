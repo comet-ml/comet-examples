{
 "nbformat": 4,
 "nbformat_minor": 0,
 "metadata": {
  "colab": {
   "provenance": []
  },
  "kernelspec": {
   "name": "python3",
   "display_name": "Python 3"
  },
  "language_info": {
   "name": "python"
  }
 },
 "cells": [
  {
   "cell_type": "markdown",
   "metadata": {
    "id": "QFkpR5-IVEGr"
   },
   "source": [
    "# Installing Comet\n",
    "\n"
   ]
  },
  {
   "cell_type": "code",
   "metadata": {
    "id": "bjfA7OqbUvc4"
   },
   "source": [
    "!pip install comet_ml --quiet"
   ],
   "execution_count": null,
   "outputs": []
  },
  {
   "cell_type": "markdown",
   "metadata": {
    "id": "jS7jwZNSVH9_"
   },
   "source": [
    "# Configuration through `comet.init()`"
   ]
  },
  {
   "cell_type": "code",
   "metadata": {
    "id": "-frLwX-YUzDn"
   },
   "source": [
    "import comet_ml\n",
    "\n",
    "comet_ml.init(project_name=\"comet-in-notebooks\")"
   ],
   "execution_count": null,
   "outputs": []
  },
  {
   "cell_type": "markdown",
   "metadata": {
    "id": "s4mKxi1QVPjN"
   },
   "source": [
    "# Log a Training Run"
   ]
  },
  {
   "cell_type": "code",
   "metadata": {
    "id": "Jw9kxe09Vf6C"
   },
   "source": [
    "experiment = comet_ml.Experiment()\n",
    "\n",
    "for idx, value in enumerate(range(0, 100, 10)):\n",
    "    experiment.log_metric(\"accuracy\", value / 100, step=idx)"
   ],
   "execution_count": null,
   "outputs": []
  },
  {
   "cell_type": "markdown",
   "metadata": {
    "id": "U8qHx2kUV3Ju"
   },
   "source": [
    "# Displaying an Experiment"
   ]
  },
  {
   "cell_type": "code",
   "metadata": {
    "id": "fcj_fe3dV5jN"
   },
   "source": [
    "experiment.display(tab=\"charts\")"
   ],
   "execution_count": null,
   "outputs": []
  },
  {
   "cell_type": "markdown",
   "metadata": {
    "id": "oHcBKGxfVuPy"
   },
   "source": [
    "# Ending an Experiment"
   ]
  },
  {
   "cell_type": "code",
   "metadata": {
    "id": "kfSiNZEZVz4Y"
   },
   "source": [
    "experiment.end()"
   ],
   "execution_count": null,
   "outputs": []
  },
  {
   "cell_type": "markdown",
   "metadata": {
    "id": "BjLqW2O1Wh_C"
   },
   "source": [
    "# Viewing Cell Execution Order"
   ]
  },
  {
   "cell_type": "code",
   "metadata": {
    "id": "tBbLw06mWfal"
   },
   "source": [
    "experiment.display(tab=\"code\")"
   ],
   "execution_count": null,
   "outputs": []
  },
  {
   "cell_type": "code",
   "metadata": {
    "id": "drpje33JXHXN"
   },
   "source": [],
   "execution_count": null,
   "outputs": []
  }
 ]
}