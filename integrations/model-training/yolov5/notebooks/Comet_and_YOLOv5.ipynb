{
 "cells": [
  {
   "cell_type": "markdown",
   "metadata": {
    "id": "atPghFWqSAd1"
   },
   "source": [
    "<img src=\"https://cdn.comet.ml/img/notebook_logo.png\">\n",
    "\n",
    "[Ultralytics YOLOv5](https://github.com/ultralytics/yolov5) is a family of object detection architectures and models pretrained on the COCO dataset.\n",
    "\n",
    "[Comet](https://www.comet.com/site/?ref=yolov5&utm_source=yolov5&utm_medium=affilliate&utm_campaign=yolov5_comet_integration) builds tools that help data scientists, engineers, and team leaders accelerate and optimize machine learning and deep learning models.\n",
    "\n",
    "Track and visualize model metrics in real time, save your hyperparameters, datasets, and model checkpoints, and visualize your model predictions with [Comet Custom Panels](https://www.comet.com/docs/v2/guides/comet-dashboard/code-panels/about-panels/?utm_source=colab&utm_medium=referral&utm_campaign=yolov5_comet_integration)!\n",
    "\n",
    "Comet makes sure you never lose track of your work and makes it easy to share results and collaborate across teams of all sizes! \n",
    "\n",
    "If you'd like to learn more about Comet checkout our [documentation](https://www.comet.com/docs/v2/?utm_source=colab&utm_medium=referral&utm_campaign=yolov5_comet_integration)\n"
   ]
  },
  {
   "cell_type": "markdown",
   "metadata": {
    "id": "dC0FMOIvD_I1"
   },
   "source": [
    "# Install Comet"
   ]
  },
  {
   "cell_type": "code",
   "execution_count": null,
   "metadata": {
    "id": "kdeOtvIjCtMc"
   },
   "outputs": [],
   "source": [
    "%pip install comet_ml"
   ]
  },
  {
   "cell_type": "markdown",
   "metadata": {
    "id": "cPuQc9WAEC08"
   },
   "source": [
    "# Initialize Comet"
   ]
  },
  {
   "cell_type": "code",
   "execution_count": null,
   "metadata": {
    "id": "dY_B24VQECQw"
   },
   "outputs": [],
   "source": [
    "import comet_ml\n",
    "\n",
    "comet_ml.init(project_name=\"comet-example-yolov5\")"
   ]
  },
  {
   "cell_type": "markdown",
   "metadata": {
    "id": "o_79qJqBEZ6y"
   },
   "source": [
    "# Setup YOLOv5"
   ]
  },
  {
   "cell_type": "code",
   "execution_count": null,
   "metadata": {
    "colab": {
     "base_uri": "https://localhost:8080/"
    },
    "id": "usYdy2tgo15I",
    "outputId": "dfdfc87d-a5ce-4d0c-fd6a-50d55950c3a8"
   },
   "outputs": [],
   "source": [
    "!git clone https://github.com/ultralytics/yolov5\n",
    "%cd yolov5\n",
    "%pip install -r requirements.txt"
   ]
  },
  {
   "cell_type": "code",
   "execution_count": null,
   "metadata": {
    "colab": {
     "base_uri": "https://localhost:8080/"
    },
    "id": "tnwsvelXEf17",
    "outputId": "da290d4f-d345-4f9d-ad20-88535da3dcb0"
   },
   "outputs": [],
   "source": [
    "import sys\n",
    "import torch\n",
    "import utils\n",
    "\n",
    "display = utils.notebook_init()  # checks"
   ]
  },
  {
   "cell_type": "markdown",
   "metadata": {
    "id": "tRwiCQ5pExF8"
   },
   "source": [
    "# Run the Training Script"
   ]
  },
  {
   "cell_type": "markdown",
   "metadata": {},
   "source": [
    "Once you have Comet installed and your credentials configured, you can start logging data to Comet by running the YOLOv5 training script. The will automatically create a Comet Experiment and log your run's hyperparameters and metrics"
   ]
  },
  {
   "cell_type": "code",
   "execution_count": null,
   "metadata": {
    "id": "CZxf9IMJEzSG"
   },
   "outputs": [],
   "source": [
    "!{sys.executable} train.py --img 640 --batch 16 --epochs 3 --data coco128.yaml --weights yolov5s.pt"
   ]
  },
  {
   "cell_type": "markdown",
   "metadata": {
    "id": "ROBd8hDZOkad"
   },
   "source": [
    "# Configure Comet Logging"
   ]
  },
  {
   "cell_type": "markdown",
   "metadata": {
    "id": "MYevEJMiPIzZ"
   },
   "source": [
    "## Logging Checkpoints with Comet\n",
    "\n",
    "Logging Models to Comet is disabled by default. To enable it, pass the `save-period` argument to the training script. This will save the\n",
    "logged checkpoints to Comet based on the interval value provided by `save-period`\n",
    "\n",
    "Checkpoints can be found in the [Assets and Artifacts](https://www.comet.com/examples/comet-example-yolov5/a0e29e0e9b984e4a822db2a62d0cb357?assetId=7df85817e69b4997a803f947334155e6&assetPath=models%2Cyolov5&experiment-tab=assets) tab in your Experiment"
   ]
  },
  {
   "cell_type": "code",
   "execution_count": null,
   "metadata": {
    "id": "PhG69TFMOl29"
   },
   "outputs": [],
   "source": [
    "!{sys.executable} train.py \\\n",
    "--img 640 \\\n",
    "--batch 16 \\\n",
    "--epochs 3 \\\n",
    "--data coco128.yaml \\\n",
    "--weights yolov5s.pt \\\n",
    "--bbox_interval 1 \\\n",
    "--save-period 1 "
   ]
  },
  {
   "cell_type": "markdown",
   "metadata": {
    "id": "GTPWcXumQQe_"
   },
   "source": [
    "## Logging Model Predictions\n",
    "\n",
    "You can log model predictions and the associated images by passing the `bbox_interval` command line argument. Predictions can be visualized using Comet's Object Detection Custom Panel\n",
    "\n",
    "**Note:** The YOLOv5 validation dataloader will default to a batch size of 32, so you will have to set the logging frequency accordingly.\n",
    "\n",
    "Here is an [example project using the Panel](https://www.comet.com/examples/comet-example-yolov5?shareable=YcwMiJaZSXfcEXpGOHDD12vA1&ref=yolov5&utm_source=yolov5&utm_medium=affilliate&utm_campaign=yolov5_comet_integration)\n"
   ]
  },
  {
   "cell_type": "code",
   "execution_count": null,
   "metadata": {
    "id": "II0zxRtdQTpY"
   },
   "outputs": [],
   "source": [
    "!{sys.executable} train.py \\\n",
    "--img 640 \\\n",
    "--batch 16 \\\n",
    "--epochs 3 \\\n",
    "--data coco128.yaml \\\n",
    "--weights yolov5s.pt \\\n",
    "--bbox_interval 1"
   ]
  },
  {
   "cell_type": "markdown",
   "metadata": {
    "id": "L6P-7w1xTPTC"
   },
   "source": [
    "### Logging Class Level Metrics\n",
    "\n",
    "Use the `COMET_LOG_PER_CLASS_METRICS` environment variable to log mAP, precision, recall, f1 for each class.\n"
   ]
  },
  {
   "cell_type": "code",
   "execution_count": null,
   "metadata": {
    "id": "nC3wIzqrTSfL"
   },
   "outputs": [],
   "source": [
    "!env COMET_LOG_PER_CLASS_METRICS=true {sys.executable} train.py \\\n",
    "--img 640 \\\n",
    "--batch 16 \\\n",
    "--epochs 3 \\\n",
    "--data coco128.yaml \\\n",
    "--bbox_interval 1 \\\n",
    "--weights yolov5s.pt "
   ]
  },
  {
   "cell_type": "markdown",
   "metadata": {
    "id": "TSI8nao4RzyV"
   },
   "source": [
    "## Uploading a Dataset to Comet Artifacts\n",
    "\n",
    "\n",
    "If you would like to store your data using [Comet Artifacts](https://www.comet.com/docs/v2/guides/data-management/using-artifacts/#learn-more?ref=yolov5&utm_source=yolov5&utm_medium=affilliate&utm_campaign=yolov5_comet_integration), you can do so using the `upload_dataset` flag.\n",
    "\n",
    "The dataset be organized in the way described in the [YOLOv5 documentation](https://docs.ultralytics.com/tutorials/train-custom-datasets/#3-organize-directories). The dataset config `yaml` file must follow the same format as that of the `coco128.yaml` file.\n"
   ]
  },
  {
   "cell_type": "code",
   "execution_count": null,
   "metadata": {
    "id": "u1U3vbxHR1st"
   },
   "outputs": [],
   "source": [
    "!{sys.executable} train.py \\\n",
    "--img 640 \\\n",
    "--batch 16 \\\n",
    "--epochs 3 \\\n",
    "--data coco128.yaml \\\n",
    "--weights yolov5s.pt \\\n",
    "--bbox_interval 1 \\\n",
    "--upload_dataset \"train\""
   ]
  },
  {
   "cell_type": "markdown",
   "metadata": {
    "id": "0YnXNRaZzs9J"
   },
   "source": [
    "You can find the uploaded dataset in the Artifacts tab in your Comet Workspace\n",
    "<img width=\"1073\" alt=\"artifact-1\" src=\"https://user-images.githubusercontent.com/7529846/186929193-162718bf-ec7b-4eb9-8c3b-86b3763ef8ea.png\">\n",
    "\n",
    "You can preview the data directly in the Comet UI.\n",
    "<img width=\"1082\" alt=\"artifact-2\" src=\"https://user-images.githubusercontent.com/7529846/186929215-432c36a9-c109-4eb0-944b-84c2786590d6.png\">\n",
    "\n",
    "Artifacts are versioned and also support adding metadata about the dataset. Comet will automatically log the metadata from your dataset `yaml` file\n",
    "<img width=\"963\" alt=\"artifact-3\" src=\"https://user-images.githubusercontent.com/7529846/186929256-9d44d6eb-1a19-42de-889a-bcbca3018f2e.png\">\n",
    "\n"
   ]
  },
  {
   "cell_type": "markdown",
   "metadata": {
    "id": "IB_57vEqR5RH"
   },
   "source": [
    "### Using a saved Artifact\n",
    "\n",
    "\n",
    "If you would like to use a dataset from Comet Artifacts, set the `path` variable in your dataset `yaml` file to point to the following Artifact resource URL.\n",
    "\n",
    "```\n",
    "# contents of artifact.yaml file\n",
    "path:\"comet://<workspace name>/<artifact name>:<artifact version or alias>\"\n",
    "```\n",
    "Then pass this file to your training script\n"
   ]
  },
  {
   "cell_type": "code",
   "execution_count": null,
   "metadata": {
    "id": "zbp1FuDKNDyT"
   },
   "outputs": [],
   "source": [
    "!echo \"path: \\\"comet://examples/yolov5-dataset:latest\\\"\" >> ./data/artifact.yaml"
   ]
  },
  {
   "cell_type": "code",
   "execution_count": null,
   "metadata": {
    "id": "Zfnfn2xXSBaI"
   },
   "outputs": [],
   "source": [
    "!{sys.executable} train.py \\\n",
    "--img 640 \\\n",
    "--batch 16 \\\n",
    "--epochs 5 \\\n",
    "--data ./data/artifact.yaml \\\n",
    "--bbox_interval 1 \\\n",
    "--weights yolov5s.pt"
   ]
  },
  {
   "cell_type": "markdown",
   "metadata": {
    "id": "7PlsC3gF0OLR"
   },
   "source": [
    "Artifacts also allow you to track the lineage of data as it flows through your Experimentation workflow. Here you can see a graph that shows you all the experiments that have used your uploaded dataset.\n",
    "<img width=\"1391\" alt=\"artifact-4\" src=\"https://user-images.githubusercontent.com/7529846/186929264-4c4014fa-fe51-4f3c-a5c5-f6d24649b1b4.png\">\n"
   ]
  },
  {
   "cell_type": "markdown",
   "metadata": {
    "id": "Pjz6ry3JSDxn"
   },
   "source": [
    "## Resuming a Training Run\n",
    "\n",
    "If your training run is interrupted for any reason, e.g. disrupted internet connection, you can resume the run using the `resume` flag and the Comet Run Path.\n",
    "\n",
    "The Run Path has the following format `comet://<your workspace name>/<your project name>/<experiment id>`.\n",
    "\n",
    "This will restore the run to its state before the interruption, which includes restoring the  model from a checkpoint, restoring all hyperparameters and training arguments and downloading Comet dataset Artifacts if they were used in the original run. The resumed run will continue logging to the existing Experiment in the Comet UI\n"
   ]
  },
  {
   "cell_type": "code",
   "execution_count": null,
   "metadata": {
    "id": "PhyfBX57SJRZ"
   },
   "outputs": [],
   "source": [
    "!{sys.executable} train.py \\\n",
    "--resume \"comet://<your run path>\""
   ]
  }
 ],
 "metadata": {
  "accelerator": "GPU",
  "colab": {
   "collapsed_sections": [
    "o_79qJqBEZ6y"
   ],
   "provenance": [],
   "toc_visible": true
  },
  "gpuClass": "standard",
  "kernelspec": {
   "display_name": "Python 3 (ipykernel)",
   "language": "python",
   "name": "python3"
  },
  "language_info": {
   "codemirror_mode": {
    "name": "ipython",
    "version": 3
   },
   "file_extension": ".py",
   "mimetype": "text/x-python",
   "name": "python",
   "nbconvert_exporter": "python",
   "pygments_lexer": "ipython3",
   "version": "3.7.9"
  }
 },
 "nbformat": 4,
 "nbformat_minor": 1
}
