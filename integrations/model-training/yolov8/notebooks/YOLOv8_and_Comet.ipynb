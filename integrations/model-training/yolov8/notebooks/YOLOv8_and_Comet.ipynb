{
 "cells": [
  {
   "cell_type": "markdown",
   "metadata": {
    "id": "wXv4o8i8jJgP"
   },
   "source": [
    "![logo_comet.png](data:image/png;base64,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)"
   ]
  },
  {
   "cell_type": "markdown",
   "metadata": {
    "id": "OorDXQbLiyTU"
   },
   "source": [
    "Ultralytics YOLOv8 is a cutting-edge, state-of-the-art (SOTA) model that builds upon the success of previous YOLO versions and introduces new features and improvements to further boost performance and flexibility. YOLOv8 is designed to be fast, accurate, and easy to use, making it an excellent choice for a wide range of object detection and tracking, instance segmentation, image classification and pose estimation tasks.\n",
    "\n",
    "Data science and machine learning teams use [Comet](https://www.comet.com)’s ML platform to track, compare, explain, and optimize their models across the complete ML lifecycle – from managing experiments to monitoring models in production. \n",
    "\n",
    "Comet works with Jupyter Notebooks and Scripts and most importantly it is 100% free to [get started](https://www.comet.com/signup)!\n"
   ]
  },
  {
   "cell_type": "markdown",
   "metadata": {
    "id": "4tHdCdy1iXJJ"
   },
   "source": [
    "# Install dependencies"
   ]
  },
  {
   "cell_type": "code",
   "execution_count": null,
   "metadata": {
    "id": "eLuCFhOhhThw"
   },
   "outputs": [],
   "source": [
    "%pip install -U ultralytics \"comet_ml>=3.44.0\" torch torchvision -qU"
   ]
  },
  {
   "cell_type": "markdown",
   "metadata": {
    "id": "PUusb44jhYIj"
   },
   "source": [
    "# Login to Comet\n",
    "\n",
    "This will prompt you to enter your API key. You can grab that over [here](https://www.comet.com/signup)"
   ]
  },
  {
   "cell_type": "code",
   "execution_count": null,
   "metadata": {
    "id": "RN08xGhPhZpH"
   },
   "outputs": [],
   "source": [
    "import comet_ml\n",
    "\n",
    "comet_ml.login(project_name=\"comet-example-yolov8-coco128\")"
   ]
  },
  {
   "cell_type": "markdown",
   "metadata": {
    "id": "JIku-HkBhhVt"
   },
   "source": [
    "# Run Training"
   ]
  },
  {
   "cell_type": "code",
   "execution_count": null,
   "metadata": {
    "id": "T8yGloEChVzQ"
   },
   "outputs": [],
   "source": [
    "from ultralytics import YOLO\n",
    "\n",
    "# Load a model\n",
    "model = YOLO(\"yolov8n.pt\")  # load a pretrained model (recommended for training)\n",
    "\n",
    "# train the model\n",
    "results = model.train(\n",
    "    data=\"coco128.yaml\",\n",
    "    project=\"comet-example-yolov8-coco128\",\n",
    "    batch=32,\n",
    "    save_period=1,\n",
    "    save_json=True,\n",
    "    epochs=3,\n",
    ")"
   ]
  },
  {
   "cell_type": "markdown",
   "metadata": {
    "id": "jghV0NaXlON9"
   },
   "source": [
    "# Configuring Comet \n",
    "\n",
    "You can further configure Comet's logging behaviour with YOLOv8 through Comet specific environment variables.    "
   ]
  },
  {
   "cell_type": "markdown",
   "metadata": {
    "id": "z62rGg9wlSDM"
   },
   "source": [
    "## Changing the number of logged image predictions\n",
    "\n",
    "By default Comet will log 100 image predictions from the validation set. You can change this by setting the `COMET_MAX_IMAGE_PREDICTIONS` environment variable"
   ]
  },
  {
   "cell_type": "code",
   "execution_count": null,
   "metadata": {
    "id": "8xLFNI8XmXxZ"
   },
   "outputs": [],
   "source": [
    "import os\n",
    "from ultralytics import YOLO\n",
    "\n",
    "os.environ[\"COMET_MAX_IMAGE_PREDICTIONS\"] = \"200\"\n",
    "\n",
    "# Load a model\n",
    "model = YOLO(\"yolov8s.pt\")  # load a pretrained model (recommended for training)\n",
    "\n",
    "# train the model\n",
    "results = model.train(\n",
    "    data=\"coco128.yaml\",\n",
    "    project=\"comet-example-yolov8-coco128\",\n",
    "    batch=32,\n",
    "    save_period=1,\n",
    "    save_json=True,\n",
    "    epochs=1,\n",
    ")"
   ]
  },
  {
   "cell_type": "markdown",
   "metadata": {
    "id": "NJgZvJ0Qt_lp"
   },
   "source": [
    "## Changing the frequency of Image Prediction Logging\n",
    "\n",
    "You may want to change how often batches of image predictions are logged to Comet. \n",
    "\n",
    "Set the `COMET_EVAL_BATCH_LOGGING_INTERVAL` environment variable to control this frequency. By default it is set to `1`, which corresponds to logging predictions from every validation batch. e.g. Setting it to `4` will log every fourth batch\n",
    "\n",
    "**Note:** YOLOv8 will use a batch size that is double your training batch size when running evaluation. "
   ]
  },
  {
   "cell_type": "code",
   "execution_count": null,
   "metadata": {
    "id": "oXx0yTCtr5Au"
   },
   "outputs": [],
   "source": [
    "import os\n",
    "from ultralytics import YOLO\n",
    "\n",
    "os.environ[\"COMET_EVAL_BATCH_LOGGING_INTERVAL\"] = \"4\"\n",
    "\n",
    "# Load a model\n",
    "model = YOLO(\"yolov8s.pt\")  # load a pretrained model (recommended for training)\n",
    "\n",
    "# train the model\n",
    "results = model.train(\n",
    "    data=\"coco128.yaml\",\n",
    "    project=\"comet-example-yolov8-coco128\",\n",
    "    batch=16,\n",
    "    save_period=1,\n",
    "    save_json=True,\n",
    "    epochs=2,\n",
    ")"
   ]
  },
  {
   "cell_type": "markdown",
   "metadata": {
    "id": "FvFi71QQrE0V"
   },
   "source": [
    "## Disabling Logging the Confusion Matrix after every Epoch\n",
    "\n",
    "In case you do not want to log the confusion matrix from your validation set after every epoch, disable it by setting `COMET_EVAL_LOG_CONFUSION_MATRIX` to `false`\n",
    "\n",
    "The Confusion Matrix will only be logged once, after training is completed. "
   ]
  },
  {
   "cell_type": "code",
   "execution_count": null,
   "metadata": {
    "id": "bnkwt2KYF3oM"
   },
   "outputs": [],
   "source": [
    "import os\n",
    "from ultralytics import YOLO\n",
    "\n",
    "os.environ[\"COMET_EVAL_LOG_CONFUSION_MATRIX\"] = \"false\"\n",
    "\n",
    "# Load a model\n",
    "model = YOLO(\"yolov8s.pt\")  # load a pretrained model (recommended for training)\n",
    "\n",
    "# train the model\n",
    "results = model.train(\n",
    "    data=\"coco128.yaml\",\n",
    "    project=\"comet-example-yolov8-coco128\",\n",
    "    batch=32,\n",
    "    save_period=1,\n",
    "    save_json=True,\n",
    "    epochs=2,\n",
    ")"
   ]
  },
  {
   "cell_type": "markdown",
   "metadata": {
    "id": "vtIew6FtCtH5"
   },
   "source": [
    "## Logging to an Offline Experiment\n",
    "\n",
    "In case you are in a situation where you are using a machine without public internet access you can still enable Comet logging by using an [OfflineExperiment](https://www.comet.com/docs/v2/api-and-sdk/python-sdk/advanced/running-offline/). \n",
    "\n",
    "Your run will be saved locally in a directory that you can upload to Comet.   \n",
    "\n",
    "Set `COMET_MODE` to `offline` to enable this. "
   ]
  },
  {
   "cell_type": "code",
   "execution_count": null,
   "metadata": {
    "id": "TR7gEek_DPJN"
   },
   "outputs": [],
   "source": [
    "import os\n",
    "from ultralytics import YOLO\n",
    "\n",
    "os.environ[\"COMET_MODE\"] = \"offline\"\n",
    "\n",
    "# Load a model\n",
    "model = YOLO(\"yolov8s.pt\")  # load a pretrained model (recommended for training)\n",
    "\n",
    "# train the model\n",
    "results = model.train(\n",
    "    data=\"coco128.yaml\",\n",
    "    project=\"comet-example-yolov8-coco128\",\n",
    "    batch=32,\n",
    "    save_period=1,\n",
    "    save_json=True,\n",
    "    epochs=1,\n",
    ")"
   ]
  }
 ],
 "metadata": {
  "accelerator": "GPU",
  "colab": {
   "provenance": []
  },
  "gpuClass": "standard",
  "kernelspec": {
   "display_name": "Python 3",
   "name": "python3"
  },
  "language_info": {
   "name": "python"
  }
 },
 "nbformat": 4,
 "nbformat_minor": 0
}
