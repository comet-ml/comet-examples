{
 "cells": [
  {
   "cell_type": "markdown",
   "metadata": {},
   "source": [
    "<img src=\"https://cdn.comet.ml/img/notebook_logo.png\">\n",
    "\n",
    "[Comet](https://www.comet.com/site/products/ml-experiment-tracking/?utm_campaign=seldon-xgboost&utm_medium=colab) is an MLOps Platform that is designed to help Data Scientists and Teams build better models faster! Comet provides tooling to track, Explain, Manage, and Monitor your models in a single place! It works with Jupyter Notebooks and Scripts and most importantly it's 100% free to get started!\n",
    "\n",
    "[Seldon](https://www.seldon.io/solutions/open-source-projects/core) is an open source platform to deploy your machine learning models on Kubernetes at massive scale.\n",
    "\n",
    "Get a preview for what's to come. Check out a completed experiment created from this notebook [here](https://www.comet.com/examples/comet-example-xgboost-seldon/bbca733c72b346809cd1a0aaccdc9a11).\n",
    " \n",
    "You will need to install [S2I](https://github.com/openshift/source-to-image) in order to complete this example."
   ]
  },
  {
   "cell_type": "markdown",
   "metadata": {},
   "source": [
    "First, we make sure we have all dependencies installed:"
   ]
  },
  {
   "cell_type": "code",
   "execution_count": null,
   "metadata": {},
   "outputs": [],
   "source": [
    "%pip install comet_ml pandas pip scikit-learn seldon_core xgboost graphviz"
   ]
  },
  {
   "cell_type": "markdown",
   "metadata": {},
   "source": [
    "## Train locally"
   ]
  },
  {
   "cell_type": "code",
   "execution_count": null,
   "metadata": {},
   "outputs": [],
   "source": [
    "#### Import Comet ####\n",
    "from comet_ml import Experiment, init\n",
    "\n",
    "#### Import Dependencies ####\n",
    "import xgboost as xgb\n",
    "from sklearn.datasets import fetch_california_housing\n",
    "from sklearn.model_selection import train_test_split\n",
    "import pandas as pd\n",
    "import os"
   ]
  },
  {
   "cell_type": "markdown",
   "metadata": {},
   "source": [
    "Let's create a Comet Experiment so we can track both XGBoost hyperparameters, metrics, and save the trained model."
   ]
  },
  {
   "cell_type": "code",
   "execution_count": null,
   "metadata": {},
   "outputs": [],
   "source": [
    "init()\n",
    "\n",
    "experiment = Experiment(project_name=\"comet-example-xgboost-seldon\")"
   ]
  },
  {
   "cell_type": "markdown",
   "metadata": {},
   "source": [
    "Then load and prepare the data:"
   ]
  },
  {
   "cell_type": "code",
   "execution_count": null,
   "metadata": {},
   "outputs": [],
   "source": [
    "#### Load and configure boston housing dataset ####\n",
    "california = fetch_california_housing()\n",
    "data = pd.DataFrame(california.data)\n",
    "data.columns = california.feature_names\n",
    "data[\"Price\"] = california.target\n",
    "X, y = data.iloc[:, :-1], data.iloc[:, -1]\n",
    "\n",
    "#### Split data into train and test sets ####\n",
    "X_train, X_test, y_train, y_test = train_test_split(\n",
    "    X, y, test_size=0.2, random_state=123\n",
    ")"
   ]
  },
  {
   "cell_type": "markdown",
   "metadata": {},
   "source": [
    "Then train the model:"
   ]
  },
  {
   "cell_type": "code",
   "execution_count": null,
   "metadata": {},
   "outputs": [],
   "source": [
    "#### Define hyperparameters for model ####\n",
    "param = {\n",
    "    \"objective\": \"reg:squarederror\",\n",
    "    \"colsample_bytree\": 0.3,\n",
    "    \"learning_rate\": 0.1,\n",
    "    \"max_depth\": 5,\n",
    "    \"alpha\": 10,\n",
    "    \"n_estimators\": 50,\n",
    "}\n",
    "\n",
    "#### Initialize XGBoost Regressor ####\n",
    "xg_reg = xgb.XGBRegressor(eval_metric=\"rmse\", **param)\n",
    "\n",
    "#### Train model ####\n",
    "xg_reg.fit(\n",
    "    X_train,\n",
    "    y_train,\n",
    "    eval_set=[(X_train, y_train), (X_test, y_test)],\n",
    ")"
   ]
  },
  {
   "cell_type": "markdown",
   "metadata": {},
   "source": [
    "Finally, save the model to Comet.ml:"
   ]
  },
  {
   "cell_type": "code",
   "execution_count": null,
   "metadata": {},
   "outputs": [],
   "source": [
    "os.makedirs(\"output\", exist_ok=True)\n",
    "\n",
    "xg_reg.save_model(\"output/0001.model\")\n",
    "\n",
    "model_name = \"XGBoost Model (California)\"\n",
    "\n",
    "experiment.log_model(model_name, \"output/0001.model\")\n",
    "\n",
    "experiment.end()"
   ]
  },
  {
   "cell_type": "code",
   "execution_count": null,
   "metadata": {},
   "outputs": [],
   "source": [
    "experiment.display(tab=\"assets\")"
   ]
  },
  {
   "cell_type": "markdown",
   "metadata": {},
   "source": [
    "Now you have a choice; **do one of the following**:\n",
    "\n",
    "\n",
    "1. You can register the experiment model via the Comet User Interface:\n",
    "\n",
    "You can check out the experiment assets above. To register an experiment model as a registry model, click on the `+ Register` link, then click `Register new model`, and click the registered model to exactly the name and model number. Also, note the name of your workspace (usually your comet id). Refers to [the documentation](https://www.comet.ml/docs/user-interface/models/) for more information.\n",
    "\n",
    "2. You can register the experiment model via the following code:"
   ]
  },
  {
   "cell_type": "markdown",
   "metadata": {},
   "source": [
    "**BEGINNING OF OPTIONAL CODE**"
   ]
  },
  {
   "cell_type": "markdown",
   "metadata": {},
   "source": [
    "To put an experiment model into the workspace registry, we will use the following helper function:"
   ]
  },
  {
   "cell_type": "code",
   "execution_count": null,
   "metadata": {},
   "outputs": [],
   "source": [
    "def register_model(experiment_id, model_name, registry_name):\n",
    "    from comet_ml import API\n",
    "\n",
    "    api = API()\n",
    "    api_experiment = api.get_experiment_by_key(experiment_id)\n",
    "\n",
    "    try:\n",
    "        existing_models = api.get_registry_model_versions(\n",
    "            workspace=api_experiment.workspace, registry_name=registry_name\n",
    "        )\n",
    "        max_model_version = max(existing_models)\n",
    "\n",
    "        new_model_version = max_model_version.split(\".\")\n",
    "        new_model_version[0] = str(int(new_model_version[0]) + 1)\n",
    "        new_model_version = \".\".join(new_model_version)\n",
    "    except Exception:\n",
    "        new_model_version = \"1.0.0\"\n",
    "\n",
    "    api_experiment.register_model(\n",
    "        model_name, registry_name=registry_name, version=new_model_version\n",
    "    )\n",
    "\n",
    "    return api_experiment.workspace, new_model_version"
   ]
  },
  {
   "cell_type": "markdown",
   "metadata": {},
   "source": [
    "We need to pass the Experiment ID, the name of the model in the Experiment and the standardized name in the model registry:"
   ]
  },
  {
   "cell_type": "code",
   "execution_count": null,
   "metadata": {},
   "outputs": [],
   "source": [
    "WORKSPACE, registered_version = register_model(\n",
    "    experiment.id, model_name, \"xgboost-model-california\"\n",
    ")"
   ]
  },
  {
   "cell_type": "markdown",
   "metadata": {},
   "source": [
    "Finally, we see that the workspace registry has the model, albeit by a standardized name, 'xgboost-model-boston':"
   ]
  },
  {
   "cell_type": "code",
   "execution_count": null,
   "metadata": {},
   "outputs": [],
   "source": [
    "from comet_ml import API\n",
    "\n",
    "api = API()\n",
    "api.get_registry_model_names(WORKSPACE)"
   ]
  },
  {
   "cell_type": "markdown",
   "metadata": {},
   "source": [
    "**END OF OPTIONAL CODE**"
   ]
  },
  {
   "cell_type": "markdown",
   "metadata": {},
   "source": [
    "## Download the Model\n",
    "\n",
    "Now that we have a trained model logged to Comet, let's see how to retrieve it and wrap it with Seldon.\n",
    "\n",
    "To retrieve the model, you can use the following command:"
   ]
  },
  {
   "cell_type": "code",
   "execution_count": null,
   "metadata": {},
   "outputs": [],
   "source": [
    "import sys\n",
    "\n",
    "! comet models download \\\n",
    "    --workspace \"$WORKSPACE\" \\\n",
    "    --model-name \"xgboost-model-california\" \\\n",
    "    --model-version \"$registered_version\""
   ]
  },
  {
   "cell_type": "markdown",
   "metadata": {},
   "source": [
    "Then we need to define few files for building Seldon compatible Docker container, first the Model Python file:"
   ]
  },
  {
   "cell_type": "code",
   "execution_count": null,
   "metadata": {},
   "outputs": [],
   "source": [
    "%%writefile MyModel.py\n",
    "import xgboost as xgb\n",
    "import numpy as np\n",
    "from typing import Dict, List, Union, Iterable\n",
    "\n",
    "\n",
    "class MyModel:\n",
    "\n",
    "    def __init__(self):\n",
    "        \"\"\"\n",
    "        Add any initialization parameters.\n",
    "        These will be passed at runtime from the graph definition parameters defined in your seldondeployment kubernetes resource manifest.\n",
    "        \"\"\"\n",
    "        self._model = xgb.Booster(model_file=\"model/0001.model\")\n",
    "\n",
    "    def predict(\n",
    "        self, X: np.ndarray, names: Iterable[str], meta: Dict = None\n",
    "    ) -> Union[np.ndarray, List, str, bytes]:\n",
    "        \"\"\"\n",
    "        Return a prediction.\n",
    "\n",
    "        Parameters\n",
    "        ----------\n",
    "        X : array-like\n",
    "        feature_names : array of feature names (optional)\n",
    "        \"\"\"\n",
    "    \n",
    "        dmatrix = xgb.DMatrix(X)\n",
    "        result: np.ndarray = self._model.predict(dmatrix)\n",
    "        return result\n"
   ]
  },
  {
   "cell_type": "markdown",
   "metadata": {},
   "source": [
    "Checking the syntax of the model file:"
   ]
  },
  {
   "cell_type": "code",
   "execution_count": null,
   "metadata": {},
   "outputs": [],
   "source": [
    "import sys\n",
    "\n",
    "!{sys.executable} MyModel.py"
   ]
  },
  {
   "cell_type": "markdown",
   "metadata": {},
   "source": [
    "Then the Python dependencies:"
   ]
  },
  {
   "cell_type": "code",
   "execution_count": null,
   "metadata": {},
   "outputs": [],
   "source": [
    "%%writefile requirements.txt\n",
    "xgboost\n",
    "pip\n",
    "seldon_core"
   ]
  },
  {
   "cell_type": "markdown",
   "metadata": {},
   "source": [
    "And finally the definition file for Seldon:"
   ]
  },
  {
   "cell_type": "code",
   "execution_count": null,
   "metadata": {},
   "outputs": [],
   "source": [
    "%%bash\n",
    "mkdir -p .s2i"
   ]
  },
  {
   "cell_type": "code",
   "execution_count": null,
   "metadata": {},
   "outputs": [],
   "source": [
    "%%writefile .s2i/environment\n",
    "MODEL_NAME=MyModel\n",
    "API_TYPE=REST\n",
    "SERVICE_TYPE=MODEL\n",
    "PERSISTENCE=0"
   ]
  },
  {
   "cell_type": "markdown",
   "metadata": {},
   "source": [
    "## Build the Docker image\n",
    "\n",
    "The recommended way of building Seldon images is to use [s2i](https://github.com/openshift/source-to-image) with official ready-to-use definition images. Please refer to [the Seldon documentation](https://docs.seldon.io/projects/seldon-core/en/latest/python/python_wrapping_s2i.html) for more information."
   ]
  },
  {
   "cell_type": "code",
   "execution_count": null,
   "metadata": {},
   "outputs": [],
   "source": [
    "!s2i build . seldonio/seldon-core-s2i-python3:1.16.0-dev comet_ml/xgboost_seldon:0.1"
   ]
  },
  {
   "cell_type": "markdown",
   "metadata": {},
   "source": [
    "## Test locally\n",
    "\n",
    "Once the Docker image has been built, we can start it locally and test it:"
   ]
  },
  {
   "cell_type": "code",
   "execution_count": null,
   "metadata": {},
   "outputs": [],
   "source": [
    "!docker run --name \"xgboost_predictor\" -d --rm -p 9000:9000 comet_ml/xgboost_seldon:0.1"
   ]
  },
  {
   "cell_type": "markdown",
   "metadata": {},
   "source": [
    "Send some random features that conform to the contract:"
   ]
  },
  {
   "cell_type": "code",
   "execution_count": null,
   "metadata": {},
   "outputs": [],
   "source": [
    "!curl -X POST http://localhost:9000/api/v1.0/predictions -H 'Content-Type: application/json' -d '{\"data\": {\"names\": [\"message\"], \"ndarray\": [[3.7917, 40.0, 4.959798994974874, 1.0301507537688441, 1039.0, 2.6105527638190953, 38.24, -122.64]]}}'"
   ]
  },
  {
   "cell_type": "code",
   "execution_count": null,
   "metadata": {},
   "outputs": [],
   "source": [
    "!docker rm xgboost_predictor --force"
   ]
  },
  {
   "cell_type": "markdown",
   "metadata": {},
   "source": [
    "## Push to production\n",
    "\n",
    "Once you validated locally that your model is correctly predicting, you need to push your Docker image to a Kubernetes Cluster where Seldon is installed.\n",
    "\n",
    "Installing and configuring Seldon is out of the scope of this notebook but you can, you can refer to the [Seldon-Core installation page](https://docs.seldon.io/projects/seldon-core/en/latest/workflow/install.html).\n",
    "\n",
    "Once your Kubernetes cluster is ready, you can follow one of the [cloud-specific example notebooks](https://docs.seldon.io/projects/seldon-core/en/latest/examples/notebooks.html#cloud-specific-examples) to learn how to push the built Docker image and deploy it to your cluster."
   ]
  }
 ],
 "metadata": {
  "kernelspec": {
   "display_name": "Python 3 (ipykernel)",
   "language": "python",
   "name": "python3"
  },
  "language_info": {
   "codemirror_mode": {
    "name": "ipython",
    "version": 3
   },
   "file_extension": ".py",
   "mimetype": "text/x-python",
   "name": "python",
   "nbconvert_exporter": "python",
   "pygments_lexer": "ipython3",
   "version": "3.9.1"
  },
  "varInspector": {
   "cols": {
    "lenName": 16,
    "lenType": 16,
    "lenVar": 40
   },
   "kernels_config": {
    "python": {
     "delete_cmd_postfix": "",
     "delete_cmd_prefix": "del ",
     "library": "var_list.py",
     "varRefreshCmd": "print(var_dic_list())"
    },
    "r": {
     "delete_cmd_postfix": ") ",
     "delete_cmd_prefix": "rm(",
     "library": "var_list.r",
     "varRefreshCmd": "cat(var_dic_list()) "
    }
   },
   "types_to_exclude": [
    "module",
    "function",
    "builtin_function_or_method",
    "instance",
    "_Feature"
   ],
   "window_display": false
  }
 },
 "nbformat": 4,
 "nbformat_minor": 4
}
