{
 "cells": [
  {
   "cell_type": "markdown",
   "metadata": {
    "id": "0M3sL7lrGHC3"
   },
   "source": [
    "<img src=\"https://cdn.comet.ml/img/notebook_logo.png\">  <img height=90px align=\"right\" src=\"https://camo.githubusercontent.com/0f091e4259df42e93eb9658f8fc224c8075d01ffc7a4bed16a78b06524e4b4a6/68747470733a2f2f7867626f6f73742e61692f696d616765732f6c6f676f2f7867626f6f73742d6c6f676f2e737667\">\n",
    "\n",
    "[Comet](https://www.comet.com/?utm_source=xgboost&utm_medium=colab&utm_content=intro_cell) helps Data Scientists track, compare, debug, and visualize their model training runs.\n",
    "\n",
    "\n",
    "**This notebook shows you how to log your XGBoost Training Runs with Comet.** For more information about Comet's integration with XGBoost visit our [Docs](https://www.comet.com/docs/v2/integrations/ml-frameworks/xgboost/?utm_source=xgboost&utm_medium=colab&utm_content=intro_cell) page."
   ]
  },
  {
   "cell_type": "markdown",
   "metadata": {
    "id": "F52bYB07GHDB"
   },
   "source": [
    "# Install Required Packages"
   ]
  },
  {
   "cell_type": "code",
   "execution_count": null,
   "metadata": {
    "id": "zS0IaNKSGHDE"
   },
   "outputs": [],
   "source": [
    "%pip install -U xgboost \"comet_ml>=3.44.0\""
   ]
  },
  {
   "cell_type": "markdown",
   "metadata": {
    "id": "WtUkfOzSGHDR"
   },
   "source": [
    "# Login to Comet\n",
    "\n",
    "Create your free account at [Comet.com](https://www.comet.com/signup?utm_source=xgboost&utm_medium=colab&utm_content=signup_cell)."
   ]
  },
  {
   "cell_type": "code",
   "execution_count": null,
   "metadata": {
    "id": "k4J9C0e4GHDT"
   },
   "outputs": [],
   "source": [
    "import comet_ml\n",
    "\n",
    "comet_ml.login(project_name=\"comet-xgboost-tutorial\")"
   ]
  },
  {
   "cell_type": "markdown",
   "metadata": {
    "id": "bWsjy3XUGHDU"
   },
   "source": [
    "# Import libraries"
   ]
  },
  {
   "cell_type": "code",
   "execution_count": null,
   "metadata": {
    "id": "Ufimm7d4GHDW"
   },
   "outputs": [],
   "source": [
    "from xgboost import XGBClassifier\n",
    "from sklearn.datasets import load_iris\n",
    "from sklearn.model_selection import train_test_split"
   ]
  },
  {
   "cell_type": "markdown",
   "metadata": {
    "id": "3RJx33J7GUiE"
   },
   "source": [
    "# Create a Comet Experiment"
   ]
  },
  {
   "cell_type": "code",
   "execution_count": null,
   "metadata": {
    "id": "4IUCQ21vGRZL"
   },
   "outputs": [],
   "source": [
    "experiment = comet_ml.Experiment()"
   ]
  },
  {
   "cell_type": "markdown",
   "metadata": {
    "id": "sFKxD6L7GZdJ"
   },
   "source": [
    "# Train A Classification Model on the Iris Dataset"
   ]
  },
  {
   "cell_type": "code",
   "execution_count": null,
   "metadata": {
    "id": "Xv51yx3eGY4B"
   },
   "outputs": [],
   "source": [
    "data = load_iris(as_frame=True)\n",
    "\n",
    "X_train, X_test, y_train, y_test = train_test_split(\n",
    "    data[\"data\"], data[\"target\"], test_size=0.2\n",
    ")\n",
    "\n",
    "# create model instance\n",
    "bst = XGBClassifier(\n",
    "    n_estimators=10,\n",
    "    max_depth=5,\n",
    "    learning_rate=0.1,\n",
    "    objective=\"binary:logistic\",\n",
    "    eval_metric=\"merror\",\n",
    ")\n",
    "\n",
    "# fit model\n",
    "bst.fit(X_train, y_train, eval_set=[(X_test, y_test)])"
   ]
  },
  {
   "cell_type": "markdown",
   "metadata": {
    "id": "OcoTd5jZGHDY"
   },
   "source": [
    "# View the Results in Comet\n",
    "\n",
    "Comet auto-logs the hyper-parameters, model graph, and metrics for a XGBoost training run"
   ]
  },
  {
   "cell_type": "code",
   "execution_count": null,
   "metadata": {
    "id": "MEJAAveDGHDb"
   },
   "outputs": [],
   "source": [
    "experiment.display(\"parameters\")"
   ]
  },
  {
   "cell_type": "markdown",
   "metadata": {
    "id": "sXopQ7iaGHDe"
   },
   "source": [
    "# Log a prediction table to Comet"
   ]
  },
  {
   "cell_type": "code",
   "execution_count": null,
   "metadata": {
    "id": "m4P1zBrMGHDg"
   },
   "outputs": [],
   "source": [
    "# make predictions\n",
    "y_pred = bst.predict(X_test)\n",
    "\n",
    "print(type(X_test))\n",
    "\n",
    "debug_df = X_test.copy()\n",
    "\n",
    "debug_df[\"pred\"] = y_pred\n",
    "debug_df[\"ground_truth\"] = y_test\n",
    "\n",
    "experiment.log_table(\"prediction_debug_table.csv\", debug_df)\n",
    "\n",
    "experiment.end()"
   ]
  },
  {
   "cell_type": "markdown",
   "metadata": {
    "id": "tqhjVfL5GHDh"
   },
   "source": [
    "# Debug Model Predictions with Comet's Data Panel\n",
    "\n",
    "![Gif](https://github.com/comet-ml/comet-examples/blob/xgboost_dp_example/integrations/model-training/xgboost/notebooks/xg_data_panel.gif?raw=1)"
   ]
  },
  {
   "cell_type": "markdown",
   "metadata": {
    "id": "UDlxdjpeGHDi"
   },
   "source": []
  }
 ],
 "metadata": {
  "colab": {
   "provenance": []
  },
  "kernelspec": {
   "display_name": "Python 3.11.0 ('nb': venv)",
   "language": "python",
   "name": "python3"
  },
  "language_info": {
   "codemirror_mode": {
    "name": "ipython",
    "version": 3
   },
   "file_extension": ".py",
   "mimetype": "text/x-python",
   "name": "python",
   "nbconvert_exporter": "python",
   "pygments_lexer": "ipython3",
   "version": "3.11.0"
  },
  "orig_nbformat": 4,
  "vscode": {
   "interpreter": {
    "hash": "8c9587381b2341d562742e36a89690be32a732b11830813473890249dd40a07d"
   }
  }
 },
 "nbformat": 4,
 "nbformat_minor": 0
}
