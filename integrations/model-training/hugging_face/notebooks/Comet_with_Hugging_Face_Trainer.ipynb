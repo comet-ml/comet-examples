{
 "cells": [
  {
   "cell_type": "markdown",
   "metadata": {
    "id": "UG0Hxf-nFKG2"
   },
   "source": [
    "<img src=\"https://cdn.comet.ml/img/notebook_logo.png\">"
   ]
  },
  {
   "cell_type": "markdown",
   "metadata": {},
   "source": [
    "[Hugging Face](https://huggingface.co/docs) is a community and data science platform that provides tools that enable users to build, train and deploy ML models based on open source (OS) code and technologies. Primarily known for their `transformers` library, Hugging Face has helped democratized access to these models by providing a unified API to train and evaluate a number of popular models for NLP. \n",
    "\n",
    "Comet integrates with Hugging Face's `Trainer` object, allowing you to log your model parameters, metrics, and assets such as model checkpoints. Learn more about our integration [here](https://www.comet.com/docs/v2/integrations/ml-frameworks/huggingface/) \n",
    "\n",
    "Curious about how Comet can help you build better models, faster? Find out more about [Comet](https://www.comet.com/site/products/ml-experiment-tracking/?utm_campaign=transformers&utm_medium=colab) and our [other integrations](https://www.comet.ml/docs/v2/integrations/overview/)\n",
    "\n",
    "\n",
    "Get a preview for what's to come. Check out a completed experiment created from this notebook [here](https://www.comet.com/examples/comet-examples-transformers-trainer/3992ddee441f446bbb65c3cc4c8bd33b)"
   ]
  },
  {
   "cell_type": "markdown",
   "metadata": {
    "id": "KUdcwLCWIz2n"
   },
   "source": [
    "# Install Comet and Dependencies"
   ]
  },
  {
   "cell_type": "code",
   "execution_count": null,
   "metadata": {
    "id": "nGDxYlCEKHMt"
   },
   "outputs": [],
   "source": [
    "%pip install comet_ml torch datasets transformers scikit-learn"
   ]
  },
  {
   "cell_type": "markdown",
   "metadata": {
    "id": "3VaHie31I3r_"
   },
   "source": [
    "# Initialize Comet"
   ]
  },
  {
   "cell_type": "code",
   "execution_count": null,
   "metadata": {
    "id": "8twVwYTIKK_x"
   },
   "outputs": [],
   "source": [
    "import comet_ml\n",
    "\n",
    "comet_ml.init(project_name=\"comet-examples-transfomers-trainer\")"
   ]
  },
  {
   "cell_type": "markdown",
   "metadata": {
    "id": "y-isTv4sTU1n"
   },
   "source": [
    "# Set Model Type"
   ]
  },
  {
   "cell_type": "code",
   "execution_count": null,
   "metadata": {
    "id": "2R9ckDVbTWaN"
   },
   "outputs": [],
   "source": [
    "PRE_TRAINED_MODEL_NAME = \"distilbert-base-uncased\"\n",
    "SEED = 42"
   ]
  },
  {
   "cell_type": "markdown",
   "metadata": {
    "id": "dJRfuqCXI948"
   },
   "source": [
    "# Load Data"
   ]
  },
  {
   "cell_type": "code",
   "execution_count": null,
   "metadata": {
    "id": "AD_Ejs6sKTRl"
   },
   "outputs": [],
   "source": [
    "from transformers import AutoTokenizer, Trainer, TrainingArguments\n",
    "from datasets import load_dataset\n",
    "\n",
    "raw_datasets = load_dataset(\"imdb\")"
   ]
  },
  {
   "cell_type": "markdown",
   "metadata": {
    "id": "IDXLkGRnI_jn"
   },
   "source": [
    "# Setup Tokenizer"
   ]
  },
  {
   "cell_type": "code",
   "execution_count": null,
   "metadata": {
    "id": "DI24QdbPKoO9"
   },
   "outputs": [],
   "source": [
    "tokenizer = AutoTokenizer.from_pretrained(PRE_TRAINED_MODEL_NAME)"
   ]
  },
  {
   "cell_type": "code",
   "execution_count": null,
   "metadata": {
    "id": "flBnDDk4M8Yo"
   },
   "outputs": [],
   "source": [
    "def tokenize_function(examples):\n",
    "    return tokenizer(examples[\"text\"], padding=\"max_length\", truncation=True)\n",
    "\n",
    "\n",
    "tokenized_datasets = raw_datasets.map(tokenize_function, batched=True)"
   ]
  },
  {
   "cell_type": "code",
   "execution_count": null,
   "metadata": {
    "id": "vhN2owT-tOcv"
   },
   "outputs": [],
   "source": [
    "from transformers import DataCollatorWithPadding\n",
    "\n",
    "data_collator = DataCollatorWithPadding(tokenizer=tokenizer)"
   ]
  },
  {
   "cell_type": "markdown",
   "metadata": {
    "id": "jMX-ysNYOCN4"
   },
   "source": [
    "# Create Sample Datasets"
   ]
  },
  {
   "cell_type": "markdown",
   "metadata": {
    "id": "yBYSBPoZOEFq"
   },
   "source": [
    "For this guide, we are only going to sample 200 examples from our dataset.  "
   ]
  },
  {
   "cell_type": "code",
   "execution_count": null,
   "metadata": {
    "id": "urC6KnPbNET3"
   },
   "outputs": [],
   "source": [
    "train_dataset = tokenized_datasets[\"train\"].shuffle(seed=SEED).select(range(200))\n",
    "eval_dataset = tokenized_datasets[\"test\"].shuffle(seed=SEED).select(range(200))"
   ]
  },
  {
   "cell_type": "markdown",
   "metadata": {
    "id": "HU4ggdjCJJT1"
   },
   "source": [
    "# Setup Transformer Model"
   ]
  },
  {
   "cell_type": "code",
   "execution_count": null,
   "metadata": {
    "id": "sythIXibNmFD"
   },
   "outputs": [],
   "source": [
    "from transformers import AutoModelForSequenceClassification\n",
    "\n",
    "model = AutoModelForSequenceClassification.from_pretrained(\n",
    "    PRE_TRAINED_MODEL_NAME, num_labels=2\n",
    ")"
   ]
  },
  {
   "cell_type": "markdown",
   "metadata": {
    "id": "EXUjopsZpo-D"
   },
   "source": [
    "# Setup Evaluation Function"
   ]
  },
  {
   "cell_type": "code",
   "execution_count": null,
   "metadata": {
    "id": "Gl6m6IJUporu"
   },
   "outputs": [],
   "source": [
    "from sklearn.metrics import accuracy_score, precision_recall_fscore_support\n",
    "\n",
    "\n",
    "def get_example(index):\n",
    "    return eval_dataset[index][\"text\"]\n",
    "\n",
    "\n",
    "def compute_metrics(pred):\n",
    "    experiment = comet_ml.get_global_experiment()\n",
    "\n",
    "    labels = pred.label_ids\n",
    "    preds = pred.predictions.argmax(-1)\n",
    "    precision, recall, f1, _ = precision_recall_fscore_support(\n",
    "        labels, preds, average=\"macro\"\n",
    "    )\n",
    "    acc = accuracy_score(labels, preds)\n",
    "\n",
    "    if experiment:\n",
    "        epoch = int(experiment.curr_epoch) if experiment.curr_epoch is not None else 0\n",
    "        experiment.set_epoch(epoch)\n",
    "        experiment.log_confusion_matrix(\n",
    "            y_true=labels,\n",
    "            y_predicted=preds,\n",
    "            file_name=f\"confusion-matrix-epoch-{epoch}.json\",\n",
    "            labels=[\"negative\", \"postive\"],\n",
    "            index_to_example_function=get_example,\n",
    "        )\n",
    "\n",
    "    return {\"accuracy\": acc, \"f1\": f1, \"precision\": precision, \"recall\": recall}"
   ]
  },
  {
   "cell_type": "markdown",
   "metadata": {
    "id": "JomdNlu0JORT"
   },
   "source": [
    "# Run Training"
   ]
  },
  {
   "cell_type": "markdown",
   "metadata": {
    "id": "7YIJF9DWKhe9"
   },
   "source": [
    "In order to enable logging from the Hugging Face Trainer, you will need to set the `COMET_MODE` environment variable to `ONLINE`.  If you would like to log assets produced in the training run as Comet Assets, set `COMET_LOG_ASSETS=TRUE`   "
   ]
  },
  {
   "cell_type": "code",
   "execution_count": null,
   "metadata": {
    "id": "kPmjwEH4NrQF"
   },
   "outputs": [],
   "source": [
    "%env COMET_MODE=ONLINE\n",
    "%env COMET_LOG_ASSETS=TRUE\n",
    "\n",
    "training_args = TrainingArguments(\n",
    "    seed=SEED,\n",
    "    output_dir=\"./results\",\n",
    "    overwrite_output_dir=True,\n",
    "    num_train_epochs=1,\n",
    "    do_train=True,\n",
    "    do_eval=True,\n",
    "    evaluation_strategy=\"steps\",\n",
    "    eval_steps=25,\n",
    "    save_strategy=\"steps\",\n",
    "    save_total_limit=10,\n",
    "    save_steps=25,\n",
    "    per_device_train_batch_size=8,\n",
    ")\n",
    "\n",
    "trainer = Trainer(\n",
    "    model=model,\n",
    "    args=training_args,\n",
    "    train_dataset=train_dataset,\n",
    "    eval_dataset=eval_dataset,\n",
    "    compute_metrics=compute_metrics,\n",
    "    data_collator=data_collator,\n",
    ")\n",
    "trainer.train()"
   ]
  },
  {
   "cell_type": "code",
   "execution_count": null,
   "metadata": {
    "id": "Awh4gdCSRNZ_"
   },
   "outputs": [],
   "source": []
  }
 ],
 "metadata": {
  "accelerator": "GPU",
  "colab": {
   "collapsed_sections": [],
   "name": "Comet with Hugging Face",
   "provenance": []
  },
  "kernelspec": {
   "display_name": "Python 3 (ipykernel)",
   "language": "python",
   "name": "python3"
  },
  "language_info": {
   "codemirror_mode": {
    "name": "ipython",
    "version": 3
   },
   "file_extension": ".py",
   "mimetype": "text/x-python",
   "name": "python",
   "nbconvert_exporter": "python",
   "pygments_lexer": "ipython3",
   "version": "3.9.1"
  }
 },
 "nbformat": 4,
 "nbformat_minor": 1
}
