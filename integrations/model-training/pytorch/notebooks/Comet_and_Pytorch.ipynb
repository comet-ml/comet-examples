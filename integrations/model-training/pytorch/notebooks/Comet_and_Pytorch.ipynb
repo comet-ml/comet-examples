{
 "cells": [
  {
   "cell_type": "markdown",
   "metadata": {
    "id": "PWVljpddz_vN"
   },
   "source": [
    "<img src=\"https://cdn.comet.ml/img/notebook_logo.png\">"
   ]
  },
  {
   "attachments": {},
   "cell_type": "markdown",
   "metadata": {
    "id": "A0-thQauBRRL"
   },
   "source": [
    "[Comet](https://www.comet.com/site/products/ml-experiment-tracking/?utm_source=comet-examples&utm_medium=referral&utm_campaign=github_repo_2023&utm_content=pytorch) is an MLOps Platform that is designed to help Data Scientists and Teams build better models faster! Comet provides tooling to track, Explain, Manage, and Monitor your models in a single place! It works with Jupyter Notebooks and Scripts and most importantly it's 100% free to get started!\n",
    "\n",
    "[PyTorch](https://pytorch.org/) is a popular open source machine learning framework based on the Torch library, used for applications such as computer vision and natural language processing.\n",
    "\n",
    "PyTorch enables fast, flexible experimentation and efficient production through a user-friendly front-end, distributed training, and ecosystem of tools and libraries.\n",
    "\n",
    "Instrument PyTorch with Comet to start managing experiments, create dataset versions and track hyperparameters for faster and easier reproducibility and collaboration.\n",
    "\n",
    "[Find more information about our integration with Pytorch](https://www.comet.ml/docs/v2/integrations/ml-frameworks/pytorch/?utm_source=comet-examples&utm_medium=referral&utm_campaign=github_repo_2023&utm_content=pytorch)\n",
    "\n",
    "Curious about how Comet can help you build better models, faster? Find out more about [Comet](https://www.comet.com/site/products/ml-experiment-tracking/?utm_source=comet-examples&utm_medium=referral&utm_campaign=github_repo_2023&utm_content=pytorch) and our [other integrations](https://www.comet.com/docs/v2/integrations/overview/?utm_source=comet-examples&utm_medium=referral&utm_campaign=github_repo_2023&utm_content=pytorch)\n",
    "\n",
    "Get a preview for what's to come. Check out a completed experiment created from this notebook [here](https://www.comet.com/examples/comet-example-pytorch-notebook/view/KH44QDCwjScAzejsflz4injPf/panels?utm_source=comet-examples&utm_medium=referral&utm_campaign=github_repo_2023&utm_content=pytorch).\n"
   ]
  },
  {
   "cell_type": "markdown",
   "metadata": {
    "id": "V2UZtdWitSLf"
   },
   "source": [
    "# Install Dependencies"
   ]
  },
  {
   "cell_type": "code",
   "execution_count": 3,
   "metadata": {
    "id": "vIQsPNvatQIU"
   },
   "outputs": [
    {
     "name": "stdout",
     "output_type": "stream",
     "text": [
      "Requirement already satisfied: comet_ml>=3.38.0 in /home/lothiraldan/.virtualenvs/tempenv-13b386742707/lib/python3.10/site-packages (3.38.0)\n",
      "Requirement already satisfied: torch in /home/lothiraldan/.virtualenvs/tempenv-13b386742707/lib/python3.10/site-packages (2.2.0)\n",
      "Requirement already satisfied: torchvision in /home/lothiraldan/.virtualenvs/tempenv-13b386742707/lib/python3.10/site-packages (0.17.0)\n",
      "Requirement already satisfied: tqdm in /home/lothiraldan/.virtualenvs/tempenv-13b386742707/lib/python3.10/site-packages (4.66.2)\n",
      "Requirement already satisfied: jsonschema!=3.1.0,>=2.6.0 in /home/lothiraldan/.virtualenvs/tempenv-13b386742707/lib/python3.10/site-packages (from comet_ml>=3.38.0) (4.21.1)\n",
      "Requirement already satisfied: psutil>=5.6.3 in /home/lothiraldan/.virtualenvs/tempenv-13b386742707/lib/python3.10/site-packages (from comet_ml>=3.38.0) (5.9.8)\n",
      "Requirement already satisfied: python-box<7.0.0 in /home/lothiraldan/.virtualenvs/tempenv-13b386742707/lib/python3.10/site-packages (from comet_ml>=3.38.0) (6.1.0)\n",
      "Requirement already satisfied: requests-toolbelt>=0.8.0 in /home/lothiraldan/.virtualenvs/tempenv-13b386742707/lib/python3.10/site-packages (from comet_ml>=3.38.0) (1.0.0)\n",
      "Requirement already satisfied: requests>=2.18.4 in /home/lothiraldan/.virtualenvs/tempenv-13b386742707/lib/python3.10/site-packages (from comet_ml>=3.38.0) (2.31.0)\n",
      "Requirement already satisfied: semantic-version>=2.8.0 in /home/lothiraldan/.virtualenvs/tempenv-13b386742707/lib/python3.10/site-packages (from comet_ml>=3.38.0) (2.10.0)\n",
      "Requirement already satisfied: sentry-sdk>=1.1.0 in /home/lothiraldan/.virtualenvs/tempenv-13b386742707/lib/python3.10/site-packages (from comet_ml>=3.38.0) (1.40.4)\n",
      "Requirement already satisfied: simplejson in /home/lothiraldan/.virtualenvs/tempenv-13b386742707/lib/python3.10/site-packages (from comet_ml>=3.38.0) (3.19.2)\n",
      "Requirement already satisfied: six in /home/lothiraldan/.virtualenvs/tempenv-13b386742707/lib/python3.10/site-packages (from comet_ml>=3.38.0) (1.16.0)\n",
      "Requirement already satisfied: urllib3>=1.21.1 in /home/lothiraldan/.virtualenvs/tempenv-13b386742707/lib/python3.10/site-packages (from comet_ml>=3.38.0) (2.2.0)\n",
      "Requirement already satisfied: websocket-client<1.4.0,>=0.55.0 in /home/lothiraldan/.virtualenvs/tempenv-13b386742707/lib/python3.10/site-packages (from comet_ml>=3.38.0) (1.3.3)\n",
      "Requirement already satisfied: wrapt>=1.11.2 in /home/lothiraldan/.virtualenvs/tempenv-13b386742707/lib/python3.10/site-packages (from comet_ml>=3.38.0) (1.16.0)\n",
      "Requirement already satisfied: wurlitzer>=1.0.2 in /home/lothiraldan/.virtualenvs/tempenv-13b386742707/lib/python3.10/site-packages (from comet_ml>=3.38.0) (3.0.3)\n",
      "Requirement already satisfied: everett<3.2.0,>=1.0.1 in /home/lothiraldan/.virtualenvs/tempenv-13b386742707/lib/python3.10/site-packages (from everett[ini]<3.2.0,>=1.0.1; python_version > \"3.5\"->comet_ml>=3.38.0) (3.1.0)\n",
      "Requirement already satisfied: dulwich!=0.20.33,>=0.20.6 in /home/lothiraldan/.virtualenvs/tempenv-13b386742707/lib/python3.10/site-packages (from comet_ml>=3.38.0) (0.21.7)\n",
      "Requirement already satisfied: rich>=13.3.2 in /home/lothiraldan/.virtualenvs/tempenv-13b386742707/lib/python3.10/site-packages (from comet_ml>=3.38.0) (13.7.0)\n",
      "Requirement already satisfied: filelock in /home/lothiraldan/.virtualenvs/tempenv-13b386742707/lib/python3.10/site-packages (from torch) (3.13.1)\n",
      "Requirement already satisfied: typing-extensions>=4.8.0 in /home/lothiraldan/.virtualenvs/tempenv-13b386742707/lib/python3.10/site-packages (from torch) (4.9.0)\n",
      "Requirement already satisfied: sympy in /home/lothiraldan/.virtualenvs/tempenv-13b386742707/lib/python3.10/site-packages (from torch) (1.12)\n",
      "Requirement already satisfied: networkx in /home/lothiraldan/.virtualenvs/tempenv-13b386742707/lib/python3.10/site-packages (from torch) (3.2.1)\n",
      "Requirement already satisfied: jinja2 in /home/lothiraldan/.virtualenvs/tempenv-13b386742707/lib/python3.10/site-packages (from torch) (3.1.3)\n",
      "Requirement already satisfied: fsspec in /home/lothiraldan/.virtualenvs/tempenv-13b386742707/lib/python3.10/site-packages (from torch) (2024.2.0)\n",
      "Requirement already satisfied: nvidia-cuda-nvrtc-cu12==12.1.105 in /home/lothiraldan/.virtualenvs/tempenv-13b386742707/lib/python3.10/site-packages (from torch) (12.1.105)\n",
      "Requirement already satisfied: nvidia-cuda-runtime-cu12==12.1.105 in /home/lothiraldan/.virtualenvs/tempenv-13b386742707/lib/python3.10/site-packages (from torch) (12.1.105)\n",
      "Requirement already satisfied: nvidia-cuda-cupti-cu12==12.1.105 in /home/lothiraldan/.virtualenvs/tempenv-13b386742707/lib/python3.10/site-packages (from torch) (12.1.105)\n",
      "Requirement already satisfied: nvidia-cudnn-cu12==8.9.2.26 in /home/lothiraldan/.virtualenvs/tempenv-13b386742707/lib/python3.10/site-packages (from torch) (8.9.2.26)\n",
      "Requirement already satisfied: nvidia-cublas-cu12==12.1.3.1 in /home/lothiraldan/.virtualenvs/tempenv-13b386742707/lib/python3.10/site-packages (from torch) (12.1.3.1)\n",
      "Requirement already satisfied: nvidia-cufft-cu12==11.0.2.54 in /home/lothiraldan/.virtualenvs/tempenv-13b386742707/lib/python3.10/site-packages (from torch) (11.0.2.54)\n",
      "Requirement already satisfied: nvidia-curand-cu12==10.3.2.106 in /home/lothiraldan/.virtualenvs/tempenv-13b386742707/lib/python3.10/site-packages (from torch) (10.3.2.106)\n",
      "Requirement already satisfied: nvidia-cusolver-cu12==11.4.5.107 in /home/lothiraldan/.virtualenvs/tempenv-13b386742707/lib/python3.10/site-packages (from torch) (11.4.5.107)\n",
      "Requirement already satisfied: nvidia-cusparse-cu12==12.1.0.106 in /home/lothiraldan/.virtualenvs/tempenv-13b386742707/lib/python3.10/site-packages (from torch) (12.1.0.106)\n",
      "Requirement already satisfied: nvidia-nccl-cu12==2.19.3 in /home/lothiraldan/.virtualenvs/tempenv-13b386742707/lib/python3.10/site-packages (from torch) (2.19.3)\n",
      "Requirement already satisfied: nvidia-nvtx-cu12==12.1.105 in /home/lothiraldan/.virtualenvs/tempenv-13b386742707/lib/python3.10/site-packages (from torch) (12.1.105)\n",
      "Requirement already satisfied: triton==2.2.0 in /home/lothiraldan/.virtualenvs/tempenv-13b386742707/lib/python3.10/site-packages (from torch) (2.2.0)\n",
      "Requirement already satisfied: nvidia-nvjitlink-cu12 in /home/lothiraldan/.virtualenvs/tempenv-13b386742707/lib/python3.10/site-packages (from nvidia-cusolver-cu12==11.4.5.107->torch) (12.3.101)\n",
      "Requirement already satisfied: numpy in /home/lothiraldan/.virtualenvs/tempenv-13b386742707/lib/python3.10/site-packages (from torchvision) (1.26.4)\n",
      "Requirement already satisfied: pillow!=8.3.*,>=5.3.0 in /home/lothiraldan/.virtualenvs/tempenv-13b386742707/lib/python3.10/site-packages (from torchvision) (10.2.0)\n",
      "Requirement already satisfied: configobj in /home/lothiraldan/.virtualenvs/tempenv-13b386742707/lib/python3.10/site-packages (from everett[ini]<3.2.0,>=1.0.1; python_version > \"3.5\"->comet_ml>=3.38.0) (5.0.8)\n",
      "Requirement already satisfied: attrs>=22.2.0 in /home/lothiraldan/.virtualenvs/tempenv-13b386742707/lib/python3.10/site-packages (from jsonschema!=3.1.0,>=2.6.0->comet_ml>=3.38.0) (23.2.0)\n",
      "Requirement already satisfied: jsonschema-specifications>=2023.03.6 in /home/lothiraldan/.virtualenvs/tempenv-13b386742707/lib/python3.10/site-packages (from jsonschema!=3.1.0,>=2.6.0->comet_ml>=3.38.0) (2023.12.1)\n",
      "Requirement already satisfied: referencing>=0.28.4 in /home/lothiraldan/.virtualenvs/tempenv-13b386742707/lib/python3.10/site-packages (from jsonschema!=3.1.0,>=2.6.0->comet_ml>=3.38.0) (0.33.0)\n",
      "Requirement already satisfied: rpds-py>=0.7.1 in /home/lothiraldan/.virtualenvs/tempenv-13b386742707/lib/python3.10/site-packages (from jsonschema!=3.1.0,>=2.6.0->comet_ml>=3.38.0) (0.18.0)\n",
      "Requirement already satisfied: charset-normalizer<4,>=2 in /home/lothiraldan/.virtualenvs/tempenv-13b386742707/lib/python3.10/site-packages (from requests>=2.18.4->comet_ml>=3.38.0) (3.3.2)\n",
      "Requirement already satisfied: idna<4,>=2.5 in /home/lothiraldan/.virtualenvs/tempenv-13b386742707/lib/python3.10/site-packages (from requests>=2.18.4->comet_ml>=3.38.0) (3.6)\n",
      "Requirement already satisfied: certifi>=2017.4.17 in /home/lothiraldan/.virtualenvs/tempenv-13b386742707/lib/python3.10/site-packages (from requests>=2.18.4->comet_ml>=3.38.0) (2024.2.2)\n",
      "Requirement already satisfied: markdown-it-py>=2.2.0 in /home/lothiraldan/.virtualenvs/tempenv-13b386742707/lib/python3.10/site-packages (from rich>=13.3.2->comet_ml>=3.38.0) (3.0.0)\n",
      "Requirement already satisfied: pygments<3.0.0,>=2.13.0 in /home/lothiraldan/.virtualenvs/tempenv-13b386742707/lib/python3.10/site-packages (from rich>=13.3.2->comet_ml>=3.38.0) (2.17.2)\n",
      "Requirement already satisfied: MarkupSafe>=2.0 in /home/lothiraldan/.virtualenvs/tempenv-13b386742707/lib/python3.10/site-packages (from jinja2->torch) (2.1.5)\n",
      "Requirement already satisfied: mpmath>=0.19 in /home/lothiraldan/.virtualenvs/tempenv-13b386742707/lib/python3.10/site-packages (from sympy->torch) (1.3.0)\n",
      "Requirement already satisfied: mdurl~=0.1 in /home/lothiraldan/.virtualenvs/tempenv-13b386742707/lib/python3.10/site-packages (from markdown-it-py>=2.2.0->rich>=13.3.2->comet_ml>=3.38.0) (0.1.2)\n",
      "\n",
      "\u001b[1m[\u001b[0m\u001b[34;49mnotice\u001b[0m\u001b[1;39;49m]\u001b[0m\u001b[39;49m A new release of pip is available: \u001b[0m\u001b[31;49m23.3.2\u001b[0m\u001b[39;49m -> \u001b[0m\u001b[32;49m24.0\u001b[0m\n",
      "\u001b[1m[\u001b[0m\u001b[34;49mnotice\u001b[0m\u001b[1;39;49m]\u001b[0m\u001b[39;49m To update, run: \u001b[0m\u001b[32;49m/home/lothiraldan/.virtualenvs/tempenv-13b386742707/bin/python -m pip install --upgrade pip\u001b[0m\n",
      "Note: you may need to restart the kernel to use updated packages.\n"
     ]
    }
   ],
   "source": [
    "%pip install \"comet_ml>=3.38.0\" torch torchvision tqdm"
   ]
  },
  {
   "cell_type": "code",
   "execution_count": 4,
   "metadata": {},
   "outputs": [],
   "source": [
    "# import os\n",
    "# os.environ[\"COMET_LOGGING_FILE_LEVEL\"] = \"debug\"\n",
    "# os.environ[\"COMET_LOGGING_FILE\"] = \"logs/log-{pid}.log\""
   ]
  },
  {
   "cell_type": "markdown",
   "metadata": {
    "id": "lpCFdN33tday"
   },
   "source": [
    "# Initialize Comet"
   ]
  },
  {
   "cell_type": "code",
   "execution_count": 5,
   "metadata": {
    "id": "kGyz_i-dtfk4"
   },
   "outputs": [],
   "source": [
    "import comet_ml\n",
    "from comet_ml.integration.pytorch import watch\n",
    "\n",
    "comet_ml.init(project_name=\"comet-example-pytorch\")"
   ]
  },
  {
   "cell_type": "markdown",
   "metadata": {
    "id": "zMVITKxktj7H"
   },
   "source": [
    "# Import Dependencies"
   ]
  },
  {
   "cell_type": "code",
   "execution_count": 6,
   "metadata": {
    "id": "cuRPreREp8y0"
   },
   "outputs": [],
   "source": [
    "import torch\n",
    "import torch.nn as nn\n",
    "import torch.nn.functional as F\n",
    "import torchvision.datasets as datasets\n",
    "import torchvision.transforms as transforms\n",
    "from torch.autograd import Variable\n",
    "from tqdm import tqdm"
   ]
  },
  {
   "cell_type": "markdown",
   "metadata": {
    "id": "a15YYRcKp9xV"
   },
   "source": [
    "# Define Parameters"
   ]
  },
  {
   "cell_type": "code",
   "execution_count": 7,
   "metadata": {
    "id": "rZ9biJqMtMq0"
   },
   "outputs": [
    {
     "name": "stderr",
     "output_type": "stream",
     "text": [
      "\u001b[1;38;5;214mCOMET WARNING:\u001b[0m As you are running in a Jupyter environment, you will need to call `experiment.end()` when finished to ensure all metrics and code are logged before exiting.\n",
      "\u001b[1;38;5;39mCOMET INFO:\u001b[0m Experiment is live on comet.com https://www.comet.com/lothiraldan/comet-example-pytorch/7146deef011142c38d309856f7e5051c\n",
      "\n"
     ]
    }
   ],
   "source": [
    "hyper_params = {\"batch_size\": 100, \"num_epochs\": 3, \"learning_rate\": 0.01}\n",
    "experiment = comet_ml.Experiment()\n",
    "experiment.log_parameters(hyper_params)"
   ]
  },
  {
   "cell_type": "markdown",
   "metadata": {
    "id": "htcACg9grtTe"
   },
   "source": [
    "# Load Data"
   ]
  },
  {
   "cell_type": "code",
   "execution_count": 8,
   "metadata": {
    "id": "crCfZX9Zrufn"
   },
   "outputs": [],
   "source": [
    "# MNIST Dataset\n",
    "train_dataset = datasets.MNIST(\n",
    "    root=\"./data/\", train=True, transform=transforms.ToTensor(), download=True\n",
    ")\n",
    "\n",
    "test_dataset = datasets.MNIST(\n",
    "    root=\"./data/\", train=False, transform=transforms.ToTensor()\n",
    ")\n",
    "\n",
    "# Data Loader (Input Pipeline)\n",
    "train_loader = torch.utils.data.DataLoader(\n",
    "    dataset=train_dataset, batch_size=hyper_params[\"batch_size\"], shuffle=True\n",
    ")\n",
    "\n",
    "test_loader = torch.utils.data.DataLoader(\n",
    "    dataset=test_dataset, batch_size=hyper_params[\"batch_size\"], shuffle=False\n",
    ")"
   ]
  },
  {
   "cell_type": "markdown",
   "metadata": {
    "id": "vqJaYzGvryUz"
   },
   "source": [
    "# Define Model and Optimizer"
   ]
  },
  {
   "cell_type": "code",
   "execution_count": 9,
   "metadata": {
    "id": "pMRQESULrzXg"
   },
   "outputs": [],
   "source": [
    "device = torch.device(\"cuda\" if torch.cuda.is_available() else \"cpu\")\n",
    "\n",
    "\n",
    "class Net(nn.Module):\n",
    "    def __init__(self):\n",
    "        super(Net, self).__init__()\n",
    "        self.conv1 = nn.Conv2d(1, 32, 3, 1)\n",
    "        self.conv2 = nn.Conv2d(32, 64, 3, 1)\n",
    "        self.dropout1 = nn.Dropout(0.25)\n",
    "        self.dropout2 = nn.Dropout(0.5)\n",
    "        self.fc1 = nn.Linear(9216, 128)\n",
    "        self.fc2 = nn.Linear(128, 10)\n",
    "\n",
    "    def forward(self, x):\n",
    "        x = self.conv1(x)\n",
    "        x = F.relu(x)\n",
    "        x = self.conv2(x)\n",
    "        x = F.relu(x)\n",
    "        x = F.max_pool2d(x, 2)\n",
    "        x = self.dropout1(x)\n",
    "        x = torch.flatten(x, 1)\n",
    "        x = self.fc1(x)\n",
    "        x = F.relu(x)\n",
    "        x = self.dropout2(x)\n",
    "        x = self.fc2(x)\n",
    "\n",
    "        return x\n",
    "\n",
    "\n",
    "model = Net().to(device)\n",
    "\n",
    "# Loss and Optimizer\n",
    "criterion = nn.CrossEntropyLoss()\n",
    "optimizer = torch.optim.Adam(model.parameters(), lr=hyper_params[\"learning_rate\"])"
   ]
  },
  {
   "cell_type": "markdown",
   "metadata": {
    "id": "7hgzjMnYqZPQ"
   },
   "source": [
    "# Train a Model"
   ]
  },
  {
   "cell_type": "code",
   "execution_count": 10,
   "metadata": {
    "id": "zmb3DAsXqa4K"
   },
   "outputs": [],
   "source": [
    "def train(model, optimizer, criterion, dataloader, epoch, experiment):\n",
    "    model.train()\n",
    "    total_loss = 0\n",
    "    correct = 0\n",
    "    for batch_idx, (images, labels) in enumerate(\n",
    "        tqdm(dataloader, total=len(dataloader))\n",
    "    ):\n",
    "        optimizer.zero_grad()\n",
    "        images = images.to(device)\n",
    "        labels = labels.to(device)\n",
    "\n",
    "        outputs = model(images)\n",
    "\n",
    "        loss = criterion(outputs, labels)\n",
    "        pred = outputs.argmax(\n",
    "            dim=1, keepdim=True\n",
    "        )  # get the index of the max log-probability\n",
    "\n",
    "        loss.backward()\n",
    "        optimizer.step()\n",
    "\n",
    "        # Compute train accuracy\n",
    "        batch_correct = pred.eq(labels.view_as(pred)).sum().item()\n",
    "        batch_total = labels.size(0)\n",
    "\n",
    "        total_loss += loss.item()\n",
    "        correct += batch_correct\n",
    "\n",
    "        # Log batch_accuracy to Comet; step is each batch\n",
    "        experiment.log_metric(\"batch_accuracy\", batch_correct / batch_total)\n",
    "\n",
    "    total_loss /= len(dataloader.dataset)\n",
    "    correct /= len(dataloader.dataset)\n",
    "\n",
    "    experiment.log_metrics({\"accuracy\": correct, \"loss\": total_loss}, epoch=epoch)"
   ]
  },
  {
   "cell_type": "code",
   "execution_count": 11,
   "metadata": {
    "id": "kpNDbdvQuPZw"
   },
   "outputs": [
    {
     "name": "stdout",
     "output_type": "stream",
     "text": [
      "Running Model Training\n",
      "Epoch: 0/3\n"
     ]
    },
    {
     "name": "stderr",
     "output_type": "stream",
     "text": [
      "100%|████████████████████████████████████████████████████████████████████████████████████████████████████████████████████████████████████████████████████████████████████████████████████████████████████████████████████████| 600/600 [00:58<00:00, 10.26it/s]\n"
     ]
    },
    {
     "name": "stdout",
     "output_type": "stream",
     "text": [
      "Epoch: 1/3\n"
     ]
    },
    {
     "name": "stderr",
     "output_type": "stream",
     "text": [
      "100%|████████████████████████████████████████████████████████████████████████████████████████████████████████████████████████████████████████████████████████████████████████████████████████████████████████████████████████| 600/600 [01:00<00:00,  9.97it/s]\n"
     ]
    },
    {
     "name": "stdout",
     "output_type": "stream",
     "text": [
      "Epoch: 2/3\n"
     ]
    },
    {
     "name": "stderr",
     "output_type": "stream",
     "text": [
      "100%|████████████████████████████████████████████████████████████████████████████████████████████████████████████████████████████████████████████████████████████████████████████████████████████████████████████████████████| 600/600 [01:01<00:00,  9.83it/s]\n"
     ]
    },
    {
     "name": "stdout",
     "output_type": "stream",
     "text": [
      "Epoch: 3/3\n"
     ]
    },
    {
     "name": "stderr",
     "output_type": "stream",
     "text": [
      "100%|████████████████████████████████████████████████████████████████████████████████████████████████████████████████████████████████████████████████████████████████████████████████████████████████████████████████████████| 600/600 [01:05<00:00,  9.23it/s]\n"
     ]
    }
   ],
   "source": [
    "# Train the Model\n",
    "print(\"Running Model Training\")\n",
    "\n",
    "max_epochs = hyper_params[\"num_epochs\"]\n",
    "with experiment.train():\n",
    "    watch(model)\n",
    "    for epoch in range(max_epochs + 1):\n",
    "        print(\"Epoch: {}/{}\".format(epoch, max_epochs))\n",
    "        train(model, optimizer, criterion, train_loader, epoch, experiment)"
   ]
  },
  {
   "cell_type": "markdown",
   "metadata": {
    "id": "zYKsMqsyqRgq"
   },
   "source": [
    "# Evaluate Model"
   ]
  },
  {
   "cell_type": "code",
   "execution_count": 12,
   "metadata": {
    "id": "Oz6E13NtqSZn"
   },
   "outputs": [],
   "source": [
    "def test(model, optimizer, criterion, dataloader, epoch, experiment):\n",
    "    model.eval()\n",
    "\n",
    "    total_loss = 0\n",
    "    correct = 0\n",
    "    with torch.no_grad():\n",
    "        for batch_idx, (images, labels) in tqdm(enumerate(dataloader)):\n",
    "            images, labels = images.to(device), labels.to(device)\n",
    "            output = model(images)\n",
    "            total_loss += criterion(output, labels).item()  # sum up batch loss\n",
    "            pred = output.argmax(\n",
    "                dim=1,\n",
    "                keepdim=True,\n",
    "            )  # get the index of the max log-probability\n",
    "            correct += pred.eq(labels.view_as(pred)).sum().item()\n",
    "\n",
    "        total_loss /= len(dataloader.dataset)\n",
    "        correct /= len(dataloader.dataset)\n",
    "\n",
    "        experiment.log_metrics({\"accuracy\": correct, \"loss\": total_loss}, epoch=epoch)"
   ]
  },
  {
   "cell_type": "code",
   "execution_count": 13,
   "metadata": {
    "id": "FUEXkJV6uUW1"
   },
   "outputs": [
    {
     "name": "stdout",
     "output_type": "stream",
     "text": [
      "Running Model Evaluation\n"
     ]
    },
    {
     "name": "stderr",
     "output_type": "stream",
     "text": [
      "100it [00:04, 21.26it/s]\n"
     ]
    }
   ],
   "source": [
    "# Test the Model\n",
    "print(\"Running Model Evaluation\")\n",
    "\n",
    "with experiment.test():\n",
    "    test(model, optimizer, criterion, test_loader, epoch, experiment)"
   ]
  },
  {
   "cell_type": "markdown",
   "metadata": {},
   "source": [
    "# Log the Model to Comet"
   ]
  },
  {
   "cell_type": "code",
   "execution_count": 14,
   "metadata": {},
   "outputs": [],
   "source": [
    "from comet_ml.integration.pytorch import log_model\n",
    "\n",
    "log_model(experiment, model, \"Pytorch-Net-FashionMNIST\")"
   ]
  },
  {
   "cell_type": "markdown",
   "metadata": {
    "id": "F__x_H052a1E"
   },
   "source": [
    "# End Experiment "
   ]
  },
  {
   "cell_type": "code",
   "execution_count": 15,
   "metadata": {
    "id": "YsTMrwd_2cmo"
   },
   "outputs": [
    {
     "name": "stderr",
     "output_type": "stream",
     "text": [
      "\u001b[1;38;5;39mCOMET INFO:\u001b[0m ---------------------------------------------------------------------------------------\n",
      "\u001b[1;38;5;39mCOMET INFO:\u001b[0m Comet.ml Experiment Summary\n",
      "\u001b[1;38;5;39mCOMET INFO:\u001b[0m ---------------------------------------------------------------------------------------\n",
      "\u001b[1;38;5;39mCOMET INFO:\u001b[0m   Data:\n",
      "\u001b[1;38;5;39mCOMET INFO:\u001b[0m     display_summary_level : 1\n",
      "\u001b[1;38;5;39mCOMET INFO:\u001b[0m     url                   : https://www.comet.com/lothiraldan/comet-example-pytorch/7146deef011142c38d309856f7e5051c\n",
      "\u001b[1;38;5;39mCOMET INFO:\u001b[0m   Metrics [count] (min, max):\n",
      "\u001b[1;38;5;39mCOMET INFO:\u001b[0m     test_accuracy               : 0.9817\n",
      "\u001b[1;38;5;39mCOMET INFO:\u001b[0m     test_loss                   : 0.0005998854829609627\n",
      "\u001b[1;38;5;39mCOMET INFO:\u001b[0m     train_accuracy [4]          : (0.8925, 0.95045)\n",
      "\u001b[1;38;5;39mCOMET INFO:\u001b[0m     train_batch_accuracy [2400] : (0.11, 1.0)\n",
      "\u001b[1;38;5;39mCOMET INFO:\u001b[0m     train_loss [243]            : (0.0016230850800561408, 1.3559303283691406)\n",
      "\u001b[1;38;5;39mCOMET INFO:\u001b[0m   Parameters:\n",
      "\u001b[1;38;5;39mCOMET INFO:\u001b[0m     batch_size    : 100\n",
      "\u001b[1;38;5;39mCOMET INFO:\u001b[0m     learning_rate : 0.01\n",
      "\u001b[1;38;5;39mCOMET INFO:\u001b[0m     num_epochs    : 3\n",
      "\u001b[1;38;5;39mCOMET INFO:\u001b[0m   Uploads:\n",
      "\u001b[1;38;5;39mCOMET INFO:\u001b[0m     environment details      : 1\n",
      "\u001b[1;38;5;39mCOMET INFO:\u001b[0m     filename                 : 1\n",
      "\u001b[1;38;5;39mCOMET INFO:\u001b[0m     git metadata             : 1\n",
      "\u001b[1;38;5;39mCOMET INFO:\u001b[0m     git-patch (uncompressed) : 1 (14.23 KB)\n",
      "\u001b[1;38;5;39mCOMET INFO:\u001b[0m     histogram3d              : 40\n",
      "\u001b[1;38;5;39mCOMET INFO:\u001b[0m     installed packages       : 1\n",
      "\u001b[1;38;5;39mCOMET INFO:\u001b[0m     model-element            : 2 (4.58 MB)\n",
      "\u001b[1;38;5;39mCOMET INFO:\u001b[0m     notebook                 : 1\n",
      "\u001b[1;38;5;39mCOMET INFO:\u001b[0m     source_code              : 1\n",
      "\u001b[1;38;5;39mCOMET INFO:\u001b[0m \n"
     ]
    }
   ],
   "source": [
    "experiment.end()"
   ]
  },
  {
   "cell_type": "code",
   "execution_count": null,
   "metadata": {},
   "outputs": [],
   "source": []
  }
 ],
 "metadata": {
  "accelerator": "GPU",
  "colab": {
   "collapsed_sections": [],
   "name": "Comet and Pytorch.ipynb",
   "provenance": []
  },
  "kernelspec": {
   "display_name": "Python 3 (ipykernel)",
   "language": "python",
   "name": "python3"
  },
  "language_info": {
   "codemirror_mode": {
    "name": "ipython",
    "version": 3
   },
   "file_extension": ".py",
   "mimetype": "text/x-python",
   "name": "python",
   "nbconvert_exporter": "python",
   "pygments_lexer": "ipython3",
   "version": "3.10.12"
  }
 },
 "nbformat": 4,
 "nbformat_minor": 4
}
