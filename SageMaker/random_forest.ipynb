{
 "cells": [
  {
   "cell_type": "markdown",
   "metadata": {},
   "source": [
    "## Comet.ml: Sagemaker Random Cut Forests Introduction Integration\n",
    "\n",
    "The code below is taken directly from Amazon Sagemaker's official [An Introduction to SageMaker Random Cut Forests](https://github.com/awslabs/amazon-sagemaker-examples/blob/master/introduction_to_amazon_algorithms/random_cut_forest/random_cut_forest.ipynb) notebook.\n",
    "\n",
    "The descriptive text has more or less been removed, but the code is identical. \n",
    "\n",
    "Follow along below to learn how to log Sagemaker training jobs to Comet.ml."
   ]
  },
  {
   "cell_type": "markdown",
   "metadata": {},
   "source": [
    "#### Install the comet_ml_sagemaker python package\n",
    "\n",
    "Comet's SageMaker configuration is available to Enterprise customers only. If you are interested in learning more about Comet Enterprise, or are in a trial period with Comet.ml and would like to evaluate the SageMaker integration, please email support@comet.ml and credentials can be shared to download the correct packages."
   ]
  },
  {
   "cell_type": "markdown",
   "metadata": {},
   "source": [
    "### Select Amazon S3 Bucket"
   ]
  },
  {
   "cell_type": "code",
   "execution_count": null,
   "metadata": {},
   "outputs": [],
   "source": [
    "import boto3\n",
    "import botocore\n",
    "import sagemaker\n",
    "import sys\n",
    "\n",
    "\n",
    "bucket = \"NAME_YOUR_BUCKET\"  # <--- specify a bucket you have access to\n",
    "prefix = \"sagemaker/rcf-benchmarks\"\n",
    "execution_role = sagemaker.get_execution_role()\n",
    "\n",
    "\n",
    "# check if the bucket exists\n",
    "try:\n",
    "    boto3.Session().client(\"s3\").head_bucket(Bucket=bucket)\n",
    "except botocore.exceptions.ParamValidationError as e:\n",
    "    print(\n",
    "        \"Hey! You either forgot to specify your S3 bucket\"\n",
    "        \" or you gave your bucket an invalid name!\"\n",
    "    )\n",
    "except botocore.exceptions.ClientError as e:\n",
    "    if e.response[\"Error\"][\"Code\"] == \"403\":\n",
    "        print(\"Hey! You don't have permission to access the bucket, {}.\".format(bucket))\n",
    "    elif e.response[\"Error\"][\"Code\"] == \"404\":\n",
    "        print(\"Hey! Your bucket, {}, doesn't exist!\".format(bucket))\n",
    "    else:\n",
    "        raise\n",
    "else:\n",
    "    print(\"Training input/output will be stored in: s3://{}/{}\".format(bucket, prefix))"
   ]
  },
  {
   "cell_type": "markdown",
   "metadata": {},
   "source": [
    "### Obtain and Inspect Example Data"
   ]
  },
  {
   "cell_type": "code",
   "execution_count": null,
   "metadata": {},
   "outputs": [],
   "source": [
    "%%time\n",
    "\n",
    "import pandas as pd\n",
    "import urllib.request\n",
    "\n",
    "data_filename = \"nyc_taxi.csv\"\n",
    "data_source = \"https://raw.githubusercontent.com/numenta/NAB/master/data/realKnownCause/nyc_taxi.csv\"\n",
    "\n",
    "urllib.request.urlretrieve(data_source, data_filename)\n",
    "taxi_data = pd.read_csv(data_filename, delimiter=\",\")"
   ]
  },
  {
   "cell_type": "markdown",
   "metadata": {},
   "source": [
    "### Training\n",
    "\n",
    "#### Hyperparameters"
   ]
  },
  {
   "cell_type": "code",
   "execution_count": null,
   "metadata": {},
   "outputs": [],
   "source": [
    "from sagemaker import RandomCutForest\n",
    "\n",
    "session = sagemaker.Session()\n",
    "\n",
    "# specify general training job information\n",
    "rcf = RandomCutForest(\n",
    "    role=execution_role,\n",
    "    train_instance_count=1,\n",
    "    train_instance_type=\"ml.m4.xlarge\",\n",
    "    data_location=\"s3://{}/{}/\".format(bucket, prefix),\n",
    "    output_path=\"s3://{}/{}/output\".format(bucket, prefix),\n",
    "    num_samples_per_tree=512,\n",
    "    num_trees=50,\n",
    ")\n",
    "\n",
    "# automatically upload the training data to S3 and run the training job\n",
    "rcf.fit(rcf.record_set(taxi_data.value.as_matrix().reshape(-1, 1)))"
   ]
  },
  {
   "cell_type": "markdown",
   "metadata": {},
   "source": [
    "### Logging to Comet.ml"
   ]
  },
  {
   "cell_type": "markdown",
   "metadata": {},
   "source": [
    "Define your Comet [REST API](https://www.comet.com/docs/rest-api/getting-started/) and your [workspace](https://www.comet.com/docs/user-interface/#workspaces). See the [configuration documentation](http://docs.comet.ml/python-sdk/advanced/#python-configuration) for info on both specifications."
   ]
  },
  {
   "cell_type": "code",
   "execution_count": null,
   "metadata": {},
   "outputs": [],
   "source": [
    "COMET_REST_API = \"YOUR_API_KEY\"\n",
    "COMET_WORKSPACE = \"YOUR_WORKSPACE\""
   ]
  },
  {
   "cell_type": "markdown",
   "metadata": {},
   "source": [
    "Import `comet_ml_sagemaker` package."
   ]
  },
  {
   "cell_type": "code",
   "execution_count": null,
   "metadata": {},
   "outputs": [],
   "source": [
    "import comet_ml_sagemaker"
   ]
  },
  {
   "cell_type": "markdown",
   "metadata": {},
   "source": [
    "### comet_ml_sagemaker.log_sagemaker_job(estimator/regressor, api_key, workspace, project_name)\n",
    "Logs a Sagemaker job based on an estimator/regressor object \n",
    "\n",
    "* estimator/regressor = Sagemaker estimator/regressor object\n",
    "* api_key = your Comet REST API key\n",
    "* workspace = your Comet workspace\n",
    "* project_name = your Comet project_name"
   ]
  },
  {
   "cell_type": "code",
   "execution_count": null,
   "metadata": {},
   "outputs": [],
   "source": [
    "# .log_sagemaker_job(regressor/estimator object from Sagemaker SDK, Comet Rest API key (optional, can be taken from usual config source), workspace (comet), project (comet))\n",
    "# I have used the Sagemaker SDK to train a model. I have the estimator/regressor object. I want to log whatever I just trained\n",
    "experiment = comet_ml_sagemaker.log_sagemaker_job(\n",
    "    rcf, api_key=COMET_REST_API, workspace=COMET_WORKSPACE, project_name=\"sagemaker\"\n",
    ")\n",
    "print(experiment.url)\n",
    "experiment.add_tags([\"random_forest\"])"
   ]
  },
  {
   "cell_type": "markdown",
   "metadata": {},
   "source": [
    "### comet_ml_sagemaker.log_sagemaker_job_by_name(job_name, api_key, workspace, project_name)\n",
    "Logs a specific Sagemaker training job based on the jobname from the Sagemaker SDK.\n",
    "\n",
    "* job_name = Cloudwatch/Sagemaker training job name\n",
    "* api_key = your Comet REST API key\n",
    "* workspace = your Comet workspace\n",
    "* project_name = your Comet project_name"
   ]
  },
  {
   "cell_type": "code",
   "execution_count": null,
   "metadata": {},
   "outputs": [],
   "source": [
    "# I have the name of a completed training job I want to lob\n",
    "# Same as .log_sagemaker_job, except instead of passing the regressor/estimator object, you pass the job name\n",
    "SAGEMAKER_TRAINING_JOB_NAME = \"SAGEMAKER_TRAINING_JOB_NAME\"\n",
    "experiment = comet_ml_sagemaker.log_sagemaker_job_by_name(\n",
    "    SAGEMAKER_TRAINING_JOB_NAME,\n",
    "    api_key=COMET_REST_API,\n",
    "    workspace=COMET_WORKSPACE,\n",
    "    project_name=\"sagemaker\",\n",
    ")\n",
    "print(experiment.url)"
   ]
  },
  {
   "cell_type": "markdown",
   "metadata": {},
   "source": [
    "### comet_ml_sagemaker.log_last_sagemaker_job(api_key, workspace, project_name)\n",
    "Will log the last *started* Sagemaker training job based on the current config.\n",
    "\n",
    "* api_key = your Comet REST API key\n",
    "* workspace = your Comet workspace\n",
    "* project_name = your Comet project_name"
   ]
  },
  {
   "cell_type": "code",
   "execution_count": null,
   "metadata": {},
   "outputs": [],
   "source": [
    "# Logs the last job for your current Amazon Region / S3\n",
    "experiment = comet_ml_sagemaker.log_last_sagemaker_job(\n",
    "    api_key=COMET_REST_API, workspace=COMET_WORKSPACE, project_name=\"sagemaker\"\n",
    ")\n",
    "print(experiment.url)\n",
    "experiment.add_tags([\"random_forest\"])"
   ]
  },
  {
   "cell_type": "markdown",
   "metadata": {},
   "source": [
    "#### Note on SageMaker configuration\n",
    "\n",
    "The Comet.ml Sagemaker configuration is using boto to find your training job data, please refer to the [boto documentation](https://boto3.amazonaws.com/v1/documentation/api/latest/guide/configuration.html) to configure the region and/or credentials if needed."
   ]
  }
 ],
 "metadata": {
  "kernelspec": {
   "display_name": "Python 3",
   "language": "python",
   "name": "python3"
  },
  "language_info": {
   "codemirror_mode": {
    "name": "ipython",
    "version": 3
   },
   "file_extension": ".py",
   "mimetype": "text/x-python",
   "name": "python",
   "nbconvert_exporter": "python",
   "pygments_lexer": "ipython3",
   "version": "3.6.9"
  }
 },
 "nbformat": 4,
 "nbformat_minor": 2
}
