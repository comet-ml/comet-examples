{
 "cells": [
  {
   "cell_type": "markdown",
   "metadata": {
    "id": "4ecoTVbbqxDR"
   },
   "source": [
    "<img src=\"https://cdn.comet.ml/img/notebook_logo.png\">"
   ]
  },
  {
   "cell_type": "markdown",
   "metadata": {
    "id": "XkbZE8Ufl7-N"
   },
   "source": [
    "[PyTorch Lightning](https://pytorch-lightning.readthedocs.io/en/latest/) helps organize PyTorch code and decouple the science code from the engineering code. It’s more of a style-guide than a framework. By organizing PyTorch code under a LightningModule, Lightning makes things like TPU, multi-GPU and 16-bit precision training (40+ other features) trivial.\n",
    "\n",
    "The Pytorch Lightning `CometLogger` allows you to easily track your model hyperparameters, metrics, assets and much more! You can find more information about this integration [here](https://www.comet.ml/docs/v2/integrations/ml-frameworks/pytorch-lightning/)\n",
    "\n",
    "Curious about how Comet can help you build better models, faster? Find out more about [Comet](https://www.comet.com/site/products/ml-experiment-tracking/?utm_campaign=pytorch-lightning&utm_medium=colab) and our [other integrations](https://www.comet.ml/docs/v2/integrations/overview/)\n",
    "\n",
    "Get a preview for what's to come. Check out a completed experiment created from this notebook [here](https://www.comet.com/examples/comet-examples-pytorch-lightning/view/NDKqB4g6Beqi6DaXkCu2DQJzz/panels).\n"
   ]
  },
  {
   "cell_type": "markdown",
   "metadata": {
    "id": "pBrcDoZ5q7Rr"
   },
   "source": [
    "# Install Comet"
   ]
  },
  {
   "cell_type": "code",
   "execution_count": null,
   "metadata": {
    "id": "w8tHuuqMqV62"
   },
   "outputs": [],
   "source": [
    "%pip install comet_ml"
   ]
  },
  {
   "cell_type": "markdown",
   "metadata": {
    "id": "GZriRwZRsHSa"
   },
   "source": [
    "# Install Dependencies"
   ]
  },
  {
   "cell_type": "code",
   "execution_count": null,
   "metadata": {
    "id": "POAGnif7sKUh"
   },
   "outputs": [],
   "source": [
    "%pip install torch torchvision pytorch-lightning"
   ]
  },
  {
   "cell_type": "markdown",
   "metadata": {
    "id": "1t5bRSwdq_Hv"
   },
   "source": [
    "# Initialize Comet"
   ]
  },
  {
   "cell_type": "code",
   "execution_count": null,
   "metadata": {
    "id": "3gVzASp8rALh"
   },
   "outputs": [],
   "source": [
    "import comet_ml\n",
    "\n",
    "comet_ml.init(project_name=\"comet-examples-pytorch-lightning\")"
   ]
  },
  {
   "cell_type": "markdown",
   "metadata": {
    "id": "LyHdoQVDrF7i"
   },
   "source": [
    "# Create the `CometLogger`"
   ]
  },
  {
   "cell_type": "code",
   "execution_count": null,
   "metadata": {
    "id": "Emn_HXJ4tppt"
   },
   "outputs": [],
   "source": [
    "import os\n",
    "from pytorch_lightning import Trainer\n",
    "from pytorch_lightning.loggers import CometLogger\n",
    "\n",
    "# arguments made to CometLogger are passed on to the comet_ml.Experiment class\n",
    "comet_logger = CometLogger()"
   ]
  },
  {
   "cell_type": "markdown",
   "metadata": {
    "id": "KTtNjirmxbF8"
   },
   "source": [
    "# Define Lightning Template"
   ]
  },
  {
   "cell_type": "code",
   "execution_count": null,
   "metadata": {
    "id": "JaAkm59ExdZm"
   },
   "outputs": [],
   "source": [
    "import torch\n",
    "import torch.nn.functional as F\n",
    "import pytorch_lightning as pl\n",
    "\n",
    "from torchvision.datasets import MNIST\n",
    "from torchvision import transforms\n",
    "from torch.utils.data import DataLoader\n",
    "\n",
    "\n",
    "class Model(pl.LightningModule):\n",
    "    def __init__(self, layer_size=784):\n",
    "        super().__init__()\n",
    "        self.save_hyperparameters()\n",
    "        self.l1 = torch.nn.Linear(layer_size, 10)\n",
    "\n",
    "    def forward(self, x):\n",
    "        return torch.relu(self.l1(x.view(x.size(0), -1)))\n",
    "\n",
    "    def training_step(self, batch, batch_nb):\n",
    "        x, y = batch\n",
    "        loss = F.cross_entropy(self(x), y)\n",
    "        self.log(\"train_loss\", loss)\n",
    "        return loss\n",
    "\n",
    "    def validation_step(self, batch, batch_nb):\n",
    "        x, y = batch\n",
    "        y_hat = self.forward(x)\n",
    "        loss = F.cross_entropy(y_hat, y)\n",
    "        self.log(\"val_loss\", loss)\n",
    "        return loss\n",
    "\n",
    "    def configure_optimizers(self):\n",
    "        return torch.optim.Adam(self.parameters(), lr=0.02)"
   ]
  },
  {
   "cell_type": "markdown",
   "metadata": {
    "id": "tSBsN0m_v5SB"
   },
   "source": [
    "# Define Training Parameters"
   ]
  },
  {
   "cell_type": "code",
   "execution_count": null,
   "metadata": {
    "id": "Uh6cg1MszXTv"
   },
   "outputs": [],
   "source": [
    "import os\n",
    "\n",
    "PATH_DATASETS = os.environ.get(\"PATH_DATASETS\", \".\")\n",
    "AVAIL_GPUS = min(1, torch.cuda.device_count())\n",
    "BATCH_SIZE = 256 if AVAIL_GPUS else 64"
   ]
  },
  {
   "cell_type": "markdown",
   "metadata": {
    "id": "e8ydfaATpVul"
   },
   "source": [
    "# Run Training"
   ]
  },
  {
   "cell_type": "code",
   "execution_count": null,
   "metadata": {
    "id": "RovQFlYavvPB"
   },
   "outputs": [],
   "source": [
    "# Init our model\n",
    "model = Model()\n",
    "\n",
    "# Init DataLoader from MNIST Dataset\n",
    "train_ds = MNIST(\n",
    "    PATH_DATASETS, train=True, download=True, transform=transforms.ToTensor()\n",
    ")\n",
    "train_loader = DataLoader(train_ds, batch_size=BATCH_SIZE)\n",
    "\n",
    "eval_ds = MNIST(\n",
    "    PATH_DATASETS, train=False, download=True, transform=transforms.ToTensor()\n",
    ")\n",
    "eval_loader = DataLoader(train_ds, batch_size=BATCH_SIZE)\n",
    "\n",
    "comet_logger.log_hyperparams({\"batch_size\": BATCH_SIZE})\n",
    "\n",
    "# Initialize a trainer\n",
    "trainer = Trainer(gpus=AVAIL_GPUS, max_epochs=3, logger=comet_logger)\n",
    "\n",
    "# Train the model ⚡\n",
    "trainer.fit(model, train_loader, eval_loader)"
   ]
  }
 ],
 "metadata": {
  "colab": {
   "collapsed_sections": [],
   "name": "Comet and Pytorch Lightning.ipynb",
   "provenance": []
  },
  "kernelspec": {
   "display_name": "Python 3 (ipykernel)",
   "language": "python",
   "name": "python3"
  },
  "language_info": {
   "codemirror_mode": {
    "name": "ipython",
    "version": 3
   },
   "file_extension": ".py",
   "mimetype": "text/x-python",
   "name": "python",
   "nbconvert_exporter": "python",
   "pygments_lexer": "ipython3",
   "version": "3.9.1"
  }
 },
 "nbformat": 4,
 "nbformat_minor": 1
}
