{
 "nbformat": 4,
 "nbformat_minor": 0,
 "metadata": {
  "colab": {
   "provenance": []
  },
  "kernelspec": {
   "name": "python3",
   "display_name": "Python 3"
  },
  "language_info": {
   "name": "python"
  }
 },
 "cells": [
  {
   "cell_type": "markdown",
   "metadata": {
    "id": "UCrbwv4p9vaE"
   },
   "source": [
    "# Install Dependencies"
   ]
  },
  {
   "cell_type": "code",
   "metadata": {
    "colab": {
     "base_uri": "https://localhost:8080/"
    },
    "id": "OZOR-myu9ddp",
    "outputId": "3c3e27ec-3c85-4411-b615-4cfe4aa1a6a4"
   },
   "source": [
    "!pip install comet_ml --quiet\n",
    "!pip install lightgbm --quiet"
   ],
   "execution_count": null,
   "outputs": [
    {
     "output_type": "stream",
     "name": "stdout",
     "text": [
      "\u001b[?25l\r\u001b[K     |█                               | 10 kB 22.5 MB/s eta 0:00:01\r\u001b[K     |██▏                             | 20 kB 27.0 MB/s eta 0:00:01\r\u001b[K     |███▏                            | 30 kB 31.6 MB/s eta 0:00:01\r\u001b[K     |████▎                           | 40 kB 32.9 MB/s eta 0:00:01\r\u001b[K     |█████▎                          | 51 kB 34.3 MB/s eta 0:00:01\r\u001b[K     |██████▍                         | 61 kB 37.2 MB/s eta 0:00:01\r\u001b[K     |███████▌                        | 71 kB 29.4 MB/s eta 0:00:01\r\u001b[K     |████████▌                       | 81 kB 30.7 MB/s eta 0:00:01\r\u001b[K     |█████████▋                      | 92 kB 32.5 MB/s eta 0:00:01\r\u001b[K     |██████████▋                     | 102 kB 31.9 MB/s eta 0:00:01\r\u001b[K     |███████████▊                    | 112 kB 31.9 MB/s eta 0:00:01\r\u001b[K     |████████████▊                   | 122 kB 31.9 MB/s eta 0:00:01\r\u001b[K     |█████████████▉                  | 133 kB 31.9 MB/s eta 0:00:01\r\u001b[K     |███████████████                 | 143 kB 31.9 MB/s eta 0:00:01\r\u001b[K     |████████████████                | 153 kB 31.9 MB/s eta 0:00:01\r\u001b[K     |█████████████████               | 163 kB 31.9 MB/s eta 0:00:01\r\u001b[K     |██████████████████              | 174 kB 31.9 MB/s eta 0:00:01\r\u001b[K     |███████████████████▏            | 184 kB 31.9 MB/s eta 0:00:01\r\u001b[K     |████████████████████▏           | 194 kB 31.9 MB/s eta 0:00:01\r\u001b[K     |█████████████████████▎          | 204 kB 31.9 MB/s eta 0:00:01\r\u001b[K     |██████████████████████▍         | 215 kB 31.9 MB/s eta 0:00:01\r\u001b[K     |███████████████████████▍        | 225 kB 31.9 MB/s eta 0:00:01\r\u001b[K     |████████████████████████▌       | 235 kB 31.9 MB/s eta 0:00:01\r\u001b[K     |█████████████████████████▌      | 245 kB 31.9 MB/s eta 0:00:01\r\u001b[K     |██████████████████████████▋     | 256 kB 31.9 MB/s eta 0:00:01\r\u001b[K     |███████████████████████████▋    | 266 kB 31.9 MB/s eta 0:00:01\r\u001b[K     |████████████████████████████▊   | 276 kB 31.9 MB/s eta 0:00:01\r\u001b[K     |█████████████████████████████▉  | 286 kB 31.9 MB/s eta 0:00:01\r\u001b[K     |██████████████████████████████▉ | 296 kB 31.9 MB/s eta 0:00:01\r\u001b[K     |████████████████████████████████| 307 kB 31.9 MB/s eta 0:00:01\r\u001b[K     |████████████████████████████████| 308 kB 31.9 MB/s \n",
      "\u001b[?25h\u001b[?25l\r\u001b[K     |██████                          | 10 kB 28.4 MB/s eta 0:00:01\r\u001b[K     |████████████                    | 20 kB 35.4 MB/s eta 0:00:01\r\u001b[K     |██████████████████              | 30 kB 44.3 MB/s eta 0:00:01\r\u001b[K     |████████████████████████▏       | 40 kB 50.1 MB/s eta 0:00:01\r\u001b[K     |██████████████████████████████▏ | 51 kB 54.7 MB/s eta 0:00:01\r\u001b[K     |████████████████████████████████| 54 kB 2.6 MB/s \n",
      "\u001b[K     |████████████████████████████████| 52 kB 1.3 MB/s \n",
      "\u001b[K     |████████████████████████████████| 546 kB 54.9 MB/s \n",
      "\u001b[?25h  Building wheel for configobj (setup.py) ... \u001b[?25l\u001b[?25hdone\n"
     ]
    }
   ]
  },
  {
   "cell_type": "markdown",
   "metadata": {
    "id": "Hsm_nLTe6hn0"
   },
   "source": [
    "# Initialize Comet"
   ]
  },
  {
   "cell_type": "code",
   "metadata": {
    "colab": {
     "base_uri": "https://localhost:8080/"
    },
    "id": "g3B9EA3w6hQl",
    "outputId": "4e501eb3-6367-4eed-b487-002540fbd4c4"
   },
   "source": [
    "import comet_ml\n",
    "\n",
    "comet_ml.init(project_name=\"comet-lightgbm\")"
   ],
   "execution_count": null,
   "outputs": [
    {
     "name": "stdout",
     "output_type": "stream",
     "text": [
      "Please enter your Comet API key from https://www.comet.ml/api/my/settings/\n",
      "(api key may not show as you type)\n",
      "Comet API key: ··········\n"
     ]
    },
    {
     "output_type": "stream",
     "name": "stderr",
     "text": [
      "COMET INFO: Comet API key is valid\n",
      "COMET INFO: Comet API key saved in /root/.comet.config\n"
     ]
    }
   ]
  },
  {
   "cell_type": "markdown",
   "metadata": {
    "id": "VGp4v3re8mZj"
   },
   "source": [
    "# Import Dependencies"
   ]
  },
  {
   "cell_type": "code",
   "metadata": {
    "id": "uKMTsXPI8o3x"
   },
   "source": [
    "import os\n",
    "import pandas as pd\n",
    "import lightgbm as lgb\n",
    "\n",
    "from sklearn.datasets import fetch_california_housing\n",
    "from sklearn.model_selection import train_test_split"
   ],
   "execution_count": null,
   "outputs": []
  },
  {
   "cell_type": "markdown",
   "metadata": {
    "id": "oSOWCJQU8zks"
   },
   "source": [
    "# Load Data"
   ]
  },
  {
   "cell_type": "code",
   "metadata": {
    "id": "6akH-3LA62pu"
   },
   "source": [
    "california = fetch_california_housing()\n",
    "data = pd.DataFrame(california.data)\n",
    "data.columns = california.feature_names\n",
    "data[\"Price\"] = california.target\n",
    "X, y = data.iloc[:, :-1], data.iloc[:, -1]\n",
    "\n",
    "X_train, X_test, y_train, y_test = train_test_split(\n",
    "    X, y, test_size=0.2, random_state=123\n",
    ")\n",
    "\n",
    "lgb_train = lgb.Dataset(X_train, y_train)\n",
    "lgb_eval = lgb.Dataset(X_test, y_test, reference=lgb_train)"
   ],
   "execution_count": null,
   "outputs": []
  },
  {
   "cell_type": "markdown",
   "metadata": {
    "id": "rsnvlg_r85Oe"
   },
   "source": [
    "# Train a Model"
   ]
  },
  {
   "cell_type": "markdown",
   "metadata": {
    "id": "72qNa9Vz-R-e"
   },
   "source": [
    "## Create an Experiment"
   ]
  },
  {
   "cell_type": "code",
   "metadata": {
    "colab": {
     "base_uri": "https://localhost:8080/",
     "height": 351
    },
    "id": "D6TzQXLA-Uuo",
    "outputId": "a42f384c-e019-4b5e-a706-78f8472a1b2e"
   },
   "source": [
    "experiment = comet_ml.Experiment()"
   ],
   "execution_count": null,
   "outputs": [
    {
     "output_type": "error",
     "ename": "ValueError",
     "evalue": "ignored",
     "traceback": [
      "\u001b[0;31m---------------------------------------------------------------------------\u001b[0m",
      "\u001b[0;31mValueError\u001b[0m                                Traceback (most recent call last)",
      "\u001b[0;32m<ipython-input-5-aad5e414a229>\u001b[0m in \u001b[0;36m<module>\u001b[0;34m()\u001b[0m\n\u001b[0;32m----> 1\u001b[0;31m \u001b[0mexperiment\u001b[0m \u001b[0;34m=\u001b[0m \u001b[0mcomet_ml\u001b[0m\u001b[0;34m.\u001b[0m\u001b[0mExperiment\u001b[0m\u001b[0;34m(\u001b[0m\u001b[0;34m)\u001b[0m\u001b[0;34m\u001b[0m\u001b[0;34m\u001b[0m\u001b[0m\n\u001b[0m",
      "\u001b[0;32m/usr/local/lib/python3.7/dist-packages/comet_ml/__init__.py\u001b[0m in \u001b[0;36m__init__\u001b[0;34m(self, api_key, project_name, workspace, log_code, log_graph, auto_param_logging, auto_metric_logging, parse_args, auto_output_logging, log_env_details, log_git_metadata, log_git_patch, disabled, log_env_gpu, log_env_host, display_summary, log_env_cpu, display_summary_level, optimizer_data, auto_weight_logging, auto_log_co2, auto_metric_step_rate, auto_histogram_tensorboard_logging, auto_histogram_epoch_rate, auto_histogram_weight_logging, auto_histogram_gradient_logging, auto_histogram_activation_logging)\u001b[0m\n\u001b[1;32m    260\u001b[0m         \u001b[0;32mif\u001b[0m \u001b[0mself\u001b[0m\u001b[0;34m.\u001b[0m\u001b[0mapi_key\u001b[0m \u001b[0;32mis\u001b[0m \u001b[0;32mNone\u001b[0m\u001b[0;34m:\u001b[0m\u001b[0;34m\u001b[0m\u001b[0;34m\u001b[0m\u001b[0m\n\u001b[1;32m    261\u001b[0m             raise ValueError(\n\u001b[0;32m--> 262\u001b[0;31m                 \u001b[0;34m\"Comet.ml requires an API key. Please provide as the \"\u001b[0m\u001b[0;34m\u001b[0m\u001b[0;34m\u001b[0m\u001b[0m\n\u001b[0m\u001b[1;32m    263\u001b[0m                 \u001b[0;34m\"first argument to Experiment(api_key) or as an environment\"\u001b[0m\u001b[0;34m\u001b[0m\u001b[0;34m\u001b[0m\u001b[0m\n\u001b[1;32m    264\u001b[0m                 \u001b[0;34m\" variable named COMET_API_KEY \"\u001b[0m\u001b[0;34m\u001b[0m\u001b[0;34m\u001b[0m\u001b[0m\n",
      "\u001b[0;31mValueError\u001b[0m: Comet.ml requires an API key. Please provide as the first argument to Experiment(api_key) or as an environment variable named COMET_API_KEY "
     ]
    }
   ]
  },
  {
   "cell_type": "markdown",
   "metadata": {
    "id": "W-PdbfvL9F9J"
   },
   "source": [
    "## Define Model Parameters"
   ]
  },
  {
   "cell_type": "code",
   "metadata": {
    "id": "YNsILwyG86Iy"
   },
   "source": [
    "params = {\n",
    "    \"boosting_type\": \"gbdt\",\n",
    "    \"objective\": \"regression\",\n",
    "    \"metric\": {\"rmse\", \"l2\", \"l1\", \"huber\"},\n",
    "    \"num_leaves\": 31,\n",
    "    \"learning_rate\": 0.05,\n",
    "    \"feature_fraction\": 0.9,\n",
    "    \"bagging_fraction\": 0.8,\n",
    "    \"bagging_freq\": 5,\n",
    "    \"verbosity\": -1,\n",
    "}"
   ],
   "execution_count": null,
   "outputs": []
  },
  {
   "cell_type": "markdown",
   "metadata": {
    "id": "4XdS6TN99J_V"
   },
   "source": [
    "## Fit Model"
   ]
  },
  {
   "cell_type": "code",
   "metadata": {
    "id": "bK7-MRj49Mp1"
   },
   "source": [
    "gbm = lgb.train(\n",
    "    params,\n",
    "    lgb_train,\n",
    "    num_boost_round=20,\n",
    "    valid_sets=[lgb_train, lgb_eval],\n",
    "    valid_names=(\"train\", \"validation\"),\n",
    "    early_stopping_rounds=5,\n",
    ")"
   ],
   "execution_count": null,
   "outputs": []
  },
  {
   "cell_type": "markdown",
   "metadata": {
    "id": "dw2GC8FN9UU6"
   },
   "source": [
    "# End the Experiment"
   ]
  },
  {
   "cell_type": "code",
   "metadata": {
    "id": "LSPvvlny9YYi"
   },
   "source": [
    "experiment.end()"
   ],
   "execution_count": null,
   "outputs": []
  },
  {
   "cell_type": "code",
   "metadata": {
    "id": "BdBiyTMyIyo-"
   },
   "source": [],
   "execution_count": null,
   "outputs": []
  }
 ]
}