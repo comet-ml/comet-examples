{
 "cells": [
  {
   "cell_type": "markdown",
   "id": "2ae19215-1a8b-425c-8b35-495163850ee5",
   "metadata": {},
   "source": [
    "The `CometLoggerCallback` can also be used with other Ray modules, such as `rllib`. Simply pass the callback object to the `tune.run()` method to log the parameters and metrics produced when tuning a model wtih `rllib`."
   ]
  },
  {
   "cell_type": "code",
   "execution_count": null,
   "id": "37d726ac-f325-44cb-ac02-5c06feb11f6a",
   "metadata": {},
   "outputs": [],
   "source": [
    "%pip install -U \"comet_ml>=3.44.0\" \"ray[rllib]\" torch \"numpy<2.0\""
   ]
  },
  {
   "cell_type": "code",
   "execution_count": null,
   "id": "c26614dc-0b62-4a2a-a055-1a53133a2429",
   "metadata": {},
   "outputs": [],
   "source": [
    "import comet_ml\n",
    "\n",
    "comet_ml.login()"
   ]
  },
  {
   "cell_type": "code",
   "execution_count": null,
   "id": "608cf2b1-01ce-4fbf-a19b-91efeb0d579e",
   "metadata": {},
   "outputs": [],
   "source": [
    "import os\n",
    "import ray\n",
    "from ray import tune, air\n",
    "from ray.air.integrations.comet import CometLoggerCallback\n",
    "from ray.rllib.utils.test_utils import check_learning_achieved\n",
    "\n",
    "config = {\n",
    "    \"env\": \"CartPole-v0\",\n",
    "    # Use GPUs iff `RLLIB_NUM_GPUS` env var set to > 0.\n",
    "    \"num_gpus\": int(os.environ.get(\"RLLIB_NUM_GPUS\", \"0\")),\n",
    "    \"framework\": \"torch\",\n",
    "    # Run with tracing enabled for tfe/tf2.\n",
    "    \"eager_tracing\": False,\n",
    "    \"num_workers\": 0,  # Only local worker\n",
    "}\n",
    "\n",
    "\n",
    "stop = {\"training_iteration\": 10}\n",
    "\n",
    "tuner = tune.Tuner(\n",
    "    \"PPO\",\n",
    "    param_space=config,\n",
    "    run_config=air.RunConfig(\n",
    "        stop=stop,\n",
    "        verbose=2,\n",
    "        callbacks=[\n",
    "            CometLoggerCallback(\n",
    "                project_name=\"comet-example-rllib-notebook\",\n",
    "                tags=[\"comet_example\"],\n",
    "            )\n",
    "        ],\n",
    "    ),\n",
    ")\n",
    "\n",
    "results = tuner.fit()\n",
    "\n",
    "check_learning_achieved(results, 100)"
   ]
  }
 ],
 "metadata": {
  "kernelspec": {
   "display_name": "Python 3 (ipykernel)",
   "language": "python",
   "name": "python3"
  },
  "language_info": {
   "codemirror_mode": {
    "name": "ipython",
    "version": 3
   },
   "file_extension": ".py",
   "mimetype": "text/x-python",
   "name": "python",
   "nbconvert_exporter": "python",
   "pygments_lexer": "ipython3",
   "version": "3.10.12"
  }
 },
 "nbformat": 4,
 "nbformat_minor": 5
}
