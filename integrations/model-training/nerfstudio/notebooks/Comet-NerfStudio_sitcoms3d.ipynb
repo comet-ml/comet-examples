{
 "cells": [
  {
   "cell_type": "markdown",
   "metadata": {
    "id": "SiiXJ7K_fePG"
   },
   "source": [
    "<img src=\"https://cdn.comet.ml/img/notebook_logo.png\">\n",
    "\n",
    "<img align=\"right\" src=\"https://docs.nerf.studio/_images/logo.png\" width=\"400\">\n",
    "\n",
    "\n",
    "This notebook shows to use [Comet](https://www.comet.com/site/?utm_source=nerf&utm_medium=referral&utm_content=colab) with Nerfstudio: a popular library that provides a simple API for a simplified end-to-end process of creating, training, and testing NeRFs."
   ]
  },
  {
   "cell_type": "markdown",
   "metadata": {
    "id": "9gwWVZAdG2vk"
   },
   "source": [
    "# Install dependencies"
   ]
  },
  {
   "cell_type": "code",
   "execution_count": null,
   "metadata": {
    "id": "9oyLHl8QfYwP"
   },
   "outputs": [],
   "source": [
    "# Install pytorch with Cuda\n",
    "\n",
    "%cd /content/\n",
    "%pip install --upgrade pip\n",
    "%pip install -U torch==2.0.1+cu118 torchvision==0.15.2+cu118 torchaudio==2.0.2+cu118 --extra-index-url https://download.pytorch.org/whl/cu118"
   ]
  },
  {
   "cell_type": "code",
   "execution_count": null,
   "metadata": {
    "id": "RGa9Fwz9Gu2Z"
   },
   "outputs": [],
   "source": [
    "# Installing TinyCuda\n",
    "%cd /content/\n",
    "!gdown \"https://drive.google.com/u/1/uc?id=1-7x7qQfB7bIw2zV4Lr6-yhvMpjXC84Q5&confirm=t\"\n",
    "%pip install tinycudann-1.7-cp310-cp310-linux_x86_64.whl"
   ]
  },
  {
   "cell_type": "code",
   "execution_count": null,
   "metadata": {
    "id": "hJeIoUaIG0y5"
   },
   "outputs": [],
   "source": [
    "# Install nerfstudio\n",
    "%cd /content/\n",
    "%pip install -U \"nerfstudio>=1.0.0\""
   ]
  },
  {
   "cell_type": "code",
   "execution_count": null,
   "metadata": {
    "id": "WrIMSAvvItuF"
   },
   "outputs": [],
   "source": [
    "# Install dependency to run the training with logs (see https://github.com/nerfstudio-project/nerfstudio/pull/2870 for more context)\n",
    "%pip install colab-xterm"
   ]
  },
  {
   "cell_type": "markdown",
   "metadata": {
    "id": "LSWsBhQoG-kx"
   },
   "source": [
    "# Download the training dataset"
   ]
  },
  {
   "cell_type": "code",
   "execution_count": null,
   "metadata": {
    "id": "zuN8Ya9yuULS"
   },
   "outputs": [],
   "source": [
    "%%time\n",
    "%cd /content/\n",
    "!ns-download-data sitcoms3d"
   ]
  },
  {
   "cell_type": "markdown",
   "metadata": {
    "id": "VXLnZCf5HCxc"
   },
   "source": [
    "# Setup everything\n",
    "\n",
    "Create your free account at [Comet.com](https://www.comet.com/site/?utm_source=nerf&utm_medium=referral&utm_content=colab) and grab your API key which can be found under account settings."
   ]
  },
  {
   "cell_type": "code",
   "execution_count": null,
   "metadata": {
    "id": "EJBXMB-fF-rB"
   },
   "outputs": [],
   "source": [
    "# Setup Comet\n",
    "\n",
    "import comet_ml\n",
    "\n",
    "comet_ml.login(project_name=\"comet-example-nerfstudio-example\")"
   ]
  },
  {
   "cell_type": "markdown",
   "metadata": {
    "id": "h_ipb05iHJ-Y"
   },
   "source": [
    "# Training"
   ]
  },
  {
   "cell_type": "code",
   "execution_count": null,
   "metadata": {
    "id": "dbAXCC5ZHMf2"
   },
   "outputs": [],
   "source": [
    "# First let's import everything that we need and define some helper functions\n",
    "import os\n",
    "import uuid\n",
    "from pathlib import Path\n",
    "\n",
    "\n",
    "def generate_guid():\n",
    "    # type: () -> str\n",
    "    \"\"\"Generate a GUID\"\"\"\n",
    "    return uuid.uuid4().hex"
   ]
  },
  {
   "cell_type": "code",
   "execution_count": null,
   "metadata": {
    "id": "xHfnp_mWHVCO"
   },
   "outputs": [],
   "source": [
    "# Let's define some parameters\n",
    "MAX_ITERATIONS = 30000\n",
    "NERF_EXPERIMENT_NAME = \"TBBT-nerfstudio\""
   ]
  },
  {
   "cell_type": "code",
   "execution_count": null,
   "metadata": {
    "id": "UlhoWknCHbJ5"
   },
   "outputs": [],
   "source": [
    "# Let's generate an unique Comet Experiment Key, this will allows us to save everything to a single experiment\n",
    "exp_key = generate_guid()\n",
    "os.environ[\"COMET_EXPERIMENT_KEY\"] = exp_key"
   ]
  },
  {
   "cell_type": "code",
   "execution_count": null,
   "metadata": {
    "id": "bqbu3E8FLU8Z"
   },
   "outputs": [],
   "source": [
    "# Start the training in a real terminal to see logs\n",
    "%load_ext colabxterm\n",
    "%env TERM=xterm\n",
    "\n",
    "from IPython.display import clear_output\n",
    "\n",
    "clear_output(wait=True)\n",
    "\n",
    "print(\n",
    "    \"\\033[1m\"\n",
    "    + \"Copy and paste the following command into the terminal window that pops up under this cell.\"\n",
    "    + \"\\033[0m\"\n",
    ")\n",
    "print(\n",
    "    f\"ns-train nerfacto --vis viewer+comet --viewer.websocket-port 7007 --viewer.make-share-url True --project-name comet-example-TBBT-nerfstudio --experiment-name {NERF_EXPERIMENT_NAME} --max-num-iterations {MAX_ITERATIONS} --logging.steps-per-log 100 sitcoms3d-data --data data/sitcoms3d/TBBT-big_living_room/ --downscale-factor 4\"\n",
    ")\n",
    "print()\n",
    "\n",
    "%xterm"
   ]
  },
  {
   "cell_type": "code",
   "execution_count": null,
   "metadata": {
    "id": "EYaXKAqDHjve"
   },
   "outputs": [],
   "source": [
    "# Train the model\n",
    "%cd /content\n",
    "!env PYTHONUNBUFFERED=true ns-train nerfacto \\\n",
    "    --vis comet \\\n",
    "    --logging.local-writer.max-log-size 0 \\\n",
    "    --project-name comet-example-TBBT-nerfstudio \\\n",
    "    --experiment-name {NERF_EXPERIMENT_NAME} \\\n",
    "    --max-num-iterations {MAX_ITERATIONS}\\\n",
    "    --pipeline.datamanager.images-on-gpu True\\\n",
    "    --logging.steps-per-log 100\\\n",
    "    sitcoms3d-data \\\n",
    "    --data data/sitcoms3d/TBBT-big_living_room/ \\\n",
    "    --downscale-factor 4"
   ]
  },
  {
   "cell_type": "code",
   "execution_count": null,
   "metadata": {
    "id": "-YhAiT_WHrAH"
   },
   "outputs": [],
   "source": [
    "# Log the model to Comet\n",
    "base_dir = Path(\"./outputs/\") / NERF_EXPERIMENT_NAME / \"nerfacto\"\n",
    "# Get the latest trained model\n",
    "training_run_dir = sorted(base_dir.iterdir())[-1]\n",
    "print(training_run_dir)"
   ]
  },
  {
   "cell_type": "code",
   "execution_count": null,
   "metadata": {
    "id": "WIYvYAPkLoH3"
   },
   "outputs": [],
   "source": [
    "experiment = comet_ml.ExistingExperiment(experiment_key=exp_key)\n",
    "experiment.log_model(\n",
    "    \"nerfstudio-model\",\n",
    "    str(training_run_dir),\n",
    "    prepend_folder_name=False,\n",
    "    metadata={\"nerfstudio_project_dir\": str(training_run_dir)},\n",
    ")"
   ]
  },
  {
   "cell_type": "code",
   "execution_count": null,
   "metadata": {
    "id": "UHpbgfO7Hs-0"
   },
   "outputs": [],
   "source": [
    "# Generate validation videos\n",
    "# Get the validation camera paths from Comet\n",
    "config_filename = training_run_dir / \"config.yml\"\n",
    "\n",
    "artifact = experiment.get_artifact(\"TBTT-Nerfstudio-Camera-Paths\", workspace=\"examples\")\n",
    "output_path = Path(\"./validation/\")\n",
    "artifact.download(output_path)\n",
    "\n",
    "# And for each of them, generate a video that we log to Comet\n",
    "for camera_path in (output_path / \"camera_paths\").glob(\"camera_path_*.json\"):\n",
    "    validation_name = camera_path.stem\n",
    "    output_video_path = \"./renders/%s.mp4\" % (validation_name)\n",
    "\n",
    "    !ns-render camera-path --load-config $config_filename --camera-path-filename $camera_path --output-path $output_video_path\n",
    "\n",
    "    experiment.log_video(output_video_path)"
   ]
  },
  {
   "cell_type": "code",
   "execution_count": null,
   "metadata": {
    "id": "YC9OCEVMH5Tt"
   },
   "outputs": [],
   "source": [
    "# And finally closes the Comet Experiment to save the Notebook code and flush everything to Comet\n",
    "experiment.end()"
   ]
  }
 ],
 "metadata": {
  "accelerator": "GPU",
  "colab": {
   "gpuType": "T4",
   "provenance": []
  },
  "kernelspec": {
   "display_name": "Python 3 (ipykernel)",
   "language": "python",
   "name": "python3"
  },
  "language_info": {
   "codemirror_mode": {
    "name": "ipython",
    "version": 3
   },
   "file_extension": ".py",
   "mimetype": "text/x-python",
   "name": "python",
   "nbconvert_exporter": "python",
   "pygments_lexer": "ipython3",
   "version": "3.9.1"
  },
  "vscode": {
   "interpreter": {
    "hash": "c59f626636933ef1dc834fb3684b382f705301c5306cf8436d2da634c2289783"
   }
  }
 },
 "nbformat": 4,
 "nbformat_minor": 4
}
