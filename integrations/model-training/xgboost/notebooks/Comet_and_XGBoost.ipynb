{
 "cells": [
  {
   "cell_type": "markdown",
   "metadata": {
    "id": "WfK58icH6fxG"
   },
   "source": [
    "# Install Dependencies"
   ]
  },
  {
   "cell_type": "code",
   "execution_count": null,
   "metadata": {
    "id": "ebD0DKSh6ZgZ"
   },
   "outputs": [],
   "source": [
    "%pip install \"comet_ml>=3.44.0\" xgboost"
   ]
  },
  {
   "cell_type": "markdown",
   "metadata": {
    "id": "Hsm_nLTe6hn0"
   },
   "source": [
    "# Login to Comet"
   ]
  },
  {
   "cell_type": "code",
   "execution_count": null,
   "metadata": {
    "colab": {
     "base_uri": "https://localhost:8080/"
    },
    "id": "g3B9EA3w6hQl",
    "outputId": "27003f0c-88da-4427-f641-7912738277d9"
   },
   "outputs": [
    {
     "name": "stdout",
     "output_type": "stream",
     "text": [
      "Please enter your Comet API key from https://www.comet.ml/api/my/settings/\n",
      "(api key may not show as you type)\n",
      "Comet API key: ··········\n"
     ]
    },
    {
     "name": "stderr",
     "output_type": "stream",
     "text": [
      "COMET INFO: Comet API key is valid\n",
      "COMET INFO: Comet API key saved in /root/.comet.config\n"
     ]
    }
   ],
   "source": [
    "import comet_ml\n",
    "\n",
    "comet_ml.login(project_name=\"comet-xgboost\")"
   ]
  },
  {
   "cell_type": "markdown",
   "metadata": {
    "id": "VGp4v3re8mZj"
   },
   "source": [
    "# Import Dependencies"
   ]
  },
  {
   "cell_type": "code",
   "execution_count": null,
   "metadata": {
    "id": "uKMTsXPI8o3x"
   },
   "outputs": [],
   "source": [
    "import os\n",
    "import pandas as pd\n",
    "import xgboost as xgb\n",
    "\n",
    "from sklearn.datasets import fetch_california_housing\n",
    "from sklearn.model_selection import train_test_split"
   ]
  },
  {
   "cell_type": "markdown",
   "metadata": {
    "id": "oSOWCJQU8zks"
   },
   "source": [
    "# Load Data"
   ]
  },
  {
   "cell_type": "code",
   "execution_count": null,
   "metadata": {
    "id": "6akH-3LA62pu"
   },
   "outputs": [],
   "source": [
    "california = fetch_california_housing()\n",
    "data = pd.DataFrame(california.data)\n",
    "data.columns = california.feature_names\n",
    "data[\"Price\"] = california.target\n",
    "X, y = data.iloc[:, :-1], data.iloc[:, -1]\n",
    "\n",
    "X_train, X_test, y_train, y_test = train_test_split(\n",
    "    X, y, test_size=0.2, random_state=123\n",
    ")"
   ]
  },
  {
   "cell_type": "markdown",
   "metadata": {
    "id": "rsnvlg_r85Oe"
   },
   "source": [
    "# Train a Model"
   ]
  },
  {
   "cell_type": "markdown",
   "metadata": {
    "id": "72qNa9Vz-R-e"
   },
   "source": [
    "## Create an Experiment"
   ]
  },
  {
   "cell_type": "code",
   "execution_count": null,
   "metadata": {
    "colab": {
     "base_uri": "https://localhost:8080/"
    },
    "id": "D6TzQXLA-Uuo",
    "outputId": "e833775d-2e5a-49f1-bc70-d29b15f9432e"
   },
   "outputs": [
    {
     "name": "stderr",
     "output_type": "stream",
     "text": [
      "COMET WARNING: As you are running in a Jupyter environment, you will need to call `experiment.end()` when finished to ensure all metrics and code are logged before exiting.\n",
      "COMET INFO: Couldn't find a Git repository in '/content' nor in any parent directory. You can override where Comet is looking for a Git Patch by setting the configuration `COMET_GIT_DIRECTORY`\n",
      "COMET INFO: Experiment is live on comet.ml https://www.comet.ml/team-comet-ml/comet-xgboost/150adddd08ce46999cbdc4ccc9497b34\n",
      "\n"
     ]
    }
   ],
   "source": [
    "experiment = comet_ml.Experiment()"
   ]
  },
  {
   "cell_type": "markdown",
   "metadata": {
    "id": "W-PdbfvL9F9J"
   },
   "source": [
    "## Define Model Parameters"
   ]
  },
  {
   "cell_type": "code",
   "execution_count": null,
   "metadata": {
    "id": "YNsILwyG86Iy"
   },
   "outputs": [],
   "source": [
    "param = {\n",
    "    \"objective\": \"reg:squarederror\",\n",
    "    \"colsample_bytree\": 0.3,\n",
    "    \"learning_rate\": 0.1,\n",
    "    \"max_depth\": 5,\n",
    "    \"alpha\": 10,\n",
    "    \"n_estimators\": 50,\n",
    "}"
   ]
  },
  {
   "cell_type": "markdown",
   "metadata": {
    "id": "4XdS6TN99J_V"
   },
   "source": [
    "## Fit Model"
   ]
  },
  {
   "cell_type": "code",
   "execution_count": null,
   "metadata": {
    "id": "bK7-MRj49Mp1"
   },
   "outputs": [],
   "source": [
    "xg_reg = xgb.XGBRegressor(**param)\n",
    "xg_reg.fit(\n",
    "    X_train,\n",
    "    y_train,\n",
    "    eval_set=[(X_train, y_train), (X_test, y_test)],\n",
    "    eval_metric=\"rmse\",\n",
    ")"
   ]
  },
  {
   "cell_type": "markdown",
   "metadata": {
    "id": "dw2GC8FN9UU6"
   },
   "source": [
    "# End the Experiment"
   ]
  },
  {
   "cell_type": "code",
   "execution_count": null,
   "metadata": {
    "id": "LSPvvlny9YYi"
   },
   "outputs": [],
   "source": [
    "experiment.end()"
   ]
  }
 ],
 "metadata": {
  "colab": {
   "provenance": []
  },
  "kernelspec": {
   "display_name": "Python 3",
   "name": "python3"
  },
  "language_info": {
   "name": "python"
  }
 },
 "nbformat": 4,
 "nbformat_minor": 0
}
