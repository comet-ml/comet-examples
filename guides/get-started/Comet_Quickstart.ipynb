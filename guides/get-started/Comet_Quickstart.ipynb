{
 "cells": [
  {
   "cell_type": "markdown",
   "metadata": {},
   "source": [
    "<img src=\"https://cdn.comet.ml/img/notebook_logo.png\">"
   ]
  },
  {
   "cell_type": "markdown",
   "metadata": {
    "id": "ag4xh64ZTHih"
   },
   "source": [
    "# Installing Comet"
   ]
  },
  {
   "cell_type": "code",
   "execution_count": null,
   "metadata": {
    "id": "03o0cfSzSwkG"
   },
   "outputs": [],
   "source": [
    "%pip install comet_ml"
   ]
  },
  {
   "cell_type": "markdown",
   "metadata": {
    "id": "zsqPglGzHh8Z"
   },
   "source": [
    "# Initialize Comet"
   ]
  },
  {
   "cell_type": "code",
   "execution_count": null,
   "metadata": {
    "id": "nuSC8ppOHmXX"
   },
   "outputs": [],
   "source": [
    "import comet_ml\n",
    "\n",
    "comet_ml.init(project_name=\"comet-examples-quickstart\")"
   ]
  },
  {
   "cell_type": "markdown",
   "metadata": {
    "id": "xgwFcUruTFP0"
   },
   "source": [
    "# Creating an Experiment"
   ]
  },
  {
   "cell_type": "code",
   "execution_count": null,
   "metadata": {
    "id": "zwhPghpDS0OQ"
   },
   "outputs": [],
   "source": [
    "experiment = comet_ml.Experiment()"
   ]
  },
  {
   "cell_type": "markdown",
   "metadata": {
    "id": "-qVfViluTOPH"
   },
   "source": [
    "# Logging a Metric"
   ]
  },
  {
   "cell_type": "code",
   "execution_count": null,
   "metadata": {
    "id": "C50klpFpTRHM"
   },
   "outputs": [],
   "source": [
    "acc = 0.65\n",
    "experiment.log_metric(\"acc\", acc)"
   ]
  },
  {
   "cell_type": "markdown",
   "metadata": {
    "id": "MDgvaKNITp1W"
   },
   "source": [
    "# Logging Multiple Metrics"
   ]
  },
  {
   "cell_type": "code",
   "execution_count": null,
   "metadata": {
    "id": "-77fV1AUTr5a"
   },
   "outputs": [],
   "source": [
    "metrics = {\"acc\": 0.65, \"loss\": 0.01}\n",
    "experiment.log_metrics(metrics)"
   ]
  },
  {
   "cell_type": "markdown",
   "metadata": {
    "id": "fgkKl3cSUjYE"
   },
   "source": [
    "# Logging Metrics Over Time"
   ]
  },
  {
   "cell_type": "code",
   "execution_count": null,
   "metadata": {
    "id": "0eYy4A46Unye"
   },
   "outputs": [],
   "source": [
    "for idx, value in enumerate(range(0, 10)):\n",
    "    metrics = {\"train/loss\": value / 20, \"train/acc\": value / 10}\n",
    "    experiment.log_metrics(metrics, step=idx)"
   ]
  },
  {
   "cell_type": "markdown",
   "metadata": {
    "id": "oZEoKlHJTz4I"
   },
   "source": [
    "## Adding a Prefix to logged Metrics"
   ]
  },
  {
   "cell_type": "code",
   "execution_count": null,
   "metadata": {
    "id": "SrbOa75bT2j9"
   },
   "outputs": [],
   "source": [
    "prefix = \"eval\"\n",
    "metrics = {\"acc\": 0.65, \"loss\": 0.01}\n",
    "experiment.log_metrics(metrics, prefix=prefix)"
   ]
  },
  {
   "cell_type": "markdown",
   "metadata": {
    "id": "m4jA0ayDTdOw"
   },
   "source": [
    "# Logging a Parameter"
   ]
  },
  {
   "cell_type": "code",
   "execution_count": null,
   "metadata": {
    "id": "AotDf4oQTeqx"
   },
   "outputs": [],
   "source": [
    "batch_size = 32\n",
    "experiment.log_parameter(\"batch_size\", batch_size)"
   ]
  },
  {
   "cell_type": "markdown",
   "metadata": {
    "id": "loLEbvKtUIMv"
   },
   "source": [
    "# Logging Multiple Parameters"
   ]
  },
  {
   "cell_type": "code",
   "execution_count": null,
   "metadata": {
    "id": "jKvPtcsJUJ4n"
   },
   "outputs": [],
   "source": [
    "parameters = {\"batch_size\": 32, \"num_samples\": 10000}\n",
    "experiment.log_parameters(parameters)"
   ]
  },
  {
   "cell_type": "markdown",
   "metadata": {
    "id": "Xx4gmdWvV29X"
   },
   "source": [
    "# Logging Parameters Over Time"
   ]
  },
  {
   "cell_type": "code",
   "execution_count": null,
   "metadata": {
    "id": "C92fAjKQV563"
   },
   "outputs": [],
   "source": [
    "for idx, x in enumerate(range(0, 5)):\n",
    "    lr = x / 1000\n",
    "    experiment.log_parameter(\"learning_rate\", lr, step=idx)"
   ]
  },
  {
   "cell_type": "markdown",
   "metadata": {
    "id": "fpUCt3vWUa7o"
   },
   "source": [
    "## Adding a Prefix to logged Parameters"
   ]
  },
  {
   "cell_type": "code",
   "execution_count": null,
   "metadata": {
    "id": "UjN7gvD_UYBi"
   },
   "outputs": [],
   "source": [
    "prefix = \"train\"\n",
    "parameters = {\"batch_size\": 32, \"learning_rate\": 0.0001}\n",
    "experiment.log_parameters(parameters, prefix=prefix)"
   ]
  },
  {
   "cell_type": "markdown",
   "metadata": {
    "id": "OT4ToJSyc_d7"
   },
   "source": [
    "# End the Experiment"
   ]
  },
  {
   "cell_type": "code",
   "execution_count": null,
   "metadata": {
    "id": "UPFFYtZtdArM"
   },
   "outputs": [],
   "source": [
    "experiment.end()"
   ]
  }
 ],
 "metadata": {
  "colab": {
   "collapsed_sections": [],
   "name": "Comet Quickstart.ipynb",
   "provenance": []
  },
  "kernelspec": {
   "display_name": "Python 3 (ipykernel)",
   "language": "python",
   "name": "python3"
  },
  "language_info": {
   "codemirror_mode": {
    "name": "ipython",
    "version": 3
   },
   "file_extension": ".py",
   "mimetype": "text/x-python",
   "name": "python",
   "nbconvert_exporter": "python",
   "pygments_lexer": "ipython3",
   "version": "3.9.1"
  }
 },
 "nbformat": 4,
 "nbformat_minor": 1
}
