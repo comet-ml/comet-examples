{
 "cells": [
  {
   "cell_type": "markdown",
   "metadata": {
    "id": "Kmp4jCv5pz7l"
   },
   "source": [
    "// TODO Replace me with another picture?"
   ]
  },
  {
   "cell_type": "markdown",
   "metadata": {
    "id": "4Iu6rXYppE--"
   },
   "source": [
    "[Metaflow](https://metaflow.org/) is a human-friendly Python/R library that helps scientists and engineers build and manage real-life data science projects. Metaflow was originally developed at Netflix to boost productivity of data scientists who work on a wide variety of projects from classical statistics to state-of-the-art deep learning.\n",
    "\n",
    "[Comet](https://www.comet.ml/site/data-scientists/?utm_campaign=XXX&utm_medium=colab) is an MLOps Platform that is designed to help Data Scientists and Teams build better models faster! Comet provides tooling to track, Explain, Manage, and Monitor your models in a single place! It works with Jupyter Notebooks and Scripts and most importantly it's 100% free!\n",
    "\n",
    "To learn more about this integration, please visit \n",
    "the [Comet Documentation](https://www.comet.ml/docs/v2/integrations/ml-frameworks/metaflow/)\n",
    "\n",
    "[Find more information about our other integrations](https://www.comet.ml/docs/v2/integrations/overview/)"
   ]
  },
  {
   "cell_type": "markdown",
   "metadata": {
    "id": "LWzSnLflYyX0"
   },
   "source": [
    "# Install Dependencies"
   ]
  },
  {
   "cell_type": "code",
   "execution_count": null,
   "metadata": {
    "id": "PeUPcsJ2Y0It"
   },
   "outputs": [],
   "source": [
    "%pip install \"comet_ml>=3.31.5\" metaflow"
   ]
  },
  {
   "cell_type": "markdown",
   "metadata": {
    "id": "HUYwD0WkcK4e"
   },
   "source": [
    "# Login to Comet"
   ]
  },
  {
   "cell_type": "code",
   "execution_count": null,
   "metadata": {
    "id": "UQRwfNKtcNSN"
   },
   "outputs": [],
   "source": [
    "import comet_ml\n",
    "\n",
    "comet_ml.init(project_name=\"comet-example-metaflow-hello-world-notebook\")"
   ]
  },
  {
   "cell_type": "markdown",
   "metadata": {
    "id": "3JORp7iSY3Yi"
   },
   "source": [
    "# Define a minimal Metaflow flow"
   ]
  },
  {
   "cell_type": "markdown",
   "metadata": {
    "id": "P_Jyc6SUvrzq"
   },
   "source": [
    "This example is adapted from the Metaflow helloworld example which is a simple linear workflow that print out 'Metaflow says: Hi!' to the terminal."
   ]
  },
  {
   "cell_type": "code",
   "execution_count": null,
   "metadata": {
    "id": "soXsFxxLY3Jq"
   },
   "outputs": [],
   "source": [
    "%%writefile metaflow_hello_world.py\n",
    "from comet_ml.integration.metaflow import comet_flow\n",
    "\n",
    "from metaflow import FlowSpec, step\n",
    "\n",
    "@comet_flow(project_name=\"comet-example-metaflow-hello-world\")\n",
    "class HelloFlow(FlowSpec):\n",
    "    \"\"\"\n",
    "    A flow where Metaflow prints 'Hi'.\n",
    "\n",
    "    Run this flow to validate that Metaflow is installed correctly.\n",
    "\n",
    "    \"\"\"\n",
    "\n",
    "    @step\n",
    "    def start(self):\n",
    "        \"\"\"\n",
    "        This is the 'start' step. All flows must have a step named 'start' that\n",
    "        is the first step in the flow.\n",
    "\n",
    "        \"\"\"\n",
    "        print(\"HelloFlow is starting.\")\n",
    "        self.next(self.hello)\n",
    "\n",
    "    @step\n",
    "    def hello(self):\n",
    "        \"\"\"\n",
    "        A step for metaflow to introduce itself.\n",
    "\n",
    "        \"\"\"\n",
    "        print(\"Metaflow says: Hi!\")\n",
    "        self.next(self.end)\n",
    "\n",
    "    @step\n",
    "    def end(self):\n",
    "        \"\"\"\n",
    "        This is the 'end' step. All flows must have an 'end' step, which is the\n",
    "        last step in the flow.\n",
    "\n",
    "        \"\"\"\n",
    "        print(\"HelloFlow is all done.\")\n",
    "\n",
    "if __name__ == \"__main__\":\n",
    "    HelloFlow()"
   ]
  },
  {
   "cell_type": "markdown",
   "metadata": {
    "id": "t9gAnGFoZHjk"
   },
   "source": [
    "# Show Metaflow simple flow description"
   ]
  },
  {
   "cell_type": "markdown",
   "metadata": {},
   "source": [
    "First let's make sure we are using the right Python executable"
   ]
  },
  {
   "cell_type": "code",
   "execution_count": null,
   "metadata": {},
   "outputs": [],
   "source": [
    "import sys\n",
    "\n",
    "python_exe = sys.executable"
   ]
  },
  {
   "cell_type": "code",
   "execution_count": null,
   "metadata": {
    "id": "PdRYUIK1ZGue"
   },
   "outputs": [],
   "source": [
    "!{python_exe} metaflow_hello_world.py show"
   ]
  },
  {
   "cell_type": "markdown",
   "metadata": {
    "id": "t9gAnGFoZHjk"
   },
   "source": [
    "# Run Metaflow simple flow description"
   ]
  },
  {
   "cell_type": "code",
   "execution_count": null,
   "metadata": {
    "id": "PdRYUIK1ZGue"
   },
   "outputs": [],
   "source": [
    "!{python_exe} metaflow_hello_world.py run"
   ]
  },
  {
   "cell_type": "code",
   "execution_count": null,
   "metadata": {},
   "outputs": [],
   "source": []
  }
 ],
 "metadata": {
  "colab": {
   "collapsed_sections": [],
   "name": "metaflow_hello_world.ipynb",
   "provenance": [],
   "toc_visible": true
  },
  "kernelspec": {
   "display_name": "Python 3 (ipykernel)",
   "language": "python",
   "name": "python3"
  },
  "language_info": {
   "codemirror_mode": {
    "name": "ipython",
    "version": 3
   },
   "file_extension": ".py",
   "mimetype": "text/x-python",
   "name": "python",
   "nbconvert_exporter": "python",
   "pygments_lexer": "ipython3",
   "version": "3.9.1"
  }
 },
 "nbformat": 4,
 "nbformat_minor": 1
}
