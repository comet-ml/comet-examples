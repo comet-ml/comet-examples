{
 "cells": [
  {
   "cell_type": "markdown",
   "metadata": {},
   "source": [
    "<img src=\"https://cdn.comet.ml/img/notebook_logo.png\">"
   ]
  },
  {
   "cell_type": "markdown",
   "metadata": {},
   "source": [
    "[Metaflow](https://metaflow.org/) is a human-friendly Python/R library that helps scientists and engineers build and manage real-life data science projects. Metaflow was originally developed at Netflix to boost productivity of data scientists who work on a wide variety of projects from classical statistics to state-of-the-art deep learning.\n",
    "\n",
    "[Comet](https://www.comet.ml/site/data-scientists/?utm_campaign=XXX&utm_medium=colab) is an MLOps Platform that is designed to help Data Scientists and Teams build better models faster! Comet provides tooling to track, Explain, Manage, and Monitor your models in a single place! It works with Jupyter Notebooks and Scripts and most importantly it's 100% free!\n",
    "\n",
    "To learn more about this integration, please visit \n",
    "the [Comet Documentation](https://www.comet.ml/docs/v2/integrations/ml-frameworks/metaflow/)\n",
    "\n",
    "[Find more information about our other integrations](https://www.comet.ml/docs/v2/integrations/overview/)"
   ]
  },
  {
   "cell_type": "code",
   "execution_count": null,
   "metadata": {},
   "outputs": [],
   "source": [
    "%pip install \"comet_ml>=3.31.15\" datasets metaflow metaflow-card-html pandas plotly scikit-learn timm torch torchvision transformers"
   ]
  },
  {
   "cell_type": "markdown",
   "metadata": {},
   "source": [
    "# Initalize Comet"
   ]
  },
  {
   "cell_type": "code",
   "execution_count": null,
   "metadata": {},
   "outputs": [],
   "source": [
    "import comet_ml\n",
    "\n",
    "comet_ml.init(project_name=\"comet-example-metaflow-model-evaluation-notebook\")"
   ]
  },
  {
   "cell_type": "markdown",
   "metadata": {},
   "source": [
    "# Define a Metaflow model evaluation flow"
   ]
  },
  {
   "cell_type": "markdown",
   "metadata": {},
   "source": [
    "First, we'll define some metadata about our class labels. "
   ]
  },
  {
   "cell_type": "code",
   "execution_count": null,
   "metadata": {},
   "outputs": [],
   "source": [
    "metadata = '{\"labels\":[\"tench\",\"goldfish\",\"great white shark\",\"tiger shark\",\"hammerhead shark\",\"electric ray\",\"stingray\",\"cock\",\"hen\",\"ostrich\",\"brambling\",\"goldfinch\",\"house finch\",\"junco\",\"indigo bunting\",\"American robin\",\"bulbul\",\"jay\",\"magpie\",\"chickadee\",\"American dipper\",\"kite\",\"bald eagle\",\"vulture\",\"great grey owl\",\"fire salamander\",\"smooth newt\",\"newt\",\"spotted salamander\",\"axolotl\",\"American bullfrog\",\"tree frog\",\"tailed frog\",\"loggerhead sea turtle\",\"leatherback sea turtle\",\"mud turtle\",\"terrapin\",\"box turtle\",\"banded gecko\",\"green iguana\",\"Carolina anole\",\"desert grassland whiptail lizard\",\"agama\",\"frilled-necked lizard\",\"alligator lizard\",\"Gila monster\",\"European green lizard\",\"chameleon\",\"Komodo dragon\",\"Nile crocodile\",\"American alligator\",\"triceratops\",\"worm snake\",\"ring-necked snake\",\"eastern hog-nosed snake\",\"smooth green snake\",\"kingsnake\",\"garter snake\",\"water snake\",\"vine snake\",\"night snake\",\"boa constrictor\",\"African rock python\",\"Indian cobra\",\"green mamba\",\"sea snake\",\"Saharan horned viper\",\"eastern diamondback rattlesnake\",\"sidewinder\",\"trilobite\",\"harvestman\",\"scorpion\",\"yellow garden spider\",\"barn spider\",\"European garden spider\",\"southern black widow\",\"tarantula\",\"wolf spider\",\"tick\",\"centipede\",\"black grouse\",\"ptarmigan\",\"ruffed grouse\",\"prairie grouse\",\"peacock\",\"quail\",\"partridge\",\"grey parrot\",\"macaw\",\"sulphur-crested cockatoo\",\"lorikeet\",\"coucal\",\"bee eater\",\"hornbill\",\"hummingbird\",\"jacamar\",\"toucan\",\"duck\",\"red-breasted merganser\",\"goose\",\"black swan\",\"tusker\",\"echidna\",\"platypus\",\"wallaby\",\"koala\",\"wombat\",\"jellyfish\",\"sea anemone\",\"brain coral\",\"flatworm\",\"nematode\",\"conch\",\"snail\",\"slug\",\"sea slug\",\"chiton\",\"chambered nautilus\",\"Dungeness crab\",\"rock crab\",\"fiddler crab\",\"red king crab\",\"American lobster\",\"spiny lobster\",\"crayfish\",\"hermit crab\",\"isopod\",\"white stork\",\"black stork\",\"spoonbill\",\"flamingo\",\"little blue heron\",\"great egret\",\"bittern\",\"crane (bird)\",\"limpkin\",\"common gallinule\",\"American coot\",\"bustard\",\"ruddy turnstone\",\"dunlin\",\"common redshank\",\"dowitcher\",\"oystercatcher\",\"pelican\",\"king penguin\",\"albatross\",\"grey whale\",\"killer whale\",\"dugong\",\"sea lion\",\"Chihuahua\",\"Japanese Chin\",\"Maltese\",\"Pekingese\",\"Shih Tzu\",\"King Charles Spaniel\",\"Papillon\",\"toy terrier\",\"Rhodesian Ridgeback\",\"Afghan Hound\",\"Basset Hound\",\"Beagle\",\"Bloodhound\",\"Bluetick Coonhound\",\"Black and Tan Coonhound\",\"Treeing Walker Coonhound\",\"English foxhound\",\"Redbone Coonhound\",\"borzoi\",\"Irish Wolfhound\",\"Italian Greyhound\",\"Whippet\",\"Ibizan Hound\",\"Norwegian Elkhound\",\"Otterhound\",\"Saluki\",\"Scottish Deerhound\",\"Weimaraner\",\"Staffordshire Bull Terrier\",\"American Staffordshire Terrier\",\"Bedlington Terrier\",\"Border Terrier\",\"Kerry Blue Terrier\",\"Irish Terrier\",\"Norfolk Terrier\",\"Norwich Terrier\",\"Yorkshire Terrier\",\"Wire Fox Terrier\",\"Lakeland Terrier\",\"Sealyham Terrier\",\"Airedale Terrier\",\"Cairn Terrier\",\"Australian Terrier\",\"Dandie Dinmont Terrier\",\"Boston Terrier\",\"Miniature Schnauzer\",\"Giant Schnauzer\",\"Standard Schnauzer\",\"Scottish Terrier\",\"Tibetan Terrier\",\"Australian Silky Terrier\",\"Soft-coated Wheaten Terrier\",\"West Highland White Terrier\",\"Lhasa Apso\",\"Flat-Coated Retriever\",\"Curly-coated Retriever\",\"Golden Retriever\",\"Labrador Retriever\",\"Chesapeake Bay Retriever\",\"German Shorthaired Pointer\",\"Vizsla\",\"English Setter\",\"Irish Setter\",\"Gordon Setter\",\"Brittany\",\"Clumber Spaniel\",\"English Springer Spaniel\",\"Welsh Springer Spaniel\",\"Cocker Spaniels\",\"Sussex Spaniel\",\"Irish Water Spaniel\",\"Kuvasz\",\"Schipperke\",\"Groenendael\",\"Malinois\",\"Briard\",\"Australian Kelpie\",\"Komondor\",\"Old English Sheepdog\",\"Shetland Sheepdog\",\"collie\",\"Border Collie\",\"Bouvier des Flandres\",\"Rottweiler\",\"German Shepherd Dog\",\"Dobermann\",\"Miniature Pinscher\",\"Greater Swiss Mountain Dog\",\"Bernese Mountain Dog\",\"Appenzeller Sennenhund\",\"Entlebucher Sennenhund\",\"Boxer\",\"Bullmastiff\",\"Tibetan Mastiff\",\"French Bulldog\",\"Great Dane\",\"St. Bernard\",\"husky\",\"Alaskan Malamute\",\"Siberian Husky\",\"Dalmatian\",\"Affenpinscher\",\"Basenji\",\"pug\",\"Leonberger\",\"Newfoundland\",\"Pyrenean Mountain Dog\",\"Samoyed\",\"Pomeranian\",\"Chow Chow\",\"Keeshond\",\"Griffon Bruxellois\",\"Pembroke Welsh Corgi\",\"Cardigan Welsh Corgi\",\"Toy Poodle\",\"Miniature Poodle\",\"Standard Poodle\",\"Mexican hairless dog\",\"grey wolf\",\"Alaskan tundra wolf\",\"red wolf\",\"coyote\",\"dingo\",\"dhole\",\"African wild dog\",\"hyena\",\"red fox\",\"kit fox\",\"Arctic fox\",\"grey fox\",\"tabby cat\",\"tiger cat\",\"Persian cat\",\"Siamese cat\",\"Egyptian Mau\",\"cougar\",\"lynx\",\"leopard\",\"snow leopard\",\"jaguar\",\"lion\",\"tiger\",\"cheetah\",\"brown bear\",\"American black bear\",\"polar bear\",\"sloth bear\",\"mongoose\",\"meerkat\",\"tiger beetle\",\"ladybug\",\"ground beetle\",\"longhorn beetle\",\"leaf beetle\",\"dung beetle\",\"rhinoceros beetle\",\"weevil\",\"fly\",\"bee\",\"ant\",\"grasshopper\",\"cricket\",\"stick insect\",\"cockroach\",\"mantis\",\"cicada\",\"leafhopper\",\"lacewing\",\"dragonfly\",\"damselfly\",\"red admiral\",\"ringlet\",\"monarch butterfly\",\"small white\",\"sulphur butterfly\",\"gossamer-winged butterfly\",\"starfish\",\"sea urchin\",\"sea cucumber\",\"cottontail rabbit\",\"hare\",\"Angora rabbit\",\"hamster\",\"porcupine\",\"fox squirrel\",\"marmot\",\"beaver\",\"guinea pig\",\"common sorrel\",\"zebra\",\"pig\",\"wild boar\",\"warthog\",\"hippopotamus\",\"ox\",\"water buffalo\",\"bison\",\"ram\",\"bighorn sheep\",\"Alpine ibex\",\"hartebeest\",\"impala\",\"gazelle\",\"dromedary\",\"llama\",\"weasel\",\"mink\",\"European polecat\",\"black-footed ferret\",\"otter\",\"skunk\",\"badger\",\"armadillo\",\"three-toed sloth\",\"orangutan\",\"gorilla\",\"chimpanzee\",\"gibbon\",\"siamang\",\"guenon\",\"patas monkey\",\"baboon\",\"macaque\",\"langur\",\"black-and-white colobus\",\"proboscis monkey\",\"marmoset\",\"white-headed capuchin\",\"howler monkey\",\"titi\",\"Geoffroy\\'s spider monkey\",\"common squirrel monkey\",\"ring-tailed lemur\",\"indri\",\"Asian elephant\",\"African bush elephant\",\"red panda\",\"giant panda\",\"snoek\",\"eel\",\"coho salmon\",\"rock beauty\",\"clownfish\",\"sturgeon\",\"garfish\",\"lionfish\",\"pufferfish\",\"abacus\",\"abaya\",\"academic gown\",\"accordion\",\"acoustic guitar\",\"aircraft carrier\",\"airliner\",\"airship\",\"altar\",\"ambulance\",\"amphibious vehicle\",\"analog clock\",\"apiary\",\"apron\",\"waste container\",\"assault rifle\",\"backpack\",\"bakery\",\"balance beam\",\"balloon\",\"ballpoint pen\",\"Band-Aid\",\"banjo\",\"baluster\",\"barbell\",\"barber chair\",\"barbershop\",\"barn\",\"barometer\",\"barrel\",\"wheelbarrow\",\"baseball\",\"basketball\",\"bassinet\",\"bassoon\",\"swimming cap\",\"bath towel\",\"bathtub\",\"station wagon\",\"lighthouse\",\"beaker\",\"military cap\",\"beer bottle\",\"beer glass\",\"bell-cot\",\"bib\",\"tandem bicycle\",\"bikini\",\"ring binder\",\"binoculars\",\"birdhouse\",\"boathouse\",\"bobsleigh\",\"bolo tie\",\"poke bonnet\",\"bookcase\",\"bookstore\",\"bottle cap\",\"bow\",\"bow tie\",\"brass\",\"bra\",\"breakwater\",\"breastplate\",\"broom\",\"bucket\",\"buckle\",\"bulletproof vest\",\"high-speed train\",\"butcher shop\",\"taxicab\",\"cauldron\",\"candle\",\"cannon\",\"canoe\",\"can opener\",\"cardigan\",\"car mirror\",\"carousel\",\"tool kit\",\"carton\",\"car wheel\",\"automated teller machine\",\"cassette\",\"cassette player\",\"castle\",\"catamaran\",\"CD player\",\"cello\",\"mobile phone\",\"chain\",\"chain-link fence\",\"chain mail\",\"chainsaw\",\"chest\",\"chiffonier\",\"chime\",\"china cabinet\",\"Christmas stocking\",\"church\",\"movie theater\",\"cleaver\",\"cliff dwelling\",\"cloak\",\"clogs\",\"cocktail shaker\",\"coffee mug\",\"coffeemaker\",\"coil\",\"combination lock\",\"computer keyboard\",\"confectionery store\",\"container ship\",\"convertible\",\"corkscrew\",\"cornet\",\"cowboy boot\",\"cowboy hat\",\"cradle\",\"crane (machine)\",\"crash helmet\",\"crate\",\"infant bed\",\"Crock Pot\",\"croquet ball\",\"crutch\",\"cuirass\",\"dam\",\"desk\",\"desktop computer\",\"rotary dial telephone\",\"diaper\",\"digital clock\",\"digital watch\",\"dining table\",\"dishcloth\",\"dishwasher\",\"disc brake\",\"dock\",\"dog sled\",\"dome\",\"doormat\",\"drilling rig\",\"drum\",\"drumstick\",\"dumbbell\",\"Dutch oven\",\"electric fan\",\"electric guitar\",\"electric locomotive\",\"entertainment center\",\"envelope\",\"espresso machine\",\"face powder\",\"feather boa\",\"filing cabinet\",\"fireboat\",\"fire engine\",\"fire screen sheet\",\"flagpole\",\"flute\",\"folding chair\",\"football helmet\",\"forklift\",\"fountain\",\"fountain pen\",\"four-poster bed\",\"freight car\",\"French horn\",\"frying pan\",\"fur coat\",\"garbage truck\",\"gas mask\",\"gas pump\",\"goblet\",\"go-kart\",\"golf ball\",\"golf cart\",\"gondola\",\"gong\",\"gown\",\"grand piano\",\"greenhouse\",\"grille\",\"grocery store\",\"guillotine\",\"barrette\",\"hair spray\",\"half-track\",\"hammer\",\"hamper\",\"hair dryer\",\"hand-held computer\",\"handkerchief\",\"hard disk drive\",\"harmonica\",\"harp\",\"harvester\",\"hatchet\",\"holster\",\"home theater\",\"honeycomb\",\"hook\",\"hoop skirt\",\"horizontal bar\",\"horse-drawn vehicle\",\"hourglass\",\"iPod\",\"clothes iron\",\"jack-o\\'-lantern\",\"jeans\",\"jeep\",\"T-shirt\",\"jigsaw puzzle\",\"pulled rickshaw\",\"joystick\",\"kimono\",\"knee pad\",\"knot\",\"lab coat\",\"ladle\",\"lampshade\",\"laptop computer\",\"lawn mower\",\"lens cap\",\"paper knife\",\"library\",\"lifeboat\",\"lighter\",\"limousine\",\"ocean liner\",\"lipstick\",\"slip-on shoe\",\"lotion\",\"speaker\",\"loupe\",\"sawmill\",\"magnetic compass\",\"mail bag\",\"mailbox\",\"tights\",\"tank suit\",\"manhole cover\",\"maraca\",\"marimba\",\"mask\",\"match\",\"maypole\",\"maze\",\"measuring cup\",\"medicine chest\",\"megalith\",\"microphone\",\"microwave oven\",\"military uniform\",\"milk can\",\"minibus\",\"miniskirt\",\"minivan\",\"missile\",\"mitten\",\"mixing bowl\",\"mobile home\",\"Model T\",\"modem\",\"monastery\",\"monitor\",\"moped\",\"mortar\",\"square academic cap\",\"mosque\",\"mosquito net\",\"scooter\",\"mountain bike\",\"tent\",\"computer mouse\",\"mousetrap\",\"moving van\",\"muzzle\",\"nail\",\"neck brace\",\"necklace\",\"nipple\",\"notebook computer\",\"obelisk\",\"oboe\",\"ocarina\",\"odometer\",\"oil filter\",\"organ\",\"oscilloscope\",\"overskirt\",\"bullock cart\",\"oxygen mask\",\"packet\",\"paddle\",\"paddle wheel\",\"padlock\",\"paintbrush\",\"pajamas\",\"palace\",\"pan flute\",\"paper towel\",\"parachute\",\"parallel bars\",\"park bench\",\"parking meter\",\"passenger car\",\"patio\",\"payphone\",\"pedestal\",\"pencil case\",\"pencil sharpener\",\"perfume\",\"Petri dish\",\"photocopier\",\"plectrum\",\"Pickelhaube\",\"picket fence\",\"pickup truck\",\"pier\",\"piggy bank\",\"pill bottle\",\"pillow\",\"ping-pong ball\",\"pinwheel\",\"pirate ship\",\"pitcher\",\"hand plane\",\"planetarium\",\"plastic bag\",\"plate rack\",\"plow\",\"plunger\",\"Polaroid camera\",\"pole\",\"police van\",\"poncho\",\"billiard table\",\"soda bottle\",\"pot\",\"potter\\'s wheel\",\"power drill\",\"prayer rug\",\"printer\",\"prison\",\"projectile\",\"projector\",\"hockey puck\",\"punching bag\",\"purse\",\"quill\",\"quilt\",\"race car\",\"racket\",\"radiator\",\"radio\",\"radio telescope\",\"rain barrel\",\"recreational vehicle\",\"reel\",\"reflex camera\",\"refrigerator\",\"remote control\",\"restaurant\",\"revolver\",\"rifle\",\"rocking chair\",\"rotisserie\",\"eraser\",\"rugby ball\",\"ruler\",\"running shoe\",\"safe\",\"safety pin\",\"salt shaker\",\"sandal\",\"sarong\",\"saxophone\",\"scabbard\",\"weighing scale\",\"school bus\",\"schooner\",\"scoreboard\",\"CRT screen\",\"screw\",\"screwdriver\",\"seat belt\",\"sewing machine\",\"shield\",\"shoe store\",\"shoji\",\"shopping basket\",\"shopping cart\",\"shovel\",\"shower cap\",\"shower curtain\",\"ski\",\"ski mask\",\"sleeping bag\",\"slide rule\",\"sliding door\",\"slot machine\",\"snorkel\",\"snowmobile\",\"snowplow\",\"soap dispenser\",\"soccer ball\",\"sock\",\"solar thermal collector\",\"sombrero\",\"soup bowl\",\"space bar\",\"space heater\",\"space shuttle\",\"spatula\",\"motorboat\",\"spider web\",\"spindle\",\"sports car\",\"spotlight\",\"stage\",\"steam locomotive\",\"through arch bridge\",\"steel drum\",\"stethoscope\",\"scarf\",\"stone wall\",\"stopwatch\",\"stove\",\"strainer\",\"tram\",\"stretcher\",\"couch\",\"stupa\",\"submarine\",\"suit\",\"sundial\",\"sunglass\",\"sunglasses\",\"sunscreen\",\"suspension bridge\",\"mop\",\"sweatshirt\",\"swimsuit\",\"swing\",\"switch\",\"syringe\",\"table lamp\",\"tank\",\"tape player\",\"teapot\",\"teddy bear\",\"television\",\"tennis ball\",\"thatched roof\",\"front curtain\",\"thimble\",\"threshing machine\",\"throne\",\"tile roof\",\"toaster\",\"tobacco shop\",\"toilet seat\",\"torch\",\"totem pole\",\"tow truck\",\"toy store\",\"tractor\",\"semi-trailer truck\",\"tray\",\"trench coat\",\"tricycle\",\"trimaran\",\"tripod\",\"triumphal arch\",\"trolleybus\",\"trombone\",\"tub\",\"turnstile\",\"typewriter keyboard\",\"umbrella\",\"unicycle\",\"upright piano\",\"vacuum cleaner\",\"vase\",\"vault\",\"velvet\",\"vending machine\",\"vestment\",\"viaduct\",\"violin\",\"volleyball\",\"waffle iron\",\"wall clock\",\"wallet\",\"wardrobe\",\"military aircraft\",\"sink\",\"washing machine\",\"water bottle\",\"water jug\",\"water tower\",\"whiskey jug\",\"whistle\",\"wig\",\"window screen\",\"window shade\",\"Windsor tie\",\"wine bottle\",\"wing\",\"wok\",\"wooden spoon\",\"wool\",\"split-rail fence\",\"shipwreck\",\"yawl\",\"yurt\",\"website\",\"comic book\",\"crossword\",\"traffic sign\",\"traffic light\",\"dust jacket\",\"menu\",\"plate\",\"guacamole\",\"consomme\",\"hot pot\",\"trifle\",\"ice cream\",\"ice pop\",\"baguette\",\"bagel\",\"pretzel\",\"cheeseburger\",\"hot dog\",\"mashed potato\",\"cabbage\",\"broccoli\",\"cauliflower\",\"zucchini\",\"spaghetti squash\",\"acorn squash\",\"butternut squash\",\"cucumber\",\"artichoke\",\"bell pepper\",\"cardoon\",\"mushroom\",\"Granny Smith\",\"strawberry\",\"orange\",\"lemon\",\"fig\",\"pineapple\",\"banana\",\"jackfruit\",\"custard apple\",\"pomegranate\",\"hay\",\"carbonara\",\"chocolate syrup\",\"dough\",\"meatloaf\",\"pizza\",\"pot pie\",\"burrito\",\"red wine\",\"espresso\",\"cup\",\"eggnog\",\"alp\",\"bubble\",\"cliff\",\"coral reef\",\"geyser\",\"lakeshore\",\"promontory\",\"shoal\",\"seashore\",\"valley\",\"volcano\",\"baseball player\",\"bridegroom\",\"scuba diver\",\"rapeseed\",\"daisy\",\"yellow lady\\'s slipper\",\"corn\",\"acorn\",\"rose hip\",\"horse chestnut seed\",\"coral fungus\",\"agaric\",\"gyromitra\",\"stinkhorn mushroom\",\"earth star\",\"hen-of-the-woods\",\"bolete\",\"ear\",\"toilet paper\"]}'"
   ]
  },
  {
   "cell_type": "markdown",
   "metadata": {},
   "source": [
    "Let's write it to disk:"
   ]
  },
  {
   "cell_type": "code",
   "execution_count": null,
   "metadata": {},
   "outputs": [],
   "source": [
    "with open(\"imagenet_labels.json\", \"w\") as f:\n",
    "    f.write(metadata)"
   ]
  },
  {
   "cell_type": "markdown",
   "metadata": {},
   "source": [
    "Next, we'll define our actual Flow"
   ]
  },
  {
   "cell_type": "code",
   "execution_count": null,
   "metadata": {},
   "outputs": [],
   "source": [
    "%%writefile metaflow_model_eval.py\n",
    "import os\n",
    "\n",
    "from comet_ml.integration.metaflow import comet_flow\n",
    "from comet_ml.integration.pytorch import log_model\n",
    "from metaflow import FlowSpec, Parameter, JSONType, step\n",
    "\n",
    "\n",
    "def collate_fn(examples):\n",
    "    import PIL\n",
    "    import torch\n",
    "    import torchvision.transforms as transforms\n",
    "\n",
    "    # define custom transform function\n",
    "    transform = transforms.Compose(\n",
    "        [transforms.ToTensor(), transforms.Normalize((0.5,), (0.5,))]\n",
    "    )\n",
    "\n",
    "    images = []\n",
    "    labels = []\n",
    "\n",
    "    for example in examples:\n",
    "        img = transform(\n",
    "            example[\"image\"].convert(\"L\").resize((224, 224), PIL.Image.LANCZOS)\n",
    "        )\n",
    "        label = torch.tensor(example[\"label\"])\n",
    "\n",
    "        images.append(img.unsqueeze(0))\n",
    "        labels.append(label.unsqueeze(0))\n",
    "\n",
    "    images = torch.cat(images)\n",
    "    labels = torch.tensor(labels, dtype=torch.int)\n",
    "\n",
    "    return images, labels\n",
    "\n",
    "\n",
    "def fetch_latest_model_metrics(registry_name, max_model_version):\n",
    "    from comet_ml import API\n",
    "\n",
    "    api = API()\n",
    "\n",
    "    try:\n",
    "        model_assets = api.get_model_registry_version_assets(\n",
    "            workspace=os.environ[\"COMET_WORKSPACE\"],\n",
    "            registry_name=registry_name,\n",
    "            version=max_model_version,\n",
    "        )\n",
    "        model_experiment_key = model_assets[\"experimentModel\"][\"experimentKey\"]\n",
    "        experiment = api.get_experiment_by_key(model_experiment_key)\n",
    "\n",
    "        metrics_summary = experiment.get_metrics_summary()\n",
    "        metrics_summary_map = {\n",
    "            x[\"name\"]: float(x[\"valueCurrent\"]) for x in metrics_summary\n",
    "        }\n",
    "\n",
    "        return metrics_summary_map\n",
    "\n",
    "    except Exception:\n",
    "        return None\n",
    "\n",
    "\n",
    "def update_model(candidate_model_score, metric_name, registry_name):\n",
    "    import comet_ml\n",
    "\n",
    "    api = comet_ml.API()\n",
    "\n",
    "    try:\n",
    "        existing_models = api.get_registry_model_names(os.getenv(\"COMET_WORKSPACE\"))\n",
    "        if registry_name not in existing_models:\n",
    "            # Register the model if it doesn't exist\n",
    "            return True\n",
    "\n",
    "        model_versions = api.get_registry_model_versions(\n",
    "            workspace=os.environ[\"COMET_WORKSPACE\"], registry_name=registry_name\n",
    "        )\n",
    "        max_model_version = max(model_versions)\n",
    "\n",
    "        latest_model_metrics = fetch_latest_model_metrics(\n",
    "            registry_name, max_model_version\n",
    "        )\n",
    "\n",
    "        current_model_score = latest_model_metrics[metric_name]\n",
    "        if candidate_model_score > current_model_score:\n",
    "            return True\n",
    "        else:\n",
    "            return False\n",
    "\n",
    "    except Exception:\n",
    "        return False\n",
    "\n",
    "\n",
    "def register_model(best_model, registry_name):\n",
    "    from comet_ml import API\n",
    "\n",
    "    api = API()\n",
    "\n",
    "    try:\n",
    "        existing_models = api.get_registry_model_versions(\n",
    "            workspace=os.environ[\"COMET_WORKSPACE\"], registry_name=registry_name\n",
    "        )\n",
    "        max_model_version = max(existing_models)\n",
    "\n",
    "        new_model_version = max_model_version.split(\".\")\n",
    "        new_model_version[0] = str(int(new_model_version[0]) + 1)\n",
    "        new_model_version = \".\".join(new_model_version)\n",
    "    except Exception:\n",
    "        new_model_version = \"1.0.0\"\n",
    "\n",
    "    api_experiment = api.get_experiment_by_key(best_model[\"experiment_id\"])\n",
    "    api_experiment.register_model(\n",
    "        best_model[\"model_name\"], registry_name=registry_name, version=new_model_version\n",
    "    )\n",
    "\n",
    "\n",
    "@comet_flow(project_name=\"comet-example-metaflow-model-evaluation\")\n",
    "class ModelEvaluationFlow(FlowSpec):\n",
    "    models = Parameter(\n",
    "        \"models\",\n",
    "        help=(\"Models to evaluate\"),\n",
    "        type=JSONType,\n",
    "        default='[\"resnet18\", \"efficientnet_b0\"]',\n",
    "    )\n",
    "    dataset_name = Parameter(\n",
    "        \"dataset_name\",\n",
    "        help=(\"Name of the dataset to use for evaluation\"),\n",
    "        default=\"imagenet_sketch\",\n",
    "    )\n",
    "    dataset_split = Parameter(\n",
    "        \"dataset_split\",\n",
    "        help=(\"Dataset Split to use for evaluation\"),\n",
    "        default=\"train\",\n",
    "    )\n",
    "    batch_size = Parameter(\n",
    "        \"batch_size\",\n",
    "        help=(\"Batch Size to Use\"),\n",
    "        default=32,\n",
    "    )\n",
    "    n_samples = Parameter(\n",
    "        \"n_samples\",\n",
    "        help=(\"Number of Samples\"),\n",
    "        default=1000,\n",
    "    )\n",
    "    seed = Parameter(\n",
    "        \"seed\",\n",
    "        help=(\"Random Seed\"),\n",
    "        default=42,\n",
    "    )\n",
    "\n",
    "    @step\n",
    "    def start(self):\n",
    "        \"\"\"\n",
    "        Load the data\n",
    "        \"\"\"\n",
    "        import json\n",
    "        \n",
    "        with open(\"imagenet_labels.json\", \"rb\") as f:\n",
    "            metadata = json.load(f)\n",
    "            self.label_names = metadata[\"labels\"]\n",
    "\n",
    "        if not isinstance(self.models, list) or len(self.models) == 0:\n",
    "            raise ValueError(\n",
    "                \"\"\"--models argument is supposed to be a list with at least one item,\"\"\"\n",
    "                \"\"\" not %r\"\"\" % self.models\n",
    "            )\n",
    "\n",
    "        self.next(self.evaluate_classification_metrics, foreach=\"models\")\n",
    "\n",
    "    @step\n",
    "    def evaluate_classification_metrics(self):\n",
    "        import timm\n",
    "        import torch\n",
    "        from datasets import load_dataset\n",
    "        from sklearn.metrics import accuracy_score, classification_report\n",
    "        from torch.utils.data import DataLoader\n",
    "\n",
    "        device = \"cuda\" if torch.cuda.is_available() else \"cpu\"\n",
    "        dataset = load_dataset(\n",
    "            self.dataset_name, split=self.dataset_split, streaming=True\n",
    "        )\n",
    "        dataset = dataset.shuffle(self.seed, buffer_size=10_000)\n",
    "        dataset = dataset.take(self.n_samples)\n",
    "        dataset = dataset.with_format(\"torch\")\n",
    "\n",
    "        dataloader = DataLoader(\n",
    "            dataset, collate_fn=collate_fn, batch_size=self.batch_size\n",
    "        )\n",
    "\n",
    "        model = timm.create_model(self.input, pretrained=True, in_chans=1)\n",
    "        model.to(device)\n",
    "        model.eval()\n",
    "        self.comet_experiment.log_parameters({\"model_name\": self.input})\n",
    "\n",
    "        labels = []\n",
    "        predictions = []\n",
    "        for images, label in dataloader:\n",
    "            probs = torch.nn.functional.softmax(model(images.to(device)), dim=1)\n",
    "\n",
    "            predictions.append(probs.cpu())\n",
    "            labels.append(label)\n",
    "\n",
    "        predictions = torch.cat(predictions)\n",
    "        labels = torch.cat(labels)\n",
    "\n",
    "        clf_metrics = classification_report(\n",
    "            labels,\n",
    "            torch.argmax(predictions, dim=1),\n",
    "            labels=[i for i in range(1000)],\n",
    "            target_names=self.label_names,\n",
    "            output_dict=True,\n",
    "        )\n",
    "        accuracy = accuracy_score(labels, torch.argmax(predictions, dim=1))\n",
    "\n",
    "        self.comet_experiment.log_metrics(clf_metrics[\"micro avg\"], prefix=\"micro_avg\")\n",
    "        self.comet_experiment.log_metrics(clf_metrics[\"macro avg\"], prefix=\"macro_avg\")\n",
    "        self.comet_experiment.log_metrics({\"accuracy\": accuracy})\n",
    "\n",
    "        log_model(self.comet_experiment, model, self.input)\n",
    "\n",
    "        self.results = clf_metrics\n",
    "        self.results.update(\n",
    "            {\"model_name\": self.input, \"experiment_id\": self.comet_experiment.id}\n",
    "        )\n",
    "        self.next(self.join)\n",
    "\n",
    "    @step\n",
    "    def join(self, inputs):\n",
    "        self.results = [input.results for input in inputs]\n",
    "\n",
    "        # Find best model based on macro averaged recall\n",
    "        best_model = max(self.results, key=lambda x: x[\"macro avg\"][\"recall\"])\n",
    "\n",
    "        candidate_score = best_model[\"macro avg\"][\"recall\"]\n",
    "        if update_model(candidate_score, \"macro_avg_recall\", \"sketch-model\"):\n",
    "            print(\"Updating Registry Model\")\n",
    "            register_model(best_model, \"sketch-model\")\n",
    "        else:\n",
    "            print(\"Not Updating Registry Model\")\n",
    "            \n",
    "        self.next(self.end)\n",
    "\n",
    "\n",
    "    @step\n",
    "    def end(self):\n",
    "        pass\n",
    "\n",
    "\n",
    "if __name__ == \"__main__\":\n",
    "    comet_ml.init()\n",
    "\n",
    "    ModelEvaluationFlow()\n"
   ]
  },
  {
   "cell_type": "markdown",
   "metadata": {},
   "source": [
    "# Show Metaflow simple flow description"
   ]
  },
  {
   "cell_type": "code",
   "execution_count": null,
   "metadata": {},
   "outputs": [],
   "source": [
    "import os\n",
    "\n",
    "if os.environ.get(\"USERNAME\") is None:\n",
    "    os.environ[\"USERNAME\"] = \"googlecolab\""
   ]
  },
  {
   "cell_type": "code",
   "execution_count": null,
   "metadata": {},
   "outputs": [],
   "source": [
    "import sys\n",
    "\n",
    "!{sys.executable} metaflow_model_eval.py show"
   ]
  },
  {
   "cell_type": "markdown",
   "metadata": {},
   "source": [
    "# Run the Flow Description"
   ]
  },
  {
   "cell_type": "code",
   "execution_count": null,
   "metadata": {},
   "outputs": [],
   "source": [
    "!{sys.executable} metaflow_model_eval.py --no-pylint run --max-workers 1 --n_samples 100"
   ]
  }
 ],
 "metadata": {
  "kernelspec": {
   "display_name": "Python 3 (ipykernel)",
   "language": "python",
   "name": "python3"
  },
  "language_info": {
   "codemirror_mode": {
    "name": "ipython",
    "version": 3
   },
   "file_extension": ".py",
   "mimetype": "text/x-python",
   "name": "python",
   "nbconvert_exporter": "python",
   "pygments_lexer": "ipython3",
   "version": "3.9.1"
  },
  "vscode": {
   "interpreter": {
    "hash": "aee8b7b246df8f9039afb4144a1f6fd8d2ca17a180786b69acc140d282b71a49"
   }
  }
 },
 "nbformat": 4,
 "nbformat_minor": 2
}
