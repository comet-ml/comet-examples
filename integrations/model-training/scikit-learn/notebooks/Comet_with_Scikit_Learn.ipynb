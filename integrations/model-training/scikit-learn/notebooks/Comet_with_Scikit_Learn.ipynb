{
 "nbformat": 4,
 "nbformat_minor": 0,
 "metadata": {
  "colab": {
   "provenance": []
  },
  "kernelspec": {
   "name": "python3",
   "display_name": "Python 3"
  },
  "language_info": {
   "name": "python"
  }
 },
 "cells": [
  {
   "cell_type": "markdown",
   "source": [
    "# Install Comet"
   ],
   "metadata": {
    "id": "DwWec6YKT28S"
   }
  },
  {
   "cell_type": "code",
   "source": [
    "!pip install comet_ml --quiet"
   ],
   "metadata": {
    "id": "V1sdPf1DT1VL"
   },
   "execution_count": null,
   "outputs": []
  },
  {
   "cell_type": "markdown",
   "source": [
    "# Initialize Comet"
   ],
   "metadata": {
    "id": "86DWeNq3T7tb"
   }
  },
  {
   "cell_type": "code",
   "execution_count": null,
   "metadata": {
    "id": "Ttb8zS9STwaL"
   },
   "outputs": [],
   "source": [
    "import comet_ml\n",
    "\n",
    "comet_ml.init(project_name=\"comet-sklearn-example\")"
   ]
  },
  {
   "cell_type": "markdown",
   "source": [
    "# Import Dependencies"
   ],
   "metadata": {
    "id": "8C-q1JuiUItU"
   }
  },
  {
   "cell_type": "code",
   "source": [
    "import numpy as np\n",
    "from sklearn.datasets import load_breast_cancer\n",
    "from sklearn.model_selection import train_test_split\n",
    "from sklearn.ensemble import RandomForestClassifier\n",
    "from sklearn.metrics import f1_score, precision_score, recall_score, confusion_matrix\n",
    "\n",
    "random_state = 42"
   ],
   "metadata": {
    "id": "5AIiw6rAUEWL"
   },
   "execution_count": null,
   "outputs": []
  },
  {
   "cell_type": "markdown",
   "source": [
    "# Define Model Evaluation Function"
   ],
   "metadata": {
    "id": "4MzBGJhdYP8T"
   }
  },
  {
   "cell_type": "code",
   "source": [
    "def evaluate(y_test, y_pred):\n",
    "    return {\n",
    "        \"f1\": f1_score(y_test, y_pred),\n",
    "        \"precision\": precision_score(y_test, y_pred),\n",
    "        \"recall\": recall_score(y_test, y_pred),\n",
    "    }"
   ],
   "metadata": {
    "id": "zk6C5CJqYVXS"
   },
   "execution_count": null,
   "outputs": []
  },
  {
   "cell_type": "markdown",
   "source": [
    "# Create an Experiment"
   ],
   "metadata": {
    "id": "1U-IL7ZvXEmy"
   }
  },
  {
   "cell_type": "code",
   "source": [
    "experiment = comet_ml.Experiment()"
   ],
   "metadata": {
    "id": "maCrhWVZXGLD"
   },
   "execution_count": null,
   "outputs": []
  },
  {
   "cell_type": "markdown",
   "source": [
    "# Load Data"
   ],
   "metadata": {
    "id": "fpBNdj3rUOn2"
   }
  },
  {
   "cell_type": "code",
   "source": [
    "cancer = load_breast_cancer()\n",
    "X_train, X_test, y_train, y_test = train_test_split(\n",
    "    cancer.data, cancer.target, stratify=cancer.target, random_state=random_state\n",
    ")"
   ],
   "metadata": {
    "id": "P59UYF7XUQmP"
   },
   "execution_count": null,
   "outputs": []
  },
  {
   "cell_type": "markdown",
   "source": [
    "# Initialize Model"
   ],
   "metadata": {
    "id": "fmEAnOXpWmn7"
   }
  },
  {
   "cell_type": "code",
   "source": [
    "clf = RandomForestClassifier()"
   ],
   "metadata": {
    "id": "6bf79F-ZWgfF"
   },
   "execution_count": null,
   "outputs": []
  },
  {
   "cell_type": "markdown",
   "source": [
    "# Fit Model"
   ],
   "metadata": {
    "id": "vGUJ0peiWsUK"
   }
  },
  {
   "cell_type": "code",
   "source": [
    "clf.fit(X_train, y_train)"
   ],
   "metadata": {
    "colab": {
     "base_uri": "https://localhost:8080/"
    },
    "id": "pmLtGXIoWoYR",
    "outputId": "196ef4cb-cbd7-4608-9886-4473045239c5"
   },
   "execution_count": null,
   "outputs": [
    {
     "output_type": "execute_result",
     "data": {
      "text/plain": [
       "LogisticRegression()"
      ]
     },
     "metadata": {},
     "execution_count": 18
    }
   ]
  },
  {
   "cell_type": "markdown",
   "source": [
    "# Log Train Metrics"
   ],
   "metadata": {
    "id": "WvDfx8ADXSLr"
   }
  },
  {
   "cell_type": "code",
   "source": [
    "y_train_pred = clf.predict(X_train)\n",
    "with experiment.train():\n",
    "    metrics = evaluate(y_train, y_train_pred)\n",
    "    experiment.log_metrics(metrics)"
   ],
   "metadata": {
    "id": "okjZN0L0XUQX"
   },
   "execution_count": null,
   "outputs": []
  },
  {
   "cell_type": "markdown",
   "source": [
    "# Log Test Metrics"
   ],
   "metadata": {
    "id": "N3NMQxaZWx-A"
   }
  },
  {
   "cell_type": "code",
   "source": [
    "y_test_pred = clf.predict(X_test)\n",
    "\n",
    "with experiment.test():\n",
    "    metrics = evaluate(y_test, y_test_pred)\n",
    "    experiment.log_metrics(metrics)"
   ],
   "metadata": {
    "id": "ouaSnKKuWwFR"
   },
   "execution_count": null,
   "outputs": []
  },
  {
   "cell_type": "markdown",
   "source": [
    "# End Experiment"
   ],
   "metadata": {
    "id": "RCPJqltgZAlg"
   }
  },
  {
   "cell_type": "code",
   "source": [
    "experiment.end()"
   ],
   "metadata": {
    "id": "lYzPnSz3ZBZV"
   },
   "execution_count": null,
   "outputs": []
  }
 ]
}